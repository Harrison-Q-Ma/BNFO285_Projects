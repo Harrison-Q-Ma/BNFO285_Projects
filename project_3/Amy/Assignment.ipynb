{
 "cells": [
  {
   "cell_type": "code",
   "execution_count": 52,
   "id": "33aea249-4d30-4c0b-874a-8bd055543b2c",
   "metadata": {},
   "outputs": [],
   "source": [
    "from SigProfilerAssignment import Analyzer as Analyze\n",
    "import pandas as pd"
   ]
  },
  {
   "cell_type": "code",
   "execution_count": 59,
   "id": "146466fa-d6e4-4506-9b90-ac941e3be9f1",
   "metadata": {},
   "outputs": [],
   "source": [
    "import pandas as pd\n",
    "import string\n",
    "\n",
    "df = pd.read_csv(\"mut_by_sig_dim2.tsv\", sep=\"\\t\", index_col=0)\n",
    "\n",
    "# Create SBS96A, SBS96B, ...\n",
    "new_cols = [f\"SBS96{letter}\" for letter in string.ascii_uppercase[:df.shape[1]]]\n",
    "df.columns = new_cols\n",
    "\n",
    "df.to_csv(\"mut_by_sig_dim2_renamed.txt\", sep=\"\\t\")\n"
   ]
  },
  {
   "cell_type": "code",
   "execution_count": 61,
   "id": "aa8ca280-513e-4b62-888a-b13ddd9e79a1",
   "metadata": {},
   "outputs": [
    {
     "name": "stdout",
     "output_type": "stream",
     "text": [
      "\n",
      " Decomposing De Novo Signatures  .....\n",
      "Decompositon Plot:SBS96A |▉▉▉▉▉▉▉▉▉▉▉▉▉▉▉▉▉▉▉▉▉▉▉▉▉▉▉▉▉▉▉▉▉▉▉▉▉▉▉▉| 1/1 [100%] in 0.0s (38095.20/s) \n",
      "Decompositon Plot:SBS96B |▉▉▉▉▉▉▉▉▉▉▉▉▉▉▉▉▉▉▉▉▉▉▉▉▉▉▉▉▉▉▉▉▉▉▉▉▉▉▉▉| 1/1 [100%] in 0.0s (37267.50/s) \n",
      "\n",
      " Assigning decomposed signature\n",
      "\n",
      "\n",
      " \n",
      "Your Job Is Successfully Completed! Thank You For Using SigProfilerAssignment.\n",
      " \n"
     ]
    }
   ],
   "source": [
    "from SigProfilerAssignment import Analyzer as Analyze\n",
    "\n",
    "Analyze.decompose_fit(\n",
    "    samples=\"mutation_matrix.sbs96.txt\",      # this is your sample matrix (e.g. patients)\n",
    "    output=\".\",\n",
    "    input_type=\"matrix\",\n",
    "    signatures=\"mut_by_sig_dim2_renamed.txt\",   # your de novo NMF signatures\n",
    "    genome_build=\"GRCh37\"\n",
    ")\n"
   ]
  },
  {
   "cell_type": "code",
   "execution_count": null,
   "id": "ca343f35-4a38-4f94-8eca-669d32320607",
   "metadata": {},
   "outputs": [],
   "source": []
  }
 ],
 "metadata": {
  "kernelspec": {
   "display_name": "Python 3 (ipykernel)",
   "language": "python",
   "name": "python3"
  },
  "language_info": {
   "codemirror_mode": {
    "name": "ipython",
    "version": 3
   },
   "file_extension": ".py",
   "mimetype": "text/x-python",
   "name": "python",
   "nbconvert_exporter": "python",
   "pygments_lexer": "ipython3",
   "version": "3.11.11"
  }
 },
 "nbformat": 4,
 "nbformat_minor": 5
}
