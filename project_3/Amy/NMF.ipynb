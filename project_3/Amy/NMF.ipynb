{
 "cells": [
  {
   "cell_type": "markdown",
   "id": "4fa69beb-48df-4348-86b3-11e9f43fbda3",
   "metadata": {},
   "source": [
    "# Import"
   ]
  },
  {
   "cell_type": "code",
   "execution_count": 1,
   "id": "61228b26-635d-43de-b08c-1402a908f75a",
   "metadata": {},
   "outputs": [],
   "source": [
    "from poisson_and_normalize import load_matrix, one_iteration\n",
    "import pandas as pd\n",
    "import numpy as np\n",
    "from sklearn.decomposition import NMF\n",
    "import os"
   ]
  },
  {
   "cell_type": "markdown",
   "id": "726ff7bc-5676-47c6-8fa2-a1caddf05983",
   "metadata": {},
   "source": [
    "# Load Files"
   ]
  },
  {
   "cell_type": "code",
   "execution_count": 3,
   "id": "79c47939-18a9-4c78-8d88-82ce57b0e4aa",
   "metadata": {},
   "outputs": [],
   "source": [
    "M = load_matrix(\"mutation_matrix.csv\")"
   ]
  },
  {
   "cell_type": "markdown",
   "id": "c27e832b-03bc-4e79-ba8e-a7e5be2fdcc6",
   "metadata": {},
   "source": [
    "# Preprocess and simulation"
   ]
  },
  {
   "cell_type": "code",
   "execution_count": 4,
   "id": "edc759db-7c7a-45e8-9e81-077f92b8cf75",
   "metadata": {},
   "outputs": [],
   "source": [
    "total_iter = 100\n",
    "iters = [one_iteration(M, seed=i) for i in range(100)]"
   ]
  },
  {
   "cell_type": "markdown",
   "id": "0a91f1b9-e824-4dec-8689-34447c1438dc",
   "metadata": {},
   "source": [
    "# NMF"
   ]
  },
  {
   "cell_type": "code",
   "execution_count": 63,
   "id": "9b51316d-dbee-464a-beea-d4113ed18895",
   "metadata": {},
   "outputs": [
    {
     "name": "stdout",
     "output_type": "stream",
     "text": [
      "Done: K=8\n",
      "Done: K=9\n",
      "Done: K=10\n",
      "Done: K=11\n",
      "Done: K=12\n",
      "Done: K=13\n",
      "Done: K=14\n",
      "Done: K=15\n",
      "Done: K=16\n",
      "Done: K=17\n",
      "Done: K=18\n",
      "Done: K=19\n",
      "Done: K=20\n",
      "Done: K=21\n",
      "Done: K=22\n",
      "Done: K=23\n",
      "Done: K=24\n",
      "Done: K=25\n"
     ]
    }
   ],
   "source": [
    "random_state_num = 0\n",
    "for K in range(8, 26):\n",
    "    for i in range(total_iter):\n",
    "        input_temp = iters[i][\"gmm\"]\n",
    "        V = input_temp.values\n",
    "        V = np.divide(V, V.sum(axis=0, keepdims=True), where=V.sum(axis=0, keepdims=True) != 0)\n",
    "        V[V < 0] = 0  # clip all negatives to 0\n",
    "\n",
    "        nmf_model = NMF(n_components=K, init='nndsvdar', solver='mu',\n",
    "                        beta_loss='kullback-leibler', max_iter=10000, random_state=random_state_num)\n",
    "        W = nmf_model.fit_transform(V)\n",
    "        H = nmf_model.components_\n",
    "    \n",
    "        signature_df = pd.DataFrame(W, index=input_temp.index, columns=[f\"Sig_{j+1}\" for j in range(K)])\n",
    "        exposure_df = pd.DataFrame(H, columns=input_temp.columns, index=[f\"Sig_{j+1}\" for j in range(K)])\n",
    "    \n",
    "        # Create output directories if they don't exist\n",
    "        os.makedirs(f\"Output/Signature/dim_{K}\", exist_ok=True)\n",
    "        os.makedirs(f\"Output/Exposure/dim_{K}\", exist_ok=True)\n",
    "    \n",
    "        # Save to nested folders\n",
    "        signature_df.to_csv(f\"Output/Signature/dim_{K}/signature_K{K}_run{i}.csv\")\n",
    "        exposure_df.to_csv(f\"Output/Exposure/dim_{K}/exposure_K{K}_run{i}.csv\")\n",
    "    \n",
    "    print(f\"Done: K={K}\")\n"
   ]
  },
  {
   "cell_type": "code",
   "execution_count": null,
   "id": "16c22004-5a58-423d-bd84-4b44e4bfd471",
   "metadata": {},
   "outputs": [],
   "source": []
  }
 ],
 "metadata": {
  "kernelspec": {
   "display_name": "Python 3 (ipykernel)",
   "language": "python",
   "name": "python3"
  },
  "language_info": {
   "codemirror_mode": {
    "name": "ipython",
    "version": 3
   },
   "file_extension": ".py",
   "mimetype": "text/x-python",
   "name": "python",
   "nbconvert_exporter": "python",
   "pygments_lexer": "ipython3",
   "version": "3.11.11"
  }
 },
 "nbformat": 4,
 "nbformat_minor": 5
}
