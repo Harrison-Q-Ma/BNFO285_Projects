{
 "cells": [
  {
   "cell_type": "code",
   "execution_count": 1,
   "id": "6fe3fba7-2069-4260-b2c5-d285c1599dc8",
   "metadata": {},
   "outputs": [],
   "source": [
    "import pandas as pd\n",
    "import numpy as np\n",
    "import os"
   ]
  },
  {
   "cell_type": "code",
   "execution_count": 2,
   "id": "baae8d2f-79f5-4be4-9d6d-ca27854034c8",
   "metadata": {},
   "outputs": [],
   "source": [
    "mutations = pd.read_csv('/cellar/users/dhalmos/class/BNFO285/BNFO285_Projects/project_2/project_2_data/TCGA_HNSC_mutations_cleaned.txt', sep = '\\t')"
   ]
  },
  {
   "cell_type": "code",
   "execution_count": 4,
   "id": "1fc03428-730b-4fe2-bdf7-1d498eab49a8",
   "metadata": {},
   "outputs": [
    {
     "data": {
      "text/plain": [
       "Index(['patient_id', 'Hugo_Symbol', 'Entrez_Gene_Id', 'Center', 'NCBI_Build',\n",
       "       'Chromosome', 'Start_Position', 'End_Position', 'Strand',\n",
       "       'Variant_Classification', 'Variant_Type', 'Reference_Allele',\n",
       "       'Tumor_Seq_Allele1', 'Tumor_Seq_Allele2', 'dbSNP_RS',\n",
       "       'dbSNP_Val_Status', 'Tumor_Sample_Barcode',\n",
       "       'Matched_Norm_Sample_Barcode', 'Match_Norm_Seq_Allele1',\n",
       "       'Tumor_Validation_Allele1', 'Tumor_Validation_Allele2', 'HGVSc',\n",
       "       'HGVSp', 'Transcript_ID', 't_depth', 't_ref_count', 't_alt_count',\n",
       "       'n_depth', 'Allele', 'Consequence', 'cDNA_position', 'CDS_position',\n",
       "       'Protein_position', 'Amino_acids', 'Codons', 'Existing_variation',\n",
       "       'STRAND', 'CANONICAL', 'CCDS', 'ENSP', 'SWISSPROT', 'TREMBL', 'UNIPARC',\n",
       "       'SIFT', 'PolyPhen', 'DOMAINS', 'IMPACT', 'VARIANT_CLASS', 'FILTER',\n",
       "       'COSMIC', 'CALLERS', 'CONTEXT', 'NCALLERS', 'CALLERS_COUNT_ADJUSTED',\n",
       "       'VAF', 'gene_length'],\n",
       "      dtype='object')"
      ]
     },
     "execution_count": 4,
     "metadata": {},
     "output_type": "execute_result"
    }
   ],
   "source": [
    "mutations.columns"
   ]
  },
  {
   "cell_type": "code",
   "execution_count": null,
   "id": "6330d02d-addd-4dc5-841c-e02fae6a60ee",
   "metadata": {},
   "outputs": [],
   "source": [
    "out = mutations[['Chromosome', 'Start_Position','Strand', 'Tumor_Seq_Allele1','Tumor_Seq_Allele2', 'patient_id']]"
   ]
  }
 ],
 "metadata": {
  "kernelspec": {
   "display_name": "nest",
   "language": "python",
   "name": "nest"
  },
  "language_info": {
   "codemirror_mode": {
    "name": "ipython",
    "version": 3
   },
   "file_extension": ".py",
   "mimetype": "text/x-python",
   "name": "python",
   "nbconvert_exporter": "python",
   "pygments_lexer": "ipython3",
   "version": "3.12.2"
  }
 },
 "nbformat": 4,
 "nbformat_minor": 5
}
