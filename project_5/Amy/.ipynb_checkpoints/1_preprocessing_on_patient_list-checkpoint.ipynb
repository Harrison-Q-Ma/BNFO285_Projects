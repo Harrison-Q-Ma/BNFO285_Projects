{
 "cells": [
  {
   "cell_type": "markdown",
   "id": "e832b850-aed1-49af-a2cf-55bc23b46510",
   "metadata": {},
   "source": [
    "# import"
   ]
  },
  {
   "cell_type": "code",
   "execution_count": 1,
   "id": "425fe974-788e-4050-9f27-897700db37a7",
   "metadata": {},
   "outputs": [],
   "source": [
    "import pandas as pd\n",
    "import numpy as np\n",
    "from pathlib import Path\n",
    "import matplotlib.pyplot as plt\n",
    "import seaborn as sns\n",
    "\n",
    "# !pip install pyensembl\n",
    "from pyensembl import EnsemblRelease\n",
    "from scipy.stats import poisson\n",
    "from lifelines import KaplanMeierFitter\n",
    "from lifelines.statistics import logrank_test\n",
    "import matplotlib.pyplot as plt"
   ]
  },
  {
   "cell_type": "markdown",
   "id": "80127d00-30c1-44d0-970b-0d0eaa01c893",
   "metadata": {},
   "source": [
    "# Load Files"
   ]
  },
  {
   "cell_type": "code",
   "execution_count": 2,
   "id": "40d903c7-59f7-4488-ab72-f0c21f387147",
   "metadata": {},
   "outputs": [],
   "source": [
    "# Load File\n",
    "DATA_PATH = Path('../../Data')\n",
    "metadata_processed = pd.read_csv(Path(DATA_PATH, 'processed/processed_metadata.txt'), sep = '\\t').fillna(\"NaN\")\n",
    "mutations = pd.read_csv(Path(DATA_PATH, 'Original/TCGA.HNSC.mutations.txt'), sep = '\\t').fillna(\"NaN\")"
   ]
  },
  {
   "cell_type": "markdown",
   "id": "736cb4b7-f754-4f2e-9f36-1b45b0ec9469",
   "metadata": {},
   "source": [
    "# patient list"
   ]
  },
  {
   "cell_type": "code",
   "execution_count": 3,
   "id": "2bf250f8-4b08-4a63-9e6a-827bc71fb25e",
   "metadata": {},
   "outputs": [],
   "source": [
    "patients = metadata_processed[metadata_processed.tumor_site.isin([\"mouth\",\"Larynx\",\"tongue\"])].patient_id.tolist()"
   ]
  },
  {
   "cell_type": "code",
   "execution_count": 4,
   "id": "37281990-c56a-4d99-b113-f9cb82f6b78e",
   "metadata": {},
   "outputs": [],
   "source": [
    "with open(\"patients.txt\", \"w\") as f:\n",
    "    for patient in patients:\n",
    "        f.write(f\"{patient}\\n\")"
   ]
  },
  {
   "cell_type": "markdown",
   "id": "b1a72b34-ba08-4005-a514-10b44d916359",
   "metadata": {},
   "source": [
    "# Mutations processing"
   ]
  },
  {
   "cell_type": "code",
   "execution_count": 5,
   "id": "2dbb03ef-f0d4-4038-a050-fc7fb26a426d",
   "metadata": {},
   "outputs": [],
   "source": [
    "def classify_dn_ds(vclass):\n",
    "    if vclass == 'Silent':\n",
    "        return 'synonymous'\n",
    "    else:\n",
    "        return 'nonsynonymous'"
   ]
  },
  {
   "cell_type": "code",
   "execution_count": 6,
   "id": "af03bd72-7b70-4a05-afb2-dadcca214f99",
   "metadata": {},
   "outputs": [],
   "source": [
    "# 1. filter to pass: kept high-quality mutations\n",
    "mutations = mutations[mutations['FILTER'] == 'PASS']\n",
    "\n",
    "# 2. remove deprecated vairant callers and missing callers\n",
    "# from mutations['CALLERS'], remove str matching 'RADIA' and 'SOMATICSNIPER'\n",
    "mutations['CALLERS'] = mutations['CALLERS'].replace(to_replace='*', value='')\n",
    "mutations['CALLERS'] = mutations['CALLERS'].replace(to_replace='RADIA', value='')\n",
    "mutations['CALLERS'] = mutations['CALLERS'].replace(to_replace='SOMATICSNIPER', value='')\n",
    "# in mutations['CALLERS'], if 2 '|' are next to each other, replace with ''\n",
    "mutations['CALLERS'] = mutations['CALLERS'].replace(to_replace='\\\\|\\\\|', value='', regex=True)\n",
    "# count the number of '|' in mutations['CALLERS'] and store in a new column 'CALLERS_COUNT_ADJUSTED'\n",
    "mutations['CALLERS_COUNT_ADJUSTED'] = mutations['CALLERS'].str.count('\\\\|')\n",
    "\n",
    "# 3. Filter to consensus mutations\n",
    "mutations = mutations[mutations['CALLERS_COUNT_ADJUSTED'] > 1]\n",
    "\n",
    "# 4. Filter by n_depth >=10\n",
    "mutations = mutations[mutations['n_depth'] >= 10] \n",
    "\n",
    "# 5. Filter by hypermutators > 1000 mutations per patient\n",
    "# Identify patients with >1000 mutations\n",
    "hypermutators = mutations['patient_id'].value_counts()\n",
    "hypermutators = hypermutators[hypermutators > 1000].index\n",
    "# Remove those patients\n",
    "mutations = mutations[~mutations['patient_id'].isin(hypermutators)]\n",
    "\n",
    "# 6. Only SNP mutations should be analyzed\n",
    "mutations = mutations[mutations['Variant_Type'] == 'SNP']\n",
    "\n",
    "# 7. additional column on mutation type and trinucleotide contextx\n",
    "# dn/ds mutation\n",
    "mutations.loc[:, '_dn_ds_mutation_type'] = mutations['Variant_Classification'].apply(classify_dn_ds)\n",
    "# trinucleotide\n",
    "mutations.loc[:, '_trinucleotide'] = mutations['CONTEXT'].str.slice(4, 7)\n",
    "# 16 type context\n",
    "mutations['_16_type_context'] = mutations['CONTEXT'].str[4] + '_' + mutations['CONTEXT'].str[6]\n",
    "# 6 substitution \n",
    "# mutations['_substitution'] = mutations.apply(\n",
    "#     lambda row: get_substitution(row['Reference_Allele'], row['Tumor_Seq_Allele2']), axis=1\n",
    "# )\n",
    "mutations['_substitution'] = mutations['Reference_Allele'] + \"->\" + mutations['Tumor_Seq_Allele2']\n",
    "mutations['_96_class'] = mutations['_16_type_context'] + '__' + mutations['_substitution']\n",
    "\n",
    "mutations = mutations[mutations._dn_ds_mutation_type == \"nonsynonymous\"]\n",
    "mutations = mutations[mutations.Variant_Classification != \"Intron\"]\n",
    "mutations = mutations[mutations.Variant_Classification != \"3'UTR\"] # untranslated\n",
    "mutations = mutations[mutations.Variant_Classification != \"5'UTR\"]\n",
    "mutations = mutations[mutations.Variant_Classification != \"RNA\"] # RNA region\n",
    "mutations = mutations[mutations.Variant_Classification != \"3'Flank\"] # flanking region\n",
    "mutations = mutations[mutations.Variant_Classification != \"5'Flank\"]\n",
    "\n",
    "mutations = mutations[mutations['patient_id'].isin(patients)]\n",
    "\n",
    "mutations.to_csv(\"mutations_filtered.csv\", index=True)"
   ]
  },
  {
   "cell_type": "markdown",
   "id": "f6e1b1ac-018f-4005-bbeb-bb1d4816d2c4",
   "metadata": {},
   "source": [
    "# Identify High-impact mutation based on PolyPhen Score"
   ]
  },
  {
   "cell_type": "code",
   "execution_count": 7,
   "id": "c2541987-9547-4500-9496-3bee741940be",
   "metadata": {},
   "outputs": [],
   "source": [
    "# Step 1: Extract PolyPhen score\n",
    "mutations['polyphen_score'] = mutations['PolyPhen'].str.extract(r\"\\(([\\d.]+)\\)\").astype(float)\n",
    "\n",
    "# Step 2: Filter to only high PolyPhen mutations\n",
    "high_impact = mutations[mutations['polyphen_score'] > 0.85]"
   ]
  }
 ],
 "metadata": {
  "kernelspec": {
   "display_name": "Python 3 (ipykernel)",
   "language": "python",
   "name": "python3"
  },
  "language_info": {
   "codemirror_mode": {
    "name": "ipython",
    "version": 3
   },
   "file_extension": ".py",
   "mimetype": "text/x-python",
   "name": "python",
   "nbconvert_exporter": "python",
   "pygments_lexer": "ipython3",
   "version": "3.10.16"
  }
 },
 "nbformat": 4,
 "nbformat_minor": 5
}
