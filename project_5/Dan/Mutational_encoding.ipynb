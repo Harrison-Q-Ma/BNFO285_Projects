{
 "cells": [
  {
   "cell_type": "code",
   "execution_count": 1,
   "id": "fef4b6a5-c3e6-4d37-bae2-ab9b00036336",
   "metadata": {},
   "outputs": [],
   "source": [
    "import pandas as pd\n",
    "import numpy as np"
   ]
  },
  {
   "cell_type": "code",
   "execution_count": 62,
   "id": "3db384c0-13cb-4c35-8c01-a7c2aba3de2c",
   "metadata": {},
   "outputs": [],
   "source": [
    "mutations = pd.read_csv('../Amy/mutations_filtered.csv', index_col = 0)\n",
    "oncokb_genes = pd.read_csv('./cancerGeneList.tsv', sep = '\\t')['Hugo Symbol'].unique()\n",
    "patients = pd.read_csv('../Amy/patients.txt', header = None)"
   ]
  },
  {
   "cell_type": "code",
   "execution_count": 39,
   "id": "69323d19-0413-40a7-be3e-21344f591b19",
   "metadata": {},
   "outputs": [],
   "source": [
    "polyphen_mutations = mutations.loc[mutations['PolyPhen'].apply(lambda x: float(x.split('(')[-1].split(')')[0]) > 0.9 if x != '.' else False)]"
   ]
  },
  {
   "cell_type": "code",
   "execution_count": 94,
   "id": "40253af0-15c9-4385-82ba-f579f3bc3baf",
   "metadata": {},
   "outputs": [],
   "source": [
    "grouped_by_gene = polyphen_mutations.groupby(by = 'Hugo_Symbol').agg({'patient_id' : 'nunique'}).reset_index()\n",
    "top_genes = grouped_by_gene.loc[grouped_by_gene['patient_id'] > 10]\n",
    "overlap_with_oncokb = list(set(top_genes['Hugo_Symbol'].unique()).intersection(set(oncokb_genes)))\n",
    "genes_to_encode = top_genes.loc[top_genes['Hugo_Symbol'].apply(lambda x: x in overlap_with_oncokb)]"
   ]
  },
  {
   "cell_type": "code",
   "execution_count": 58,
   "id": "38c0b082-38f7-4003-ba41-cbaa8a9e7180",
   "metadata": {},
   "outputs": [],
   "source": [
    "polyphen_mutations_to_encode = polyphen_mutations.loc[polyphen_mutations['Hugo_Symbol'].apply(lambda x: x in overlap_with_oncokb)]"
   ]
  },
  {
   "cell_type": "code",
   "execution_count": 74,
   "id": "f746d081-3c1d-4929-a0b3-2f87ba38eab0",
   "metadata": {},
   "outputs": [],
   "source": [
    "by_patient_mutations = polyphen_mutations_to_encode.groupby(by = 'patient_id').agg({'Hugo_Symbol' : list}).reset_index()"
   ]
  },
  {
   "cell_type": "code",
   "execution_count": 91,
   "id": "ad9df77c-c112-438d-8d29-97c09c06276d",
   "metadata": {},
   "outputs": [],
   "source": [
    "gene_encoding = pd.get_dummies(by_patient_mutations['Hugo_Symbol'].explode())\n",
    "gene_encoding['patient_id'] = by_patient_mutations['patient_id']"
   ]
  },
  {
   "cell_type": "code",
   "execution_count": 98,
   "id": "095bf246-de2e-435b-b44d-cad1badfe150",
   "metadata": {},
   "outputs": [],
   "source": [
    "mutation_embedding = gene_encoding[['patient_id'] + overlap_with_oncokb]"
   ]
  },
  {
   "cell_type": "code",
   "execution_count": 100,
   "id": "a3c9c324-4184-45d0-b2de-8ba80e3868f4",
   "metadata": {},
   "outputs": [],
   "source": [
    "mutation_embedding.to_csv('train_mutation_embedding.csv', index = False)"
   ]
  }
 ],
 "metadata": {
  "kernelspec": {
   "display_name": "nest",
   "language": "python",
   "name": "nest"
  },
  "language_info": {
   "codemirror_mode": {
    "name": "ipython",
    "version": 3
   },
   "file_extension": ".py",
   "mimetype": "text/x-python",
   "name": "python",
   "nbconvert_exporter": "python",
   "pygments_lexer": "ipython3",
   "version": "3.12.2"
  }
 },
 "nbformat": 4,
 "nbformat_minor": 5
}
