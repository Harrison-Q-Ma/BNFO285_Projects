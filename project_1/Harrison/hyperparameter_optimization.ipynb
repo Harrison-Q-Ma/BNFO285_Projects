{
 "cells": [
  {
   "cell_type": "code",
   "execution_count": 1,
   "id": "f8122f4a",
   "metadata": {},
   "outputs": [
    {
     "name": "stderr",
     "output_type": "stream",
     "text": [
      "/Users/harrisonma/opt/anaconda3/envs/ai_cellchat/lib/python3.11/site-packages/tqdm/auto.py:21: TqdmWarning: IProgress not found. Please update jupyter and ipywidgets. See https://ipywidgets.readthedocs.io/en/stable/user_install.html\n",
      "  from .autonotebook import tqdm as notebook_tqdm\n"
     ]
    }
   ],
   "source": [
    "import numpy as np \n",
    "import pandas as pd \n",
    "from umap import UMAP \n",
    "import leidenalg\n",
    "import igraph as ig\n",
    "import math\n",
    "from sklearn.base import BaseEstimator\n",
    "from sklearn.metrics import silhouette_score\n",
    "from sklearn.model_selection import GridSearchCV\n",
    "from sklearn.cluster import KMeans, AgglomerativeClustering, SpectralClustering, DBSCAN, OPTICS\n",
    "from sklearn.mixture import GaussianMixture\n",
    "from sklearn.neighbors import NearestNeighbors\n"
   ]
  },
  {
   "cell_type": "code",
   "execution_count": 2,
   "id": "85bfb5d8",
   "metadata": {},
   "outputs": [],
   "source": [
    "def leiden_cluster(X, k=25):\n",
    "    \"\"\"\n",
    "    Create a graph from nearest neighbors and find clusters using Leiden algorithm\n",
    "    \n",
    "    Parameters:\n",
    "    -----------\n",
    "    X : array-like\n",
    "        The dimensionality reduced data\n",
    "    k : int, default=25\n",
    "        Number of nearest neighbors\n",
    "        \n",
    "    Returns:\n",
    "    --------\n",
    "    g : igraph.Graph\n",
    "        The created graph\n",
    "    partition : leidenalg.VertexPartition\n",
    "        The partition result from Leiden algorithm\n",
    "    \"\"\"\n",
    "    # Find nearest neighbors\n",
    "    neighbors = NearestNeighbors(n_neighbors=k).fit(X)\n",
    "    distances, indices = neighbors.kneighbors(X)\n",
    "\n",
    "    # Build edge list with weighted edges\n",
    "    edges = []\n",
    "    weights = []\n",
    "    num_points = X.shape[0]\n",
    "\n",
    "    for i in range(num_points):\n",
    "        for idx, j in enumerate(indices[i]):\n",
    "            if i == j: \n",
    "                continue\n",
    "            if (j, i) in edges:\n",
    "                continue\n",
    "            d = distances[i, idx]\n",
    "            weight = math.exp(-d)\n",
    "            edges.append((i, j))\n",
    "            weights.append(weight)\n",
    "\n",
    "    # Create an igraph Graph, add vertices and edges\n",
    "    g = ig.Graph()\n",
    "    g.add_vertices(num_points)\n",
    "    g.add_edges(edges)\n",
    "\n",
    "    # Set the edge attribute 'weight' for our weighted graph\n",
    "    g.es['weight'] = weights\n",
    "\n",
    "    # Find partition using Leiden algorithm\n",
    "    partition = leidenalg.find_partition(g, leidenalg.ModularityVertexPartition)\n",
    "    # print(\"Clusters:\", partition)\n",
    "    \n",
    "    return g, partition\n"
   ]
  },
  {
   "cell_type": "code",
   "execution_count": null,
   "id": "211e81e4",
   "metadata": {},
   "outputs": [],
   "source": [
    "class UMAPClusteringEvaluator(BaseEstimator):\n",
    "    def __init__(self, n_neighbors=15, min_dist=0.1, n_components=2, metric='euclidean'):\n",
    "        \"\"\"\n",
    "        Initialize UMAP and store hyperparameters for later grid search.\n",
    "        \"\"\"\n",
    "        self.n_neighbors = n_neighbors\n",
    "        self.min_dist = min_dist\n",
    "        self.n_components = n_components\n",
    "        self.metric = metric\n",
    "        self.umap_model = None\n",
    "\n",
    "    def fit(self, X, y=None):\n",
    "        \"\"\"\n",
    "        Fit the UMAP model on the data.\n",
    "        \"\"\"\n",
    "        self.umap_model = UMAP(n_neighbors=self.n_neighbors,\n",
    "                                    min_dist=self.min_dist,\n",
    "                                    n_components=self.n_components,\n",
    "                                    metric=self.metric,\n",
    "                                    random_state=42)\n",
    "        self.umap_model.fit(X)\n",
    "        return self\n",
    "\n",
    "    def transform(self, X):\n",
    "        \"\"\"\n",
    "        Transform the data with the fitted UMAP model.\n",
    "        \"\"\"\n",
    "        return self.umap_model.transform(X)\n",
    "\n",
    "    def score(self, X, y=None):\n",
    "        \"\"\"\n",
    "        Transform the data into the reduced space and then run a set of clustering algorithms.\n",
    "        Compute the silhouette score for each (if valid) and return the average silhouette score.\n",
    "        \"\"\"\n",
    "        X_reduced = self.transform(X)\n",
    "        scores = []  # To collect silhouette scores\n",
    "        \n",
    "        # List of clustering algorithms to evaluate.\n",
    "        # You can adjust these or add new ones as needed.\n",
    "        clustering_methods = [\n",
    "            ('KMeans', KMeans()), # 6 k means works the best \n",
    "            ('Agglomerative', AgglomerativeClustering()),\n",
    "            ('Spectral', SpectralClustering()),\n",
    "            ('DBSCAN', DBSCAN()),\n",
    "            ('GaussianMixture', GaussianMixture()),\n",
    "            ('Leiden', leiden_cluster(X_reduced)) # Custom Leiden clustering,\n",
    "        ]\n",
    "        \n",
    "        for name, algorithm in clustering_methods:\n",
    "            try:\n",
    "                # Obtain cluster labels.\n",
    "                # Some algorithms have fit_predict, others require separate fitting and predicting.\n",
    "                if name in ['KMeans', 'Agglomerative', 'Spectral', 'DBSCAN']:\n",
    "                    labels = algorithm.fit_predict(X_reduced)\n",
    "                elif name == 'GaussianMixture':\n",
    "                    algorithm.fit(X_reduced)\n",
    "                    labels = algorithm.predict(X_reduced)\n",
    "                elif name == 'Leiden':\n",
    "                    g, partition = leiden_cluster(X_reduced)\n",
    "                    labels = np.array(partition.membership)\n",
    "                \n",
    "                # Check if we have at least two clusters.\n",
    "                # For DBSCAN, we exclude noise labeled as -1.\n",
    "                if name == 'DBSCAN':\n",
    "                    valid_idx = labels != -1\n",
    "                    if len(np.unique(labels[valid_idx])) < 2:\n",
    "                        continue\n",
    "                    score = silhouette_score(X_reduced[valid_idx], labels[valid_idx])\n",
    "                else:\n",
    "                    if len(np.unique(labels)) < 2:\n",
    "                        continue  # Skip if only one cluster is produced.\n",
    "                    score = silhouette_score(X_reduced, labels)\n",
    "                \n",
    "                scores.append(score)\n",
    "            except Exception as e:\n",
    "                # In a production system you might log errors; here we just print them.\n",
    "                print(f\"Error with {name}: {e}\")\n",
    "                continue\n",
    "\n",
    "        # If none of the clustering methods produced a valid silhouette score,\n",
    "        # return a default low score. Otherwise, return the average.\n",
    "        if scores:\n",
    "            return np.mean(scores)\n",
    "        return -1.0  # or another value indicating failure\n"
   ]
  },
  {
   "cell_type": "code",
   "execution_count": 48,
   "id": "2cfbbdfb",
   "metadata": {},
   "outputs": [],
   "source": [
    "from sklearn.base import BaseEstimator\n",
    "from sklearn.manifold import TSNE\n",
    "from sklearn.metrics import silhouette_score\n",
    "from sklearn.cluster import KMeans, AgglomerativeClustering, SpectralClustering, DBSCAN\n",
    "from sklearn.mixture import GaussianMixture\n",
    "import numpy as np\n",
    "\n",
    "class TSNEClusteringEvaluator(BaseEstimator):\n",
    "    def __init__(\n",
    "        self,\n",
    "        perplexity=30,\n",
    "        learning_rate=200,\n",
    "        n_components=2,\n",
    "        n_iter=1000,\n",
    "        init='pca',\n",
    "        metric='euclidean',\n",
    "        angle=0.5,\n",
    "        random_state=42\n",
    "    ):\n",
    "        # t‑SNE hyperparameters\n",
    "        self.perplexity = perplexity\n",
    "        self.learning_rate = learning_rate\n",
    "        self.n_components = n_components\n",
    "        self.n_iter = n_iter\n",
    "        self.init = init\n",
    "        self.metric = metric\n",
    "        self.angle = angle\n",
    "        self.random_state = random_state\n",
    "\n",
    "        # placeholder for the computed embedding\n",
    "        self.embedding_ = None\n",
    "\n",
    "    def fit(self, X, y=None):\n",
    "        # t‑SNE has no transform, so we compute embedding here once\n",
    "        self.embedding_ = TSNE(\n",
    "            perplexity=self.perplexity,\n",
    "            learning_rate=self.learning_rate,\n",
    "            n_components=self.n_components,\n",
    "            n_iter=self.n_iter,\n",
    "            init=self.init,\n",
    "            metric=self.metric,\n",
    "            angle=self.angle,\n",
    "            random_state=self.random_state,\n",
    "        ).fit_transform(X)\n",
    "        return self\n",
    "\n",
    "    def transform(self, X):\n",
    "        # ignore X, just return the stored embedding\n",
    "        return self.embedding_\n",
    "\n",
    "    def score(self, X, y=None):\n",
    "        X_emb = self.transform(X)\n",
    "        scores = []\n",
    "        clustering_methods = [\n",
    "            ('KMeans', KMeans()), # 6 k means works the best \n",
    "            ('Agglomerative', AgglomerativeClustering()),\n",
    "            ('Spectral', SpectralClustering()),\n",
    "            ('DBSCAN', DBSCAN()),\n",
    "            ('GaussianMixture', GaussianMixture()),\n",
    "            ('Leiden', leiden_cluster(X_emb)) # Custom Leiden clustering,\n",
    "        ]\n",
    "        \n",
    "        for name, algorithm in clustering_methods:\n",
    "            try:\n",
    "                # Obtain cluster labels.\n",
    "                # Some algorithms have fit_predict, others require separate fitting and predicting.\n",
    "                if name in ['KMeans', 'Agglomerative', 'Spectral', 'DBSCAN']:\n",
    "                    labels = algorithm.fit_predict(X_emb)\n",
    "                elif name == 'GaussianMixture':\n",
    "                    algorithm.fit(X_emb)\n",
    "                    labels = algorithm.predict(X_emb)\n",
    "                elif name == 'Leiden':\n",
    "                    g, partition = leiden_cluster(X_emb)\n",
    "                    labels = np.array(partition.membership)\n",
    "                \n",
    "                # Check if we have at least two clusters.\n",
    "                # For DBSCAN, we exclude noise labeled as -1.\n",
    "                if name == 'DBSCAN':\n",
    "                    valid_idx = labels != -1\n",
    "                    if len(np.unique(labels[valid_idx])) < 2:\n",
    "                        continue\n",
    "                    score = silhouette_score(X_emb[valid_idx], labels[valid_idx])\n",
    "                else:\n",
    "                    if len(np.unique(labels)) < 2:\n",
    "                        continue  # Skip if only one cluster is produced.\n",
    "                    score = silhouette_score(X_emb, labels)\n",
    "                \n",
    "                scores.append(score)\n",
    "            except Exception as e:\n",
    "                # In a production system you might log errors; here we just print them.\n",
    "                print(f\"Error with {name}: {e}\")\n",
    "                continue\n",
    "\n",
    "        return np.mean(scores) if scores else -1.0\n"
   ]
  },
  {
   "cell_type": "code",
   "execution_count": 16,
   "id": "22dabfbd",
   "metadata": {},
   "outputs": [],
   "source": [
    "df_log = pd.read_csv('/Users/harrisonma/Documents/PhD Classes/2025 Spring/BNFO 285/BNFO285_Projects/Data/processed/TCGA.HNSC.expression_log_tumor_top2000.txt', sep = '\\t')\n",
    "\n",
    "np_log = df_log.to_numpy()\n",
    "np_log = np.delete(np_log, [0, 1], axis=1)\n",
    "X = np_log# np.delete(np_log, [0, 1], axis=1)\n"
   ]
  },
  {
   "cell_type": "code",
   "execution_count": 18,
   "id": "d9b72c0b",
   "metadata": {},
   "outputs": [
    {
     "name": "stdout",
     "output_type": "stream",
     "text": [
      "Fitting 5 folds for each of 18 candidates, totalling 90 fits\n"
     ]
    },
    {
     "name": "stderr",
     "output_type": "stream",
     "text": [
      "/Users/harrisonma/opt/anaconda3/envs/ai_cellchat/lib/python3.11/site-packages/sklearn/utils/deprecation.py:151: FutureWarning: 'force_all_finite' was renamed to 'ensure_all_finite' in 1.6 and will be removed in 1.8.\n",
      "  warnings.warn(\n",
      "/Users/harrisonma/opt/anaconda3/envs/ai_cellchat/lib/python3.11/site-packages/umap/umap_.py:1952: UserWarning: n_jobs value 1 overridden to 1 by setting random_state. Use no seed for parallelism.\n",
      "  warn(\n",
      "/Users/harrisonma/opt/anaconda3/envs/ai_cellchat/lib/python3.11/site-packages/sklearn/utils/deprecation.py:151: FutureWarning: 'force_all_finite' was renamed to 'ensure_all_finite' in 1.6 and will be removed in 1.8.\n",
      "  warnings.warn(\n",
      "/Users/harrisonma/opt/anaconda3/envs/ai_cellchat/lib/python3.11/site-packages/umap/umap_.py:1952: UserWarning: n_jobs value 1 overridden to 1 by setting random_state. Use no seed for parallelism.\n",
      "  warn(\n",
      "/Users/harrisonma/opt/anaconda3/envs/ai_cellchat/lib/python3.11/site-packages/sklearn/utils/deprecation.py:151: FutureWarning: 'force_all_finite' was renamed to 'ensure_all_finite' in 1.6 and will be removed in 1.8.\n",
      "  warnings.warn(\n",
      "/Users/harrisonma/opt/anaconda3/envs/ai_cellchat/lib/python3.11/site-packages/umap/umap_.py:1952: UserWarning: n_jobs value 1 overridden to 1 by setting random_state. Use no seed for parallelism.\n",
      "  warn(\n",
      "/Users/harrisonma/opt/anaconda3/envs/ai_cellchat/lib/python3.11/site-packages/sklearn/utils/deprecation.py:151: FutureWarning: 'force_all_finite' was renamed to 'ensure_all_finite' in 1.6 and will be removed in 1.8.\n",
      "  warnings.warn(\n",
      "/Users/harrisonma/opt/anaconda3/envs/ai_cellchat/lib/python3.11/site-packages/umap/umap_.py:1952: UserWarning: n_jobs value 1 overridden to 1 by setting random_state. Use no seed for parallelism.\n",
      "  warn(\n",
      "/Users/harrisonma/opt/anaconda3/envs/ai_cellchat/lib/python3.11/site-packages/sklearn/utils/deprecation.py:151: FutureWarning: 'force_all_finite' was renamed to 'ensure_all_finite' in 1.6 and will be removed in 1.8.\n",
      "  warnings.warn(\n",
      "/Users/harrisonma/opt/anaconda3/envs/ai_cellchat/lib/python3.11/site-packages/umap/umap_.py:1952: UserWarning: n_jobs value 1 overridden to 1 by setting random_state. Use no seed for parallelism.\n",
      "  warn(\n",
      "/Users/harrisonma/opt/anaconda3/envs/ai_cellchat/lib/python3.11/site-packages/sklearn/utils/deprecation.py:151: FutureWarning: 'force_all_finite' was renamed to 'ensure_all_finite' in 1.6 and will be removed in 1.8.\n",
      "  warnings.warn(\n",
      "/Users/harrisonma/opt/anaconda3/envs/ai_cellchat/lib/python3.11/site-packages/umap/umap_.py:1952: UserWarning: n_jobs value 1 overridden to 1 by setting random_state. Use no seed for parallelism.\n",
      "  warn(\n",
      "/Users/harrisonma/opt/anaconda3/envs/ai_cellchat/lib/python3.11/site-packages/sklearn/utils/deprecation.py:151: FutureWarning: 'force_all_finite' was renamed to 'ensure_all_finite' in 1.6 and will be removed in 1.8.\n",
      "  warnings.warn(\n",
      "/Users/harrisonma/opt/anaconda3/envs/ai_cellchat/lib/python3.11/site-packages/umap/umap_.py:1952: UserWarning: n_jobs value 1 overridden to 1 by setting random_state. Use no seed for parallelism.\n",
      "  warn(\n",
      "/Users/harrisonma/opt/anaconda3/envs/ai_cellchat/lib/python3.11/site-packages/sklearn/utils/deprecation.py:151: FutureWarning: 'force_all_finite' was renamed to 'ensure_all_finite' in 1.6 and will be removed in 1.8.\n",
      "  warnings.warn(\n",
      "/Users/harrisonma/opt/anaconda3/envs/ai_cellchat/lib/python3.11/site-packages/umap/umap_.py:1952: UserWarning: n_jobs value 1 overridden to 1 by setting random_state. Use no seed for parallelism.\n",
      "  warn(\n",
      "/Users/harrisonma/opt/anaconda3/envs/ai_cellchat/lib/python3.11/site-packages/sklearn/utils/deprecation.py:151: FutureWarning: 'force_all_finite' was renamed to 'ensure_all_finite' in 1.6 and will be removed in 1.8.\n",
      "  warnings.warn(\n",
      "/Users/harrisonma/opt/anaconda3/envs/ai_cellchat/lib/python3.11/site-packages/sklearn/utils/deprecation.py:151: FutureWarning: 'force_all_finite' was renamed to 'ensure_all_finite' in 1.6 and will be removed in 1.8.\n",
      "  warnings.warn(\n",
      "/Users/harrisonma/opt/anaconda3/envs/ai_cellchat/lib/python3.11/site-packages/sklearn/utils/deprecation.py:151: FutureWarning: 'force_all_finite' was renamed to 'ensure_all_finite' in 1.6 and will be removed in 1.8.\n",
      "  warnings.warn(\n",
      "/Users/harrisonma/opt/anaconda3/envs/ai_cellchat/lib/python3.11/site-packages/sklearn/utils/deprecation.py:151: FutureWarning: 'force_all_finite' was renamed to 'ensure_all_finite' in 1.6 and will be removed in 1.8.\n",
      "  warnings.warn(\n",
      "/Users/harrisonma/opt/anaconda3/envs/ai_cellchat/lib/python3.11/site-packages/sklearn/utils/deprecation.py:151: FutureWarning: 'force_all_finite' was renamed to 'ensure_all_finite' in 1.6 and will be removed in 1.8.\n",
      "  warnings.warn(\n",
      "/Users/harrisonma/opt/anaconda3/envs/ai_cellchat/lib/python3.11/site-packages/sklearn/utils/deprecation.py:151: FutureWarning: 'force_all_finite' was renamed to 'ensure_all_finite' in 1.6 and will be removed in 1.8.\n",
      "  warnings.warn(\n",
      "/Users/harrisonma/opt/anaconda3/envs/ai_cellchat/lib/python3.11/site-packages/sklearn/utils/deprecation.py:151: FutureWarning: 'force_all_finite' was renamed to 'ensure_all_finite' in 1.6 and will be removed in 1.8.\n",
      "  warnings.warn(\n",
      "/Users/harrisonma/opt/anaconda3/envs/ai_cellchat/lib/python3.11/site-packages/sklearn/utils/deprecation.py:151: FutureWarning: 'force_all_finite' was renamed to 'ensure_all_finite' in 1.6 and will be removed in 1.8.\n",
      "  warnings.warn(\n",
      "/Users/harrisonma/opt/anaconda3/envs/ai_cellchat/lib/python3.11/site-packages/sklearn/utils/deprecation.py:151: FutureWarning: 'force_all_finite' was renamed to 'ensure_all_finite' in 1.6 and will be removed in 1.8.\n",
      "  warnings.warn(\n",
      "/Users/harrisonma/opt/anaconda3/envs/ai_cellchat/lib/python3.11/site-packages/umap/umap_.py:1952: UserWarning: n_jobs value 1 overridden to 1 by setting random_state. Use no seed for parallelism.\n",
      "  warn(\n",
      "/Users/harrisonma/opt/anaconda3/envs/ai_cellchat/lib/python3.11/site-packages/sklearn/utils/deprecation.py:151: FutureWarning: 'force_all_finite' was renamed to 'ensure_all_finite' in 1.6 and will be removed in 1.8.\n",
      "  warnings.warn(\n",
      "/Users/harrisonma/opt/anaconda3/envs/ai_cellchat/lib/python3.11/site-packages/umap/umap_.py:1952: UserWarning: n_jobs value 1 overridden to 1 by setting random_state. Use no seed for parallelism.\n",
      "  warn(\n",
      "/Users/harrisonma/opt/anaconda3/envs/ai_cellchat/lib/python3.11/site-packages/sklearn/utils/deprecation.py:151: FutureWarning: 'force_all_finite' was renamed to 'ensure_all_finite' in 1.6 and will be removed in 1.8.\n",
      "  warnings.warn(\n",
      "/Users/harrisonma/opt/anaconda3/envs/ai_cellchat/lib/python3.11/site-packages/umap/umap_.py:1952: UserWarning: n_jobs value 1 overridden to 1 by setting random_state. Use no seed for parallelism.\n",
      "  warn(\n",
      "/Users/harrisonma/opt/anaconda3/envs/ai_cellchat/lib/python3.11/site-packages/sklearn/utils/deprecation.py:151: FutureWarning: 'force_all_finite' was renamed to 'ensure_all_finite' in 1.6 and will be removed in 1.8.\n",
      "  warnings.warn(\n",
      "/Users/harrisonma/opt/anaconda3/envs/ai_cellchat/lib/python3.11/site-packages/umap/umap_.py:1952: UserWarning: n_jobs value 1 overridden to 1 by setting random_state. Use no seed for parallelism.\n",
      "  warn(\n",
      "/Users/harrisonma/opt/anaconda3/envs/ai_cellchat/lib/python3.11/site-packages/sklearn/utils/deprecation.py:151: FutureWarning: 'force_all_finite' was renamed to 'ensure_all_finite' in 1.6 and will be removed in 1.8.\n",
      "  warnings.warn(\n",
      "/Users/harrisonma/opt/anaconda3/envs/ai_cellchat/lib/python3.11/site-packages/umap/umap_.py:1952: UserWarning: n_jobs value 1 overridden to 1 by setting random_state. Use no seed for parallelism.\n",
      "  warn(\n",
      "/Users/harrisonma/opt/anaconda3/envs/ai_cellchat/lib/python3.11/site-packages/sklearn/utils/deprecation.py:151: FutureWarning: 'force_all_finite' was renamed to 'ensure_all_finite' in 1.6 and will be removed in 1.8.\n",
      "  warnings.warn(\n",
      "/Users/harrisonma/opt/anaconda3/envs/ai_cellchat/lib/python3.11/site-packages/umap/umap_.py:1952: UserWarning: n_jobs value 1 overridden to 1 by setting random_state. Use no seed for parallelism.\n",
      "  warn(\n",
      "/Users/harrisonma/opt/anaconda3/envs/ai_cellchat/lib/python3.11/site-packages/sklearn/utils/deprecation.py:151: FutureWarning: 'force_all_finite' was renamed to 'ensure_all_finite' in 1.6 and will be removed in 1.8.\n",
      "  warnings.warn(\n",
      "/Users/harrisonma/opt/anaconda3/envs/ai_cellchat/lib/python3.11/site-packages/umap/umap_.py:1952: UserWarning: n_jobs value 1 overridden to 1 by setting random_state. Use no seed for parallelism.\n",
      "  warn(\n",
      "/Users/harrisonma/opt/anaconda3/envs/ai_cellchat/lib/python3.11/site-packages/sklearn/utils/deprecation.py:151: FutureWarning: 'force_all_finite' was renamed to 'ensure_all_finite' in 1.6 and will be removed in 1.8.\n",
      "  warnings.warn(\n",
      "/Users/harrisonma/opt/anaconda3/envs/ai_cellchat/lib/python3.11/site-packages/umap/umap_.py:1952: UserWarning: n_jobs value 1 overridden to 1 by setting random_state. Use no seed for parallelism.\n",
      "  warn(\n",
      "/Users/harrisonma/opt/anaconda3/envs/ai_cellchat/lib/python3.11/site-packages/sklearn/utils/deprecation.py:151: FutureWarning: 'force_all_finite' was renamed to 'ensure_all_finite' in 1.6 and will be removed in 1.8.\n",
      "  warnings.warn(\n",
      "/Users/harrisonma/opt/anaconda3/envs/ai_cellchat/lib/python3.11/site-packages/sklearn/utils/deprecation.py:151: FutureWarning: 'force_all_finite' was renamed to 'ensure_all_finite' in 1.6 and will be removed in 1.8.\n",
      "  warnings.warn(\n",
      "/Users/harrisonma/opt/anaconda3/envs/ai_cellchat/lib/python3.11/site-packages/sklearn/utils/deprecation.py:151: FutureWarning: 'force_all_finite' was renamed to 'ensure_all_finite' in 1.6 and will be removed in 1.8.\n",
      "  warnings.warn(\n",
      "/Users/harrisonma/opt/anaconda3/envs/ai_cellchat/lib/python3.11/site-packages/sklearn/utils/deprecation.py:151: FutureWarning: 'force_all_finite' was renamed to 'ensure_all_finite' in 1.6 and will be removed in 1.8.\n",
      "  warnings.warn(\n",
      "/Users/harrisonma/opt/anaconda3/envs/ai_cellchat/lib/python3.11/site-packages/sklearn/utils/deprecation.py:151: FutureWarning: 'force_all_finite' was renamed to 'ensure_all_finite' in 1.6 and will be removed in 1.8.\n",
      "  warnings.warn(\n",
      "/Users/harrisonma/opt/anaconda3/envs/ai_cellchat/lib/python3.11/site-packages/sklearn/utils/deprecation.py:151: FutureWarning: 'force_all_finite' was renamed to 'ensure_all_finite' in 1.6 and will be removed in 1.8.\n",
      "  warnings.warn(\n",
      "/Users/harrisonma/opt/anaconda3/envs/ai_cellchat/lib/python3.11/site-packages/sklearn/utils/deprecation.py:151: FutureWarning: 'force_all_finite' was renamed to 'ensure_all_finite' in 1.6 and will be removed in 1.8.\n",
      "  warnings.warn(\n",
      "/Users/harrisonma/opt/anaconda3/envs/ai_cellchat/lib/python3.11/site-packages/umap/umap_.py:1952: UserWarning: n_jobs value 1 overridden to 1 by setting random_state. Use no seed for parallelism.\n",
      "  warn(\n",
      "/Users/harrisonma/opt/anaconda3/envs/ai_cellchat/lib/python3.11/site-packages/sklearn/utils/deprecation.py:151: FutureWarning: 'force_all_finite' was renamed to 'ensure_all_finite' in 1.6 and will be removed in 1.8.\n",
      "  warnings.warn(\n",
      "/Users/harrisonma/opt/anaconda3/envs/ai_cellchat/lib/python3.11/site-packages/umap/umap_.py:1952: UserWarning: n_jobs value 1 overridden to 1 by setting random_state. Use no seed for parallelism.\n",
      "  warn(\n",
      "/Users/harrisonma/opt/anaconda3/envs/ai_cellchat/lib/python3.11/site-packages/sklearn/utils/deprecation.py:151: FutureWarning: 'force_all_finite' was renamed to 'ensure_all_finite' in 1.6 and will be removed in 1.8.\n",
      "  warnings.warn(\n",
      "/Users/harrisonma/opt/anaconda3/envs/ai_cellchat/lib/python3.11/site-packages/sklearn/utils/deprecation.py:151: FutureWarning: 'force_all_finite' was renamed to 'ensure_all_finite' in 1.6 and will be removed in 1.8.\n",
      "  warnings.warn(\n",
      "/Users/harrisonma/opt/anaconda3/envs/ai_cellchat/lib/python3.11/site-packages/sklearn/utils/deprecation.py:151: FutureWarning: 'force_all_finite' was renamed to 'ensure_all_finite' in 1.6 and will be removed in 1.8.\n",
      "  warnings.warn(\n",
      "/Users/harrisonma/opt/anaconda3/envs/ai_cellchat/lib/python3.11/site-packages/umap/umap_.py:1952: UserWarning: n_jobs value 1 overridden to 1 by setting random_state. Use no seed for parallelism.\n",
      "  warn(\n",
      "/Users/harrisonma/opt/anaconda3/envs/ai_cellchat/lib/python3.11/site-packages/sklearn/utils/deprecation.py:151: FutureWarning: 'force_all_finite' was renamed to 'ensure_all_finite' in 1.6 and will be removed in 1.8.\n",
      "  warnings.warn(\n",
      "/Users/harrisonma/opt/anaconda3/envs/ai_cellchat/lib/python3.11/site-packages/umap/umap_.py:1952: UserWarning: n_jobs value 1 overridden to 1 by setting random_state. Use no seed for parallelism.\n",
      "  warn(\n",
      "/Users/harrisonma/opt/anaconda3/envs/ai_cellchat/lib/python3.11/site-packages/sklearn/utils/deprecation.py:151: FutureWarning: 'force_all_finite' was renamed to 'ensure_all_finite' in 1.6 and will be removed in 1.8.\n",
      "  warnings.warn(\n",
      "/Users/harrisonma/opt/anaconda3/envs/ai_cellchat/lib/python3.11/site-packages/umap/umap_.py:1952: UserWarning: n_jobs value 1 overridden to 1 by setting random_state. Use no seed for parallelism.\n",
      "  warn(\n",
      "/Users/harrisonma/opt/anaconda3/envs/ai_cellchat/lib/python3.11/site-packages/sklearn/utils/deprecation.py:151: FutureWarning: 'force_all_finite' was renamed to 'ensure_all_finite' in 1.6 and will be removed in 1.8.\n",
      "  warnings.warn(\n",
      "/Users/harrisonma/opt/anaconda3/envs/ai_cellchat/lib/python3.11/site-packages/umap/umap_.py:1952: UserWarning: n_jobs value 1 overridden to 1 by setting random_state. Use no seed for parallelism.\n",
      "  warn(\n",
      "/Users/harrisonma/opt/anaconda3/envs/ai_cellchat/lib/python3.11/site-packages/sklearn/utils/deprecation.py:151: FutureWarning: 'force_all_finite' was renamed to 'ensure_all_finite' in 1.6 and will be removed in 1.8.\n",
      "  warnings.warn(\n",
      "/Users/harrisonma/opt/anaconda3/envs/ai_cellchat/lib/python3.11/site-packages/umap/umap_.py:1952: UserWarning: n_jobs value 1 overridden to 1 by setting random_state. Use no seed for parallelism.\n",
      "  warn(\n",
      "/Users/harrisonma/opt/anaconda3/envs/ai_cellchat/lib/python3.11/site-packages/sklearn/utils/deprecation.py:151: FutureWarning: 'force_all_finite' was renamed to 'ensure_all_finite' in 1.6 and will be removed in 1.8.\n",
      "  warnings.warn(\n",
      "/Users/harrisonma/opt/anaconda3/envs/ai_cellchat/lib/python3.11/site-packages/umap/umap_.py:1952: UserWarning: n_jobs value 1 overridden to 1 by setting random_state. Use no seed for parallelism.\n",
      "  warn(\n",
      "/Users/harrisonma/opt/anaconda3/envs/ai_cellchat/lib/python3.11/site-packages/sklearn/utils/deprecation.py:151: FutureWarning: 'force_all_finite' was renamed to 'ensure_all_finite' in 1.6 and will be removed in 1.8.\n",
      "  warnings.warn(\n",
      "/Users/harrisonma/opt/anaconda3/envs/ai_cellchat/lib/python3.11/site-packages/sklearn/utils/deprecation.py:151: FutureWarning: 'force_all_finite' was renamed to 'ensure_all_finite' in 1.6 and will be removed in 1.8.\n",
      "  warnings.warn(\n",
      "/Users/harrisonma/opt/anaconda3/envs/ai_cellchat/lib/python3.11/site-packages/sklearn/utils/deprecation.py:151: FutureWarning: 'force_all_finite' was renamed to 'ensure_all_finite' in 1.6 and will be removed in 1.8.\n",
      "  warnings.warn(\n",
      "/Users/harrisonma/opt/anaconda3/envs/ai_cellchat/lib/python3.11/site-packages/sklearn/utils/deprecation.py:151: FutureWarning: 'force_all_finite' was renamed to 'ensure_all_finite' in 1.6 and will be removed in 1.8.\n",
      "  warnings.warn(\n",
      "/Users/harrisonma/opt/anaconda3/envs/ai_cellchat/lib/python3.11/site-packages/sklearn/utils/deprecation.py:151: FutureWarning: 'force_all_finite' was renamed to 'ensure_all_finite' in 1.6 and will be removed in 1.8.\n",
      "  warnings.warn(\n",
      "/Users/harrisonma/opt/anaconda3/envs/ai_cellchat/lib/python3.11/site-packages/umap/umap_.py:1952: UserWarning: n_jobs value 1 overridden to 1 by setting random_state. Use no seed for parallelism.\n",
      "  warn(\n",
      "/Users/harrisonma/opt/anaconda3/envs/ai_cellchat/lib/python3.11/site-packages/sklearn/utils/deprecation.py:151: FutureWarning: 'force_all_finite' was renamed to 'ensure_all_finite' in 1.6 and will be removed in 1.8.\n",
      "  warnings.warn(\n",
      "/Users/harrisonma/opt/anaconda3/envs/ai_cellchat/lib/python3.11/site-packages/sklearn/utils/deprecation.py:151: FutureWarning: 'force_all_finite' was renamed to 'ensure_all_finite' in 1.6 and will be removed in 1.8.\n",
      "  warnings.warn(\n",
      "/Users/harrisonma/opt/anaconda3/envs/ai_cellchat/lib/python3.11/site-packages/sklearn/utils/deprecation.py:151: FutureWarning: 'force_all_finite' was renamed to 'ensure_all_finite' in 1.6 and will be removed in 1.8.\n",
      "  warnings.warn(\n",
      "/Users/harrisonma/opt/anaconda3/envs/ai_cellchat/lib/python3.11/site-packages/sklearn/utils/deprecation.py:151: FutureWarning: 'force_all_finite' was renamed to 'ensure_all_finite' in 1.6 and will be removed in 1.8.\n",
      "  warnings.warn(\n",
      "/Users/harrisonma/opt/anaconda3/envs/ai_cellchat/lib/python3.11/site-packages/umap/umap_.py:1952: UserWarning: n_jobs value 1 overridden to 1 by setting random_state. Use no seed for parallelism.\n",
      "  warn(\n",
      "/Users/harrisonma/opt/anaconda3/envs/ai_cellchat/lib/python3.11/site-packages/sklearn/utils/deprecation.py:151: FutureWarning: 'force_all_finite' was renamed to 'ensure_all_finite' in 1.6 and will be removed in 1.8.\n",
      "  warnings.warn(\n",
      "/Users/harrisonma/opt/anaconda3/envs/ai_cellchat/lib/python3.11/site-packages/umap/umap_.py:1952: UserWarning: n_jobs value 1 overridden to 1 by setting random_state. Use no seed for parallelism.\n",
      "  warn(\n",
      "/Users/harrisonma/opt/anaconda3/envs/ai_cellchat/lib/python3.11/site-packages/sklearn/utils/deprecation.py:151: FutureWarning: 'force_all_finite' was renamed to 'ensure_all_finite' in 1.6 and will be removed in 1.8.\n",
      "  warnings.warn(\n",
      "/Users/harrisonma/opt/anaconda3/envs/ai_cellchat/lib/python3.11/site-packages/sklearn/utils/deprecation.py:151: FutureWarning: 'force_all_finite' was renamed to 'ensure_all_finite' in 1.6 and will be removed in 1.8.\n",
      "  warnings.warn(\n",
      "/Users/harrisonma/opt/anaconda3/envs/ai_cellchat/lib/python3.11/site-packages/umap/umap_.py:1952: UserWarning: n_jobs value 1 overridden to 1 by setting random_state. Use no seed for parallelism.\n",
      "  warn(\n",
      "/Users/harrisonma/opt/anaconda3/envs/ai_cellchat/lib/python3.11/site-packages/sklearn/utils/deprecation.py:151: FutureWarning: 'force_all_finite' was renamed to 'ensure_all_finite' in 1.6 and will be removed in 1.8.\n",
      "  warnings.warn(\n",
      "/Users/harrisonma/opt/anaconda3/envs/ai_cellchat/lib/python3.11/site-packages/umap/umap_.py:1952: UserWarning: n_jobs value 1 overridden to 1 by setting random_state. Use no seed for parallelism.\n",
      "  warn(\n",
      "/Users/harrisonma/opt/anaconda3/envs/ai_cellchat/lib/python3.11/site-packages/sklearn/utils/deprecation.py:151: FutureWarning: 'force_all_finite' was renamed to 'ensure_all_finite' in 1.6 and will be removed in 1.8.\n",
      "  warnings.warn(\n",
      "/Users/harrisonma/opt/anaconda3/envs/ai_cellchat/lib/python3.11/site-packages/umap/umap_.py:1952: UserWarning: n_jobs value 1 overridden to 1 by setting random_state. Use no seed for parallelism.\n",
      "  warn(\n",
      "/Users/harrisonma/opt/anaconda3/envs/ai_cellchat/lib/python3.11/site-packages/sklearn/utils/deprecation.py:151: FutureWarning: 'force_all_finite' was renamed to 'ensure_all_finite' in 1.6 and will be removed in 1.8.\n",
      "  warnings.warn(\n",
      "/Users/harrisonma/opt/anaconda3/envs/ai_cellchat/lib/python3.11/site-packages/umap/umap_.py:1952: UserWarning: n_jobs value 1 overridden to 1 by setting random_state. Use no seed for parallelism.\n",
      "  warn(\n",
      "/Users/harrisonma/opt/anaconda3/envs/ai_cellchat/lib/python3.11/site-packages/sklearn/utils/deprecation.py:151: FutureWarning: 'force_all_finite' was renamed to 'ensure_all_finite' in 1.6 and will be removed in 1.8.\n",
      "  warnings.warn(\n",
      "/Users/harrisonma/opt/anaconda3/envs/ai_cellchat/lib/python3.11/site-packages/sklearn/utils/deprecation.py:151: FutureWarning: 'force_all_finite' was renamed to 'ensure_all_finite' in 1.6 and will be removed in 1.8.\n",
      "  warnings.warn(\n",
      "/Users/harrisonma/opt/anaconda3/envs/ai_cellchat/lib/python3.11/site-packages/umap/umap_.py:1952: UserWarning: n_jobs value 1 overridden to 1 by setting random_state. Use no seed for parallelism.\n",
      "  warn(\n",
      "/Users/harrisonma/opt/anaconda3/envs/ai_cellchat/lib/python3.11/site-packages/sklearn/utils/deprecation.py:151: FutureWarning: 'force_all_finite' was renamed to 'ensure_all_finite' in 1.6 and will be removed in 1.8.\n",
      "  warnings.warn(\n",
      "/Users/harrisonma/opt/anaconda3/envs/ai_cellchat/lib/python3.11/site-packages/sklearn/utils/deprecation.py:151: FutureWarning: 'force_all_finite' was renamed to 'ensure_all_finite' in 1.6 and will be removed in 1.8.\n",
      "  warnings.warn(\n",
      "/Users/harrisonma/opt/anaconda3/envs/ai_cellchat/lib/python3.11/site-packages/sklearn/utils/deprecation.py:151: FutureWarning: 'force_all_finite' was renamed to 'ensure_all_finite' in 1.6 and will be removed in 1.8.\n",
      "  warnings.warn(\n",
      "/Users/harrisonma/opt/anaconda3/envs/ai_cellchat/lib/python3.11/site-packages/umap/umap_.py:1952: UserWarning: n_jobs value 1 overridden to 1 by setting random_state. Use no seed for parallelism.\n",
      "  warn(\n",
      "/Users/harrisonma/opt/anaconda3/envs/ai_cellchat/lib/python3.11/site-packages/sklearn/utils/deprecation.py:151: FutureWarning: 'force_all_finite' was renamed to 'ensure_all_finite' in 1.6 and will be removed in 1.8.\n",
      "  warnings.warn(\n",
      "/Users/harrisonma/opt/anaconda3/envs/ai_cellchat/lib/python3.11/site-packages/sklearn/utils/deprecation.py:151: FutureWarning: 'force_all_finite' was renamed to 'ensure_all_finite' in 1.6 and will be removed in 1.8.\n",
      "  warnings.warn(\n",
      "/Users/harrisonma/opt/anaconda3/envs/ai_cellchat/lib/python3.11/site-packages/sklearn/utils/deprecation.py:151: FutureWarning: 'force_all_finite' was renamed to 'ensure_all_finite' in 1.6 and will be removed in 1.8.\n",
      "  warnings.warn(\n",
      "/Users/harrisonma/opt/anaconda3/envs/ai_cellchat/lib/python3.11/site-packages/sklearn/utils/deprecation.py:151: FutureWarning: 'force_all_finite' was renamed to 'ensure_all_finite' in 1.6 and will be removed in 1.8.\n",
      "  warnings.warn(\n",
      "/Users/harrisonma/opt/anaconda3/envs/ai_cellchat/lib/python3.11/site-packages/sklearn/utils/deprecation.py:151: FutureWarning: 'force_all_finite' was renamed to 'ensure_all_finite' in 1.6 and will be removed in 1.8.\n",
      "  warnings.warn(\n",
      "/Users/harrisonma/opt/anaconda3/envs/ai_cellchat/lib/python3.11/site-packages/umap/umap_.py:1952: UserWarning: n_jobs value 1 overridden to 1 by setting random_state. Use no seed for parallelism.\n",
      "  warn(\n",
      "/Users/harrisonma/opt/anaconda3/envs/ai_cellchat/lib/python3.11/site-packages/sklearn/utils/deprecation.py:151: FutureWarning: 'force_all_finite' was renamed to 'ensure_all_finite' in 1.6 and will be removed in 1.8.\n",
      "  warnings.warn(\n",
      "/Users/harrisonma/opt/anaconda3/envs/ai_cellchat/lib/python3.11/site-packages/sklearn/utils/deprecation.py:151: FutureWarning: 'force_all_finite' was renamed to 'ensure_all_finite' in 1.6 and will be removed in 1.8.\n",
      "  warnings.warn(\n",
      "/Users/harrisonma/opt/anaconda3/envs/ai_cellchat/lib/python3.11/site-packages/umap/umap_.py:1952: UserWarning: n_jobs value 1 overridden to 1 by setting random_state. Use no seed for parallelism.\n",
      "  warn(\n",
      "/Users/harrisonma/opt/anaconda3/envs/ai_cellchat/lib/python3.11/site-packages/sklearn/utils/deprecation.py:151: FutureWarning: 'force_all_finite' was renamed to 'ensure_all_finite' in 1.6 and will be removed in 1.8.\n",
      "  warnings.warn(\n",
      "/Users/harrisonma/opt/anaconda3/envs/ai_cellchat/lib/python3.11/site-packages/umap/umap_.py:1952: UserWarning: n_jobs value 1 overridden to 1 by setting random_state. Use no seed for parallelism.\n",
      "  warn(\n",
      "/Users/harrisonma/opt/anaconda3/envs/ai_cellchat/lib/python3.11/site-packages/sklearn/utils/deprecation.py:151: FutureWarning: 'force_all_finite' was renamed to 'ensure_all_finite' in 1.6 and will be removed in 1.8.\n",
      "  warnings.warn(\n",
      "/Users/harrisonma/opt/anaconda3/envs/ai_cellchat/lib/python3.11/site-packages/umap/umap_.py:1952: UserWarning: n_jobs value 1 overridden to 1 by setting random_state. Use no seed for parallelism.\n",
      "  warn(\n",
      "/Users/harrisonma/opt/anaconda3/envs/ai_cellchat/lib/python3.11/site-packages/sklearn/utils/deprecation.py:151: FutureWarning: 'force_all_finite' was renamed to 'ensure_all_finite' in 1.6 and will be removed in 1.8.\n",
      "  warnings.warn(\n",
      "/Users/harrisonma/opt/anaconda3/envs/ai_cellchat/lib/python3.11/site-packages/umap/umap_.py:1952: UserWarning: n_jobs value 1 overridden to 1 by setting random_state. Use no seed for parallelism.\n",
      "  warn(\n",
      "/Users/harrisonma/opt/anaconda3/envs/ai_cellchat/lib/python3.11/site-packages/sklearn/utils/deprecation.py:151: FutureWarning: 'force_all_finite' was renamed to 'ensure_all_finite' in 1.6 and will be removed in 1.8.\n",
      "  warnings.warn(\n",
      "/Users/harrisonma/opt/anaconda3/envs/ai_cellchat/lib/python3.11/site-packages/umap/umap_.py:1952: UserWarning: n_jobs value 1 overridden to 1 by setting random_state. Use no seed for parallelism.\n",
      "  warn(\n",
      "/Users/harrisonma/opt/anaconda3/envs/ai_cellchat/lib/python3.11/site-packages/sklearn/utils/deprecation.py:151: FutureWarning: 'force_all_finite' was renamed to 'ensure_all_finite' in 1.6 and will be removed in 1.8.\n",
      "  warnings.warn(\n",
      "/Users/harrisonma/opt/anaconda3/envs/ai_cellchat/lib/python3.11/site-packages/sklearn/utils/deprecation.py:151: FutureWarning: 'force_all_finite' was renamed to 'ensure_all_finite' in 1.6 and will be removed in 1.8.\n",
      "  warnings.warn(\n",
      "/Users/harrisonma/opt/anaconda3/envs/ai_cellchat/lib/python3.11/site-packages/umap/umap_.py:1952: UserWarning: n_jobs value 1 overridden to 1 by setting random_state. Use no seed for parallelism.\n",
      "  warn(\n",
      "/Users/harrisonma/opt/anaconda3/envs/ai_cellchat/lib/python3.11/site-packages/sklearn/utils/deprecation.py:151: FutureWarning: 'force_all_finite' was renamed to 'ensure_all_finite' in 1.6 and will be removed in 1.8.\n",
      "  warnings.warn(\n",
      "/Users/harrisonma/opt/anaconda3/envs/ai_cellchat/lib/python3.11/site-packages/sklearn/utils/deprecation.py:151: FutureWarning: 'force_all_finite' was renamed to 'ensure_all_finite' in 1.6 and will be removed in 1.8.\n",
      "  warnings.warn(\n",
      "/Users/harrisonma/opt/anaconda3/envs/ai_cellchat/lib/python3.11/site-packages/umap/umap_.py:1952: UserWarning: n_jobs value 1 overridden to 1 by setting random_state. Use no seed for parallelism.\n",
      "  warn(\n",
      "/Users/harrisonma/opt/anaconda3/envs/ai_cellchat/lib/python3.11/site-packages/sklearn/utils/deprecation.py:151: FutureWarning: 'force_all_finite' was renamed to 'ensure_all_finite' in 1.6 and will be removed in 1.8.\n",
      "  warnings.warn(\n",
      "/Users/harrisonma/opt/anaconda3/envs/ai_cellchat/lib/python3.11/site-packages/sklearn/utils/deprecation.py:151: FutureWarning: 'force_all_finite' was renamed to 'ensure_all_finite' in 1.6 and will be removed in 1.8.\n",
      "  warnings.warn(\n",
      "/Users/harrisonma/opt/anaconda3/envs/ai_cellchat/lib/python3.11/site-packages/sklearn/utils/deprecation.py:151: FutureWarning: 'force_all_finite' was renamed to 'ensure_all_finite' in 1.6 and will be removed in 1.8.\n",
      "  warnings.warn(\n",
      "/Users/harrisonma/opt/anaconda3/envs/ai_cellchat/lib/python3.11/site-packages/sklearn/utils/deprecation.py:151: FutureWarning: 'force_all_finite' was renamed to 'ensure_all_finite' in 1.6 and will be removed in 1.8.\n",
      "  warnings.warn(\n",
      "/Users/harrisonma/opt/anaconda3/envs/ai_cellchat/lib/python3.11/site-packages/sklearn/utils/deprecation.py:151: FutureWarning: 'force_all_finite' was renamed to 'ensure_all_finite' in 1.6 and will be removed in 1.8.\n",
      "  warnings.warn(\n",
      "/Users/harrisonma/opt/anaconda3/envs/ai_cellchat/lib/python3.11/site-packages/umap/umap_.py:1952: UserWarning: n_jobs value 1 overridden to 1 by setting random_state. Use no seed for parallelism.\n",
      "  warn(\n",
      "/Users/harrisonma/opt/anaconda3/envs/ai_cellchat/lib/python3.11/site-packages/sklearn/utils/deprecation.py:151: FutureWarning: 'force_all_finite' was renamed to 'ensure_all_finite' in 1.6 and will be removed in 1.8.\n",
      "  warnings.warn(\n",
      "/Users/harrisonma/opt/anaconda3/envs/ai_cellchat/lib/python3.11/site-packages/sklearn/utils/deprecation.py:151: FutureWarning: 'force_all_finite' was renamed to 'ensure_all_finite' in 1.6 and will be removed in 1.8.\n",
      "  warnings.warn(\n",
      "/Users/harrisonma/opt/anaconda3/envs/ai_cellchat/lib/python3.11/site-packages/umap/umap_.py:1952: UserWarning: n_jobs value 1 overridden to 1 by setting random_state. Use no seed for parallelism.\n",
      "  warn(\n",
      "/Users/harrisonma/opt/anaconda3/envs/ai_cellchat/lib/python3.11/site-packages/sklearn/utils/deprecation.py:151: FutureWarning: 'force_all_finite' was renamed to 'ensure_all_finite' in 1.6 and will be removed in 1.8.\n",
      "  warnings.warn(\n",
      "/Users/harrisonma/opt/anaconda3/envs/ai_cellchat/lib/python3.11/site-packages/sklearn/utils/deprecation.py:151: FutureWarning: 'force_all_finite' was renamed to 'ensure_all_finite' in 1.6 and will be removed in 1.8.\n",
      "  warnings.warn(\n",
      "/Users/harrisonma/opt/anaconda3/envs/ai_cellchat/lib/python3.11/site-packages/umap/umap_.py:1952: UserWarning: n_jobs value 1 overridden to 1 by setting random_state. Use no seed for parallelism.\n",
      "  warn(\n",
      "/Users/harrisonma/opt/anaconda3/envs/ai_cellchat/lib/python3.11/site-packages/sklearn/utils/deprecation.py:151: FutureWarning: 'force_all_finite' was renamed to 'ensure_all_finite' in 1.6 and will be removed in 1.8.\n",
      "  warnings.warn(\n",
      "/Users/harrisonma/opt/anaconda3/envs/ai_cellchat/lib/python3.11/site-packages/umap/umap_.py:1952: UserWarning: n_jobs value 1 overridden to 1 by setting random_state. Use no seed for parallelism.\n",
      "  warn(\n",
      "/Users/harrisonma/opt/anaconda3/envs/ai_cellchat/lib/python3.11/site-packages/sklearn/utils/deprecation.py:151: FutureWarning: 'force_all_finite' was renamed to 'ensure_all_finite' in 1.6 and will be removed in 1.8.\n",
      "  warnings.warn(\n",
      "/Users/harrisonma/opt/anaconda3/envs/ai_cellchat/lib/python3.11/site-packages/umap/umap_.py:1952: UserWarning: n_jobs value 1 overridden to 1 by setting random_state. Use no seed for parallelism.\n",
      "  warn(\n",
      "/Users/harrisonma/opt/anaconda3/envs/ai_cellchat/lib/python3.11/site-packages/sklearn/utils/deprecation.py:151: FutureWarning: 'force_all_finite' was renamed to 'ensure_all_finite' in 1.6 and will be removed in 1.8.\n",
      "  warnings.warn(\n",
      "/Users/harrisonma/opt/anaconda3/envs/ai_cellchat/lib/python3.11/site-packages/umap/umap_.py:1952: UserWarning: n_jobs value 1 overridden to 1 by setting random_state. Use no seed for parallelism.\n",
      "  warn(\n",
      "/Users/harrisonma/opt/anaconda3/envs/ai_cellchat/lib/python3.11/site-packages/sklearn/utils/deprecation.py:151: FutureWarning: 'force_all_finite' was renamed to 'ensure_all_finite' in 1.6 and will be removed in 1.8.\n",
      "  warnings.warn(\n",
      "/Users/harrisonma/opt/anaconda3/envs/ai_cellchat/lib/python3.11/site-packages/sklearn/utils/deprecation.py:151: FutureWarning: 'force_all_finite' was renamed to 'ensure_all_finite' in 1.6 and will be removed in 1.8.\n",
      "  warnings.warn(\n",
      "/Users/harrisonma/opt/anaconda3/envs/ai_cellchat/lib/python3.11/site-packages/umap/umap_.py:1952: UserWarning: n_jobs value 1 overridden to 1 by setting random_state. Use no seed for parallelism.\n",
      "  warn(\n",
      "/Users/harrisonma/opt/anaconda3/envs/ai_cellchat/lib/python3.11/site-packages/sklearn/utils/deprecation.py:151: FutureWarning: 'force_all_finite' was renamed to 'ensure_all_finite' in 1.6 and will be removed in 1.8.\n",
      "  warnings.warn(\n",
      "/Users/harrisonma/opt/anaconda3/envs/ai_cellchat/lib/python3.11/site-packages/sklearn/utils/deprecation.py:151: FutureWarning: 'force_all_finite' was renamed to 'ensure_all_finite' in 1.6 and will be removed in 1.8.\n",
      "  warnings.warn(\n",
      "/Users/harrisonma/opt/anaconda3/envs/ai_cellchat/lib/python3.11/site-packages/umap/umap_.py:1952: UserWarning: n_jobs value 1 overridden to 1 by setting random_state. Use no seed for parallelism.\n",
      "  warn(\n",
      "/Users/harrisonma/opt/anaconda3/envs/ai_cellchat/lib/python3.11/site-packages/sklearn/utils/deprecation.py:151: FutureWarning: 'force_all_finite' was renamed to 'ensure_all_finite' in 1.6 and will be removed in 1.8.\n",
      "  warnings.warn(\n",
      "/Users/harrisonma/opt/anaconda3/envs/ai_cellchat/lib/python3.11/site-packages/sklearn/utils/deprecation.py:151: FutureWarning: 'force_all_finite' was renamed to 'ensure_all_finite' in 1.6 and will be removed in 1.8.\n",
      "  warnings.warn(\n",
      "/Users/harrisonma/opt/anaconda3/envs/ai_cellchat/lib/python3.11/site-packages/sklearn/utils/deprecation.py:151: FutureWarning: 'force_all_finite' was renamed to 'ensure_all_finite' in 1.6 and will be removed in 1.8.\n",
      "  warnings.warn(\n",
      "/Users/harrisonma/opt/anaconda3/envs/ai_cellchat/lib/python3.11/site-packages/sklearn/utils/deprecation.py:151: FutureWarning: 'force_all_finite' was renamed to 'ensure_all_finite' in 1.6 and will be removed in 1.8.\n",
      "  warnings.warn(\n",
      "/Users/harrisonma/opt/anaconda3/envs/ai_cellchat/lib/python3.11/site-packages/sklearn/utils/deprecation.py:151: FutureWarning: 'force_all_finite' was renamed to 'ensure_all_finite' in 1.6 and will be removed in 1.8.\n",
      "  warnings.warn(\n",
      "/Users/harrisonma/opt/anaconda3/envs/ai_cellchat/lib/python3.11/site-packages/sklearn/utils/deprecation.py:151: FutureWarning: 'force_all_finite' was renamed to 'ensure_all_finite' in 1.6 and will be removed in 1.8.\n",
      "  warnings.warn(\n",
      "/Users/harrisonma/opt/anaconda3/envs/ai_cellchat/lib/python3.11/site-packages/sklearn/utils/deprecation.py:151: FutureWarning: 'force_all_finite' was renamed to 'ensure_all_finite' in 1.6 and will be removed in 1.8.\n",
      "  warnings.warn(\n",
      "/Users/harrisonma/opt/anaconda3/envs/ai_cellchat/lib/python3.11/site-packages/umap/umap_.py:1952: UserWarning: n_jobs value 1 overridden to 1 by setting random_state. Use no seed for parallelism.\n",
      "  warn(\n",
      "/Users/harrisonma/opt/anaconda3/envs/ai_cellchat/lib/python3.11/site-packages/sklearn/utils/deprecation.py:151: FutureWarning: 'force_all_finite' was renamed to 'ensure_all_finite' in 1.6 and will be removed in 1.8.\n",
      "  warnings.warn(\n",
      "/Users/harrisonma/opt/anaconda3/envs/ai_cellchat/lib/python3.11/site-packages/umap/umap_.py:1952: UserWarning: n_jobs value 1 overridden to 1 by setting random_state. Use no seed for parallelism.\n",
      "  warn(\n",
      "/Users/harrisonma/opt/anaconda3/envs/ai_cellchat/lib/python3.11/site-packages/sklearn/utils/deprecation.py:151: FutureWarning: 'force_all_finite' was renamed to 'ensure_all_finite' in 1.6 and will be removed in 1.8.\n",
      "  warnings.warn(\n",
      "/Users/harrisonma/opt/anaconda3/envs/ai_cellchat/lib/python3.11/site-packages/umap/umap_.py:1952: UserWarning: n_jobs value 1 overridden to 1 by setting random_state. Use no seed for parallelism.\n",
      "  warn(\n",
      "/Users/harrisonma/opt/anaconda3/envs/ai_cellchat/lib/python3.11/site-packages/sklearn/utils/deprecation.py:151: FutureWarning: 'force_all_finite' was renamed to 'ensure_all_finite' in 1.6 and will be removed in 1.8.\n",
      "  warnings.warn(\n",
      "/Users/harrisonma/opt/anaconda3/envs/ai_cellchat/lib/python3.11/site-packages/umap/umap_.py:1952: UserWarning: n_jobs value 1 overridden to 1 by setting random_state. Use no seed for parallelism.\n",
      "  warn(\n",
      "/Users/harrisonma/opt/anaconda3/envs/ai_cellchat/lib/python3.11/site-packages/sklearn/utils/deprecation.py:151: FutureWarning: 'force_all_finite' was renamed to 'ensure_all_finite' in 1.6 and will be removed in 1.8.\n",
      "  warnings.warn(\n",
      "/Users/harrisonma/opt/anaconda3/envs/ai_cellchat/lib/python3.11/site-packages/sklearn/utils/deprecation.py:151: FutureWarning: 'force_all_finite' was renamed to 'ensure_all_finite' in 1.6 and will be removed in 1.8.\n",
      "  warnings.warn(\n",
      "/Users/harrisonma/opt/anaconda3/envs/ai_cellchat/lib/python3.11/site-packages/umap/umap_.py:1952: UserWarning: n_jobs value 1 overridden to 1 by setting random_state. Use no seed for parallelism.\n",
      "  warn(\n",
      "/Users/harrisonma/opt/anaconda3/envs/ai_cellchat/lib/python3.11/site-packages/sklearn/utils/deprecation.py:151: FutureWarning: 'force_all_finite' was renamed to 'ensure_all_finite' in 1.6 and will be removed in 1.8.\n",
      "  warnings.warn(\n",
      "/Users/harrisonma/opt/anaconda3/envs/ai_cellchat/lib/python3.11/site-packages/umap/umap_.py:1952: UserWarning: n_jobs value 1 overridden to 1 by setting random_state. Use no seed for parallelism.\n",
      "  warn(\n",
      "/Users/harrisonma/opt/anaconda3/envs/ai_cellchat/lib/python3.11/site-packages/sklearn/utils/deprecation.py:151: FutureWarning: 'force_all_finite' was renamed to 'ensure_all_finite' in 1.6 and will be removed in 1.8.\n",
      "  warnings.warn(\n",
      "/Users/harrisonma/opt/anaconda3/envs/ai_cellchat/lib/python3.11/site-packages/umap/umap_.py:1952: UserWarning: n_jobs value 1 overridden to 1 by setting random_state. Use no seed for parallelism.\n",
      "  warn(\n",
      "/Users/harrisonma/opt/anaconda3/envs/ai_cellchat/lib/python3.11/site-packages/sklearn/utils/deprecation.py:151: FutureWarning: 'force_all_finite' was renamed to 'ensure_all_finite' in 1.6 and will be removed in 1.8.\n",
      "  warnings.warn(\n",
      "/Users/harrisonma/opt/anaconda3/envs/ai_cellchat/lib/python3.11/site-packages/sklearn/utils/deprecation.py:151: FutureWarning: 'force_all_finite' was renamed to 'ensure_all_finite' in 1.6 and will be removed in 1.8.\n",
      "  warnings.warn(\n",
      "/Users/harrisonma/opt/anaconda3/envs/ai_cellchat/lib/python3.11/site-packages/umap/umap_.py:1952: UserWarning: n_jobs value 1 overridden to 1 by setting random_state. Use no seed for parallelism.\n",
      "  warn(\n",
      "/Users/harrisonma/opt/anaconda3/envs/ai_cellchat/lib/python3.11/site-packages/sklearn/utils/deprecation.py:151: FutureWarning: 'force_all_finite' was renamed to 'ensure_all_finite' in 1.6 and will be removed in 1.8.\n",
      "  warnings.warn(\n",
      "/Users/harrisonma/opt/anaconda3/envs/ai_cellchat/lib/python3.11/site-packages/sklearn/utils/deprecation.py:151: FutureWarning: 'force_all_finite' was renamed to 'ensure_all_finite' in 1.6 and will be removed in 1.8.\n",
      "  warnings.warn(\n",
      "/Users/harrisonma/opt/anaconda3/envs/ai_cellchat/lib/python3.11/site-packages/sklearn/utils/deprecation.py:151: FutureWarning: 'force_all_finite' was renamed to 'ensure_all_finite' in 1.6 and will be removed in 1.8.\n",
      "  warnings.warn(\n",
      "/Users/harrisonma/opt/anaconda3/envs/ai_cellchat/lib/python3.11/site-packages/sklearn/utils/deprecation.py:151: FutureWarning: 'force_all_finite' was renamed to 'ensure_all_finite' in 1.6 and will be removed in 1.8.\n",
      "  warnings.warn(\n",
      "/Users/harrisonma/opt/anaconda3/envs/ai_cellchat/lib/python3.11/site-packages/sklearn/utils/deprecation.py:151: FutureWarning: 'force_all_finite' was renamed to 'ensure_all_finite' in 1.6 and will be removed in 1.8.\n",
      "  warnings.warn(\n",
      "/Users/harrisonma/opt/anaconda3/envs/ai_cellchat/lib/python3.11/site-packages/umap/umap_.py:1952: UserWarning: n_jobs value 1 overridden to 1 by setting random_state. Use no seed for parallelism.\n",
      "  warn(\n",
      "/Users/harrisonma/opt/anaconda3/envs/ai_cellchat/lib/python3.11/site-packages/sklearn/utils/deprecation.py:151: FutureWarning: 'force_all_finite' was renamed to 'ensure_all_finite' in 1.6 and will be removed in 1.8.\n",
      "  warnings.warn(\n",
      "/Users/harrisonma/opt/anaconda3/envs/ai_cellchat/lib/python3.11/site-packages/sklearn/utils/deprecation.py:151: FutureWarning: 'force_all_finite' was renamed to 'ensure_all_finite' in 1.6 and will be removed in 1.8.\n",
      "  warnings.warn(\n",
      "/Users/harrisonma/opt/anaconda3/envs/ai_cellchat/lib/python3.11/site-packages/umap/umap_.py:1952: UserWarning: n_jobs value 1 overridden to 1 by setting random_state. Use no seed for parallelism.\n",
      "  warn(\n",
      "/Users/harrisonma/opt/anaconda3/envs/ai_cellchat/lib/python3.11/site-packages/sklearn/utils/deprecation.py:151: FutureWarning: 'force_all_finite' was renamed to 'ensure_all_finite' in 1.6 and will be removed in 1.8.\n",
      "  warnings.warn(\n",
      "/Users/harrisonma/opt/anaconda3/envs/ai_cellchat/lib/python3.11/site-packages/sklearn/utils/deprecation.py:151: FutureWarning: 'force_all_finite' was renamed to 'ensure_all_finite' in 1.6 and will be removed in 1.8.\n",
      "  warnings.warn(\n",
      "/Users/harrisonma/opt/anaconda3/envs/ai_cellchat/lib/python3.11/site-packages/umap/umap_.py:1952: UserWarning: n_jobs value 1 overridden to 1 by setting random_state. Use no seed for parallelism.\n",
      "  warn(\n",
      "/Users/harrisonma/opt/anaconda3/envs/ai_cellchat/lib/python3.11/site-packages/sklearn/utils/deprecation.py:151: FutureWarning: 'force_all_finite' was renamed to 'ensure_all_finite' in 1.6 and will be removed in 1.8.\n",
      "  warnings.warn(\n",
      "/Users/harrisonma/opt/anaconda3/envs/ai_cellchat/lib/python3.11/site-packages/umap/umap_.py:1952: UserWarning: n_jobs value 1 overridden to 1 by setting random_state. Use no seed for parallelism.\n",
      "  warn(\n",
      "/Users/harrisonma/opt/anaconda3/envs/ai_cellchat/lib/python3.11/site-packages/sklearn/utils/deprecation.py:151: FutureWarning: 'force_all_finite' was renamed to 'ensure_all_finite' in 1.6 and will be removed in 1.8.\n",
      "  warnings.warn(\n",
      "/Users/harrisonma/opt/anaconda3/envs/ai_cellchat/lib/python3.11/site-packages/umap/umap_.py:1952: UserWarning: n_jobs value 1 overridden to 1 by setting random_state. Use no seed for parallelism.\n",
      "  warn(\n",
      "/Users/harrisonma/opt/anaconda3/envs/ai_cellchat/lib/python3.11/site-packages/sklearn/utils/deprecation.py:151: FutureWarning: 'force_all_finite' was renamed to 'ensure_all_finite' in 1.6 and will be removed in 1.8.\n",
      "  warnings.warn(\n",
      "/Users/harrisonma/opt/anaconda3/envs/ai_cellchat/lib/python3.11/site-packages/umap/umap_.py:1952: UserWarning: n_jobs value 1 overridden to 1 by setting random_state. Use no seed for parallelism.\n",
      "  warn(\n",
      "/Users/harrisonma/opt/anaconda3/envs/ai_cellchat/lib/python3.11/site-packages/sklearn/utils/deprecation.py:151: FutureWarning: 'force_all_finite' was renamed to 'ensure_all_finite' in 1.6 and will be removed in 1.8.\n",
      "  warnings.warn(\n",
      "/Users/harrisonma/opt/anaconda3/envs/ai_cellchat/lib/python3.11/site-packages/sklearn/utils/deprecation.py:151: FutureWarning: 'force_all_finite' was renamed to 'ensure_all_finite' in 1.6 and will be removed in 1.8.\n",
      "  warnings.warn(\n",
      "/Users/harrisonma/opt/anaconda3/envs/ai_cellchat/lib/python3.11/site-packages/umap/umap_.py:1952: UserWarning: n_jobs value 1 overridden to 1 by setting random_state. Use no seed for parallelism.\n",
      "  warn(\n",
      "/Users/harrisonma/opt/anaconda3/envs/ai_cellchat/lib/python3.11/site-packages/sklearn/utils/deprecation.py:151: FutureWarning: 'force_all_finite' was renamed to 'ensure_all_finite' in 1.6 and will be removed in 1.8.\n",
      "  warnings.warn(\n",
      "/Users/harrisonma/opt/anaconda3/envs/ai_cellchat/lib/python3.11/site-packages/sklearn/utils/deprecation.py:151: FutureWarning: 'force_all_finite' was renamed to 'ensure_all_finite' in 1.6 and will be removed in 1.8.\n",
      "  warnings.warn(\n",
      "/Users/harrisonma/opt/anaconda3/envs/ai_cellchat/lib/python3.11/site-packages/sklearn/utils/deprecation.py:151: FutureWarning: 'force_all_finite' was renamed to 'ensure_all_finite' in 1.6 and will be removed in 1.8.\n",
      "  warnings.warn(\n",
      "/Users/harrisonma/opt/anaconda3/envs/ai_cellchat/lib/python3.11/site-packages/sklearn/utils/deprecation.py:151: FutureWarning: 'force_all_finite' was renamed to 'ensure_all_finite' in 1.6 and will be removed in 1.8.\n",
      "  warnings.warn(\n",
      "/Users/harrisonma/opt/anaconda3/envs/ai_cellchat/lib/python3.11/site-packages/umap/umap_.py:1952: UserWarning: n_jobs value 1 overridden to 1 by setting random_state. Use no seed for parallelism.\n",
      "  warn(\n",
      "/Users/harrisonma/opt/anaconda3/envs/ai_cellchat/lib/python3.11/site-packages/sklearn/utils/deprecation.py:151: FutureWarning: 'force_all_finite' was renamed to 'ensure_all_finite' in 1.6 and will be removed in 1.8.\n",
      "  warnings.warn(\n",
      "/Users/harrisonma/opt/anaconda3/envs/ai_cellchat/lib/python3.11/site-packages/sklearn/utils/deprecation.py:151: FutureWarning: 'force_all_finite' was renamed to 'ensure_all_finite' in 1.6 and will be removed in 1.8.\n",
      "  warnings.warn(\n",
      "/Users/harrisonma/opt/anaconda3/envs/ai_cellchat/lib/python3.11/site-packages/sklearn/utils/deprecation.py:151: FutureWarning: 'force_all_finite' was renamed to 'ensure_all_finite' in 1.6 and will be removed in 1.8.\n",
      "  warnings.warn(\n",
      "/Users/harrisonma/opt/anaconda3/envs/ai_cellchat/lib/python3.11/site-packages/umap/umap_.py:1952: UserWarning: n_jobs value 1 overridden to 1 by setting random_state. Use no seed for parallelism.\n",
      "  warn(\n",
      "/Users/harrisonma/opt/anaconda3/envs/ai_cellchat/lib/python3.11/site-packages/sklearn/utils/deprecation.py:151: FutureWarning: 'force_all_finite' was renamed to 'ensure_all_finite' in 1.6 and will be removed in 1.8.\n",
      "  warnings.warn(\n",
      "/Users/harrisonma/opt/anaconda3/envs/ai_cellchat/lib/python3.11/site-packages/umap/umap_.py:1952: UserWarning: n_jobs value 1 overridden to 1 by setting random_state. Use no seed for parallelism.\n",
      "  warn(\n",
      "/Users/harrisonma/opt/anaconda3/envs/ai_cellchat/lib/python3.11/site-packages/sklearn/utils/deprecation.py:151: FutureWarning: 'force_all_finite' was renamed to 'ensure_all_finite' in 1.6 and will be removed in 1.8.\n",
      "  warnings.warn(\n",
      "/Users/harrisonma/opt/anaconda3/envs/ai_cellchat/lib/python3.11/site-packages/sklearn/utils/deprecation.py:151: FutureWarning: 'force_all_finite' was renamed to 'ensure_all_finite' in 1.6 and will be removed in 1.8.\n",
      "  warnings.warn(\n",
      "/Users/harrisonma/opt/anaconda3/envs/ai_cellchat/lib/python3.11/site-packages/umap/umap_.py:1952: UserWarning: n_jobs value 1 overridden to 1 by setting random_state. Use no seed for parallelism.\n",
      "  warn(\n",
      "/Users/harrisonma/opt/anaconda3/envs/ai_cellchat/lib/python3.11/site-packages/sklearn/utils/deprecation.py:151: FutureWarning: 'force_all_finite' was renamed to 'ensure_all_finite' in 1.6 and will be removed in 1.8.\n",
      "  warnings.warn(\n",
      "/Users/harrisonma/opt/anaconda3/envs/ai_cellchat/lib/python3.11/site-packages/sklearn/utils/deprecation.py:151: FutureWarning: 'force_all_finite' was renamed to 'ensure_all_finite' in 1.6 and will be removed in 1.8.\n",
      "  warnings.warn(\n",
      "/Users/harrisonma/opt/anaconda3/envs/ai_cellchat/lib/python3.11/site-packages/umap/umap_.py:1952: UserWarning: n_jobs value 1 overridden to 1 by setting random_state. Use no seed for parallelism.\n",
      "  warn(\n",
      "/Users/harrisonma/opt/anaconda3/envs/ai_cellchat/lib/python3.11/site-packages/sklearn/utils/deprecation.py:151: FutureWarning: 'force_all_finite' was renamed to 'ensure_all_finite' in 1.6 and will be removed in 1.8.\n",
      "  warnings.warn(\n",
      "/Users/harrisonma/opt/anaconda3/envs/ai_cellchat/lib/python3.11/site-packages/umap/umap_.py:1952: UserWarning: n_jobs value 1 overridden to 1 by setting random_state. Use no seed for parallelism.\n",
      "  warn(\n",
      "/Users/harrisonma/opt/anaconda3/envs/ai_cellchat/lib/python3.11/site-packages/sklearn/utils/deprecation.py:151: FutureWarning: 'force_all_finite' was renamed to 'ensure_all_finite' in 1.6 and will be removed in 1.8.\n",
      "  warnings.warn(\n",
      "/Users/harrisonma/opt/anaconda3/envs/ai_cellchat/lib/python3.11/site-packages/sklearn/utils/deprecation.py:151: FutureWarning: 'force_all_finite' was renamed to 'ensure_all_finite' in 1.6 and will be removed in 1.8.\n",
      "  warnings.warn(\n",
      "/Users/harrisonma/opt/anaconda3/envs/ai_cellchat/lib/python3.11/site-packages/umap/umap_.py:1952: UserWarning: n_jobs value 1 overridden to 1 by setting random_state. Use no seed for parallelism.\n",
      "  warn(\n",
      "/Users/harrisonma/opt/anaconda3/envs/ai_cellchat/lib/python3.11/site-packages/sklearn/utils/deprecation.py:151: FutureWarning: 'force_all_finite' was renamed to 'ensure_all_finite' in 1.6 and will be removed in 1.8.\n",
      "  warnings.warn(\n",
      "/Users/harrisonma/opt/anaconda3/envs/ai_cellchat/lib/python3.11/site-packages/umap/umap_.py:1952: UserWarning: n_jobs value 1 overridden to 1 by setting random_state. Use no seed for parallelism.\n",
      "  warn(\n",
      "/Users/harrisonma/opt/anaconda3/envs/ai_cellchat/lib/python3.11/site-packages/sklearn/utils/deprecation.py:151: FutureWarning: 'force_all_finite' was renamed to 'ensure_all_finite' in 1.6 and will be removed in 1.8.\n",
      "  warnings.warn(\n",
      "/Users/harrisonma/opt/anaconda3/envs/ai_cellchat/lib/python3.11/site-packages/umap/umap_.py:1952: UserWarning: n_jobs value 1 overridden to 1 by setting random_state. Use no seed for parallelism.\n",
      "  warn(\n",
      "/Users/harrisonma/opt/anaconda3/envs/ai_cellchat/lib/python3.11/site-packages/sklearn/utils/deprecation.py:151: FutureWarning: 'force_all_finite' was renamed to 'ensure_all_finite' in 1.6 and will be removed in 1.8.\n",
      "  warnings.warn(\n",
      "/Users/harrisonma/opt/anaconda3/envs/ai_cellchat/lib/python3.11/site-packages/sklearn/utils/deprecation.py:151: FutureWarning: 'force_all_finite' was renamed to 'ensure_all_finite' in 1.6 and will be removed in 1.8.\n",
      "  warnings.warn(\n",
      "/Users/harrisonma/opt/anaconda3/envs/ai_cellchat/lib/python3.11/site-packages/sklearn/utils/deprecation.py:151: FutureWarning: 'force_all_finite' was renamed to 'ensure_all_finite' in 1.6 and will be removed in 1.8.\n",
      "  warnings.warn(\n",
      "/Users/harrisonma/opt/anaconda3/envs/ai_cellchat/lib/python3.11/site-packages/sklearn/utils/deprecation.py:151: FutureWarning: 'force_all_finite' was renamed to 'ensure_all_finite' in 1.6 and will be removed in 1.8.\n",
      "  warnings.warn(\n",
      "/Users/harrisonma/opt/anaconda3/envs/ai_cellchat/lib/python3.11/site-packages/sklearn/utils/deprecation.py:151: FutureWarning: 'force_all_finite' was renamed to 'ensure_all_finite' in 1.6 and will be removed in 1.8.\n",
      "  warnings.warn(\n",
      "/Users/harrisonma/opt/anaconda3/envs/ai_cellchat/lib/python3.11/site-packages/sklearn/utils/deprecation.py:151: FutureWarning: 'force_all_finite' was renamed to 'ensure_all_finite' in 1.6 and will be removed in 1.8.\n",
      "  warnings.warn(\n",
      "/Users/harrisonma/opt/anaconda3/envs/ai_cellchat/lib/python3.11/site-packages/umap/umap_.py:1952: UserWarning: n_jobs value 1 overridden to 1 by setting random_state. Use no seed for parallelism.\n",
      "  warn(\n",
      "/Users/harrisonma/opt/anaconda3/envs/ai_cellchat/lib/python3.11/site-packages/sklearn/utils/deprecation.py:151: FutureWarning: 'force_all_finite' was renamed to 'ensure_all_finite' in 1.6 and will be removed in 1.8.\n",
      "  warnings.warn(\n",
      "/Users/harrisonma/opt/anaconda3/envs/ai_cellchat/lib/python3.11/site-packages/umap/umap_.py:1952: UserWarning: n_jobs value 1 overridden to 1 by setting random_state. Use no seed for parallelism.\n",
      "  warn(\n",
      "/Users/harrisonma/opt/anaconda3/envs/ai_cellchat/lib/python3.11/site-packages/sklearn/utils/deprecation.py:151: FutureWarning: 'force_all_finite' was renamed to 'ensure_all_finite' in 1.6 and will be removed in 1.8.\n",
      "  warnings.warn(\n",
      "/Users/harrisonma/opt/anaconda3/envs/ai_cellchat/lib/python3.11/site-packages/umap/umap_.py:1952: UserWarning: n_jobs value 1 overridden to 1 by setting random_state. Use no seed for parallelism.\n",
      "  warn(\n",
      "/Users/harrisonma/opt/anaconda3/envs/ai_cellchat/lib/python3.11/site-packages/sklearn/utils/deprecation.py:151: FutureWarning: 'force_all_finite' was renamed to 'ensure_all_finite' in 1.6 and will be removed in 1.8.\n",
      "  warnings.warn(\n",
      "/Users/harrisonma/opt/anaconda3/envs/ai_cellchat/lib/python3.11/site-packages/sklearn/utils/deprecation.py:151: FutureWarning: 'force_all_finite' was renamed to 'ensure_all_finite' in 1.6 and will be removed in 1.8.\n",
      "  warnings.warn(\n",
      "/Users/harrisonma/opt/anaconda3/envs/ai_cellchat/lib/python3.11/site-packages/umap/umap_.py:1952: UserWarning: n_jobs value 1 overridden to 1 by setting random_state. Use no seed for parallelism.\n",
      "  warn(\n",
      "/Users/harrisonma/opt/anaconda3/envs/ai_cellchat/lib/python3.11/site-packages/sklearn/utils/deprecation.py:151: FutureWarning: 'force_all_finite' was renamed to 'ensure_all_finite' in 1.6 and will be removed in 1.8.\n",
      "  warnings.warn(\n",
      "/Users/harrisonma/opt/anaconda3/envs/ai_cellchat/lib/python3.11/site-packages/sklearn/utils/deprecation.py:151: FutureWarning: 'force_all_finite' was renamed to 'ensure_all_finite' in 1.6 and will be removed in 1.8.\n",
      "  warnings.warn(\n",
      "/Users/harrisonma/opt/anaconda3/envs/ai_cellchat/lib/python3.11/site-packages/sklearn/utils/deprecation.py:151: FutureWarning: 'force_all_finite' was renamed to 'ensure_all_finite' in 1.6 and will be removed in 1.8.\n",
      "  warnings.warn(\n",
      "/Users/harrisonma/opt/anaconda3/envs/ai_cellchat/lib/python3.11/site-packages/umap/umap_.py:1952: UserWarning: n_jobs value 1 overridden to 1 by setting random_state. Use no seed for parallelism.\n",
      "  warn(\n",
      "/Users/harrisonma/opt/anaconda3/envs/ai_cellchat/lib/python3.11/site-packages/sklearn/utils/deprecation.py:151: FutureWarning: 'force_all_finite' was renamed to 'ensure_all_finite' in 1.6 and will be removed in 1.8.\n",
      "  warnings.warn(\n",
      "/Users/harrisonma/opt/anaconda3/envs/ai_cellchat/lib/python3.11/site-packages/umap/umap_.py:1952: UserWarning: n_jobs value 1 overridden to 1 by setting random_state. Use no seed for parallelism.\n",
      "  warn(\n",
      "/Users/harrisonma/opt/anaconda3/envs/ai_cellchat/lib/python3.11/site-packages/sklearn/utils/deprecation.py:151: FutureWarning: 'force_all_finite' was renamed to 'ensure_all_finite' in 1.6 and will be removed in 1.8.\n",
      "  warnings.warn(\n",
      "/Users/harrisonma/opt/anaconda3/envs/ai_cellchat/lib/python3.11/site-packages/umap/umap_.py:1952: UserWarning: n_jobs value 1 overridden to 1 by setting random_state. Use no seed for parallelism.\n",
      "  warn(\n",
      "/Users/harrisonma/opt/anaconda3/envs/ai_cellchat/lib/python3.11/site-packages/sklearn/utils/deprecation.py:151: FutureWarning: 'force_all_finite' was renamed to 'ensure_all_finite' in 1.6 and will be removed in 1.8.\n",
      "  warnings.warn(\n",
      "/Users/harrisonma/opt/anaconda3/envs/ai_cellchat/lib/python3.11/site-packages/sklearn/utils/deprecation.py:151: FutureWarning: 'force_all_finite' was renamed to 'ensure_all_finite' in 1.6 and will be removed in 1.8.\n",
      "  warnings.warn(\n",
      "/Users/harrisonma/opt/anaconda3/envs/ai_cellchat/lib/python3.11/site-packages/sklearn/utils/deprecation.py:151: FutureWarning: 'force_all_finite' was renamed to 'ensure_all_finite' in 1.6 and will be removed in 1.8.\n",
      "  warnings.warn(\n",
      "/Users/harrisonma/opt/anaconda3/envs/ai_cellchat/lib/python3.11/site-packages/sklearn/utils/deprecation.py:151: FutureWarning: 'force_all_finite' was renamed to 'ensure_all_finite' in 1.6 and will be removed in 1.8.\n",
      "  warnings.warn(\n",
      "/Users/harrisonma/opt/anaconda3/envs/ai_cellchat/lib/python3.11/site-packages/umap/umap_.py:1952: UserWarning: n_jobs value 1 overridden to 1 by setting random_state. Use no seed for parallelism.\n",
      "  warn(\n",
      "/Users/harrisonma/opt/anaconda3/envs/ai_cellchat/lib/python3.11/site-packages/sklearn/utils/deprecation.py:151: FutureWarning: 'force_all_finite' was renamed to 'ensure_all_finite' in 1.6 and will be removed in 1.8.\n",
      "  warnings.warn(\n",
      "/Users/harrisonma/opt/anaconda3/envs/ai_cellchat/lib/python3.11/site-packages/sklearn/utils/deprecation.py:151: FutureWarning: 'force_all_finite' was renamed to 'ensure_all_finite' in 1.6 and will be removed in 1.8.\n",
      "  warnings.warn(\n",
      "/Users/harrisonma/opt/anaconda3/envs/ai_cellchat/lib/python3.11/site-packages/sklearn/utils/deprecation.py:151: FutureWarning: 'force_all_finite' was renamed to 'ensure_all_finite' in 1.6 and will be removed in 1.8.\n",
      "  warnings.warn(\n",
      "/Users/harrisonma/opt/anaconda3/envs/ai_cellchat/lib/python3.11/site-packages/umap/umap_.py:1952: UserWarning: n_jobs value 1 overridden to 1 by setting random_state. Use no seed for parallelism.\n",
      "  warn(\n",
      "/Users/harrisonma/opt/anaconda3/envs/ai_cellchat/lib/python3.11/site-packages/sklearn/utils/deprecation.py:151: FutureWarning: 'force_all_finite' was renamed to 'ensure_all_finite' in 1.6 and will be removed in 1.8.\n",
      "  warnings.warn(\n",
      "/Users/harrisonma/opt/anaconda3/envs/ai_cellchat/lib/python3.11/site-packages/umap/umap_.py:1952: UserWarning: n_jobs value 1 overridden to 1 by setting random_state. Use no seed for parallelism.\n",
      "  warn(\n",
      "/Users/harrisonma/opt/anaconda3/envs/ai_cellchat/lib/python3.11/site-packages/sklearn/utils/deprecation.py:151: FutureWarning: 'force_all_finite' was renamed to 'ensure_all_finite' in 1.6 and will be removed in 1.8.\n",
      "  warnings.warn(\n",
      "/Users/harrisonma/opt/anaconda3/envs/ai_cellchat/lib/python3.11/site-packages/sklearn/utils/deprecation.py:151: FutureWarning: 'force_all_finite' was renamed to 'ensure_all_finite' in 1.6 and will be removed in 1.8.\n",
      "  warnings.warn(\n",
      "/Users/harrisonma/opt/anaconda3/envs/ai_cellchat/lib/python3.11/site-packages/umap/umap_.py:1952: UserWarning: n_jobs value 1 overridden to 1 by setting random_state. Use no seed for parallelism.\n",
      "  warn(\n",
      "/Users/harrisonma/opt/anaconda3/envs/ai_cellchat/lib/python3.11/site-packages/sklearn/utils/deprecation.py:151: FutureWarning: 'force_all_finite' was renamed to 'ensure_all_finite' in 1.6 and will be removed in 1.8.\n",
      "  warnings.warn(\n",
      "/Users/harrisonma/opt/anaconda3/envs/ai_cellchat/lib/python3.11/site-packages/sklearn/utils/deprecation.py:151: FutureWarning: 'force_all_finite' was renamed to 'ensure_all_finite' in 1.6 and will be removed in 1.8.\n",
      "  warnings.warn(\n",
      "/Users/harrisonma/opt/anaconda3/envs/ai_cellchat/lib/python3.11/site-packages/umap/umap_.py:1952: UserWarning: n_jobs value 1 overridden to 1 by setting random_state. Use no seed for parallelism.\n",
      "  warn(\n",
      "/Users/harrisonma/opt/anaconda3/envs/ai_cellchat/lib/python3.11/site-packages/sklearn/utils/deprecation.py:151: FutureWarning: 'force_all_finite' was renamed to 'ensure_all_finite' in 1.6 and will be removed in 1.8.\n",
      "  warnings.warn(\n",
      "/Users/harrisonma/opt/anaconda3/envs/ai_cellchat/lib/python3.11/site-packages/umap/umap_.py:1952: UserWarning: n_jobs value 1 overridden to 1 by setting random_state. Use no seed for parallelism.\n",
      "  warn(\n",
      "/Users/harrisonma/opt/anaconda3/envs/ai_cellchat/lib/python3.11/site-packages/sklearn/utils/deprecation.py:151: FutureWarning: 'force_all_finite' was renamed to 'ensure_all_finite' in 1.6 and will be removed in 1.8.\n",
      "  warnings.warn(\n",
      "/Users/harrisonma/opt/anaconda3/envs/ai_cellchat/lib/python3.11/site-packages/umap/umap_.py:1952: UserWarning: n_jobs value 1 overridden to 1 by setting random_state. Use no seed for parallelism.\n",
      "  warn(\n",
      "/Users/harrisonma/opt/anaconda3/envs/ai_cellchat/lib/python3.11/site-packages/sklearn/utils/deprecation.py:151: FutureWarning: 'force_all_finite' was renamed to 'ensure_all_finite' in 1.6 and will be removed in 1.8.\n",
      "  warnings.warn(\n",
      "/Users/harrisonma/opt/anaconda3/envs/ai_cellchat/lib/python3.11/site-packages/sklearn/utils/deprecation.py:151: FutureWarning: 'force_all_finite' was renamed to 'ensure_all_finite' in 1.6 and will be removed in 1.8.\n",
      "  warnings.warn(\n",
      "/Users/harrisonma/opt/anaconda3/envs/ai_cellchat/lib/python3.11/site-packages/umap/umap_.py:1952: UserWarning: n_jobs value 1 overridden to 1 by setting random_state. Use no seed for parallelism.\n",
      "  warn(\n",
      "/Users/harrisonma/opt/anaconda3/envs/ai_cellchat/lib/python3.11/site-packages/sklearn/utils/deprecation.py:151: FutureWarning: 'force_all_finite' was renamed to 'ensure_all_finite' in 1.6 and will be removed in 1.8.\n",
      "  warnings.warn(\n",
      "/Users/harrisonma/opt/anaconda3/envs/ai_cellchat/lib/python3.11/site-packages/sklearn/utils/deprecation.py:151: FutureWarning: 'force_all_finite' was renamed to 'ensure_all_finite' in 1.6 and will be removed in 1.8.\n",
      "  warnings.warn(\n",
      "/Users/harrisonma/opt/anaconda3/envs/ai_cellchat/lib/python3.11/site-packages/umap/umap_.py:1952: UserWarning: n_jobs value 1 overridden to 1 by setting random_state. Use no seed for parallelism.\n",
      "  warn(\n",
      "/Users/harrisonma/opt/anaconda3/envs/ai_cellchat/lib/python3.11/site-packages/sklearn/utils/deprecation.py:151: FutureWarning: 'force_all_finite' was renamed to 'ensure_all_finite' in 1.6 and will be removed in 1.8.\n",
      "  warnings.warn(\n",
      "/Users/harrisonma/opt/anaconda3/envs/ai_cellchat/lib/python3.11/site-packages/sklearn/utils/deprecation.py:151: FutureWarning: 'force_all_finite' was renamed to 'ensure_all_finite' in 1.6 and will be removed in 1.8.\n",
      "  warnings.warn(\n",
      "/Users/harrisonma/opt/anaconda3/envs/ai_cellchat/lib/python3.11/site-packages/sklearn/utils/deprecation.py:151: FutureWarning: 'force_all_finite' was renamed to 'ensure_all_finite' in 1.6 and will be removed in 1.8.\n",
      "  warnings.warn(\n",
      "/Users/harrisonma/opt/anaconda3/envs/ai_cellchat/lib/python3.11/site-packages/sklearn/utils/deprecation.py:151: FutureWarning: 'force_all_finite' was renamed to 'ensure_all_finite' in 1.6 and will be removed in 1.8.\n",
      "  warnings.warn(\n",
      "/Users/harrisonma/opt/anaconda3/envs/ai_cellchat/lib/python3.11/site-packages/sklearn/utils/deprecation.py:151: FutureWarning: 'force_all_finite' was renamed to 'ensure_all_finite' in 1.6 and will be removed in 1.8.\n",
      "  warnings.warn(\n",
      "/Users/harrisonma/opt/anaconda3/envs/ai_cellchat/lib/python3.11/site-packages/umap/umap_.py:1952: UserWarning: n_jobs value 1 overridden to 1 by setting random_state. Use no seed for parallelism.\n",
      "  warn(\n",
      "/Users/harrisonma/opt/anaconda3/envs/ai_cellchat/lib/python3.11/site-packages/sklearn/utils/deprecation.py:151: FutureWarning: 'force_all_finite' was renamed to 'ensure_all_finite' in 1.6 and will be removed in 1.8.\n",
      "  warnings.warn(\n",
      "/Users/harrisonma/opt/anaconda3/envs/ai_cellchat/lib/python3.11/site-packages/sklearn/utils/deprecation.py:151: FutureWarning: 'force_all_finite' was renamed to 'ensure_all_finite' in 1.6 and will be removed in 1.8.\n",
      "  warnings.warn(\n",
      "/Users/harrisonma/opt/anaconda3/envs/ai_cellchat/lib/python3.11/site-packages/sklearn/utils/deprecation.py:151: FutureWarning: 'force_all_finite' was renamed to 'ensure_all_finite' in 1.6 and will be removed in 1.8.\n",
      "  warnings.warn(\n",
      "/Users/harrisonma/opt/anaconda3/envs/ai_cellchat/lib/python3.11/site-packages/sklearn/utils/deprecation.py:151: FutureWarning: 'force_all_finite' was renamed to 'ensure_all_finite' in 1.6 and will be removed in 1.8.\n",
      "  warnings.warn(\n",
      "/Users/harrisonma/opt/anaconda3/envs/ai_cellchat/lib/python3.11/site-packages/sklearn/utils/deprecation.py:151: FutureWarning: 'force_all_finite' was renamed to 'ensure_all_finite' in 1.6 and will be removed in 1.8.\n",
      "  warnings.warn(\n",
      "/Users/harrisonma/opt/anaconda3/envs/ai_cellchat/lib/python3.11/site-packages/umap/umap_.py:1952: UserWarning: n_jobs value 1 overridden to 1 by setting random_state. Use no seed for parallelism.\n",
      "  warn(\n"
     ]
    },
    {
     "name": "stdout",
     "output_type": "stream",
     "text": [
      "Best parameters: {'min_dist': 0.1, 'n_components': 2, 'n_neighbors': 10}\n",
      "Best average silhouette score: 0.4900832772254944\n"
     ]
    }
   ],
   "source": [
    "# Define parameter grid for UMAP hyperparameters.\n",
    "param_grid = {\n",
    "    'n_neighbors': [10, 15, 20],\n",
    "    'min_dist': [0.1, 0.5],\n",
    "    'n_components': [2, 5, 10]\n",
    "}\n",
    "\n",
    "# Set up GridSearchCV. Note that we don't need to specify a separate scoring function,\n",
    "# because the custom estimator's score() method is used by default.\n",
    "grid_search = GridSearchCV(estimator=UMAPClusteringEvaluator(),\n",
    "                           param_grid=param_grid,\n",
    "                           cv=5,  # 3-fold cross-validation; adjust as needed.\n",
    "                           n_jobs=-1,  # Use all available cores.\n",
    "                           verbose=1)\n",
    "\n",
    "# Run the grid search over the UMAP hyperparameters.\n",
    "grid_search.fit(X)\n",
    "\n",
    "# Report the best hyperparameters and corresponding silhouette score.\n",
    "print(\"Best parameters:\", grid_search.best_params_)\n",
    "print(\"Best average silhouette score:\", grid_search.best_score_)\n"
   ]
  },
  {
   "cell_type": "code",
   "execution_count": 49,
   "id": "411c7544",
   "metadata": {},
   "outputs": [
    {
     "name": "stdout",
     "output_type": "stream",
     "text": [
      "Fitting 5 folds for each of 81 candidates, totalling 405 fits\n"
     ]
    },
    {
     "name": "stderr",
     "output_type": "stream",
     "text": [
      "/Users/harrisonma/opt/anaconda3/envs/ai_cellchat/lib/python3.11/site-packages/sklearn/manifold/_t_sne.py:1164: FutureWarning: 'n_iter' was renamed to 'max_iter' in version 1.5 and will be removed in 1.7.\n",
      "  warnings.warn(\n",
      "/Users/harrisonma/opt/anaconda3/envs/ai_cellchat/lib/python3.11/site-packages/sklearn/manifold/_t_sne.py:1164: FutureWarning: 'n_iter' was renamed to 'max_iter' in version 1.5 and will be removed in 1.7.\n",
      "  warnings.warn(\n",
      "/Users/harrisonma/opt/anaconda3/envs/ai_cellchat/lib/python3.11/site-packages/sklearn/manifold/_t_sne.py:1164: FutureWarning: 'n_iter' was renamed to 'max_iter' in version 1.5 and will be removed in 1.7.\n",
      "  warnings.warn(\n",
      "/Users/harrisonma/opt/anaconda3/envs/ai_cellchat/lib/python3.11/site-packages/sklearn/manifold/_t_sne.py:1164: FutureWarning: 'n_iter' was renamed to 'max_iter' in version 1.5 and will be removed in 1.7.\n",
      "  warnings.warn(\n",
      "/Users/harrisonma/opt/anaconda3/envs/ai_cellchat/lib/python3.11/site-packages/sklearn/manifold/_t_sne.py:1164: FutureWarning: 'n_iter' was renamed to 'max_iter' in version 1.5 and will be removed in 1.7.\n",
      "  warnings.warn(\n",
      "/Users/harrisonma/opt/anaconda3/envs/ai_cellchat/lib/python3.11/site-packages/sklearn/manifold/_t_sne.py:1164: FutureWarning: 'n_iter' was renamed to 'max_iter' in version 1.5 and will be removed in 1.7.\n",
      "  warnings.warn(\n",
      "/Users/harrisonma/opt/anaconda3/envs/ai_cellchat/lib/python3.11/site-packages/sklearn/manifold/_t_sne.py:1164: FutureWarning: 'n_iter' was renamed to 'max_iter' in version 1.5 and will be removed in 1.7.\n",
      "  warnings.warn(\n",
      "/Users/harrisonma/opt/anaconda3/envs/ai_cellchat/lib/python3.11/site-packages/sklearn/manifold/_t_sne.py:1164: FutureWarning: 'n_iter' was renamed to 'max_iter' in version 1.5 and will be removed in 1.7.\n",
      "  warnings.warn(\n",
      "/Users/harrisonma/opt/anaconda3/envs/ai_cellchat/lib/python3.11/site-packages/sklearn/base.py:1389: ConvergenceWarning: Number of distinct clusters (2) found smaller than n_clusters (8). Possibly due to duplicate points in X.\n",
      "  return fit_method(estimator, *args, **kwargs)\n",
      "/Users/harrisonma/opt/anaconda3/envs/ai_cellchat/lib/python3.11/site-packages/sklearn/base.py:1389: ConvergenceWarning: Number of distinct clusters (7) found smaller than n_clusters (8). Possibly due to duplicate points in X.\n",
      "  return fit_method(estimator, *args, **kwargs)\n",
      "/Users/harrisonma/opt/anaconda3/envs/ai_cellchat/lib/python3.11/site-packages/sklearn/base.py:1389: ConvergenceWarning: Number of distinct clusters (2) found smaller than n_clusters (8). Possibly due to duplicate points in X.\n",
      "  return fit_method(estimator, *args, **kwargs)\n"
     ]
    },
    {
     "name": "stdout",
     "output_type": "stream",
     "text": [
      "[CV] END learning_rate=50, n_components=2, n_iter=250, perplexity=5; total time=   8.6s\n",
      "[CV] END learning_rate=50, n_components=2, n_iter=250, perplexity=5; total time=   8.6s\n",
      "[CV] END learning_rate=50, n_components=2, n_iter=250, perplexity=5; total time=   8.9s\n",
      "[CV] END learning_rate=50, n_components=2, n_iter=250, perplexity=5; total time=   8.8s\n",
      "[CV] END learning_rate=50, n_components=2, n_iter=250, perplexity=5; total time=   9.0s\n"
     ]
    },
    {
     "name": "stderr",
     "output_type": "stream",
     "text": [
      "/Users/harrisonma/opt/anaconda3/envs/ai_cellchat/lib/python3.11/site-packages/sklearn/manifold/_t_sne.py:1164: FutureWarning: 'n_iter' was renamed to 'max_iter' in version 1.5 and will be removed in 1.7.\n",
      "  warnings.warn(\n",
      "/Users/harrisonma/opt/anaconda3/envs/ai_cellchat/lib/python3.11/site-packages/sklearn/manifold/_t_sne.py:1164: FutureWarning: 'n_iter' was renamed to 'max_iter' in version 1.5 and will be removed in 1.7.\n",
      "  warnings.warn(\n",
      "/Users/harrisonma/opt/anaconda3/envs/ai_cellchat/lib/python3.11/site-packages/sklearn/manifold/_t_sne.py:1164: FutureWarning: 'n_iter' was renamed to 'max_iter' in version 1.5 and will be removed in 1.7.\n",
      "  warnings.warn(\n",
      "/Users/harrisonma/opt/anaconda3/envs/ai_cellchat/lib/python3.11/site-packages/sklearn/manifold/_t_sne.py:1164: FutureWarning: 'n_iter' was renamed to 'max_iter' in version 1.5 and will be removed in 1.7.\n",
      "  warnings.warn(\n",
      "/Users/harrisonma/opt/anaconda3/envs/ai_cellchat/lib/python3.11/site-packages/sklearn/manifold/_t_sne.py:1164: FutureWarning: 'n_iter' was renamed to 'max_iter' in version 1.5 and will be removed in 1.7.\n",
      "  warnings.warn(\n"
     ]
    },
    {
     "name": "stdout",
     "output_type": "stream",
     "text": [
      "[CV] END learning_rate=50, n_components=2, n_iter=250, perplexity=30; total time=  26.2s\n"
     ]
    },
    {
     "name": "stderr",
     "output_type": "stream",
     "text": [
      "/Users/harrisonma/opt/anaconda3/envs/ai_cellchat/lib/python3.11/site-packages/sklearn/manifold/_t_sne.py:1164: FutureWarning: 'n_iter' was renamed to 'max_iter' in version 1.5 and will be removed in 1.7.\n",
      "  warnings.warn(\n"
     ]
    },
    {
     "name": "stdout",
     "output_type": "stream",
     "text": [
      "[CV] END learning_rate=50, n_components=2, n_iter=250, perplexity=30; total time=  26.0s\n"
     ]
    },
    {
     "name": "stderr",
     "output_type": "stream",
     "text": [
      "/Users/harrisonma/opt/anaconda3/envs/ai_cellchat/lib/python3.11/site-packages/sklearn/manifold/_t_sne.py:1164: FutureWarning: 'n_iter' was renamed to 'max_iter' in version 1.5 and will be removed in 1.7.\n",
      "  warnings.warn(\n"
     ]
    },
    {
     "name": "stdout",
     "output_type": "stream",
     "text": [
      "[CV] END learning_rate=50, n_components=2, n_iter=250, perplexity=30; total time=  26.8s\n"
     ]
    },
    {
     "name": "stderr",
     "output_type": "stream",
     "text": [
      "/Users/harrisonma/opt/anaconda3/envs/ai_cellchat/lib/python3.11/site-packages/sklearn/manifold/_t_sne.py:1164: FutureWarning: 'n_iter' was renamed to 'max_iter' in version 1.5 and will be removed in 1.7.\n",
      "  warnings.warn(\n"
     ]
    },
    {
     "name": "stdout",
     "output_type": "stream",
     "text": [
      "[CV] END learning_rate=50, n_components=2, n_iter=250, perplexity=30; total time=  23.3s\n",
      "[CV] END learning_rate=50, n_components=2, n_iter=250, perplexity=50; total time=  23.2s\n"
     ]
    },
    {
     "name": "stderr",
     "output_type": "stream",
     "text": [
      "/Users/harrisonma/opt/anaconda3/envs/ai_cellchat/lib/python3.11/site-packages/sklearn/manifold/_t_sne.py:1164: FutureWarning: 'n_iter' was renamed to 'max_iter' in version 1.5 and will be removed in 1.7.\n",
      "  warnings.warn(\n",
      "/Users/harrisonma/opt/anaconda3/envs/ai_cellchat/lib/python3.11/site-packages/sklearn/manifold/_t_sne.py:1164: FutureWarning: 'n_iter' was renamed to 'max_iter' in version 1.5 and will be removed in 1.7.\n",
      "  warnings.warn(\n"
     ]
    },
    {
     "name": "stdout",
     "output_type": "stream",
     "text": [
      "[CV] END learning_rate=50, n_components=2, n_iter=250, perplexity=30; total time=  23.8s\n"
     ]
    },
    {
     "name": "stderr",
     "output_type": "stream",
     "text": [
      "/Users/harrisonma/opt/anaconda3/envs/ai_cellchat/lib/python3.11/site-packages/sklearn/manifold/_t_sne.py:1164: FutureWarning: 'n_iter' was renamed to 'max_iter' in version 1.5 and will be removed in 1.7.\n",
      "  warnings.warn(\n"
     ]
    },
    {
     "name": "stdout",
     "output_type": "stream",
     "text": [
      "[CV] END learning_rate=50, n_components=2, n_iter=250, perplexity=50; total time=  24.2s\n"
     ]
    },
    {
     "name": "stderr",
     "output_type": "stream",
     "text": [
      "/Users/harrisonma/opt/anaconda3/envs/ai_cellchat/lib/python3.11/site-packages/sklearn/manifold/_t_sne.py:1164: FutureWarning: 'n_iter' was renamed to 'max_iter' in version 1.5 and will be removed in 1.7.\n",
      "  warnings.warn(\n"
     ]
    },
    {
     "name": "stdout",
     "output_type": "stream",
     "text": [
      "[CV] END learning_rate=50, n_components=2, n_iter=250, perplexity=50; total time=  24.8s\n"
     ]
    },
    {
     "name": "stderr",
     "output_type": "stream",
     "text": [
      "/Users/harrisonma/opt/anaconda3/envs/ai_cellchat/lib/python3.11/site-packages/sklearn/manifold/_t_sne.py:1164: FutureWarning: 'n_iter' was renamed to 'max_iter' in version 1.5 and will be removed in 1.7.\n",
      "  warnings.warn(\n"
     ]
    },
    {
     "name": "stdout",
     "output_type": "stream",
     "text": [
      "[CV] END learning_rate=50, n_components=2, n_iter=500, perplexity=30; total time=   6.7s\n"
     ]
    },
    {
     "name": "stderr",
     "output_type": "stream",
     "text": [
      "/Users/harrisonma/opt/anaconda3/envs/ai_cellchat/lib/python3.11/site-packages/sklearn/manifold/_t_sne.py:1164: FutureWarning: 'n_iter' was renamed to 'max_iter' in version 1.5 and will be removed in 1.7.\n",
      "  warnings.warn(\n"
     ]
    },
    {
     "name": "stdout",
     "output_type": "stream",
     "text": [
      "[CV] END learning_rate=50, n_components=2, n_iter=500, perplexity=30; total time=   6.4s\n",
      "[CV] END learning_rate=50, n_components=2, n_iter=250, perplexity=50; total time=  21.1s\n"
     ]
    },
    {
     "name": "stderr",
     "output_type": "stream",
     "text": [
      "/Users/harrisonma/opt/anaconda3/envs/ai_cellchat/lib/python3.11/site-packages/sklearn/manifold/_t_sne.py:1164: FutureWarning: 'n_iter' was renamed to 'max_iter' in version 1.5 and will be removed in 1.7.\n",
      "  warnings.warn(\n",
      "/Users/harrisonma/opt/anaconda3/envs/ai_cellchat/lib/python3.11/site-packages/sklearn/manifold/_t_sne.py:1164: FutureWarning: 'n_iter' was renamed to 'max_iter' in version 1.5 and will be removed in 1.7.\n",
      "  warnings.warn(\n"
     ]
    },
    {
     "name": "stdout",
     "output_type": "stream",
     "text": [
      "[CV] END learning_rate=50, n_components=2, n_iter=250, perplexity=50; total time=  21.1s\n"
     ]
    },
    {
     "name": "stderr",
     "output_type": "stream",
     "text": [
      "/Users/harrisonma/opt/anaconda3/envs/ai_cellchat/lib/python3.11/site-packages/sklearn/manifold/_t_sne.py:1164: FutureWarning: 'n_iter' was renamed to 'max_iter' in version 1.5 and will be removed in 1.7.\n",
      "  warnings.warn(\n",
      "/Users/harrisonma/opt/anaconda3/envs/ai_cellchat/lib/python3.11/site-packages/sklearn/manifold/_spectral_embedding.py:455: UserWarning: Exited at iteration 2000 with accuracies \n",
      "[4.33342471e-14 2.40055060e-06 3.06309969e-06 2.24807133e-06\n",
      " 2.59588696e-06 3.34184379e-06 2.19704386e-06 4.62729078e-06\n",
      " 1.55760783e-05]\n",
      "not reaching the requested tolerance 5.9604644775390625e-06.\n",
      "Use iteration 1894 instead with accuracy \n",
      "2.970461684702403e-06.\n",
      "\n",
      "  _, diffusion_map = lobpcg(\n",
      "/Users/harrisonma/opt/anaconda3/envs/ai_cellchat/lib/python3.11/site-packages/sklearn/manifold/_spectral_embedding.py:455: UserWarning: Exited postprocessing with accuracies \n",
      "[1.46532851e-14 1.84492175e-06 2.82919067e-06 2.67643987e-06\n",
      " 2.39241759e-06 4.02766195e-06 1.58333444e-06 2.95603261e-06\n",
      " 8.28248297e-06]\n",
      "not reaching the requested tolerance 5.9604644775390625e-06.\n",
      "  _, diffusion_map = lobpcg(\n"
     ]
    },
    {
     "name": "stdout",
     "output_type": "stream",
     "text": [
      "[CV] END learning_rate=50, n_components=2, n_iter=500, perplexity=30; total time=   6.8s\n"
     ]
    },
    {
     "name": "stderr",
     "output_type": "stream",
     "text": [
      "/Users/harrisonma/opt/anaconda3/envs/ai_cellchat/lib/python3.11/site-packages/sklearn/manifold/_t_sne.py:1164: FutureWarning: 'n_iter' was renamed to 'max_iter' in version 1.5 and will be removed in 1.7.\n",
      "  warnings.warn(\n"
     ]
    },
    {
     "name": "stdout",
     "output_type": "stream",
     "text": [
      "[CV] END learning_rate=50, n_components=2, n_iter=500, perplexity=5; total time=  27.5s\n",
      "[CV] END learning_rate=50, n_components=2, n_iter=500, perplexity=30; total time=   6.6s\n"
     ]
    },
    {
     "name": "stderr",
     "output_type": "stream",
     "text": [
      "/Users/harrisonma/opt/anaconda3/envs/ai_cellchat/lib/python3.11/site-packages/sklearn/manifold/_t_sne.py:1164: FutureWarning: 'n_iter' was renamed to 'max_iter' in version 1.5 and will be removed in 1.7.\n",
      "  warnings.warn(\n",
      "/Users/harrisonma/opt/anaconda3/envs/ai_cellchat/lib/python3.11/site-packages/sklearn/manifold/_t_sne.py:1164: FutureWarning: 'n_iter' was renamed to 'max_iter' in version 1.5 and will be removed in 1.7.\n",
      "  warnings.warn(\n"
     ]
    },
    {
     "name": "stdout",
     "output_type": "stream",
     "text": [
      "[CV] END learning_rate=50, n_components=2, n_iter=500, perplexity=30; total time=   8.0s\n"
     ]
    },
    {
     "name": "stderr",
     "output_type": "stream",
     "text": [
      "/Users/harrisonma/opt/anaconda3/envs/ai_cellchat/lib/python3.11/site-packages/sklearn/manifold/_t_sne.py:1164: FutureWarning: 'n_iter' was renamed to 'max_iter' in version 1.5 and will be removed in 1.7.\n",
      "  warnings.warn(\n",
      "/Users/harrisonma/opt/anaconda3/envs/ai_cellchat/lib/python3.11/site-packages/sklearn/manifold/_spectral_embedding.py:455: UserWarning: Exited at iteration 2000 with accuracies \n",
      "[8.70381514e-15 7.97913684e-07 1.65395249e-06 2.58765990e-06\n",
      " 2.91952148e-06 4.17855643e-06 3.45815466e-06 3.38266164e-06\n",
      " 1.06519446e-05]\n",
      "not reaching the requested tolerance 5.97536563873291e-06.\n",
      "Use iteration 1991 instead with accuracy \n",
      "3.2055838247970877e-06.\n",
      "\n",
      "  _, diffusion_map = lobpcg(\n",
      "/Users/harrisonma/opt/anaconda3/envs/ai_cellchat/lib/python3.11/site-packages/sklearn/manifold/_spectral_embedding.py:455: UserWarning: Exited postprocessing with accuracies \n",
      "[4.80765334e-15 8.09795324e-07 1.72572163e-06 2.70862543e-06\n",
      " 2.94154553e-06 4.35035907e-06 3.47647431e-06 3.34489079e-06\n",
      " 9.49284322e-06]\n",
      "not reaching the requested tolerance 5.97536563873291e-06.\n",
      "  _, diffusion_map = lobpcg(\n",
      "/Users/harrisonma/opt/anaconda3/envs/ai_cellchat/lib/python3.11/site-packages/sklearn/manifold/_spectral_embedding.py:455: UserWarning: Exited at iteration 2000 with accuracies \n",
      "[1.00787916e-14 1.36656063e-06 2.04459660e-06 4.09348262e-06\n",
      " 1.94581622e-06 2.41986044e-06 2.54977668e-06 3.76923215e-06\n",
      " 6.07527183e-06]\n",
      "not reaching the requested tolerance 5.97536563873291e-06.\n",
      "Use iteration 2001 instead with accuracy \n",
      "2.6960663527800172e-06.\n",
      "\n",
      "  _, diffusion_map = lobpcg(\n",
      "/Users/harrisonma/opt/anaconda3/envs/ai_cellchat/lib/python3.11/site-packages/sklearn/manifold/_spectral_embedding.py:455: UserWarning: Exited postprocessing with accuracies \n",
      "[6.64804990e-15 1.36674102e-06 2.04471227e-06 4.09347602e-06\n",
      " 1.94600115e-06 2.41999111e-06 2.54972576e-06 3.76894672e-06\n",
      " 6.07528393e-06]\n",
      "not reaching the requested tolerance 5.97536563873291e-06.\n",
      "  _, diffusion_map = lobpcg(\n",
      "/Users/harrisonma/opt/anaconda3/envs/ai_cellchat/lib/python3.11/site-packages/sklearn/manifold/_spectral_embedding.py:455: UserWarning: Exited at iteration 2000 with accuracies \n",
      "[8.54443163e-15 2.56428650e-06 4.40483959e-06 2.67093778e-06\n",
      " 4.08035048e-06 4.17041320e-06 1.33557050e-06 1.01367291e-05\n",
      " 1.25720890e-05]\n",
      "not reaching the requested tolerance 5.97536563873291e-06.\n",
      "Use iteration 1999 instead with accuracy \n",
      "4.152316433326309e-06.\n",
      "\n",
      "  _, diffusion_map = lobpcg(\n",
      "/Users/harrisonma/opt/anaconda3/envs/ai_cellchat/lib/python3.11/site-packages/sklearn/manifold/_spectral_embedding.py:455: UserWarning: Exited postprocessing with accuracies \n",
      "[3.37566239e-15 2.28638192e-06 3.77854398e-06 2.17407952e-06\n",
      " 3.70035751e-06 4.16084707e-06 1.13710418e-06 8.18766316e-06\n",
      " 1.19458710e-05]\n",
      "not reaching the requested tolerance 5.97536563873291e-06.\n",
      "  _, diffusion_map = lobpcg(\n"
     ]
    },
    {
     "name": "stdout",
     "output_type": "stream",
     "text": [
      "[CV] END learning_rate=50, n_components=2, n_iter=500, perplexity=5; total time=  27.3s\n"
     ]
    },
    {
     "name": "stderr",
     "output_type": "stream",
     "text": [
      "/Users/harrisonma/opt/anaconda3/envs/ai_cellchat/lib/python3.11/site-packages/sklearn/manifold/_t_sne.py:1164: FutureWarning: 'n_iter' was renamed to 'max_iter' in version 1.5 and will be removed in 1.7.\n",
      "  warnings.warn(\n"
     ]
    },
    {
     "name": "stdout",
     "output_type": "stream",
     "text": [
      "[CV] END learning_rate=50, n_components=2, n_iter=500, perplexity=5; total time=  27.6s\n"
     ]
    },
    {
     "name": "stderr",
     "output_type": "stream",
     "text": [
      "/Users/harrisonma/opt/anaconda3/envs/ai_cellchat/lib/python3.11/site-packages/sklearn/manifold/_t_sne.py:1164: FutureWarning: 'n_iter' was renamed to 'max_iter' in version 1.5 and will be removed in 1.7.\n",
      "  warnings.warn(\n"
     ]
    },
    {
     "name": "stdout",
     "output_type": "stream",
     "text": [
      "[CV] END learning_rate=50, n_components=2, n_iter=500, perplexity=5; total time=  27.4s\n"
     ]
    },
    {
     "name": "stderr",
     "output_type": "stream",
     "text": [
      "/Users/harrisonma/opt/anaconda3/envs/ai_cellchat/lib/python3.11/site-packages/sklearn/manifold/_t_sne.py:1164: FutureWarning: 'n_iter' was renamed to 'max_iter' in version 1.5 and will be removed in 1.7.\n",
      "  warnings.warn(\n"
     ]
    },
    {
     "name": "stdout",
     "output_type": "stream",
     "text": [
      "[CV] END learning_rate=50, n_components=2, n_iter=500, perplexity=5; total time=  27.0s\n"
     ]
    },
    {
     "name": "stderr",
     "output_type": "stream",
     "text": [
      "/Users/harrisonma/opt/anaconda3/envs/ai_cellchat/lib/python3.11/site-packages/sklearn/manifold/_t_sne.py:1164: FutureWarning: 'n_iter' was renamed to 'max_iter' in version 1.5 and will be removed in 1.7.\n",
      "  warnings.warn(\n"
     ]
    },
    {
     "name": "stdout",
     "output_type": "stream",
     "text": [
      "[CV] END learning_rate=50, n_components=2, n_iter=500, perplexity=50; total time=   6.5s\n",
      "[CV] END learning_rate=50, n_components=2, n_iter=500, perplexity=50; total time=   6.2s\n"
     ]
    },
    {
     "name": "stderr",
     "output_type": "stream",
     "text": [
      "/Users/harrisonma/opt/anaconda3/envs/ai_cellchat/lib/python3.11/site-packages/sklearn/manifold/_t_sne.py:1164: FutureWarning: 'n_iter' was renamed to 'max_iter' in version 1.5 and will be removed in 1.7.\n",
      "  warnings.warn(\n",
      "/Users/harrisonma/opt/anaconda3/envs/ai_cellchat/lib/python3.11/site-packages/sklearn/manifold/_t_sne.py:1164: FutureWarning: 'n_iter' was renamed to 'max_iter' in version 1.5 and will be removed in 1.7.\n",
      "  warnings.warn(\n"
     ]
    },
    {
     "name": "stdout",
     "output_type": "stream",
     "text": [
      "[CV] END learning_rate=50, n_components=2, n_iter=500, perplexity=50; total time=   6.5s\n"
     ]
    },
    {
     "name": "stderr",
     "output_type": "stream",
     "text": [
      "/Users/harrisonma/opt/anaconda3/envs/ai_cellchat/lib/python3.11/site-packages/sklearn/manifold/_t_sne.py:1164: FutureWarning: 'n_iter' was renamed to 'max_iter' in version 1.5 and will be removed in 1.7.\n",
      "  warnings.warn(\n"
     ]
    },
    {
     "name": "stdout",
     "output_type": "stream",
     "text": [
      "[CV] END learning_rate=50, n_components=2, n_iter=500, perplexity=50; total time=   6.4s\n"
     ]
    },
    {
     "name": "stderr",
     "output_type": "stream",
     "text": [
      "/Users/harrisonma/opt/anaconda3/envs/ai_cellchat/lib/python3.11/site-packages/sklearn/manifold/_t_sne.py:1164: FutureWarning: 'n_iter' was renamed to 'max_iter' in version 1.5 and will be removed in 1.7.\n",
      "  warnings.warn(\n"
     ]
    },
    {
     "name": "stdout",
     "output_type": "stream",
     "text": [
      "[CV] END learning_rate=50, n_components=2, n_iter=500, perplexity=50; total time=   5.5s\n"
     ]
    },
    {
     "name": "stderr",
     "output_type": "stream",
     "text": [
      "/Users/harrisonma/opt/anaconda3/envs/ai_cellchat/lib/python3.11/site-packages/sklearn/manifold/_t_sne.py:1164: FutureWarning: 'n_iter' was renamed to 'max_iter' in version 1.5 and will be removed in 1.7.\n",
      "  warnings.warn(\n"
     ]
    },
    {
     "name": "stdout",
     "output_type": "stream",
     "text": [
      "[CV] END learning_rate=50, n_components=2, n_iter=1000, perplexity=30; total time=   6.3s\n"
     ]
    },
    {
     "name": "stderr",
     "output_type": "stream",
     "text": [
      "/Users/harrisonma/opt/anaconda3/envs/ai_cellchat/lib/python3.11/site-packages/sklearn/manifold/_t_sne.py:1164: FutureWarning: 'n_iter' was renamed to 'max_iter' in version 1.5 and will be removed in 1.7.\n",
      "  warnings.warn(\n"
     ]
    },
    {
     "name": "stdout",
     "output_type": "stream",
     "text": [
      "[CV] END learning_rate=50, n_components=2, n_iter=1000, perplexity=30; total time=   6.9s\n"
     ]
    },
    {
     "name": "stderr",
     "output_type": "stream",
     "text": [
      "/Users/harrisonma/opt/anaconda3/envs/ai_cellchat/lib/python3.11/site-packages/sklearn/manifold/_t_sne.py:1164: FutureWarning: 'n_iter' was renamed to 'max_iter' in version 1.5 and will be removed in 1.7.\n",
      "  warnings.warn(\n"
     ]
    },
    {
     "name": "stdout",
     "output_type": "stream",
     "text": [
      "[CV] END learning_rate=50, n_components=2, n_iter=1000, perplexity=30; total time=   7.1s\n"
     ]
    },
    {
     "name": "stderr",
     "output_type": "stream",
     "text": [
      "/Users/harrisonma/opt/anaconda3/envs/ai_cellchat/lib/python3.11/site-packages/sklearn/manifold/_t_sne.py:1164: FutureWarning: 'n_iter' was renamed to 'max_iter' in version 1.5 and will be removed in 1.7.\n",
      "  warnings.warn(\n"
     ]
    },
    {
     "name": "stdout",
     "output_type": "stream",
     "text": [
      "[CV] END learning_rate=50, n_components=2, n_iter=1000, perplexity=30; total time=   6.3s\n"
     ]
    },
    {
     "name": "stderr",
     "output_type": "stream",
     "text": [
      "/Users/harrisonma/opt/anaconda3/envs/ai_cellchat/lib/python3.11/site-packages/sklearn/manifold/_t_sne.py:1164: FutureWarning: 'n_iter' was renamed to 'max_iter' in version 1.5 and will be removed in 1.7.\n",
      "  warnings.warn(\n"
     ]
    },
    {
     "name": "stdout",
     "output_type": "stream",
     "text": [
      "[CV] END learning_rate=50, n_components=2, n_iter=1000, perplexity=30; total time=   6.3s\n"
     ]
    },
    {
     "name": "stderr",
     "output_type": "stream",
     "text": [
      "/Users/harrisonma/opt/anaconda3/envs/ai_cellchat/lib/python3.11/site-packages/sklearn/manifold/_t_sne.py:1164: FutureWarning: 'n_iter' was renamed to 'max_iter' in version 1.5 and will be removed in 1.7.\n",
      "  warnings.warn(\n"
     ]
    },
    {
     "name": "stdout",
     "output_type": "stream",
     "text": [
      "[CV] END learning_rate=50, n_components=2, n_iter=1000, perplexity=50; total time=   6.6s\n"
     ]
    },
    {
     "name": "stderr",
     "output_type": "stream",
     "text": [
      "/Users/harrisonma/opt/anaconda3/envs/ai_cellchat/lib/python3.11/site-packages/sklearn/manifold/_t_sne.py:1164: FutureWarning: 'n_iter' was renamed to 'max_iter' in version 1.5 and will be removed in 1.7.\n",
      "  warnings.warn(\n",
      "/Users/harrisonma/opt/anaconda3/envs/ai_cellchat/lib/python3.11/site-packages/sklearn/manifold/_spectral_embedding.py:455: UserWarning: Exited at iteration 2000 with accuracies \n",
      "[3.95718873e-14 9.31434335e-07 1.43503462e-06 1.32771962e-06\n",
      " 1.63059921e-06 6.55979292e-06 2.61467030e-06 2.75912654e-06\n",
      " 1.10475070e-05]\n",
      "not reaching the requested tolerance 5.97536563873291e-06.\n",
      "Use iteration 2001 instead with accuracy \n",
      "3.1450982911783936e-06.\n",
      "\n",
      "  _, diffusion_map = lobpcg(\n",
      "/Users/harrisonma/opt/anaconda3/envs/ai_cellchat/lib/python3.11/site-packages/sklearn/manifold/_spectral_embedding.py:455: UserWarning: Exited postprocessing with accuracies \n",
      "[9.15410387e-15 9.30711497e-07 1.43424959e-06 1.32656523e-06\n",
      " 1.62646435e-06 6.55749877e-06 2.61791629e-06 2.76357664e-06\n",
      " 1.10478989e-05]\n",
      "not reaching the requested tolerance 5.97536563873291e-06.\n",
      "  _, diffusion_map = lobpcg(\n",
      "/Users/harrisonma/opt/anaconda3/envs/ai_cellchat/lib/python3.11/site-packages/sklearn/base.py:1389: ConvergenceWarning: Number of distinct clusters (7) found smaller than n_clusters (8). Possibly due to duplicate points in X.\n",
      "  return fit_method(estimator, *args, **kwargs)\n",
      "/Users/harrisonma/opt/anaconda3/envs/ai_cellchat/lib/python3.11/site-packages/sklearn/manifold/_spectral_embedding.py:455: UserWarning: Exited at iteration 2000 with accuracies \n",
      "[8.33241687e-15 3.36755269e-06 2.08053381e-06 1.19473381e-06\n",
      " 2.85034471e-06 2.11408703e-06 2.33476333e-06 7.23455596e-06\n",
      " 1.20106593e-05]\n",
      "not reaching the requested tolerance 5.9604644775390625e-06.\n",
      "Use iteration 1857 instead with accuracy \n",
      "3.371160083825882e-06.\n",
      "\n",
      "  _, diffusion_map = lobpcg(\n",
      "/Users/harrisonma/opt/anaconda3/envs/ai_cellchat/lib/python3.11/site-packages/sklearn/manifold/_spectral_embedding.py:455: UserWarning: Exited postprocessing with accuracies \n",
      "[6.72356216e-15 3.36312848e-06 2.12709885e-06 1.21285891e-06\n",
      " 2.88868895e-06 1.91790079e-06 2.09778033e-06 8.44010874e-06\n",
      " 8.25853445e-06]\n",
      "not reaching the requested tolerance 5.9604644775390625e-06.\n",
      "  _, diffusion_map = lobpcg(\n",
      "/Users/harrisonma/opt/anaconda3/envs/ai_cellchat/lib/python3.11/site-packages/sklearn/manifold/_spectral_embedding.py:455: UserWarning: Exited at iteration 2000 with accuracies \n",
      "[2.19633999e-14 7.41233816e-07 1.46813298e-06 1.69582289e-06\n",
      " 1.75704711e-06 2.84689094e-06 4.05105267e-06 2.08070168e-06\n",
      " 1.57552382e-05]\n",
      "not reaching the requested tolerance 5.97536563873291e-06.\n",
      "Use iteration 1987 instead with accuracy \n",
      "3.0910460143026076e-06.\n",
      "\n",
      "  _, diffusion_map = lobpcg(\n",
      "/Users/harrisonma/opt/anaconda3/envs/ai_cellchat/lib/python3.11/site-packages/sklearn/manifold/_spectral_embedding.py:455: UserWarning: Exited postprocessing with accuracies \n",
      "[1.82833853e-14 7.45677720e-07 1.52832595e-06 1.62402205e-06\n",
      " 1.75839227e-06 2.55200800e-06 4.00128156e-06 1.86765406e-06\n",
      " 1.37415959e-05]\n",
      "not reaching the requested tolerance 5.97536563873291e-06.\n",
      "  _, diffusion_map = lobpcg(\n",
      "/Users/harrisonma/opt/anaconda3/envs/ai_cellchat/lib/python3.11/site-packages/sklearn/manifold/_spectral_embedding.py:455: UserWarning: Exited at iteration 2000 with accuracies \n",
      "[2.37660841e-14 8.87514039e-07 2.20495903e-06 2.50874931e-06\n",
      " 1.88124071e-06 7.69722559e-06 2.59289739e-06 2.58071596e-06\n",
      " 1.03188501e-05]\n",
      "not reaching the requested tolerance 5.97536563873291e-06.\n",
      "Use iteration 1998 instead with accuracy \n",
      "3.13770229989212e-06.\n",
      "\n",
      "  _, diffusion_map = lobpcg(\n",
      "/Users/harrisonma/opt/anaconda3/envs/ai_cellchat/lib/python3.11/site-packages/sklearn/manifold/_spectral_embedding.py:455: UserWarning: Exited postprocessing with accuracies \n",
      "[1.03663856e-14 8.83457139e-07 2.19165642e-06 2.51298753e-06\n",
      " 1.87836987e-06 7.70581588e-06 2.43213216e-06 2.54006781e-06\n",
      " 8.09488526e-06]\n",
      "not reaching the requested tolerance 5.97536563873291e-06.\n",
      "  _, diffusion_map = lobpcg(\n"
     ]
    },
    {
     "name": "stdout",
     "output_type": "stream",
     "text": [
      "[CV] END learning_rate=50, n_components=2, n_iter=1000, perplexity=5; total time=  21.6s\n",
      "[CV] END learning_rate=50, n_components=2, n_iter=1000, perplexity=5; total time=  22.2s\n",
      "[CV] END learning_rate=50, n_components=2, n_iter=1000, perplexity=50; total time=   7.5s\n"
     ]
    },
    {
     "name": "stderr",
     "output_type": "stream",
     "text": [
      "/Users/harrisonma/opt/anaconda3/envs/ai_cellchat/lib/python3.11/site-packages/sklearn/manifold/_t_sne.py:1164: FutureWarning: 'n_iter' was renamed to 'max_iter' in version 1.5 and will be removed in 1.7.\n",
      "  warnings.warn(\n",
      "/Users/harrisonma/opt/anaconda3/envs/ai_cellchat/lib/python3.11/site-packages/sklearn/manifold/_t_sne.py:1164: FutureWarning: 'n_iter' was renamed to 'max_iter' in version 1.5 and will be removed in 1.7.\n",
      "  warnings.warn(\n",
      "/Users/harrisonma/opt/anaconda3/envs/ai_cellchat/lib/python3.11/site-packages/sklearn/manifold/_t_sne.py:1164: FutureWarning: 'n_iter' was renamed to 'max_iter' in version 1.5 and will be removed in 1.7.\n",
      "  warnings.warn(\n"
     ]
    },
    {
     "name": "stdout",
     "output_type": "stream",
     "text": [
      "[CV] END learning_rate=50, n_components=5, n_iter=250, perplexity=5; total time=   0.0s\n",
      "[CV] END learning_rate=50, n_components=5, n_iter=250, perplexity=5; total time=   0.0s\n",
      "[CV] END learning_rate=50, n_components=5, n_iter=250, perplexity=5; total time=   0.0s\n"
     ]
    },
    {
     "name": "stderr",
     "output_type": "stream",
     "text": [
      "/Users/harrisonma/opt/anaconda3/envs/ai_cellchat/lib/python3.11/site-packages/sklearn/manifold/_t_sne.py:1164: FutureWarning: 'n_iter' was renamed to 'max_iter' in version 1.5 and will be removed in 1.7.\n",
      "  warnings.warn(\n",
      "/Users/harrisonma/opt/anaconda3/envs/ai_cellchat/lib/python3.11/site-packages/sklearn/manifold/_t_sne.py:1164: FutureWarning: 'n_iter' was renamed to 'max_iter' in version 1.5 and will be removed in 1.7.\n",
      "  warnings.warn(\n",
      "/Users/harrisonma/opt/anaconda3/envs/ai_cellchat/lib/python3.11/site-packages/sklearn/manifold/_t_sne.py:1164: FutureWarning: 'n_iter' was renamed to 'max_iter' in version 1.5 and will be removed in 1.7.\n",
      "  warnings.warn(\n",
      "/Users/harrisonma/opt/anaconda3/envs/ai_cellchat/lib/python3.11/site-packages/sklearn/manifold/_t_sne.py:1164: FutureWarning: 'n_iter' was renamed to 'max_iter' in version 1.5 and will be removed in 1.7.\n",
      "  warnings.warn(\n"
     ]
    },
    {
     "name": "stdout",
     "output_type": "stream",
     "text": [
      "[CV] END learning_rate=50, n_components=5, n_iter=250, perplexity=5; total time=   0.0s\n",
      "[CV] END learning_rate=50, n_components=5, n_iter=250, perplexity=5; total time=   0.1s\n",
      "[CV] END learning_rate=50, n_components=5, n_iter=250, perplexity=30; total time=   0.0s\n"
     ]
    },
    {
     "name": "stderr",
     "output_type": "stream",
     "text": [
      "/Users/harrisonma/opt/anaconda3/envs/ai_cellchat/lib/python3.11/site-packages/sklearn/manifold/_t_sne.py:1164: FutureWarning: 'n_iter' was renamed to 'max_iter' in version 1.5 and will be removed in 1.7.\n",
      "  warnings.warn(\n",
      "/Users/harrisonma/opt/anaconda3/envs/ai_cellchat/lib/python3.11/site-packages/sklearn/manifold/_t_sne.py:1164: FutureWarning: 'n_iter' was renamed to 'max_iter' in version 1.5 and will be removed in 1.7.\n",
      "  warnings.warn(\n",
      "/Users/harrisonma/opt/anaconda3/envs/ai_cellchat/lib/python3.11/site-packages/sklearn/manifold/_t_sne.py:1164: FutureWarning: 'n_iter' was renamed to 'max_iter' in version 1.5 and will be removed in 1.7.\n",
      "  warnings.warn(\n"
     ]
    },
    {
     "name": "stdout",
     "output_type": "stream",
     "text": [
      "[CV] END learning_rate=50, n_components=5, n_iter=250, perplexity=30; total time=   0.0s\n",
      "[CV] END learning_rate=50, n_components=2, n_iter=1000, perplexity=5; total time=  22.1s\n",
      "[CV] END learning_rate=50, n_components=5, n_iter=250, perplexity=30; total time=   0.0s\n",
      "[CV] END learning_rate=50, n_components=5, n_iter=250, perplexity=30; total time=   0.0s\n",
      "[CV] END learning_rate=50, n_components=5, n_iter=250, perplexity=30; total time=   0.0s\n"
     ]
    },
    {
     "name": "stderr",
     "output_type": "stream",
     "text": [
      "/Users/harrisonma/opt/anaconda3/envs/ai_cellchat/lib/python3.11/site-packages/sklearn/manifold/_t_sne.py:1164: FutureWarning: 'n_iter' was renamed to 'max_iter' in version 1.5 and will be removed in 1.7.\n",
      "  warnings.warn(\n",
      "/Users/harrisonma/opt/anaconda3/envs/ai_cellchat/lib/python3.11/site-packages/sklearn/manifold/_t_sne.py:1164: FutureWarning: 'n_iter' was renamed to 'max_iter' in version 1.5 and will be removed in 1.7.\n",
      "  warnings.warn(\n"
     ]
    },
    {
     "name": "stdout",
     "output_type": "stream",
     "text": [
      "[CV] END learning_rate=50, n_components=2, n_iter=1000, perplexity=5; total time=  21.7s\n",
      "[CV] END learning_rate=50, n_components=5, n_iter=250, perplexity=50; total time=   0.0s\n",
      "[CV] END learning_rate=50, n_components=2, n_iter=1000, perplexity=5; total time=  21.9s\n",
      "[CV] END learning_rate=50, n_components=5, n_iter=250, perplexity=50; total time=   0.0s\n"
     ]
    },
    {
     "name": "stderr",
     "output_type": "stream",
     "text": [
      "/Users/harrisonma/opt/anaconda3/envs/ai_cellchat/lib/python3.11/site-packages/sklearn/manifold/_t_sne.py:1164: FutureWarning: 'n_iter' was renamed to 'max_iter' in version 1.5 and will be removed in 1.7.\n",
      "  warnings.warn(\n",
      "/Users/harrisonma/opt/anaconda3/envs/ai_cellchat/lib/python3.11/site-packages/sklearn/manifold/_t_sne.py:1164: FutureWarning: 'n_iter' was renamed to 'max_iter' in version 1.5 and will be removed in 1.7.\n",
      "  warnings.warn(\n"
     ]
    },
    {
     "name": "stdout",
     "output_type": "stream",
     "text": [
      "[CV] END learning_rate=50, n_components=5, n_iter=250, perplexity=50; total time=   0.1s\n",
      "[CV] END learning_rate=50, n_components=5, n_iter=250, perplexity=50; total time=   0.1s\n",
      "[CV] END learning_rate=50, n_components=2, n_iter=1000, perplexity=50; total time=   8.0s\n",
      "[CV] END learning_rate=50, n_components=5, n_iter=250, perplexity=50; total time=   0.0s\n"
     ]
    },
    {
     "name": "stderr",
     "output_type": "stream",
     "text": [
      "/Users/harrisonma/opt/anaconda3/envs/ai_cellchat/lib/python3.11/site-packages/sklearn/manifold/_t_sne.py:1164: FutureWarning: 'n_iter' was renamed to 'max_iter' in version 1.5 and will be removed in 1.7.\n",
      "  warnings.warn(\n",
      "/Users/harrisonma/opt/anaconda3/envs/ai_cellchat/lib/python3.11/site-packages/sklearn/manifold/_t_sne.py:1164: FutureWarning: 'n_iter' was renamed to 'max_iter' in version 1.5 and will be removed in 1.7.\n",
      "  warnings.warn(\n",
      "/Users/harrisonma/opt/anaconda3/envs/ai_cellchat/lib/python3.11/site-packages/sklearn/manifold/_t_sne.py:1164: FutureWarning: 'n_iter' was renamed to 'max_iter' in version 1.5 and will be removed in 1.7.\n",
      "  warnings.warn(\n"
     ]
    },
    {
     "name": "stdout",
     "output_type": "stream",
     "text": [
      "[CV] END learning_rate=50, n_components=5, n_iter=500, perplexity=5; total time=   0.0s\n",
      "[CV] END learning_rate=50, n_components=5, n_iter=500, perplexity=5; total time=   0.0s\n"
     ]
    },
    {
     "name": "stderr",
     "output_type": "stream",
     "text": [
      "/Users/harrisonma/opt/anaconda3/envs/ai_cellchat/lib/python3.11/site-packages/sklearn/manifold/_t_sne.py:1164: FutureWarning: 'n_iter' was renamed to 'max_iter' in version 1.5 and will be removed in 1.7.\n",
      "  warnings.warn(\n",
      "/Users/harrisonma/opt/anaconda3/envs/ai_cellchat/lib/python3.11/site-packages/sklearn/manifold/_t_sne.py:1164: FutureWarning: 'n_iter' was renamed to 'max_iter' in version 1.5 and will be removed in 1.7.\n",
      "  warnings.warn(\n"
     ]
    },
    {
     "name": "stdout",
     "output_type": "stream",
     "text": [
      "[CV] END learning_rate=50, n_components=5, n_iter=500, perplexity=5; total time=   0.0s\n",
      "[CV] END learning_rate=50, n_components=5, n_iter=500, perplexity=5; total time=   0.0s\n",
      "[CV] END learning_rate=50, n_components=5, n_iter=500, perplexity=5; total time=   0.0s\n",
      "[CV] END learning_rate=50, n_components=5, n_iter=500, perplexity=30; total time=   0.0s\n"
     ]
    },
    {
     "name": "stderr",
     "output_type": "stream",
     "text": [
      "/Users/harrisonma/opt/anaconda3/envs/ai_cellchat/lib/python3.11/site-packages/sklearn/manifold/_t_sne.py:1164: FutureWarning: 'n_iter' was renamed to 'max_iter' in version 1.5 and will be removed in 1.7.\n",
      "  warnings.warn(\n",
      "/Users/harrisonma/opt/anaconda3/envs/ai_cellchat/lib/python3.11/site-packages/sklearn/manifold/_t_sne.py:1164: FutureWarning: 'n_iter' was renamed to 'max_iter' in version 1.5 and will be removed in 1.7.\n",
      "  warnings.warn(\n",
      "/Users/harrisonma/opt/anaconda3/envs/ai_cellchat/lib/python3.11/site-packages/sklearn/manifold/_t_sne.py:1164: FutureWarning: 'n_iter' was renamed to 'max_iter' in version 1.5 and will be removed in 1.7.\n",
      "  warnings.warn(\n",
      "/Users/harrisonma/opt/anaconda3/envs/ai_cellchat/lib/python3.11/site-packages/sklearn/manifold/_t_sne.py:1164: FutureWarning: 'n_iter' was renamed to 'max_iter' in version 1.5 and will be removed in 1.7.\n",
      "  warnings.warn(\n"
     ]
    },
    {
     "name": "stdout",
     "output_type": "stream",
     "text": [
      "[CV] END learning_rate=50, n_components=5, n_iter=500, perplexity=30; total time=   0.0s\n",
      "[CV] END learning_rate=50, n_components=5, n_iter=500, perplexity=30; total time=   0.0s\n",
      "[CV] END learning_rate=50, n_components=5, n_iter=500, perplexity=30; total time=   0.0s\n"
     ]
    },
    {
     "name": "stderr",
     "output_type": "stream",
     "text": [
      "/Users/harrisonma/opt/anaconda3/envs/ai_cellchat/lib/python3.11/site-packages/sklearn/manifold/_t_sne.py:1164: FutureWarning: 'n_iter' was renamed to 'max_iter' in version 1.5 and will be removed in 1.7.\n",
      "  warnings.warn(\n",
      "/Users/harrisonma/opt/anaconda3/envs/ai_cellchat/lib/python3.11/site-packages/sklearn/manifold/_t_sne.py:1164: FutureWarning: 'n_iter' was renamed to 'max_iter' in version 1.5 and will be removed in 1.7.\n",
      "  warnings.warn(\n",
      "/Users/harrisonma/opt/anaconda3/envs/ai_cellchat/lib/python3.11/site-packages/sklearn/manifold/_t_sne.py:1164: FutureWarning: 'n_iter' was renamed to 'max_iter' in version 1.5 and will be removed in 1.7.\n",
      "  warnings.warn(\n",
      "/Users/harrisonma/opt/anaconda3/envs/ai_cellchat/lib/python3.11/site-packages/sklearn/manifold/_t_sne.py:1164: FutureWarning: 'n_iter' was renamed to 'max_iter' in version 1.5 and will be removed in 1.7.\n",
      "  warnings.warn(\n"
     ]
    },
    {
     "name": "stdout",
     "output_type": "stream",
     "text": [
      "[CV] END learning_rate=50, n_components=5, n_iter=500, perplexity=30; total time=   0.0s\n",
      "[CV] END learning_rate=50, n_components=5, n_iter=500, perplexity=50; total time=   0.0s\n",
      "[CV] END learning_rate=50, n_components=5, n_iter=500, perplexity=50; total time=   0.0s\n"
     ]
    },
    {
     "name": "stderr",
     "output_type": "stream",
     "text": [
      "/Users/harrisonma/opt/anaconda3/envs/ai_cellchat/lib/python3.11/site-packages/sklearn/manifold/_t_sne.py:1164: FutureWarning: 'n_iter' was renamed to 'max_iter' in version 1.5 and will be removed in 1.7.\n",
      "  warnings.warn(\n",
      "/Users/harrisonma/opt/anaconda3/envs/ai_cellchat/lib/python3.11/site-packages/sklearn/manifold/_t_sne.py:1164: FutureWarning: 'n_iter' was renamed to 'max_iter' in version 1.5 and will be removed in 1.7.\n",
      "  warnings.warn(\n",
      "/Users/harrisonma/opt/anaconda3/envs/ai_cellchat/lib/python3.11/site-packages/sklearn/manifold/_t_sne.py:1164: FutureWarning: 'n_iter' was renamed to 'max_iter' in version 1.5 and will be removed in 1.7.\n",
      "  warnings.warn(\n",
      "/Users/harrisonma/opt/anaconda3/envs/ai_cellchat/lib/python3.11/site-packages/sklearn/manifold/_t_sne.py:1164: FutureWarning: 'n_iter' was renamed to 'max_iter' in version 1.5 and will be removed in 1.7.\n",
      "  warnings.warn(\n"
     ]
    },
    {
     "name": "stdout",
     "output_type": "stream",
     "text": [
      "[CV] END learning_rate=50, n_components=5, n_iter=500, perplexity=50; total time=   0.0s\n",
      "[CV] END learning_rate=50, n_components=5, n_iter=500, perplexity=50; total time=   0.0s\n",
      "[CV] END learning_rate=50, n_components=5, n_iter=500, perplexity=50; total time=   0.0s\n",
      "[CV] END learning_rate=50, n_components=5, n_iter=1000, perplexity=5; total time=   0.0s\n"
     ]
    },
    {
     "name": "stderr",
     "output_type": "stream",
     "text": [
      "/Users/harrisonma/opt/anaconda3/envs/ai_cellchat/lib/python3.11/site-packages/sklearn/manifold/_t_sne.py:1164: FutureWarning: 'n_iter' was renamed to 'max_iter' in version 1.5 and will be removed in 1.7.\n",
      "  warnings.warn(\n",
      "/Users/harrisonma/opt/anaconda3/envs/ai_cellchat/lib/python3.11/site-packages/sklearn/manifold/_t_sne.py:1164: FutureWarning: 'n_iter' was renamed to 'max_iter' in version 1.5 and will be removed in 1.7.\n",
      "  warnings.warn(\n",
      "/Users/harrisonma/opt/anaconda3/envs/ai_cellchat/lib/python3.11/site-packages/sklearn/manifold/_t_sne.py:1164: FutureWarning: 'n_iter' was renamed to 'max_iter' in version 1.5 and will be removed in 1.7.\n",
      "  warnings.warn(\n"
     ]
    },
    {
     "name": "stdout",
     "output_type": "stream",
     "text": [
      "[CV] END learning_rate=50, n_components=5, n_iter=1000, perplexity=5; total time=   0.0s\n",
      "[CV] END learning_rate=50, n_components=5, n_iter=1000, perplexity=5; total time=   0.0s\n"
     ]
    },
    {
     "name": "stderr",
     "output_type": "stream",
     "text": [
      "/Users/harrisonma/opt/anaconda3/envs/ai_cellchat/lib/python3.11/site-packages/sklearn/manifold/_t_sne.py:1164: FutureWarning: 'n_iter' was renamed to 'max_iter' in version 1.5 and will be removed in 1.7.\n",
      "  warnings.warn(\n",
      "/Users/harrisonma/opt/anaconda3/envs/ai_cellchat/lib/python3.11/site-packages/sklearn/manifold/_t_sne.py:1164: FutureWarning: 'n_iter' was renamed to 'max_iter' in version 1.5 and will be removed in 1.7.\n",
      "  warnings.warn(\n",
      "/Users/harrisonma/opt/anaconda3/envs/ai_cellchat/lib/python3.11/site-packages/sklearn/manifold/_t_sne.py:1164: FutureWarning: 'n_iter' was renamed to 'max_iter' in version 1.5 and will be removed in 1.7.\n",
      "  warnings.warn(\n",
      "/Users/harrisonma/opt/anaconda3/envs/ai_cellchat/lib/python3.11/site-packages/sklearn/manifold/_t_sne.py:1164: FutureWarning: 'n_iter' was renamed to 'max_iter' in version 1.5 and will be removed in 1.7.\n",
      "  warnings.warn(\n"
     ]
    },
    {
     "name": "stdout",
     "output_type": "stream",
     "text": [
      "[CV] END learning_rate=50, n_components=5, n_iter=1000, perplexity=5; total time=   0.0s\n",
      "[CV] END learning_rate=50, n_components=5, n_iter=1000, perplexity=5; total time=   0.0s\n",
      "[CV] END learning_rate=50, n_components=5, n_iter=1000, perplexity=30; total time=   0.0s\n",
      "[CV] END learning_rate=50, n_components=5, n_iter=1000, perplexity=30; total time=   0.0s\n"
     ]
    },
    {
     "name": "stderr",
     "output_type": "stream",
     "text": [
      "/Users/harrisonma/opt/anaconda3/envs/ai_cellchat/lib/python3.11/site-packages/sklearn/manifold/_t_sne.py:1164: FutureWarning: 'n_iter' was renamed to 'max_iter' in version 1.5 and will be removed in 1.7.\n",
      "  warnings.warn(\n",
      "/Users/harrisonma/opt/anaconda3/envs/ai_cellchat/lib/python3.11/site-packages/sklearn/manifold/_t_sne.py:1164: FutureWarning: 'n_iter' was renamed to 'max_iter' in version 1.5 and will be removed in 1.7.\n",
      "  warnings.warn(\n",
      "/Users/harrisonma/opt/anaconda3/envs/ai_cellchat/lib/python3.11/site-packages/sklearn/manifold/_t_sne.py:1164: FutureWarning: 'n_iter' was renamed to 'max_iter' in version 1.5 and will be removed in 1.7.\n",
      "  warnings.warn(\n",
      "/Users/harrisonma/opt/anaconda3/envs/ai_cellchat/lib/python3.11/site-packages/sklearn/manifold/_t_sne.py:1164: FutureWarning: 'n_iter' was renamed to 'max_iter' in version 1.5 and will be removed in 1.7.\n",
      "  warnings.warn(\n"
     ]
    },
    {
     "name": "stdout",
     "output_type": "stream",
     "text": [
      "[CV] END learning_rate=50, n_components=5, n_iter=1000, perplexity=30; total time=   0.0s\n",
      "[CV] END learning_rate=50, n_components=5, n_iter=1000, perplexity=30; total time=   0.0s\n",
      "[CV] END learning_rate=50, n_components=5, n_iter=1000, perplexity=30; total time=   0.0s\n",
      "[CV] END learning_rate=50, n_components=5, n_iter=1000, perplexity=50; total time=   0.0s\n"
     ]
    },
    {
     "name": "stderr",
     "output_type": "stream",
     "text": [
      "/Users/harrisonma/opt/anaconda3/envs/ai_cellchat/lib/python3.11/site-packages/sklearn/manifold/_t_sne.py:1164: FutureWarning: 'n_iter' was renamed to 'max_iter' in version 1.5 and will be removed in 1.7.\n",
      "  warnings.warn(\n",
      "/Users/harrisonma/opt/anaconda3/envs/ai_cellchat/lib/python3.11/site-packages/sklearn/manifold/_t_sne.py:1164: FutureWarning: 'n_iter' was renamed to 'max_iter' in version 1.5 and will be removed in 1.7.\n",
      "  warnings.warn(\n",
      "/Users/harrisonma/opt/anaconda3/envs/ai_cellchat/lib/python3.11/site-packages/sklearn/manifold/_t_sne.py:1164: FutureWarning: 'n_iter' was renamed to 'max_iter' in version 1.5 and will be removed in 1.7.\n",
      "  warnings.warn(\n",
      "/Users/harrisonma/opt/anaconda3/envs/ai_cellchat/lib/python3.11/site-packages/sklearn/manifold/_t_sne.py:1164: FutureWarning: 'n_iter' was renamed to 'max_iter' in version 1.5 and will be removed in 1.7.\n",
      "  warnings.warn(\n"
     ]
    },
    {
     "name": "stdout",
     "output_type": "stream",
     "text": [
      "[CV] END learning_rate=50, n_components=5, n_iter=1000, perplexity=50; total time=   0.0s\n",
      "[CV] END learning_rate=50, n_components=5, n_iter=1000, perplexity=50; total time=   0.0s\n",
      "[CV] END learning_rate=50, n_components=2, n_iter=1000, perplexity=50; total time=   6.8s\n",
      "[CV] END learning_rate=50, n_components=5, n_iter=1000, perplexity=50; total time=   0.0s\n",
      "[CV] END learning_rate=50, n_components=5, n_iter=1000, perplexity=50; total time=   0.0s\n"
     ]
    },
    {
     "name": "stderr",
     "output_type": "stream",
     "text": [
      "/Users/harrisonma/opt/anaconda3/envs/ai_cellchat/lib/python3.11/site-packages/sklearn/manifold/_t_sne.py:1164: FutureWarning: 'n_iter' was renamed to 'max_iter' in version 1.5 and will be removed in 1.7.\n",
      "  warnings.warn(\n",
      "/Users/harrisonma/opt/anaconda3/envs/ai_cellchat/lib/python3.11/site-packages/sklearn/manifold/_t_sne.py:1164: FutureWarning: 'n_iter' was renamed to 'max_iter' in version 1.5 and will be removed in 1.7.\n",
      "  warnings.warn(\n"
     ]
    },
    {
     "name": "stdout",
     "output_type": "stream",
     "text": [
      "[CV] END learning_rate=50, n_components=10, n_iter=250, perplexity=5; total time=   0.0s\n"
     ]
    },
    {
     "name": "stderr",
     "output_type": "stream",
     "text": [
      "/Users/harrisonma/opt/anaconda3/envs/ai_cellchat/lib/python3.11/site-packages/sklearn/manifold/_t_sne.py:1164: FutureWarning: 'n_iter' was renamed to 'max_iter' in version 1.5 and will be removed in 1.7.\n",
      "  warnings.warn(\n",
      "/Users/harrisonma/opt/anaconda3/envs/ai_cellchat/lib/python3.11/site-packages/sklearn/manifold/_t_sne.py:1164: FutureWarning: 'n_iter' was renamed to 'max_iter' in version 1.5 and will be removed in 1.7.\n",
      "  warnings.warn(\n",
      "/Users/harrisonma/opt/anaconda3/envs/ai_cellchat/lib/python3.11/site-packages/sklearn/manifold/_t_sne.py:1164: FutureWarning: 'n_iter' was renamed to 'max_iter' in version 1.5 and will be removed in 1.7.\n",
      "  warnings.warn(\n"
     ]
    },
    {
     "name": "stdout",
     "output_type": "stream",
     "text": [
      "[CV] END learning_rate=50, n_components=10, n_iter=250, perplexity=5; total time=   0.1s\n",
      "[CV] END learning_rate=50, n_components=10, n_iter=250, perplexity=5; total time=   0.0s\n",
      "[CV] END learning_rate=50, n_components=10, n_iter=250, perplexity=5; total time=   0.0s\n",
      "[CV] END learning_rate=50, n_components=10, n_iter=250, perplexity=5; total time=   0.0s\n"
     ]
    },
    {
     "name": "stderr",
     "output_type": "stream",
     "text": [
      "/Users/harrisonma/opt/anaconda3/envs/ai_cellchat/lib/python3.11/site-packages/sklearn/manifold/_t_sne.py:1164: FutureWarning: 'n_iter' was renamed to 'max_iter' in version 1.5 and will be removed in 1.7.\n",
      "  warnings.warn(\n",
      "/Users/harrisonma/opt/anaconda3/envs/ai_cellchat/lib/python3.11/site-packages/sklearn/manifold/_t_sne.py:1164: FutureWarning: 'n_iter' was renamed to 'max_iter' in version 1.5 and will be removed in 1.7.\n",
      "  warnings.warn(\n",
      "/Users/harrisonma/opt/anaconda3/envs/ai_cellchat/lib/python3.11/site-packages/sklearn/manifold/_t_sne.py:1164: FutureWarning: 'n_iter' was renamed to 'max_iter' in version 1.5 and will be removed in 1.7.\n",
      "  warnings.warn(\n",
      "/Users/harrisonma/opt/anaconda3/envs/ai_cellchat/lib/python3.11/site-packages/sklearn/manifold/_t_sne.py:1164: FutureWarning: 'n_iter' was renamed to 'max_iter' in version 1.5 and will be removed in 1.7.\n",
      "  warnings.warn(\n"
     ]
    },
    {
     "name": "stdout",
     "output_type": "stream",
     "text": [
      "[CV] END learning_rate=50, n_components=10, n_iter=250, perplexity=30; total time=   0.0s\n",
      "[CV] END learning_rate=50, n_components=10, n_iter=250, perplexity=30; total time=   0.0s\n",
      "[CV] END learning_rate=50, n_components=10, n_iter=250, perplexity=30; total time=   0.0s\n",
      "[CV] END learning_rate=50, n_components=10, n_iter=250, perplexity=30; total time=   0.0s\n"
     ]
    },
    {
     "name": "stderr",
     "output_type": "stream",
     "text": [
      "/Users/harrisonma/opt/anaconda3/envs/ai_cellchat/lib/python3.11/site-packages/sklearn/manifold/_t_sne.py:1164: FutureWarning: 'n_iter' was renamed to 'max_iter' in version 1.5 and will be removed in 1.7.\n",
      "  warnings.warn(\n",
      "/Users/harrisonma/opt/anaconda3/envs/ai_cellchat/lib/python3.11/site-packages/sklearn/manifold/_t_sne.py:1164: FutureWarning: 'n_iter' was renamed to 'max_iter' in version 1.5 and will be removed in 1.7.\n",
      "  warnings.warn(\n",
      "/Users/harrisonma/opt/anaconda3/envs/ai_cellchat/lib/python3.11/site-packages/sklearn/manifold/_t_sne.py:1164: FutureWarning: 'n_iter' was renamed to 'max_iter' in version 1.5 and will be removed in 1.7.\n",
      "  warnings.warn(\n",
      "/Users/harrisonma/opt/anaconda3/envs/ai_cellchat/lib/python3.11/site-packages/sklearn/manifold/_t_sne.py:1164: FutureWarning: 'n_iter' was renamed to 'max_iter' in version 1.5 and will be removed in 1.7.\n",
      "  warnings.warn(\n"
     ]
    },
    {
     "name": "stdout",
     "output_type": "stream",
     "text": [
      "[CV] END learning_rate=50, n_components=10, n_iter=250, perplexity=30; total time=   0.0s\n",
      "[CV] END learning_rate=50, n_components=10, n_iter=250, perplexity=50; total time=   0.0s\n",
      "[CV] END learning_rate=50, n_components=10, n_iter=250, perplexity=50; total time=   0.0s\n",
      "[CV] END learning_rate=50, n_components=10, n_iter=250, perplexity=50; total time=   0.0s\n",
      "[CV] END learning_rate=50, n_components=10, n_iter=250, perplexity=50; total time=   0.0s\n",
      "[CV] END learning_rate=50, n_components=10, n_iter=250, perplexity=50; total time=   0.0s\n"
     ]
    },
    {
     "name": "stderr",
     "output_type": "stream",
     "text": [
      "/Users/harrisonma/opt/anaconda3/envs/ai_cellchat/lib/python3.11/site-packages/sklearn/manifold/_t_sne.py:1164: FutureWarning: 'n_iter' was renamed to 'max_iter' in version 1.5 and will be removed in 1.7.\n",
      "  warnings.warn(\n",
      "/Users/harrisonma/opt/anaconda3/envs/ai_cellchat/lib/python3.11/site-packages/sklearn/manifold/_t_sne.py:1164: FutureWarning: 'n_iter' was renamed to 'max_iter' in version 1.5 and will be removed in 1.7.\n",
      "  warnings.warn(\n",
      "/Users/harrisonma/opt/anaconda3/envs/ai_cellchat/lib/python3.11/site-packages/sklearn/manifold/_t_sne.py:1164: FutureWarning: 'n_iter' was renamed to 'max_iter' in version 1.5 and will be removed in 1.7.\n",
      "  warnings.warn(\n",
      "/Users/harrisonma/opt/anaconda3/envs/ai_cellchat/lib/python3.11/site-packages/sklearn/manifold/_t_sne.py:1164: FutureWarning: 'n_iter' was renamed to 'max_iter' in version 1.5 and will be removed in 1.7.\n",
      "  warnings.warn(\n",
      "/Users/harrisonma/opt/anaconda3/envs/ai_cellchat/lib/python3.11/site-packages/sklearn/manifold/_t_sne.py:1164: FutureWarning: 'n_iter' was renamed to 'max_iter' in version 1.5 and will be removed in 1.7.\n",
      "  warnings.warn(\n",
      "/Users/harrisonma/opt/anaconda3/envs/ai_cellchat/lib/python3.11/site-packages/sklearn/manifold/_t_sne.py:1164: FutureWarning: 'n_iter' was renamed to 'max_iter' in version 1.5 and will be removed in 1.7.\n",
      "  warnings.warn(\n"
     ]
    },
    {
     "name": "stdout",
     "output_type": "stream",
     "text": [
      "[CV] END learning_rate=50, n_components=10, n_iter=500, perplexity=5; total time=   0.0s\n",
      "[CV] END learning_rate=50, n_components=10, n_iter=500, perplexity=5; total time=   0.0s\n",
      "[CV] END learning_rate=50, n_components=10, n_iter=500, perplexity=5; total time=   0.0s\n",
      "[CV] END learning_rate=50, n_components=10, n_iter=500, perplexity=5; total time=   0.0s\n"
     ]
    },
    {
     "name": "stderr",
     "output_type": "stream",
     "text": [
      "/Users/harrisonma/opt/anaconda3/envs/ai_cellchat/lib/python3.11/site-packages/sklearn/manifold/_t_sne.py:1164: FutureWarning: 'n_iter' was renamed to 'max_iter' in version 1.5 and will be removed in 1.7.\n",
      "  warnings.warn(\n",
      "/Users/harrisonma/opt/anaconda3/envs/ai_cellchat/lib/python3.11/site-packages/sklearn/manifold/_t_sne.py:1164: FutureWarning: 'n_iter' was renamed to 'max_iter' in version 1.5 and will be removed in 1.7.\n",
      "  warnings.warn(\n",
      "/Users/harrisonma/opt/anaconda3/envs/ai_cellchat/lib/python3.11/site-packages/sklearn/manifold/_t_sne.py:1164: FutureWarning: 'n_iter' was renamed to 'max_iter' in version 1.5 and will be removed in 1.7.\n",
      "  warnings.warn(\n"
     ]
    },
    {
     "name": "stdout",
     "output_type": "stream",
     "text": [
      "[CV] END learning_rate=50, n_components=10, n_iter=500, perplexity=5; total time=   0.0s\n",
      "[CV] END learning_rate=50, n_components=2, n_iter=1000, perplexity=50; total time=   5.9s\n",
      "[CV] END learning_rate=50, n_components=10, n_iter=500, perplexity=30; total time=   0.0s\n",
      "[CV] END learning_rate=50, n_components=10, n_iter=500, perplexity=30; total time=   0.0s\n",
      "[CV] END learning_rate=50, n_components=10, n_iter=500, perplexity=30; total time=   0.0s\n"
     ]
    },
    {
     "name": "stderr",
     "output_type": "stream",
     "text": [
      "/Users/harrisonma/opt/anaconda3/envs/ai_cellchat/lib/python3.11/site-packages/sklearn/manifold/_t_sne.py:1164: FutureWarning: 'n_iter' was renamed to 'max_iter' in version 1.5 and will be removed in 1.7.\n",
      "  warnings.warn(\n",
      "/Users/harrisonma/opt/anaconda3/envs/ai_cellchat/lib/python3.11/site-packages/sklearn/manifold/_t_sne.py:1164: FutureWarning: 'n_iter' was renamed to 'max_iter' in version 1.5 and will be removed in 1.7.\n",
      "  warnings.warn(\n",
      "/Users/harrisonma/opt/anaconda3/envs/ai_cellchat/lib/python3.11/site-packages/sklearn/manifold/_t_sne.py:1164: FutureWarning: 'n_iter' was renamed to 'max_iter' in version 1.5 and will be removed in 1.7.\n",
      "  warnings.warn(\n",
      "/Users/harrisonma/opt/anaconda3/envs/ai_cellchat/lib/python3.11/site-packages/sklearn/manifold/_t_sne.py:1164: FutureWarning: 'n_iter' was renamed to 'max_iter' in version 1.5 and will be removed in 1.7.\n",
      "  warnings.warn(\n",
      "/Users/harrisonma/opt/anaconda3/envs/ai_cellchat/lib/python3.11/site-packages/sklearn/manifold/_t_sne.py:1164: FutureWarning: 'n_iter' was renamed to 'max_iter' in version 1.5 and will be removed in 1.7.\n",
      "  warnings.warn(\n"
     ]
    },
    {
     "name": "stdout",
     "output_type": "stream",
     "text": [
      "[CV] END learning_rate=50, n_components=10, n_iter=500, perplexity=30; total time=   0.0s\n",
      "[CV] END learning_rate=50, n_components=10, n_iter=500, perplexity=30; total time=   0.0s\n",
      "[CV] END learning_rate=50, n_components=10, n_iter=500, perplexity=50; total time=   0.0s\n",
      "[CV] END learning_rate=50, n_components=10, n_iter=500, perplexity=50; total time=   0.0s\n",
      "[CV] END learning_rate=50, n_components=10, n_iter=500, perplexity=50; total time=   0.0s\n"
     ]
    },
    {
     "name": "stderr",
     "output_type": "stream",
     "text": [
      "/Users/harrisonma/opt/anaconda3/envs/ai_cellchat/lib/python3.11/site-packages/sklearn/manifold/_t_sne.py:1164: FutureWarning: 'n_iter' was renamed to 'max_iter' in version 1.5 and will be removed in 1.7.\n",
      "  warnings.warn(\n",
      "/Users/harrisonma/opt/anaconda3/envs/ai_cellchat/lib/python3.11/site-packages/sklearn/manifold/_t_sne.py:1164: FutureWarning: 'n_iter' was renamed to 'max_iter' in version 1.5 and will be removed in 1.7.\n",
      "  warnings.warn(\n",
      "/Users/harrisonma/opt/anaconda3/envs/ai_cellchat/lib/python3.11/site-packages/sklearn/manifold/_t_sne.py:1164: FutureWarning: 'n_iter' was renamed to 'max_iter' in version 1.5 and will be removed in 1.7.\n",
      "  warnings.warn(\n",
      "/Users/harrisonma/opt/anaconda3/envs/ai_cellchat/lib/python3.11/site-packages/sklearn/manifold/_t_sne.py:1164: FutureWarning: 'n_iter' was renamed to 'max_iter' in version 1.5 and will be removed in 1.7.\n",
      "  warnings.warn(\n"
     ]
    },
    {
     "name": "stdout",
     "output_type": "stream",
     "text": [
      "[CV] END learning_rate=50, n_components=10, n_iter=500, perplexity=50; total time=   0.0s\n",
      "[CV] END learning_rate=50, n_components=10, n_iter=500, perplexity=50; total time=   0.0s\n",
      "[CV] END learning_rate=50, n_components=10, n_iter=1000, perplexity=5; total time=   0.0s\n",
      "[CV] END learning_rate=50, n_components=10, n_iter=1000, perplexity=5; total time=   0.0s\n",
      "[CV] END learning_rate=50, n_components=10, n_iter=1000, perplexity=5; total time=   0.0s\n"
     ]
    },
    {
     "name": "stderr",
     "output_type": "stream",
     "text": [
      "/Users/harrisonma/opt/anaconda3/envs/ai_cellchat/lib/python3.11/site-packages/sklearn/manifold/_t_sne.py:1164: FutureWarning: 'n_iter' was renamed to 'max_iter' in version 1.5 and will be removed in 1.7.\n",
      "  warnings.warn(\n",
      "/Users/harrisonma/opt/anaconda3/envs/ai_cellchat/lib/python3.11/site-packages/sklearn/manifold/_t_sne.py:1164: FutureWarning: 'n_iter' was renamed to 'max_iter' in version 1.5 and will be removed in 1.7.\n",
      "  warnings.warn(\n",
      "/Users/harrisonma/opt/anaconda3/envs/ai_cellchat/lib/python3.11/site-packages/sklearn/manifold/_t_sne.py:1164: FutureWarning: 'n_iter' was renamed to 'max_iter' in version 1.5 and will be removed in 1.7.\n",
      "  warnings.warn(\n"
     ]
    },
    {
     "name": "stdout",
     "output_type": "stream",
     "text": [
      "[CV] END learning_rate=50, n_components=10, n_iter=1000, perplexity=5; total time=   0.0s\n",
      "[CV] END learning_rate=50, n_components=10, n_iter=1000, perplexity=5; total time=   0.0s\n",
      "[CV] END learning_rate=50, n_components=10, n_iter=1000, perplexity=30; total time=   0.0s\n",
      "[CV] END learning_rate=50, n_components=10, n_iter=1000, perplexity=30; total time=   0.0s\n"
     ]
    },
    {
     "name": "stderr",
     "output_type": "stream",
     "text": [
      "/Users/harrisonma/opt/anaconda3/envs/ai_cellchat/lib/python3.11/site-packages/sklearn/manifold/_t_sne.py:1164: FutureWarning: 'n_iter' was renamed to 'max_iter' in version 1.5 and will be removed in 1.7.\n",
      "  warnings.warn(\n",
      "/Users/harrisonma/opt/anaconda3/envs/ai_cellchat/lib/python3.11/site-packages/sklearn/manifold/_t_sne.py:1164: FutureWarning: 'n_iter' was renamed to 'max_iter' in version 1.5 and will be removed in 1.7.\n",
      "  warnings.warn(\n",
      "/Users/harrisonma/opt/anaconda3/envs/ai_cellchat/lib/python3.11/site-packages/sklearn/manifold/_t_sne.py:1164: FutureWarning: 'n_iter' was renamed to 'max_iter' in version 1.5 and will be removed in 1.7.\n",
      "  warnings.warn(\n",
      "/Users/harrisonma/opt/anaconda3/envs/ai_cellchat/lib/python3.11/site-packages/sklearn/manifold/_t_sne.py:1164: FutureWarning: 'n_iter' was renamed to 'max_iter' in version 1.5 and will be removed in 1.7.\n",
      "  warnings.warn(\n",
      "/Users/harrisonma/opt/anaconda3/envs/ai_cellchat/lib/python3.11/site-packages/sklearn/manifold/_t_sne.py:1164: FutureWarning: 'n_iter' was renamed to 'max_iter' in version 1.5 and will be removed in 1.7.\n",
      "  warnings.warn(\n"
     ]
    },
    {
     "name": "stdout",
     "output_type": "stream",
     "text": [
      "[CV] END learning_rate=50, n_components=10, n_iter=1000, perplexity=30; total time=   0.0s\n",
      "[CV] END learning_rate=50, n_components=10, n_iter=1000, perplexity=30; total time=   0.0s\n",
      "[CV] END learning_rate=50, n_components=10, n_iter=1000, perplexity=30; total time=   0.0s\n",
      "[CV] END learning_rate=50, n_components=10, n_iter=1000, perplexity=50; total time=   0.1s\n",
      "[CV] END learning_rate=50, n_components=10, n_iter=1000, perplexity=50; total time=   0.0s\n"
     ]
    },
    {
     "name": "stderr",
     "output_type": "stream",
     "text": [
      "/Users/harrisonma/opt/anaconda3/envs/ai_cellchat/lib/python3.11/site-packages/sklearn/manifold/_t_sne.py:1164: FutureWarning: 'n_iter' was renamed to 'max_iter' in version 1.5 and will be removed in 1.7.\n",
      "  warnings.warn(\n",
      "/Users/harrisonma/opt/anaconda3/envs/ai_cellchat/lib/python3.11/site-packages/sklearn/manifold/_t_sne.py:1164: FutureWarning: 'n_iter' was renamed to 'max_iter' in version 1.5 and will be removed in 1.7.\n",
      "  warnings.warn(\n",
      "/Users/harrisonma/opt/anaconda3/envs/ai_cellchat/lib/python3.11/site-packages/sklearn/manifold/_t_sne.py:1164: FutureWarning: 'n_iter' was renamed to 'max_iter' in version 1.5 and will be removed in 1.7.\n",
      "  warnings.warn(\n",
      "/Users/harrisonma/opt/anaconda3/envs/ai_cellchat/lib/python3.11/site-packages/sklearn/manifold/_t_sne.py:1164: FutureWarning: 'n_iter' was renamed to 'max_iter' in version 1.5 and will be removed in 1.7.\n",
      "  warnings.warn(\n"
     ]
    },
    {
     "name": "stdout",
     "output_type": "stream",
     "text": [
      "[CV] END learning_rate=50, n_components=10, n_iter=1000, perplexity=50; total time=   0.0s\n",
      "[CV] END learning_rate=50, n_components=10, n_iter=1000, perplexity=50; total time=   0.0s\n",
      "[CV] END learning_rate=50, n_components=10, n_iter=1000, perplexity=50; total time=   0.0s\n"
     ]
    },
    {
     "name": "stderr",
     "output_type": "stream",
     "text": [
      "/Users/harrisonma/opt/anaconda3/envs/ai_cellchat/lib/python3.11/site-packages/sklearn/manifold/_t_sne.py:1164: FutureWarning: 'n_iter' was renamed to 'max_iter' in version 1.5 and will be removed in 1.7.\n",
      "  warnings.warn(\n",
      "/Users/harrisonma/opt/anaconda3/envs/ai_cellchat/lib/python3.11/site-packages/sklearn/manifold/_t_sne.py:1164: FutureWarning: 'n_iter' was renamed to 'max_iter' in version 1.5 and will be removed in 1.7.\n",
      "  warnings.warn(\n",
      "/Users/harrisonma/opt/anaconda3/envs/ai_cellchat/lib/python3.11/site-packages/sklearn/manifold/_t_sne.py:1164: FutureWarning: 'n_iter' was renamed to 'max_iter' in version 1.5 and will be removed in 1.7.\n",
      "  warnings.warn(\n",
      "/Users/harrisonma/opt/anaconda3/envs/ai_cellchat/lib/python3.11/site-packages/sklearn/manifold/_t_sne.py:1164: FutureWarning: 'n_iter' was renamed to 'max_iter' in version 1.5 and will be removed in 1.7.\n",
      "  warnings.warn(\n",
      "/Users/harrisonma/opt/anaconda3/envs/ai_cellchat/lib/python3.11/site-packages/sklearn/manifold/_t_sne.py:1164: FutureWarning: 'n_iter' was renamed to 'max_iter' in version 1.5 and will be removed in 1.7.\n",
      "  warnings.warn(\n",
      "/Users/harrisonma/opt/anaconda3/envs/ai_cellchat/lib/python3.11/site-packages/sklearn/manifold/_t_sne.py:1164: FutureWarning: 'n_iter' was renamed to 'max_iter' in version 1.5 and will be removed in 1.7.\n",
      "  warnings.warn(\n",
      "/Users/harrisonma/opt/anaconda3/envs/ai_cellchat/lib/python3.11/site-packages/sklearn/manifold/_t_sne.py:1164: FutureWarning: 'n_iter' was renamed to 'max_iter' in version 1.5 and will be removed in 1.7.\n",
      "  warnings.warn(\n",
      "/Users/harrisonma/opt/anaconda3/envs/ai_cellchat/lib/python3.11/site-packages/sklearn/manifold/_t_sne.py:1164: FutureWarning: 'n_iter' was renamed to 'max_iter' in version 1.5 and will be removed in 1.7.\n",
      "  warnings.warn(\n",
      "/Users/harrisonma/opt/anaconda3/envs/ai_cellchat/lib/python3.11/site-packages/sklearn/manifold/_t_sne.py:1164: FutureWarning: 'n_iter' was renamed to 'max_iter' in version 1.5 and will be removed in 1.7.\n",
      "  warnings.warn(\n",
      "/Users/harrisonma/opt/anaconda3/envs/ai_cellchat/lib/python3.11/site-packages/sklearn/manifold/_t_sne.py:1164: FutureWarning: 'n_iter' was renamed to 'max_iter' in version 1.5 and will be removed in 1.7.\n",
      "  warnings.warn(\n",
      "/Users/harrisonma/opt/anaconda3/envs/ai_cellchat/lib/python3.11/site-packages/sklearn/base.py:1389: ConvergenceWarning: Number of distinct clusters (2) found smaller than n_clusters (8). Possibly due to duplicate points in X.\n",
      "  return fit_method(estimator, *args, **kwargs)\n",
      "/Users/harrisonma/opt/anaconda3/envs/ai_cellchat/lib/python3.11/site-packages/sklearn/manifold/_spectral_embedding.py:329: UserWarning: Graph is not fully connected, spectral embedding may not work as expected.\n",
      "  warnings.warn(\n",
      "/Users/harrisonma/opt/anaconda3/envs/ai_cellchat/lib/python3.11/site-packages/sklearn/base.py:1389: ConvergenceWarning: Number of distinct clusters (2) found smaller than n_clusters (8). Possibly due to duplicate points in X.\n",
      "  return fit_method(estimator, *args, **kwargs)\n",
      "/Users/harrisonma/opt/anaconda3/envs/ai_cellchat/lib/python3.11/site-packages/sklearn/base.py:1389: ConvergenceWarning: Number of distinct clusters (2) found smaller than n_clusters (8). Possibly due to duplicate points in X.\n",
      "  return fit_method(estimator, *args, **kwargs)\n",
      "/Users/harrisonma/opt/anaconda3/envs/ai_cellchat/lib/python3.11/site-packages/sklearn/base.py:1389: ConvergenceWarning: Number of distinct clusters (2) found smaller than n_clusters (8). Possibly due to duplicate points in X.\n",
      "  return fit_method(estimator, *args, **kwargs)\n",
      "/Users/harrisonma/opt/anaconda3/envs/ai_cellchat/lib/python3.11/site-packages/sklearn/manifold/_spectral_embedding.py:329: UserWarning: Graph is not fully connected, spectral embedding may not work as expected.\n",
      "  warnings.warn(\n",
      "/Users/harrisonma/opt/anaconda3/envs/ai_cellchat/lib/python3.11/site-packages/sklearn/manifold/_spectral_embedding.py:329: UserWarning: Graph is not fully connected, spectral embedding may not work as expected.\n",
      "  warnings.warn(\n",
      "/Users/harrisonma/opt/anaconda3/envs/ai_cellchat/lib/python3.11/site-packages/sklearn/base.py:1389: ConvergenceWarning: Number of distinct clusters (3) found smaller than n_clusters (8). Possibly due to duplicate points in X.\n",
      "  return fit_method(estimator, *args, **kwargs)\n",
      "/Users/harrisonma/opt/anaconda3/envs/ai_cellchat/lib/python3.11/site-packages/sklearn/base.py:1389: ConvergenceWarning: Number of distinct clusters (2) found smaller than n_clusters (8). Possibly due to duplicate points in X.\n",
      "  return fit_method(estimator, *args, **kwargs)\n"
     ]
    },
    {
     "name": "stdout",
     "output_type": "stream",
     "text": [
      "[CV] END learning_rate=100, n_components=2, n_iter=250, perplexity=5; total time=   4.2s\n",
      "[CV] END learning_rate=100, n_components=2, n_iter=250, perplexity=5; total time=   4.3s\n"
     ]
    },
    {
     "name": "stderr",
     "output_type": "stream",
     "text": [
      "/Users/harrisonma/opt/anaconda3/envs/ai_cellchat/lib/python3.11/site-packages/sklearn/manifold/_t_sne.py:1164: FutureWarning: 'n_iter' was renamed to 'max_iter' in version 1.5 and will be removed in 1.7.\n",
      "  warnings.warn(\n",
      "/Users/harrisonma/opt/anaconda3/envs/ai_cellchat/lib/python3.11/site-packages/sklearn/manifold/_t_sne.py:1164: FutureWarning: 'n_iter' was renamed to 'max_iter' in version 1.5 and will be removed in 1.7.\n",
      "  warnings.warn(\n"
     ]
    },
    {
     "name": "stdout",
     "output_type": "stream",
     "text": [
      "[CV] END learning_rate=100, n_components=2, n_iter=250, perplexity=5; total time=   4.4s\n",
      "[CV] END learning_rate=100, n_components=2, n_iter=250, perplexity=5; total time=   4.5s\n",
      "[CV] END learning_rate=100, n_components=2, n_iter=250, perplexity=5; total time=   4.5s\n"
     ]
    },
    {
     "name": "stderr",
     "output_type": "stream",
     "text": [
      "/Users/harrisonma/opt/anaconda3/envs/ai_cellchat/lib/python3.11/site-packages/sklearn/manifold/_t_sne.py:1164: FutureWarning: 'n_iter' was renamed to 'max_iter' in version 1.5 and will be removed in 1.7.\n",
      "  warnings.warn(\n",
      "/Users/harrisonma/opt/anaconda3/envs/ai_cellchat/lib/python3.11/site-packages/sklearn/manifold/_t_sne.py:1164: FutureWarning: 'n_iter' was renamed to 'max_iter' in version 1.5 and will be removed in 1.7.\n",
      "  warnings.warn(\n",
      "/Users/harrisonma/opt/anaconda3/envs/ai_cellchat/lib/python3.11/site-packages/sklearn/manifold/_t_sne.py:1164: FutureWarning: 'n_iter' was renamed to 'max_iter' in version 1.5 and will be removed in 1.7.\n",
      "  warnings.warn(\n"
     ]
    },
    {
     "name": "stdout",
     "output_type": "stream",
     "text": [
      "[CV] END learning_rate=100, n_components=2, n_iter=250, perplexity=30; total time=   5.3s\n",
      "[CV] END learning_rate=100, n_components=2, n_iter=250, perplexity=30; total time=   5.1s\n",
      "[CV] END learning_rate=100, n_components=2, n_iter=250, perplexity=30; total time=   5.3s\n"
     ]
    },
    {
     "name": "stderr",
     "output_type": "stream",
     "text": [
      "/Users/harrisonma/opt/anaconda3/envs/ai_cellchat/lib/python3.11/site-packages/sklearn/manifold/_t_sne.py:1164: FutureWarning: 'n_iter' was renamed to 'max_iter' in version 1.5 and will be removed in 1.7.\n",
      "  warnings.warn(\n",
      "/Users/harrisonma/opt/anaconda3/envs/ai_cellchat/lib/python3.11/site-packages/sklearn/manifold/_t_sne.py:1164: FutureWarning: 'n_iter' was renamed to 'max_iter' in version 1.5 and will be removed in 1.7.\n",
      "  warnings.warn(\n",
      "/Users/harrisonma/opt/anaconda3/envs/ai_cellchat/lib/python3.11/site-packages/sklearn/manifold/_t_sne.py:1164: FutureWarning: 'n_iter' was renamed to 'max_iter' in version 1.5 and will be removed in 1.7.\n",
      "  warnings.warn(\n",
      "/Users/harrisonma/opt/anaconda3/envs/ai_cellchat/lib/python3.11/site-packages/sklearn/base.py:1389: ConvergenceWarning: Number of distinct clusters (2) found smaller than n_clusters (8). Possibly due to duplicate points in X.\n",
      "  return fit_method(estimator, *args, **kwargs)\n",
      "/Users/harrisonma/opt/anaconda3/envs/ai_cellchat/lib/python3.11/site-packages/sklearn/manifold/_spectral_embedding.py:329: UserWarning: Graph is not fully connected, spectral embedding may not work as expected.\n",
      "  warnings.warn(\n",
      "/Users/harrisonma/opt/anaconda3/envs/ai_cellchat/lib/python3.11/site-packages/sklearn/base.py:1389: ConvergenceWarning: Number of distinct clusters (3) found smaller than n_clusters (8). Possibly due to duplicate points in X.\n",
      "  return fit_method(estimator, *args, **kwargs)\n",
      "/Users/harrisonma/opt/anaconda3/envs/ai_cellchat/lib/python3.11/site-packages/sklearn/base.py:1389: ConvergenceWarning: Number of distinct clusters (2) found smaller than n_clusters (8). Possibly due to duplicate points in X.\n",
      "  return fit_method(estimator, *args, **kwargs)\n",
      "/Users/harrisonma/opt/anaconda3/envs/ai_cellchat/lib/python3.11/site-packages/sklearn/base.py:1389: ConvergenceWarning: Number of distinct clusters (2) found smaller than n_clusters (8). Possibly due to duplicate points in X.\n",
      "  return fit_method(estimator, *args, **kwargs)\n"
     ]
    },
    {
     "name": "stdout",
     "output_type": "stream",
     "text": [
      "[CV] END learning_rate=100, n_components=2, n_iter=250, perplexity=30; total time=   4.9s\n"
     ]
    },
    {
     "name": "stderr",
     "output_type": "stream",
     "text": [
      "/Users/harrisonma/opt/anaconda3/envs/ai_cellchat/lib/python3.11/site-packages/sklearn/manifold/_t_sne.py:1164: FutureWarning: 'n_iter' was renamed to 'max_iter' in version 1.5 and will be removed in 1.7.\n",
      "  warnings.warn(\n"
     ]
    },
    {
     "name": "stdout",
     "output_type": "stream",
     "text": [
      "[CV] END learning_rate=100, n_components=2, n_iter=250, perplexity=30; total time=   5.0s\n"
     ]
    },
    {
     "name": "stderr",
     "output_type": "stream",
     "text": [
      "/Users/harrisonma/opt/anaconda3/envs/ai_cellchat/lib/python3.11/site-packages/sklearn/manifold/_t_sne.py:1164: FutureWarning: 'n_iter' was renamed to 'max_iter' in version 1.5 and will be removed in 1.7.\n",
      "  warnings.warn(\n"
     ]
    },
    {
     "name": "stdout",
     "output_type": "stream",
     "text": [
      "[CV] END learning_rate=100, n_components=2, n_iter=250, perplexity=50; total time=   5.2s\n",
      "[CV] END learning_rate=100, n_components=2, n_iter=250, perplexity=50; total time=   5.2s\n"
     ]
    },
    {
     "name": "stderr",
     "output_type": "stream",
     "text": [
      "/Users/harrisonma/opt/anaconda3/envs/ai_cellchat/lib/python3.11/site-packages/sklearn/manifold/_t_sne.py:1164: FutureWarning: 'n_iter' was renamed to 'max_iter' in version 1.5 and will be removed in 1.7.\n",
      "  warnings.warn(\n",
      "/Users/harrisonma/opt/anaconda3/envs/ai_cellchat/lib/python3.11/site-packages/sklearn/manifold/_t_sne.py:1164: FutureWarning: 'n_iter' was renamed to 'max_iter' in version 1.5 and will be removed in 1.7.\n",
      "  warnings.warn(\n"
     ]
    },
    {
     "name": "stdout",
     "output_type": "stream",
     "text": [
      "[CV] END learning_rate=100, n_components=2, n_iter=250, perplexity=50; total time=   5.3s\n"
     ]
    },
    {
     "name": "stderr",
     "output_type": "stream",
     "text": [
      "/Users/harrisonma/opt/anaconda3/envs/ai_cellchat/lib/python3.11/site-packages/sklearn/manifold/_t_sne.py:1164: FutureWarning: 'n_iter' was renamed to 'max_iter' in version 1.5 and will be removed in 1.7.\n",
      "  warnings.warn(\n"
     ]
    },
    {
     "name": "stdout",
     "output_type": "stream",
     "text": [
      "[CV] END learning_rate=100, n_components=2, n_iter=250, perplexity=50; total time=   5.2s\n"
     ]
    },
    {
     "name": "stderr",
     "output_type": "stream",
     "text": [
      "/Users/harrisonma/opt/anaconda3/envs/ai_cellchat/lib/python3.11/site-packages/sklearn/manifold/_t_sne.py:1164: FutureWarning: 'n_iter' was renamed to 'max_iter' in version 1.5 and will be removed in 1.7.\n",
      "  warnings.warn(\n"
     ]
    },
    {
     "name": "stdout",
     "output_type": "stream",
     "text": [
      "[CV] END learning_rate=100, n_components=2, n_iter=250, perplexity=50; total time=   5.3s\n"
     ]
    },
    {
     "name": "stderr",
     "output_type": "stream",
     "text": [
      "/Users/harrisonma/opt/anaconda3/envs/ai_cellchat/lib/python3.11/site-packages/sklearn/manifold/_t_sne.py:1164: FutureWarning: 'n_iter' was renamed to 'max_iter' in version 1.5 and will be removed in 1.7.\n",
      "  warnings.warn(\n"
     ]
    },
    {
     "name": "stdout",
     "output_type": "stream",
     "text": [
      "[CV] END learning_rate=100, n_components=2, n_iter=500, perplexity=30; total time=   4.8s\n"
     ]
    },
    {
     "name": "stderr",
     "output_type": "stream",
     "text": [
      "/Users/harrisonma/opt/anaconda3/envs/ai_cellchat/lib/python3.11/site-packages/sklearn/manifold/_t_sne.py:1164: FutureWarning: 'n_iter' was renamed to 'max_iter' in version 1.5 and will be removed in 1.7.\n",
      "  warnings.warn(\n"
     ]
    },
    {
     "name": "stdout",
     "output_type": "stream",
     "text": [
      "[CV] END learning_rate=100, n_components=2, n_iter=500, perplexity=30; total time=   5.0s\n",
      "[CV] END learning_rate=100, n_components=2, n_iter=500, perplexity=30; total time=   4.8s\n"
     ]
    },
    {
     "name": "stderr",
     "output_type": "stream",
     "text": [
      "/Users/harrisonma/opt/anaconda3/envs/ai_cellchat/lib/python3.11/site-packages/sklearn/manifold/_t_sne.py:1164: FutureWarning: 'n_iter' was renamed to 'max_iter' in version 1.5 and will be removed in 1.7.\n",
      "  warnings.warn(\n",
      "/Users/harrisonma/opt/anaconda3/envs/ai_cellchat/lib/python3.11/site-packages/sklearn/manifold/_t_sne.py:1164: FutureWarning: 'n_iter' was renamed to 'max_iter' in version 1.5 and will be removed in 1.7.\n",
      "  warnings.warn(\n"
     ]
    },
    {
     "name": "stdout",
     "output_type": "stream",
     "text": [
      "[CV] END learning_rate=100, n_components=2, n_iter=500, perplexity=30; total time=   4.7s\n"
     ]
    },
    {
     "name": "stderr",
     "output_type": "stream",
     "text": [
      "/Users/harrisonma/opt/anaconda3/envs/ai_cellchat/lib/python3.11/site-packages/sklearn/manifold/_t_sne.py:1164: FutureWarning: 'n_iter' was renamed to 'max_iter' in version 1.5 and will be removed in 1.7.\n",
      "  warnings.warn(\n"
     ]
    },
    {
     "name": "stdout",
     "output_type": "stream",
     "text": [
      "[CV] END learning_rate=100, n_components=2, n_iter=500, perplexity=30; total time=   5.0s\n",
      "[CV] END learning_rate=100, n_components=2, n_iter=500, perplexity=50; total time=   4.9s\n"
     ]
    },
    {
     "name": "stderr",
     "output_type": "stream",
     "text": [
      "/Users/harrisonma/opt/anaconda3/envs/ai_cellchat/lib/python3.11/site-packages/sklearn/manifold/_t_sne.py:1164: FutureWarning: 'n_iter' was renamed to 'max_iter' in version 1.5 and will be removed in 1.7.\n",
      "  warnings.warn(\n",
      "/Users/harrisonma/opt/anaconda3/envs/ai_cellchat/lib/python3.11/site-packages/sklearn/manifold/_t_sne.py:1164: FutureWarning: 'n_iter' was renamed to 'max_iter' in version 1.5 and will be removed in 1.7.\n",
      "  warnings.warn(\n",
      "/Users/harrisonma/opt/anaconda3/envs/ai_cellchat/lib/python3.11/site-packages/sklearn/manifold/_spectral_embedding.py:455: UserWarning: Exited at iteration 2000 with accuracies \n",
      "[1.85875925e-14 5.62931099e-07 2.37793318e-06 1.29508380e-06\n",
      " 1.69722809e-06 3.75243981e-06 6.27747187e-06 3.34376103e-06\n",
      " 1.14920074e-05]\n",
      "not reaching the requested tolerance 5.9604644775390625e-06.\n",
      "Use iteration 1997 instead with accuracy \n",
      "3.382318314666172e-06.\n",
      "\n",
      "  _, diffusion_map = lobpcg(\n",
      "/Users/harrisonma/opt/anaconda3/envs/ai_cellchat/lib/python3.11/site-packages/sklearn/manifold/_spectral_embedding.py:455: UserWarning: Exited postprocessing with accuracies \n",
      "[1.26399579e-14 5.63568172e-07 2.35667870e-06 1.30743838e-06\n",
      " 1.69505833e-06 3.74823520e-06 6.28369089e-06 3.30791312e-06\n",
      " 1.11781383e-05]\n",
      "not reaching the requested tolerance 5.9604644775390625e-06.\n",
      "  _, diffusion_map = lobpcg(\n"
     ]
    },
    {
     "name": "stdout",
     "output_type": "stream",
     "text": [
      "[CV] END learning_rate=100, n_components=2, n_iter=500, perplexity=50; total time=   5.5s\n"
     ]
    },
    {
     "name": "stderr",
     "output_type": "stream",
     "text": [
      "/Users/harrisonma/opt/anaconda3/envs/ai_cellchat/lib/python3.11/site-packages/sklearn/manifold/_t_sne.py:1164: FutureWarning: 'n_iter' was renamed to 'max_iter' in version 1.5 and will be removed in 1.7.\n",
      "  warnings.warn(\n",
      "/Users/harrisonma/opt/anaconda3/envs/ai_cellchat/lib/python3.11/site-packages/sklearn/manifold/_spectral_embedding.py:455: UserWarning: Exited at iteration 2000 with accuracies \n",
      "[8.27768511e-15 1.65972045e-06 1.60973281e-06 3.10565513e-06\n",
      " 1.91442539e-06 2.58833575e-06 2.55242288e-06 2.76837610e-06\n",
      " 8.38991416e-06]\n",
      "not reaching the requested tolerance 5.97536563873291e-06.\n",
      "Use iteration 1995 instead with accuracy \n",
      "2.6812051352228213e-06.\n",
      "\n",
      "  _, diffusion_map = lobpcg(\n",
      "/Users/harrisonma/opt/anaconda3/envs/ai_cellchat/lib/python3.11/site-packages/sklearn/manifold/_spectral_embedding.py:455: UserWarning: Exited postprocessing with accuracies \n",
      "[5.43791042e-15 1.67432551e-06 1.61235378e-06 3.08851297e-06\n",
      " 1.93475231e-06 2.58700925e-06 2.56198978e-06 2.70076168e-06\n",
      " 7.97113318e-06]\n",
      "not reaching the requested tolerance 5.97536563873291e-06.\n",
      "  _, diffusion_map = lobpcg(\n"
     ]
    },
    {
     "name": "stdout",
     "output_type": "stream",
     "text": [
      "[CV] END learning_rate=100, n_components=2, n_iter=500, perplexity=5; total time=  20.8s\n"
     ]
    },
    {
     "name": "stderr",
     "output_type": "stream",
     "text": [
      "/Users/harrisonma/opt/anaconda3/envs/ai_cellchat/lib/python3.11/site-packages/sklearn/manifold/_t_sne.py:1164: FutureWarning: 'n_iter' was renamed to 'max_iter' in version 1.5 and will be removed in 1.7.\n",
      "  warnings.warn(\n"
     ]
    },
    {
     "name": "stdout",
     "output_type": "stream",
     "text": [
      "[CV] END learning_rate=100, n_components=2, n_iter=500, perplexity=5; total time=  17.2s\n",
      "[CV] END learning_rate=100, n_components=2, n_iter=500, perplexity=50; total time=   5.6s\n",
      "[CV] END learning_rate=100, n_components=2, n_iter=500, perplexity=50; total time=   5.8s\n"
     ]
    },
    {
     "name": "stderr",
     "output_type": "stream",
     "text": [
      "/Users/harrisonma/opt/anaconda3/envs/ai_cellchat/lib/python3.11/site-packages/sklearn/manifold/_t_sne.py:1164: FutureWarning: 'n_iter' was renamed to 'max_iter' in version 1.5 and will be removed in 1.7.\n",
      "  warnings.warn(\n",
      "/Users/harrisonma/opt/anaconda3/envs/ai_cellchat/lib/python3.11/site-packages/sklearn/manifold/_t_sne.py:1164: FutureWarning: 'n_iter' was renamed to 'max_iter' in version 1.5 and will be removed in 1.7.\n",
      "  warnings.warn(\n"
     ]
    },
    {
     "name": "stdout",
     "output_type": "stream",
     "text": [
      "[CV] END learning_rate=100, n_components=2, n_iter=500, perplexity=5; total time=  17.4s\n"
     ]
    },
    {
     "name": "stderr",
     "output_type": "stream",
     "text": [
      "/Users/harrisonma/opt/anaconda3/envs/ai_cellchat/lib/python3.11/site-packages/sklearn/manifold/_t_sne.py:1164: FutureWarning: 'n_iter' was renamed to 'max_iter' in version 1.5 and will be removed in 1.7.\n",
      "  warnings.warn(\n",
      "/Users/harrisonma/opt/anaconda3/envs/ai_cellchat/lib/python3.11/site-packages/sklearn/manifold/_t_sne.py:1164: FutureWarning: 'n_iter' was renamed to 'max_iter' in version 1.5 and will be removed in 1.7.\n",
      "  warnings.warn(\n",
      "/Users/harrisonma/opt/anaconda3/envs/ai_cellchat/lib/python3.11/site-packages/sklearn/manifold/_spectral_embedding.py:455: UserWarning: Exited at iteration 2000 with accuracies \n",
      "[8.21239378e-15 1.58403795e-06 1.19639863e-06 1.66594523e-06\n",
      " 2.57891411e-06 2.04301102e-06 2.90331263e-06 2.67303962e-06\n",
      " 1.11708848e-05]\n",
      "not reaching the requested tolerance 5.97536563873291e-06.\n",
      "Use iteration 1636 instead with accuracy \n",
      "2.7965453537690067e-06.\n",
      "\n",
      "  _, diffusion_map = lobpcg(\n",
      "/Users/harrisonma/opt/anaconda3/envs/ai_cellchat/lib/python3.11/site-packages/sklearn/manifold/_spectral_embedding.py:455: UserWarning: Exited postprocessing with accuracies \n",
      "[5.06913457e-15 1.91331040e-06 1.16552279e-06 1.72945271e-06\n",
      " 2.79922807e-06 2.29367341e-06 3.15597869e-06 2.98083488e-06\n",
      " 9.13074210e-06]\n",
      "not reaching the requested tolerance 5.97536563873291e-06.\n",
      "  _, diffusion_map = lobpcg(\n",
      "/Users/harrisonma/opt/anaconda3/envs/ai_cellchat/lib/python3.11/site-packages/sklearn/manifold/_spectral_embedding.py:455: UserWarning: Exited at iteration 2000 with accuracies \n",
      "[1.33109520e-14 1.31857896e-06 1.29462031e-06 3.41262356e-06\n",
      " 3.48903056e-06 3.21455144e-06 5.43307458e-06 1.54628086e-05\n",
      " 3.79683678e-06]\n",
      "not reaching the requested tolerance 5.97536563873291e-06.\n",
      "Use iteration 1656 instead with accuracy \n",
      "2.728871532596809e-06.\n",
      "\n",
      "  _, diffusion_map = lobpcg(\n",
      "/Users/harrisonma/opt/anaconda3/envs/ai_cellchat/lib/python3.11/site-packages/sklearn/manifold/_spectral_embedding.py:455: UserWarning: Exited postprocessing with accuracies \n",
      "[6.48279079e-15 1.48759540e-06 1.54247050e-06 2.65293707e-06\n",
      " 3.34316091e-06 3.85945826e-06 1.12567961e-06 7.30726218e-06\n",
      " 3.24132676e-06]\n",
      "not reaching the requested tolerance 5.97536563873291e-06.\n",
      "  _, diffusion_map = lobpcg(\n"
     ]
    },
    {
     "name": "stdout",
     "output_type": "stream",
     "text": [
      "[CV] END learning_rate=100, n_components=2, n_iter=500, perplexity=5; total time=  20.3s\n",
      "[CV] END learning_rate=100, n_components=2, n_iter=500, perplexity=5; total time=  20.2s\n"
     ]
    },
    {
     "name": "stderr",
     "output_type": "stream",
     "text": [
      "/Users/harrisonma/opt/anaconda3/envs/ai_cellchat/lib/python3.11/site-packages/sklearn/manifold/_t_sne.py:1164: FutureWarning: 'n_iter' was renamed to 'max_iter' in version 1.5 and will be removed in 1.7.\n",
      "  warnings.warn(\n",
      "/Users/harrisonma/opt/anaconda3/envs/ai_cellchat/lib/python3.11/site-packages/sklearn/manifold/_t_sne.py:1164: FutureWarning: 'n_iter' was renamed to 'max_iter' in version 1.5 and will be removed in 1.7.\n",
      "  warnings.warn(\n"
     ]
    },
    {
     "name": "stdout",
     "output_type": "stream",
     "text": [
      "[CV] END learning_rate=100, n_components=2, n_iter=500, perplexity=50; total time=   5.0s\n"
     ]
    },
    {
     "name": "stderr",
     "output_type": "stream",
     "text": [
      "/Users/harrisonma/opt/anaconda3/envs/ai_cellchat/lib/python3.11/site-packages/sklearn/manifold/_t_sne.py:1164: FutureWarning: 'n_iter' was renamed to 'max_iter' in version 1.5 and will be removed in 1.7.\n",
      "  warnings.warn(\n"
     ]
    },
    {
     "name": "stdout",
     "output_type": "stream",
     "text": [
      "[CV] END learning_rate=100, n_components=2, n_iter=1000, perplexity=30; total time=   6.7s\n"
     ]
    },
    {
     "name": "stderr",
     "output_type": "stream",
     "text": [
      "/Users/harrisonma/opt/anaconda3/envs/ai_cellchat/lib/python3.11/site-packages/sklearn/manifold/_t_sne.py:1164: FutureWarning: 'n_iter' was renamed to 'max_iter' in version 1.5 and will be removed in 1.7.\n",
      "  warnings.warn(\n"
     ]
    },
    {
     "name": "stdout",
     "output_type": "stream",
     "text": [
      "[CV] END learning_rate=100, n_components=2, n_iter=1000, perplexity=30; total time=   6.9s\n"
     ]
    },
    {
     "name": "stderr",
     "output_type": "stream",
     "text": [
      "/Users/harrisonma/opt/anaconda3/envs/ai_cellchat/lib/python3.11/site-packages/sklearn/manifold/_t_sne.py:1164: FutureWarning: 'n_iter' was renamed to 'max_iter' in version 1.5 and will be removed in 1.7.\n",
      "  warnings.warn(\n"
     ]
    },
    {
     "name": "stdout",
     "output_type": "stream",
     "text": [
      "[CV] END learning_rate=100, n_components=2, n_iter=1000, perplexity=30; total time=   6.7s\n"
     ]
    },
    {
     "name": "stderr",
     "output_type": "stream",
     "text": [
      "/Users/harrisonma/opt/anaconda3/envs/ai_cellchat/lib/python3.11/site-packages/sklearn/manifold/_t_sne.py:1164: FutureWarning: 'n_iter' was renamed to 'max_iter' in version 1.5 and will be removed in 1.7.\n",
      "  warnings.warn(\n"
     ]
    },
    {
     "name": "stdout",
     "output_type": "stream",
     "text": [
      "[CV] END learning_rate=100, n_components=2, n_iter=1000, perplexity=30; total time=   7.1s\n"
     ]
    },
    {
     "name": "stderr",
     "output_type": "stream",
     "text": [
      "/Users/harrisonma/opt/anaconda3/envs/ai_cellchat/lib/python3.11/site-packages/sklearn/manifold/_t_sne.py:1164: FutureWarning: 'n_iter' was renamed to 'max_iter' in version 1.5 and will be removed in 1.7.\n",
      "  warnings.warn(\n"
     ]
    },
    {
     "name": "stdout",
     "output_type": "stream",
     "text": [
      "[CV] END learning_rate=100, n_components=2, n_iter=1000, perplexity=30; total time=   6.9s\n"
     ]
    },
    {
     "name": "stderr",
     "output_type": "stream",
     "text": [
      "/Users/harrisonma/opt/anaconda3/envs/ai_cellchat/lib/python3.11/site-packages/sklearn/manifold/_t_sne.py:1164: FutureWarning: 'n_iter' was renamed to 'max_iter' in version 1.5 and will be removed in 1.7.\n",
      "  warnings.warn(\n"
     ]
    },
    {
     "name": "stdout",
     "output_type": "stream",
     "text": [
      "[CV] END learning_rate=100, n_components=2, n_iter=1000, perplexity=50; total time=   7.3s\n"
     ]
    },
    {
     "name": "stderr",
     "output_type": "stream",
     "text": [
      "/Users/harrisonma/opt/anaconda3/envs/ai_cellchat/lib/python3.11/site-packages/sklearn/manifold/_t_sne.py:1164: FutureWarning: 'n_iter' was renamed to 'max_iter' in version 1.5 and will be removed in 1.7.\n",
      "  warnings.warn(\n",
      "/Users/harrisonma/opt/anaconda3/envs/ai_cellchat/lib/python3.11/site-packages/sklearn/manifold/_spectral_embedding.py:455: UserWarning: Exited at iteration 1145 with accuracies \n",
      "[2.85052622e-14 1.51689518e-06 3.20403997e-06 2.37107258e-06\n",
      " 2.15250043e-06 8.62847201e-06 1.56922827e-05 1.13054545e-05\n",
      " 3.01554600e-06]\n",
      "not reaching the requested tolerance 5.97536563873291e-06.\n",
      "Use iteration 963 instead with accuracy \n",
      "4.4560463063657635e-06.\n",
      "\n",
      "  _, diffusion_map = lobpcg(\n",
      "/Users/harrisonma/opt/anaconda3/envs/ai_cellchat/lib/python3.11/site-packages/sklearn/manifold/_spectral_embedding.py:455: UserWarning: Exited postprocessing with accuracies \n",
      "[6.22847559e-15 1.15471699e-06 2.28792001e-06 2.18198637e-06\n",
      " 2.03987215e-06 7.88739694e-06 1.48153401e-05 2.90713341e-06\n",
      " 6.83005252e-06]\n",
      "not reaching the requested tolerance 5.97536563873291e-06.\n",
      "  _, diffusion_map = lobpcg(\n",
      "/Users/harrisonma/opt/anaconda3/envs/ai_cellchat/lib/python3.11/site-packages/sklearn/manifold/_spectral_embedding.py:455: UserWarning: Exited at iteration 2000 with accuracies \n",
      "[8.59802744e-15 1.89113437e-06 1.03272385e-06 3.07018864e-06\n",
      " 2.76353508e-06 2.03517298e-06 1.78061541e-06 4.00187542e-06\n",
      " 1.19607978e-05]\n",
      "not reaching the requested tolerance 5.97536563873291e-06.\n",
      "Use iteration 1795 instead with accuracy \n",
      "2.606007928325288e-06.\n",
      "\n",
      "  _, diffusion_map = lobpcg(\n",
      "/Users/harrisonma/opt/anaconda3/envs/ai_cellchat/lib/python3.11/site-packages/sklearn/manifold/_spectral_embedding.py:455: UserWarning: Exited postprocessing with accuracies \n",
      "[5.64463674e-15 1.85733712e-06 1.11699534e-06 2.71244719e-06\n",
      " 2.15959856e-06 2.25205726e-06 1.61356068e-06 3.15092139e-06\n",
      " 8.59115349e-06]\n",
      "not reaching the requested tolerance 5.97536563873291e-06.\n",
      "  _, diffusion_map = lobpcg(\n",
      "/Users/harrisonma/opt/anaconda3/envs/ai_cellchat/lib/python3.11/site-packages/sklearn/base.py:1389: ConvergenceWarning: Number of distinct clusters (4) found smaller than n_clusters (8). Possibly due to duplicate points in X.\n",
      "  return fit_method(estimator, *args, **kwargs)\n",
      "/Users/harrisonma/opt/anaconda3/envs/ai_cellchat/lib/python3.11/site-packages/sklearn/manifold/_spectral_embedding.py:455: UserWarning: Exited at iteration 2000 with accuracies \n",
      "[4.69346014e-14 1.74472142e-06 1.96949138e-06 1.89509087e-06\n",
      " 1.80318873e-06 3.00344643e-06 2.31938849e-06 3.14855064e-06\n",
      " 9.77196918e-06]\n",
      "not reaching the requested tolerance 5.97536563873291e-06.\n",
      "Use iteration 1967 instead with accuracy \n",
      "2.6824498300896276e-06.\n",
      "\n",
      "  _, diffusion_map = lobpcg(\n",
      "/Users/harrisonma/opt/anaconda3/envs/ai_cellchat/lib/python3.11/site-packages/sklearn/manifold/_spectral_embedding.py:455: UserWarning: Exited postprocessing with accuracies \n",
      "[1.56627044e-14 1.71233053e-06 1.92889342e-06 1.77118643e-06\n",
      " 1.80556648e-06 3.02618633e-06 2.34939112e-06 3.05378021e-06\n",
      " 8.49471686e-06]\n",
      "not reaching the requested tolerance 5.97536563873291e-06.\n",
      "  _, diffusion_map = lobpcg(\n"
     ]
    },
    {
     "name": "stdout",
     "output_type": "stream",
     "text": [
      "[CV] END learning_rate=100, n_components=2, n_iter=1000, perplexity=5; total time=  23.3s\n",
      "[CV] END learning_rate=100, n_components=2, n_iter=1000, perplexity=5; total time=  23.5s\n"
     ]
    },
    {
     "name": "stderr",
     "output_type": "stream",
     "text": [
      "/Users/harrisonma/opt/anaconda3/envs/ai_cellchat/lib/python3.11/site-packages/sklearn/manifold/_t_sne.py:1164: FutureWarning: 'n_iter' was renamed to 'max_iter' in version 1.5 and will be removed in 1.7.\n",
      "  warnings.warn(\n",
      "/Users/harrisonma/opt/anaconda3/envs/ai_cellchat/lib/python3.11/site-packages/sklearn/manifold/_t_sne.py:1164: FutureWarning: 'n_iter' was renamed to 'max_iter' in version 1.5 and will be removed in 1.7.\n",
      "  warnings.warn(\n"
     ]
    },
    {
     "name": "stdout",
     "output_type": "stream",
     "text": [
      "[CV] END learning_rate=100, n_components=5, n_iter=250, perplexity=5; total time=   0.0s\n",
      "[CV] END learning_rate=100, n_components=5, n_iter=250, perplexity=5; total time=   0.0s\n"
     ]
    },
    {
     "name": "stderr",
     "output_type": "stream",
     "text": [
      "/Users/harrisonma/opt/anaconda3/envs/ai_cellchat/lib/python3.11/site-packages/sklearn/manifold/_t_sne.py:1164: FutureWarning: 'n_iter' was renamed to 'max_iter' in version 1.5 and will be removed in 1.7.\n",
      "  warnings.warn(\n",
      "/Users/harrisonma/opt/anaconda3/envs/ai_cellchat/lib/python3.11/site-packages/sklearn/manifold/_t_sne.py:1164: FutureWarning: 'n_iter' was renamed to 'max_iter' in version 1.5 and will be removed in 1.7.\n",
      "  warnings.warn(\n"
     ]
    },
    {
     "name": "stdout",
     "output_type": "stream",
     "text": [
      "[CV] END learning_rate=100, n_components=5, n_iter=250, perplexity=5; total time=   0.0s\n",
      "[CV] END learning_rate=100, n_components=2, n_iter=1000, perplexity=50; total time=   7.5s\n",
      "[CV] END learning_rate=100, n_components=2, n_iter=1000, perplexity=5; total time=  23.8s\n"
     ]
    },
    {
     "name": "stderr",
     "output_type": "stream",
     "text": [
      "/Users/harrisonma/opt/anaconda3/envs/ai_cellchat/lib/python3.11/site-packages/sklearn/manifold/_t_sne.py:1164: FutureWarning: 'n_iter' was renamed to 'max_iter' in version 1.5 and will be removed in 1.7.\n",
      "  warnings.warn(\n",
      "/Users/harrisonma/opt/anaconda3/envs/ai_cellchat/lib/python3.11/site-packages/sklearn/manifold/_t_sne.py:1164: FutureWarning: 'n_iter' was renamed to 'max_iter' in version 1.5 and will be removed in 1.7.\n",
      "  warnings.warn(\n"
     ]
    },
    {
     "name": "stdout",
     "output_type": "stream",
     "text": [
      "[CV] END learning_rate=100, n_components=5, n_iter=250, perplexity=5; total time=   0.1s\n",
      "[CV] END learning_rate=100, n_components=2, n_iter=1000, perplexity=5; total time=  24.2s\n",
      "[CV] END learning_rate=100, n_components=2, n_iter=1000, perplexity=50; total time=   7.6s\n",
      "[CV] END learning_rate=100, n_components=5, n_iter=250, perplexity=5; total time=   0.1s\n",
      "[CV] END learning_rate=100, n_components=5, n_iter=250, perplexity=30; total time=   0.0s\n"
     ]
    },
    {
     "name": "stderr",
     "output_type": "stream",
     "text": [
      "/Users/harrisonma/opt/anaconda3/envs/ai_cellchat/lib/python3.11/site-packages/sklearn/manifold/_t_sne.py:1164: FutureWarning: 'n_iter' was renamed to 'max_iter' in version 1.5 and will be removed in 1.7.\n",
      "  warnings.warn(\n",
      "/Users/harrisonma/opt/anaconda3/envs/ai_cellchat/lib/python3.11/site-packages/sklearn/manifold/_t_sne.py:1164: FutureWarning: 'n_iter' was renamed to 'max_iter' in version 1.5 and will be removed in 1.7.\n",
      "  warnings.warn(\n",
      "/Users/harrisonma/opt/anaconda3/envs/ai_cellchat/lib/python3.11/site-packages/sklearn/manifold/_t_sne.py:1164: FutureWarning: 'n_iter' was renamed to 'max_iter' in version 1.5 and will be removed in 1.7.\n",
      "  warnings.warn(\n",
      "/Users/harrisonma/opt/anaconda3/envs/ai_cellchat/lib/python3.11/site-packages/sklearn/manifold/_t_sne.py:1164: FutureWarning: 'n_iter' was renamed to 'max_iter' in version 1.5 and will be removed in 1.7.\n",
      "  warnings.warn(\n"
     ]
    },
    {
     "name": "stdout",
     "output_type": "stream",
     "text": [
      "[CV] END learning_rate=100, n_components=5, n_iter=250, perplexity=30; total time=   0.0s\n",
      "[CV] END learning_rate=100, n_components=5, n_iter=250, perplexity=30; total time=   0.0s\n",
      "[CV] END learning_rate=100, n_components=2, n_iter=1000, perplexity=5; total time=  24.6s\n",
      "[CV] END learning_rate=100, n_components=5, n_iter=250, perplexity=30; total time=   0.0s\n",
      "[CV] END learning_rate=100, n_components=2, n_iter=1000, perplexity=50; total time=   7.0s\n"
     ]
    },
    {
     "name": "stderr",
     "output_type": "stream",
     "text": [
      "/Users/harrisonma/opt/anaconda3/envs/ai_cellchat/lib/python3.11/site-packages/sklearn/manifold/_t_sne.py:1164: FutureWarning: 'n_iter' was renamed to 'max_iter' in version 1.5 and will be removed in 1.7.\n",
      "  warnings.warn(\n",
      "/Users/harrisonma/opt/anaconda3/envs/ai_cellchat/lib/python3.11/site-packages/sklearn/manifold/_t_sne.py:1164: FutureWarning: 'n_iter' was renamed to 'max_iter' in version 1.5 and will be removed in 1.7.\n",
      "  warnings.warn(\n",
      "/Users/harrisonma/opt/anaconda3/envs/ai_cellchat/lib/python3.11/site-packages/sklearn/manifold/_t_sne.py:1164: FutureWarning: 'n_iter' was renamed to 'max_iter' in version 1.5 and will be removed in 1.7.\n",
      "  warnings.warn(\n"
     ]
    },
    {
     "name": "stdout",
     "output_type": "stream",
     "text": [
      "[CV] END learning_rate=100, n_components=5, n_iter=250, perplexity=30; total time=   0.0s\n",
      "[CV] END learning_rate=100, n_components=5, n_iter=250, perplexity=50; total time=   0.0s\n",
      "[CV] END learning_rate=100, n_components=5, n_iter=250, perplexity=50; total time=   0.0s\n",
      "[CV] END learning_rate=100, n_components=5, n_iter=250, perplexity=50; total time=   0.0s\n"
     ]
    },
    {
     "name": "stderr",
     "output_type": "stream",
     "text": [
      "/Users/harrisonma/opt/anaconda3/envs/ai_cellchat/lib/python3.11/site-packages/sklearn/manifold/_t_sne.py:1164: FutureWarning: 'n_iter' was renamed to 'max_iter' in version 1.5 and will be removed in 1.7.\n",
      "  warnings.warn(\n",
      "/Users/harrisonma/opt/anaconda3/envs/ai_cellchat/lib/python3.11/site-packages/sklearn/manifold/_t_sne.py:1164: FutureWarning: 'n_iter' was renamed to 'max_iter' in version 1.5 and will be removed in 1.7.\n",
      "  warnings.warn(\n",
      "/Users/harrisonma/opt/anaconda3/envs/ai_cellchat/lib/python3.11/site-packages/sklearn/manifold/_t_sne.py:1164: FutureWarning: 'n_iter' was renamed to 'max_iter' in version 1.5 and will be removed in 1.7.\n",
      "  warnings.warn(\n",
      "/Users/harrisonma/opt/anaconda3/envs/ai_cellchat/lib/python3.11/site-packages/sklearn/manifold/_t_sne.py:1164: FutureWarning: 'n_iter' was renamed to 'max_iter' in version 1.5 and will be removed in 1.7.\n",
      "  warnings.warn(\n",
      "/Users/harrisonma/opt/anaconda3/envs/ai_cellchat/lib/python3.11/site-packages/sklearn/manifold/_t_sne.py:1164: FutureWarning: 'n_iter' was renamed to 'max_iter' in version 1.5 and will be removed in 1.7.\n",
      "  warnings.warn(\n"
     ]
    },
    {
     "name": "stdout",
     "output_type": "stream",
     "text": [
      "[CV] END learning_rate=100, n_components=5, n_iter=250, perplexity=50; total time=   0.0s\n",
      "[CV] END learning_rate=100, n_components=5, n_iter=250, perplexity=50; total time=   0.0s\n",
      "[CV] END learning_rate=100, n_components=5, n_iter=500, perplexity=5; total time=   0.0s\n",
      "[CV] END learning_rate=100, n_components=5, n_iter=500, perplexity=5; total time=   0.0s\n",
      "[CV] END learning_rate=100, n_components=5, n_iter=500, perplexity=5; total time=   0.0s\n"
     ]
    },
    {
     "name": "stderr",
     "output_type": "stream",
     "text": [
      "/Users/harrisonma/opt/anaconda3/envs/ai_cellchat/lib/python3.11/site-packages/sklearn/manifold/_t_sne.py:1164: FutureWarning: 'n_iter' was renamed to 'max_iter' in version 1.5 and will be removed in 1.7.\n",
      "  warnings.warn(\n",
      "/Users/harrisonma/opt/anaconda3/envs/ai_cellchat/lib/python3.11/site-packages/sklearn/manifold/_t_sne.py:1164: FutureWarning: 'n_iter' was renamed to 'max_iter' in version 1.5 and will be removed in 1.7.\n",
      "  warnings.warn(\n",
      "/Users/harrisonma/opt/anaconda3/envs/ai_cellchat/lib/python3.11/site-packages/sklearn/manifold/_t_sne.py:1164: FutureWarning: 'n_iter' was renamed to 'max_iter' in version 1.5 and will be removed in 1.7.\n",
      "  warnings.warn(\n",
      "/Users/harrisonma/opt/anaconda3/envs/ai_cellchat/lib/python3.11/site-packages/sklearn/manifold/_t_sne.py:1164: FutureWarning: 'n_iter' was renamed to 'max_iter' in version 1.5 and will be removed in 1.7.\n",
      "  warnings.warn(\n"
     ]
    },
    {
     "name": "stdout",
     "output_type": "stream",
     "text": [
      "[CV] END learning_rate=100, n_components=5, n_iter=500, perplexity=5; total time=   0.0s\n",
      "[CV] END learning_rate=100, n_components=5, n_iter=500, perplexity=5; total time=   0.0s\n",
      "[CV] END learning_rate=100, n_components=5, n_iter=500, perplexity=30; total time=   0.0s\n",
      "[CV] END learning_rate=100, n_components=5, n_iter=500, perplexity=30; total time=   0.0s\n",
      "[CV] END learning_rate=100, n_components=5, n_iter=500, perplexity=30; total time=   0.0s\n"
     ]
    },
    {
     "name": "stderr",
     "output_type": "stream",
     "text": [
      "/Users/harrisonma/opt/anaconda3/envs/ai_cellchat/lib/python3.11/site-packages/sklearn/manifold/_t_sne.py:1164: FutureWarning: 'n_iter' was renamed to 'max_iter' in version 1.5 and will be removed in 1.7.\n",
      "  warnings.warn(\n",
      "/Users/harrisonma/opt/anaconda3/envs/ai_cellchat/lib/python3.11/site-packages/sklearn/manifold/_t_sne.py:1164: FutureWarning: 'n_iter' was renamed to 'max_iter' in version 1.5 and will be removed in 1.7.\n",
      "  warnings.warn(\n",
      "/Users/harrisonma/opt/anaconda3/envs/ai_cellchat/lib/python3.11/site-packages/sklearn/manifold/_t_sne.py:1164: FutureWarning: 'n_iter' was renamed to 'max_iter' in version 1.5 and will be removed in 1.7.\n",
      "  warnings.warn(\n",
      "/Users/harrisonma/opt/anaconda3/envs/ai_cellchat/lib/python3.11/site-packages/sklearn/manifold/_t_sne.py:1164: FutureWarning: 'n_iter' was renamed to 'max_iter' in version 1.5 and will be removed in 1.7.\n",
      "  warnings.warn(\n",
      "/Users/harrisonma/opt/anaconda3/envs/ai_cellchat/lib/python3.11/site-packages/sklearn/manifold/_t_sne.py:1164: FutureWarning: 'n_iter' was renamed to 'max_iter' in version 1.5 and will be removed in 1.7.\n",
      "  warnings.warn(\n"
     ]
    },
    {
     "name": "stdout",
     "output_type": "stream",
     "text": [
      "[CV] END learning_rate=100, n_components=5, n_iter=500, perplexity=30; total time=   0.0s\n",
      "[CV] END learning_rate=100, n_components=5, n_iter=500, perplexity=30; total time=   0.0s\n",
      "[CV] END learning_rate=100, n_components=5, n_iter=500, perplexity=50; total time=   0.0s\n",
      "[CV] END learning_rate=100, n_components=5, n_iter=500, perplexity=50; total time=   0.0s\n",
      "[CV] END learning_rate=100, n_components=5, n_iter=500, perplexity=50; total time=   0.0s\n"
     ]
    },
    {
     "name": "stderr",
     "output_type": "stream",
     "text": [
      "/Users/harrisonma/opt/anaconda3/envs/ai_cellchat/lib/python3.11/site-packages/sklearn/manifold/_t_sne.py:1164: FutureWarning: 'n_iter' was renamed to 'max_iter' in version 1.5 and will be removed in 1.7.\n",
      "  warnings.warn(\n",
      "/Users/harrisonma/opt/anaconda3/envs/ai_cellchat/lib/python3.11/site-packages/sklearn/manifold/_t_sne.py:1164: FutureWarning: 'n_iter' was renamed to 'max_iter' in version 1.5 and will be removed in 1.7.\n",
      "  warnings.warn(\n",
      "/Users/harrisonma/opt/anaconda3/envs/ai_cellchat/lib/python3.11/site-packages/sklearn/manifold/_t_sne.py:1164: FutureWarning: 'n_iter' was renamed to 'max_iter' in version 1.5 and will be removed in 1.7.\n",
      "  warnings.warn(\n",
      "/Users/harrisonma/opt/anaconda3/envs/ai_cellchat/lib/python3.11/site-packages/sklearn/manifold/_t_sne.py:1164: FutureWarning: 'n_iter' was renamed to 'max_iter' in version 1.5 and will be removed in 1.7.\n",
      "  warnings.warn(\n"
     ]
    },
    {
     "name": "stdout",
     "output_type": "stream",
     "text": [
      "[CV] END learning_rate=100, n_components=5, n_iter=500, perplexity=50; total time=   0.0s\n",
      "[CV] END learning_rate=100, n_components=5, n_iter=500, perplexity=50; total time=   0.0s\n",
      "[CV] END learning_rate=100, n_components=5, n_iter=1000, perplexity=5; total time=   0.0s\n",
      "[CV] END learning_rate=100, n_components=5, n_iter=1000, perplexity=5; total time=   0.0s\n",
      "[CV] END learning_rate=100, n_components=5, n_iter=1000, perplexity=5; total time=   0.0s\n"
     ]
    },
    {
     "name": "stderr",
     "output_type": "stream",
     "text": [
      "/Users/harrisonma/opt/anaconda3/envs/ai_cellchat/lib/python3.11/site-packages/sklearn/manifold/_t_sne.py:1164: FutureWarning: 'n_iter' was renamed to 'max_iter' in version 1.5 and will be removed in 1.7.\n",
      "  warnings.warn(\n",
      "/Users/harrisonma/opt/anaconda3/envs/ai_cellchat/lib/python3.11/site-packages/sklearn/manifold/_t_sne.py:1164: FutureWarning: 'n_iter' was renamed to 'max_iter' in version 1.5 and will be removed in 1.7.\n",
      "  warnings.warn(\n",
      "/Users/harrisonma/opt/anaconda3/envs/ai_cellchat/lib/python3.11/site-packages/sklearn/manifold/_t_sne.py:1164: FutureWarning: 'n_iter' was renamed to 'max_iter' in version 1.5 and will be removed in 1.7.\n",
      "  warnings.warn(\n",
      "/Users/harrisonma/opt/anaconda3/envs/ai_cellchat/lib/python3.11/site-packages/sklearn/manifold/_t_sne.py:1164: FutureWarning: 'n_iter' was renamed to 'max_iter' in version 1.5 and will be removed in 1.7.\n",
      "  warnings.warn(\n"
     ]
    },
    {
     "name": "stdout",
     "output_type": "stream",
     "text": [
      "[CV] END learning_rate=100, n_components=5, n_iter=1000, perplexity=5; total time=   0.0s\n",
      "[CV] END learning_rate=100, n_components=5, n_iter=1000, perplexity=5; total time=   0.0s\n",
      "[CV] END learning_rate=100, n_components=5, n_iter=1000, perplexity=30; total time=   0.0s\n",
      "[CV] END learning_rate=100, n_components=5, n_iter=1000, perplexity=30; total time=   0.0s\n",
      "[CV] END learning_rate=100, n_components=5, n_iter=1000, perplexity=30; total time=   0.0s\n"
     ]
    },
    {
     "name": "stderr",
     "output_type": "stream",
     "text": [
      "/Users/harrisonma/opt/anaconda3/envs/ai_cellchat/lib/python3.11/site-packages/sklearn/manifold/_t_sne.py:1164: FutureWarning: 'n_iter' was renamed to 'max_iter' in version 1.5 and will be removed in 1.7.\n",
      "  warnings.warn(\n",
      "/Users/harrisonma/opt/anaconda3/envs/ai_cellchat/lib/python3.11/site-packages/sklearn/manifold/_t_sne.py:1164: FutureWarning: 'n_iter' was renamed to 'max_iter' in version 1.5 and will be removed in 1.7.\n",
      "  warnings.warn(\n",
      "/Users/harrisonma/opt/anaconda3/envs/ai_cellchat/lib/python3.11/site-packages/sklearn/manifold/_t_sne.py:1164: FutureWarning: 'n_iter' was renamed to 'max_iter' in version 1.5 and will be removed in 1.7.\n",
      "  warnings.warn(\n",
      "/Users/harrisonma/opt/anaconda3/envs/ai_cellchat/lib/python3.11/site-packages/sklearn/manifold/_t_sne.py:1164: FutureWarning: 'n_iter' was renamed to 'max_iter' in version 1.5 and will be removed in 1.7.\n",
      "  warnings.warn(\n",
      "/Users/harrisonma/opt/anaconda3/envs/ai_cellchat/lib/python3.11/site-packages/sklearn/manifold/_t_sne.py:1164: FutureWarning: 'n_iter' was renamed to 'max_iter' in version 1.5 and will be removed in 1.7.\n",
      "  warnings.warn(\n",
      "/Users/harrisonma/opt/anaconda3/envs/ai_cellchat/lib/python3.11/site-packages/sklearn/manifold/_t_sne.py:1164: FutureWarning: 'n_iter' was renamed to 'max_iter' in version 1.5 and will be removed in 1.7.\n",
      "  warnings.warn(\n",
      "/Users/harrisonma/opt/anaconda3/envs/ai_cellchat/lib/python3.11/site-packages/sklearn/manifold/_t_sne.py:1164: FutureWarning: 'n_iter' was renamed to 'max_iter' in version 1.5 and will be removed in 1.7.\n",
      "  warnings.warn(\n",
      "/Users/harrisonma/opt/anaconda3/envs/ai_cellchat/lib/python3.11/site-packages/sklearn/manifold/_t_sne.py:1164: FutureWarning: 'n_iter' was renamed to 'max_iter' in version 1.5 and will be removed in 1.7.\n",
      "  warnings.warn(\n"
     ]
    },
    {
     "name": "stdout",
     "output_type": "stream",
     "text": [
      "[CV] END learning_rate=100, n_components=5, n_iter=1000, perplexity=30; total time=   0.0s\n",
      "[CV] END learning_rate=100, n_components=5, n_iter=1000, perplexity=30; total time=   0.0s\n",
      "[CV] END learning_rate=100, n_components=5, n_iter=1000, perplexity=50; total time=   0.0s\n",
      "[CV] END learning_rate=100, n_components=5, n_iter=1000, perplexity=50; total time=   0.0s\n"
     ]
    },
    {
     "name": "stderr",
     "output_type": "stream",
     "text": [
      "/Users/harrisonma/opt/anaconda3/envs/ai_cellchat/lib/python3.11/site-packages/sklearn/manifold/_t_sne.py:1164: FutureWarning: 'n_iter' was renamed to 'max_iter' in version 1.5 and will be removed in 1.7.\n",
      "  warnings.warn(\n",
      "/Users/harrisonma/opt/anaconda3/envs/ai_cellchat/lib/python3.11/site-packages/sklearn/manifold/_t_sne.py:1164: FutureWarning: 'n_iter' was renamed to 'max_iter' in version 1.5 and will be removed in 1.7.\n",
      "  warnings.warn(\n",
      "/Users/harrisonma/opt/anaconda3/envs/ai_cellchat/lib/python3.11/site-packages/sklearn/manifold/_t_sne.py:1164: FutureWarning: 'n_iter' was renamed to 'max_iter' in version 1.5 and will be removed in 1.7.\n",
      "  warnings.warn(\n",
      "/Users/harrisonma/opt/anaconda3/envs/ai_cellchat/lib/python3.11/site-packages/sklearn/manifold/_t_sne.py:1164: FutureWarning: 'n_iter' was renamed to 'max_iter' in version 1.5 and will be removed in 1.7.\n",
      "  warnings.warn(\n"
     ]
    },
    {
     "name": "stdout",
     "output_type": "stream",
     "text": [
      "[CV] END learning_rate=100, n_components=5, n_iter=1000, perplexity=50; total time=   0.0s\n",
      "[CV] END learning_rate=100, n_components=5, n_iter=1000, perplexity=50; total time=   0.0s\n",
      "[CV] END learning_rate=100, n_components=5, n_iter=1000, perplexity=50; total time=   0.0s\n",
      "[CV] END learning_rate=100, n_components=10, n_iter=250, perplexity=5; total time=   0.0s\n"
     ]
    },
    {
     "name": "stderr",
     "output_type": "stream",
     "text": [
      "/Users/harrisonma/opt/anaconda3/envs/ai_cellchat/lib/python3.11/site-packages/sklearn/manifold/_t_sne.py:1164: FutureWarning: 'n_iter' was renamed to 'max_iter' in version 1.5 and will be removed in 1.7.\n",
      "  warnings.warn(\n",
      "/Users/harrisonma/opt/anaconda3/envs/ai_cellchat/lib/python3.11/site-packages/sklearn/manifold/_t_sne.py:1164: FutureWarning: 'n_iter' was renamed to 'max_iter' in version 1.5 and will be removed in 1.7.\n",
      "  warnings.warn(\n",
      "/Users/harrisonma/opt/anaconda3/envs/ai_cellchat/lib/python3.11/site-packages/sklearn/manifold/_t_sne.py:1164: FutureWarning: 'n_iter' was renamed to 'max_iter' in version 1.5 and will be removed in 1.7.\n",
      "  warnings.warn(\n",
      "/Users/harrisonma/opt/anaconda3/envs/ai_cellchat/lib/python3.11/site-packages/sklearn/manifold/_t_sne.py:1164: FutureWarning: 'n_iter' was renamed to 'max_iter' in version 1.5 and will be removed in 1.7.\n",
      "  warnings.warn(\n"
     ]
    },
    {
     "name": "stdout",
     "output_type": "stream",
     "text": [
      "[CV] END learning_rate=100, n_components=10, n_iter=250, perplexity=5; total time=   0.0s\n",
      "[CV] END learning_rate=100, n_components=10, n_iter=250, perplexity=5; total time=   0.0s\n",
      "[CV] END learning_rate=100, n_components=10, n_iter=250, perplexity=5; total time=   0.0s\n",
      "[CV] END learning_rate=100, n_components=10, n_iter=250, perplexity=5; total time=   0.0s\n",
      "[CV] END learning_rate=100, n_components=10, n_iter=250, perplexity=30; total time=   0.0s\n"
     ]
    },
    {
     "name": "stderr",
     "output_type": "stream",
     "text": [
      "/Users/harrisonma/opt/anaconda3/envs/ai_cellchat/lib/python3.11/site-packages/sklearn/manifold/_t_sne.py:1164: FutureWarning: 'n_iter' was renamed to 'max_iter' in version 1.5 and will be removed in 1.7.\n",
      "  warnings.warn(\n",
      "/Users/harrisonma/opt/anaconda3/envs/ai_cellchat/lib/python3.11/site-packages/sklearn/manifold/_t_sne.py:1164: FutureWarning: 'n_iter' was renamed to 'max_iter' in version 1.5 and will be removed in 1.7.\n",
      "  warnings.warn(\n",
      "/Users/harrisonma/opt/anaconda3/envs/ai_cellchat/lib/python3.11/site-packages/sklearn/manifold/_t_sne.py:1164: FutureWarning: 'n_iter' was renamed to 'max_iter' in version 1.5 and will be removed in 1.7.\n",
      "  warnings.warn(\n",
      "/Users/harrisonma/opt/anaconda3/envs/ai_cellchat/lib/python3.11/site-packages/sklearn/manifold/_t_sne.py:1164: FutureWarning: 'n_iter' was renamed to 'max_iter' in version 1.5 and will be removed in 1.7.\n",
      "  warnings.warn(\n",
      "/Users/harrisonma/opt/anaconda3/envs/ai_cellchat/lib/python3.11/site-packages/sklearn/manifold/_t_sne.py:1164: FutureWarning: 'n_iter' was renamed to 'max_iter' in version 1.5 and will be removed in 1.7.\n",
      "  warnings.warn(\n"
     ]
    },
    {
     "name": "stdout",
     "output_type": "stream",
     "text": [
      "[CV] END learning_rate=100, n_components=10, n_iter=250, perplexity=30; total time=   0.0s\n",
      "[CV] END learning_rate=100, n_components=10, n_iter=250, perplexity=30; total time=   0.0s\n",
      "[CV] END learning_rate=100, n_components=10, n_iter=250, perplexity=30; total time=   0.0s\n",
      "[CV] END learning_rate=100, n_components=10, n_iter=250, perplexity=30; total time=   0.0s\n"
     ]
    },
    {
     "name": "stderr",
     "output_type": "stream",
     "text": [
      "/Users/harrisonma/opt/anaconda3/envs/ai_cellchat/lib/python3.11/site-packages/sklearn/manifold/_t_sne.py:1164: FutureWarning: 'n_iter' was renamed to 'max_iter' in version 1.5 and will be removed in 1.7.\n",
      "  warnings.warn(\n",
      "/Users/harrisonma/opt/anaconda3/envs/ai_cellchat/lib/python3.11/site-packages/sklearn/manifold/_t_sne.py:1164: FutureWarning: 'n_iter' was renamed to 'max_iter' in version 1.5 and will be removed in 1.7.\n",
      "  warnings.warn(\n",
      "/Users/harrisonma/opt/anaconda3/envs/ai_cellchat/lib/python3.11/site-packages/sklearn/manifold/_t_sne.py:1164: FutureWarning: 'n_iter' was renamed to 'max_iter' in version 1.5 and will be removed in 1.7.\n",
      "  warnings.warn(\n",
      "/Users/harrisonma/opt/anaconda3/envs/ai_cellchat/lib/python3.11/site-packages/sklearn/manifold/_t_sne.py:1164: FutureWarning: 'n_iter' was renamed to 'max_iter' in version 1.5 and will be removed in 1.7.\n",
      "  warnings.warn(\n"
     ]
    },
    {
     "name": "stdout",
     "output_type": "stream",
     "text": [
      "[CV] END learning_rate=100, n_components=10, n_iter=250, perplexity=50; total time=   0.0s\n",
      "[CV] END learning_rate=100, n_components=10, n_iter=250, perplexity=50; total time=   0.0s\n",
      "[CV] END learning_rate=100, n_components=10, n_iter=250, perplexity=50; total time=   0.0s\n",
      "[CV] END learning_rate=100, n_components=10, n_iter=250, perplexity=50; total time=   0.0s\n",
      "[CV] END learning_rate=100, n_components=10, n_iter=250, perplexity=50; total time=   0.0s\n"
     ]
    },
    {
     "name": "stderr",
     "output_type": "stream",
     "text": [
      "/Users/harrisonma/opt/anaconda3/envs/ai_cellchat/lib/python3.11/site-packages/sklearn/manifold/_t_sne.py:1164: FutureWarning: 'n_iter' was renamed to 'max_iter' in version 1.5 and will be removed in 1.7.\n",
      "  warnings.warn(\n",
      "/Users/harrisonma/opt/anaconda3/envs/ai_cellchat/lib/python3.11/site-packages/sklearn/manifold/_t_sne.py:1164: FutureWarning: 'n_iter' was renamed to 'max_iter' in version 1.5 and will be removed in 1.7.\n",
      "  warnings.warn(\n",
      "/Users/harrisonma/opt/anaconda3/envs/ai_cellchat/lib/python3.11/site-packages/sklearn/manifold/_t_sne.py:1164: FutureWarning: 'n_iter' was renamed to 'max_iter' in version 1.5 and will be removed in 1.7.\n",
      "  warnings.warn(\n",
      "/Users/harrisonma/opt/anaconda3/envs/ai_cellchat/lib/python3.11/site-packages/sklearn/manifold/_t_sne.py:1164: FutureWarning: 'n_iter' was renamed to 'max_iter' in version 1.5 and will be removed in 1.7.\n",
      "  warnings.warn(\n"
     ]
    },
    {
     "name": "stdout",
     "output_type": "stream",
     "text": [
      "[CV] END learning_rate=100, n_components=10, n_iter=500, perplexity=5; total time=   0.0s\n",
      "[CV] END learning_rate=100, n_components=10, n_iter=500, perplexity=5; total time=   0.0s\n",
      "[CV] END learning_rate=100, n_components=10, n_iter=500, perplexity=5; total time=   0.0s\n",
      "[CV] END learning_rate=100, n_components=10, n_iter=500, perplexity=5; total time=   0.0s\n"
     ]
    },
    {
     "name": "stderr",
     "output_type": "stream",
     "text": [
      "/Users/harrisonma/opt/anaconda3/envs/ai_cellchat/lib/python3.11/site-packages/sklearn/manifold/_t_sne.py:1164: FutureWarning: 'n_iter' was renamed to 'max_iter' in version 1.5 and will be removed in 1.7.\n",
      "  warnings.warn(\n",
      "/Users/harrisonma/opt/anaconda3/envs/ai_cellchat/lib/python3.11/site-packages/sklearn/manifold/_t_sne.py:1164: FutureWarning: 'n_iter' was renamed to 'max_iter' in version 1.5 and will be removed in 1.7.\n",
      "  warnings.warn(\n",
      "/Users/harrisonma/opt/anaconda3/envs/ai_cellchat/lib/python3.11/site-packages/sklearn/manifold/_t_sne.py:1164: FutureWarning: 'n_iter' was renamed to 'max_iter' in version 1.5 and will be removed in 1.7.\n",
      "  warnings.warn(\n",
      "/Users/harrisonma/opt/anaconda3/envs/ai_cellchat/lib/python3.11/site-packages/sklearn/manifold/_t_sne.py:1164: FutureWarning: 'n_iter' was renamed to 'max_iter' in version 1.5 and will be removed in 1.7.\n",
      "  warnings.warn(\n",
      "/Users/harrisonma/opt/anaconda3/envs/ai_cellchat/lib/python3.11/site-packages/sklearn/manifold/_t_sne.py:1164: FutureWarning: 'n_iter' was renamed to 'max_iter' in version 1.5 and will be removed in 1.7.\n",
      "  warnings.warn(\n"
     ]
    },
    {
     "name": "stdout",
     "output_type": "stream",
     "text": [
      "[CV] END learning_rate=100, n_components=10, n_iter=500, perplexity=5; total time=   0.0s\n",
      "[CV] END learning_rate=100, n_components=10, n_iter=500, perplexity=30; total time=   0.0s\n",
      "[CV] END learning_rate=100, n_components=10, n_iter=500, perplexity=30; total time=   0.0s\n",
      "[CV] END learning_rate=100, n_components=10, n_iter=500, perplexity=30; total time=   0.0s\n",
      "[CV] END learning_rate=100, n_components=10, n_iter=500, perplexity=30; total time=   0.0s\n"
     ]
    },
    {
     "name": "stderr",
     "output_type": "stream",
     "text": [
      "/Users/harrisonma/opt/anaconda3/envs/ai_cellchat/lib/python3.11/site-packages/sklearn/manifold/_t_sne.py:1164: FutureWarning: 'n_iter' was renamed to 'max_iter' in version 1.5 and will be removed in 1.7.\n",
      "  warnings.warn(\n",
      "/Users/harrisonma/opt/anaconda3/envs/ai_cellchat/lib/python3.11/site-packages/sklearn/manifold/_t_sne.py:1164: FutureWarning: 'n_iter' was renamed to 'max_iter' in version 1.5 and will be removed in 1.7.\n",
      "  warnings.warn(\n",
      "/Users/harrisonma/opt/anaconda3/envs/ai_cellchat/lib/python3.11/site-packages/sklearn/manifold/_t_sne.py:1164: FutureWarning: 'n_iter' was renamed to 'max_iter' in version 1.5 and will be removed in 1.7.\n",
      "  warnings.warn(\n",
      "/Users/harrisonma/opt/anaconda3/envs/ai_cellchat/lib/python3.11/site-packages/sklearn/manifold/_t_sne.py:1164: FutureWarning: 'n_iter' was renamed to 'max_iter' in version 1.5 and will be removed in 1.7.\n",
      "  warnings.warn(\n"
     ]
    },
    {
     "name": "stdout",
     "output_type": "stream",
     "text": [
      "[CV] END learning_rate=100, n_components=2, n_iter=1000, perplexity=50; total time=   4.7s\n",
      "[CV] END learning_rate=100, n_components=10, n_iter=500, perplexity=30; total time=   0.0s\n",
      "[CV] END learning_rate=100, n_components=10, n_iter=500, perplexity=50; total time=   0.0s\n",
      "[CV] END learning_rate=100, n_components=10, n_iter=500, perplexity=50; total time=   0.0s\n",
      "[CV] END learning_rate=100, n_components=10, n_iter=500, perplexity=50; total time=   0.0s\n",
      "[CV] END learning_rate=100, n_components=10, n_iter=500, perplexity=50; total time=   0.0s\n"
     ]
    },
    {
     "name": "stderr",
     "output_type": "stream",
     "text": [
      "/Users/harrisonma/opt/anaconda3/envs/ai_cellchat/lib/python3.11/site-packages/sklearn/manifold/_t_sne.py:1164: FutureWarning: 'n_iter' was renamed to 'max_iter' in version 1.5 and will be removed in 1.7.\n",
      "  warnings.warn(\n",
      "/Users/harrisonma/opt/anaconda3/envs/ai_cellchat/lib/python3.11/site-packages/sklearn/manifold/_t_sne.py:1164: FutureWarning: 'n_iter' was renamed to 'max_iter' in version 1.5 and will be removed in 1.7.\n",
      "  warnings.warn(\n",
      "/Users/harrisonma/opt/anaconda3/envs/ai_cellchat/lib/python3.11/site-packages/sklearn/manifold/_t_sne.py:1164: FutureWarning: 'n_iter' was renamed to 'max_iter' in version 1.5 and will be removed in 1.7.\n",
      "  warnings.warn(\n",
      "/Users/harrisonma/opt/anaconda3/envs/ai_cellchat/lib/python3.11/site-packages/sklearn/manifold/_t_sne.py:1164: FutureWarning: 'n_iter' was renamed to 'max_iter' in version 1.5 and will be removed in 1.7.\n",
      "  warnings.warn(\n",
      "/Users/harrisonma/opt/anaconda3/envs/ai_cellchat/lib/python3.11/site-packages/sklearn/manifold/_t_sne.py:1164: FutureWarning: 'n_iter' was renamed to 'max_iter' in version 1.5 and will be removed in 1.7.\n",
      "  warnings.warn(\n"
     ]
    },
    {
     "name": "stdout",
     "output_type": "stream",
     "text": [
      "[CV] END learning_rate=100, n_components=10, n_iter=500, perplexity=50; total time=   0.0s\n",
      "[CV] END learning_rate=100, n_components=10, n_iter=1000, perplexity=5; total time=   0.0s\n",
      "[CV] END learning_rate=100, n_components=10, n_iter=1000, perplexity=5; total time=   0.0s\n",
      "[CV] END learning_rate=100, n_components=10, n_iter=1000, perplexity=5; total time=   0.0s\n"
     ]
    },
    {
     "name": "stderr",
     "output_type": "stream",
     "text": [
      "/Users/harrisonma/opt/anaconda3/envs/ai_cellchat/lib/python3.11/site-packages/sklearn/manifold/_t_sne.py:1164: FutureWarning: 'n_iter' was renamed to 'max_iter' in version 1.5 and will be removed in 1.7.\n",
      "  warnings.warn(\n",
      "/Users/harrisonma/opt/anaconda3/envs/ai_cellchat/lib/python3.11/site-packages/sklearn/manifold/_t_sne.py:1164: FutureWarning: 'n_iter' was renamed to 'max_iter' in version 1.5 and will be removed in 1.7.\n",
      "  warnings.warn(\n",
      "/Users/harrisonma/opt/anaconda3/envs/ai_cellchat/lib/python3.11/site-packages/sklearn/manifold/_t_sne.py:1164: FutureWarning: 'n_iter' was renamed to 'max_iter' in version 1.5 and will be removed in 1.7.\n",
      "  warnings.warn(\n",
      "/Users/harrisonma/opt/anaconda3/envs/ai_cellchat/lib/python3.11/site-packages/sklearn/manifold/_t_sne.py:1164: FutureWarning: 'n_iter' was renamed to 'max_iter' in version 1.5 and will be removed in 1.7.\n",
      "  warnings.warn(\n"
     ]
    },
    {
     "name": "stdout",
     "output_type": "stream",
     "text": [
      "[CV] END learning_rate=100, n_components=10, n_iter=1000, perplexity=5; total time=   0.0s\n",
      "[CV] END learning_rate=100, n_components=10, n_iter=1000, perplexity=5; total time=   0.0s\n",
      "[CV] END learning_rate=100, n_components=10, n_iter=1000, perplexity=30; total time=   0.0s\n",
      "[CV] END learning_rate=100, n_components=10, n_iter=1000, perplexity=30; total time=   0.0s\n",
      "[CV] END learning_rate=100, n_components=10, n_iter=1000, perplexity=30; total time=   0.0s\n"
     ]
    },
    {
     "name": "stderr",
     "output_type": "stream",
     "text": [
      "/Users/harrisonma/opt/anaconda3/envs/ai_cellchat/lib/python3.11/site-packages/sklearn/manifold/_t_sne.py:1164: FutureWarning: 'n_iter' was renamed to 'max_iter' in version 1.5 and will be removed in 1.7.\n",
      "  warnings.warn(\n",
      "/Users/harrisonma/opt/anaconda3/envs/ai_cellchat/lib/python3.11/site-packages/sklearn/manifold/_t_sne.py:1164: FutureWarning: 'n_iter' was renamed to 'max_iter' in version 1.5 and will be removed in 1.7.\n",
      "  warnings.warn(\n",
      "/Users/harrisonma/opt/anaconda3/envs/ai_cellchat/lib/python3.11/site-packages/sklearn/manifold/_t_sne.py:1164: FutureWarning: 'n_iter' was renamed to 'max_iter' in version 1.5 and will be removed in 1.7.\n",
      "  warnings.warn(\n",
      "/Users/harrisonma/opt/anaconda3/envs/ai_cellchat/lib/python3.11/site-packages/sklearn/manifold/_t_sne.py:1164: FutureWarning: 'n_iter' was renamed to 'max_iter' in version 1.5 and will be removed in 1.7.\n",
      "  warnings.warn(\n",
      "/Users/harrisonma/opt/anaconda3/envs/ai_cellchat/lib/python3.11/site-packages/sklearn/manifold/_t_sne.py:1164: FutureWarning: 'n_iter' was renamed to 'max_iter' in version 1.5 and will be removed in 1.7.\n",
      "  warnings.warn(\n"
     ]
    },
    {
     "name": "stdout",
     "output_type": "stream",
     "text": [
      "[CV] END learning_rate=100, n_components=10, n_iter=1000, perplexity=30; total time=   0.0s\n",
      "[CV] END learning_rate=100, n_components=10, n_iter=1000, perplexity=30; total time=   0.0s\n",
      "[CV] END learning_rate=100, n_components=10, n_iter=1000, perplexity=50; total time=   0.0s\n",
      "[CV] END learning_rate=100, n_components=10, n_iter=1000, perplexity=50; total time=   0.0s\n",
      "[CV] END learning_rate=100, n_components=10, n_iter=1000, perplexity=50; total time=   0.0s\n"
     ]
    },
    {
     "name": "stderr",
     "output_type": "stream",
     "text": [
      "/Users/harrisonma/opt/anaconda3/envs/ai_cellchat/lib/python3.11/site-packages/sklearn/manifold/_t_sne.py:1164: FutureWarning: 'n_iter' was renamed to 'max_iter' in version 1.5 and will be removed in 1.7.\n",
      "  warnings.warn(\n",
      "/Users/harrisonma/opt/anaconda3/envs/ai_cellchat/lib/python3.11/site-packages/sklearn/manifold/_t_sne.py:1164: FutureWarning: 'n_iter' was renamed to 'max_iter' in version 1.5 and will be removed in 1.7.\n",
      "  warnings.warn(\n",
      "/Users/harrisonma/opt/anaconda3/envs/ai_cellchat/lib/python3.11/site-packages/sklearn/manifold/_t_sne.py:1164: FutureWarning: 'n_iter' was renamed to 'max_iter' in version 1.5 and will be removed in 1.7.\n",
      "  warnings.warn(\n",
      "/Users/harrisonma/opt/anaconda3/envs/ai_cellchat/lib/python3.11/site-packages/sklearn/manifold/_t_sne.py:1164: FutureWarning: 'n_iter' was renamed to 'max_iter' in version 1.5 and will be removed in 1.7.\n",
      "  warnings.warn(\n"
     ]
    },
    {
     "name": "stdout",
     "output_type": "stream",
     "text": [
      "[CV] END learning_rate=100, n_components=10, n_iter=1000, perplexity=50; total time=   0.0s\n",
      "[CV] END learning_rate=100, n_components=10, n_iter=1000, perplexity=50; total time=   0.0s\n"
     ]
    },
    {
     "name": "stderr",
     "output_type": "stream",
     "text": [
      "/Users/harrisonma/opt/anaconda3/envs/ai_cellchat/lib/python3.11/site-packages/sklearn/manifold/_t_sne.py:1164: FutureWarning: 'n_iter' was renamed to 'max_iter' in version 1.5 and will be removed in 1.7.\n",
      "  warnings.warn(\n",
      "/Users/harrisonma/opt/anaconda3/envs/ai_cellchat/lib/python3.11/site-packages/sklearn/manifold/_t_sne.py:1164: FutureWarning: 'n_iter' was renamed to 'max_iter' in version 1.5 and will be removed in 1.7.\n",
      "  warnings.warn(\n",
      "/Users/harrisonma/opt/anaconda3/envs/ai_cellchat/lib/python3.11/site-packages/sklearn/manifold/_t_sne.py:1164: FutureWarning: 'n_iter' was renamed to 'max_iter' in version 1.5 and will be removed in 1.7.\n",
      "  warnings.warn(\n",
      "/Users/harrisonma/opt/anaconda3/envs/ai_cellchat/lib/python3.11/site-packages/sklearn/manifold/_t_sne.py:1164: FutureWarning: 'n_iter' was renamed to 'max_iter' in version 1.5 and will be removed in 1.7.\n",
      "  warnings.warn(\n",
      "/Users/harrisonma/opt/anaconda3/envs/ai_cellchat/lib/python3.11/site-packages/sklearn/manifold/_t_sne.py:1164: FutureWarning: 'n_iter' was renamed to 'max_iter' in version 1.5 and will be removed in 1.7.\n",
      "  warnings.warn(\n",
      "/Users/harrisonma/opt/anaconda3/envs/ai_cellchat/lib/python3.11/site-packages/sklearn/manifold/_t_sne.py:1164: FutureWarning: 'n_iter' was renamed to 'max_iter' in version 1.5 and will be removed in 1.7.\n",
      "  warnings.warn(\n",
      "/Users/harrisonma/opt/anaconda3/envs/ai_cellchat/lib/python3.11/site-packages/sklearn/manifold/_t_sne.py:1164: FutureWarning: 'n_iter' was renamed to 'max_iter' in version 1.5 and will be removed in 1.7.\n",
      "  warnings.warn(\n",
      "/Users/harrisonma/opt/anaconda3/envs/ai_cellchat/lib/python3.11/site-packages/sklearn/manifold/_t_sne.py:1164: FutureWarning: 'n_iter' was renamed to 'max_iter' in version 1.5 and will be removed in 1.7.\n",
      "  warnings.warn(\n",
      "/Users/harrisonma/opt/anaconda3/envs/ai_cellchat/lib/python3.11/site-packages/sklearn/base.py:1389: ConvergenceWarning: Number of distinct clusters (3) found smaller than n_clusters (8). Possibly due to duplicate points in X.\n",
      "  return fit_method(estimator, *args, **kwargs)\n",
      "/Users/harrisonma/opt/anaconda3/envs/ai_cellchat/lib/python3.11/site-packages/sklearn/manifold/_spectral_embedding.py:329: UserWarning: Graph is not fully connected, spectral embedding may not work as expected.\n",
      "  warnings.warn(\n",
      "/Users/harrisonma/opt/anaconda3/envs/ai_cellchat/lib/python3.11/site-packages/sklearn/manifold/_spectral_embedding.py:329: UserWarning: Graph is not fully connected, spectral embedding may not work as expected.\n",
      "  warnings.warn(\n",
      "/Users/harrisonma/opt/anaconda3/envs/ai_cellchat/lib/python3.11/site-packages/sklearn/manifold/_spectral_embedding.py:329: UserWarning: Graph is not fully connected, spectral embedding may not work as expected.\n",
      "  warnings.warn(\n",
      "/Users/harrisonma/opt/anaconda3/envs/ai_cellchat/lib/python3.11/site-packages/sklearn/base.py:1389: ConvergenceWarning: Number of distinct clusters (2) found smaller than n_clusters (8). Possibly due to duplicate points in X.\n",
      "  return fit_method(estimator, *args, **kwargs)\n",
      "/Users/harrisonma/opt/anaconda3/envs/ai_cellchat/lib/python3.11/site-packages/sklearn/manifold/_spectral_embedding.py:329: UserWarning: Graph is not fully connected, spectral embedding may not work as expected.\n",
      "  warnings.warn(\n",
      "/Users/harrisonma/opt/anaconda3/envs/ai_cellchat/lib/python3.11/site-packages/sklearn/base.py:1389: ConvergenceWarning: Number of distinct clusters (2) found smaller than n_clusters (8). Possibly due to duplicate points in X.\n",
      "  return fit_method(estimator, *args, **kwargs)\n",
      "/Users/harrisonma/opt/anaconda3/envs/ai_cellchat/lib/python3.11/site-packages/sklearn/manifold/_spectral_embedding.py:329: UserWarning: Graph is not fully connected, spectral embedding may not work as expected.\n",
      "  warnings.warn(\n",
      "/Users/harrisonma/opt/anaconda3/envs/ai_cellchat/lib/python3.11/site-packages/sklearn/base.py:1389: ConvergenceWarning: Number of distinct clusters (7) found smaller than n_clusters (8). Possibly due to duplicate points in X.\n",
      "  return fit_method(estimator, *args, **kwargs)\n",
      "/Users/harrisonma/opt/anaconda3/envs/ai_cellchat/lib/python3.11/site-packages/sklearn/base.py:1389: ConvergenceWarning: Number of distinct clusters (5) found smaller than n_clusters (8). Possibly due to duplicate points in X.\n",
      "  return fit_method(estimator, *args, **kwargs)\n"
     ]
    },
    {
     "name": "stdout",
     "output_type": "stream",
     "text": [
      "[CV] END learning_rate=200, n_components=2, n_iter=250, perplexity=5; total time=   4.6s\n",
      "[CV] END learning_rate=200, n_components=2, n_iter=250, perplexity=5; total time=   4.5s\n",
      "[CV] END learning_rate=200, n_components=2, n_iter=250, perplexity=5; total time=   4.6s\n"
     ]
    },
    {
     "name": "stderr",
     "output_type": "stream",
     "text": [
      "/Users/harrisonma/opt/anaconda3/envs/ai_cellchat/lib/python3.11/site-packages/sklearn/manifold/_t_sne.py:1164: FutureWarning: 'n_iter' was renamed to 'max_iter' in version 1.5 and will be removed in 1.7.\n",
      "  warnings.warn(\n",
      "/Users/harrisonma/opt/anaconda3/envs/ai_cellchat/lib/python3.11/site-packages/sklearn/manifold/_t_sne.py:1164: FutureWarning: 'n_iter' was renamed to 'max_iter' in version 1.5 and will be removed in 1.7.\n",
      "  warnings.warn(\n",
      "/Users/harrisonma/opt/anaconda3/envs/ai_cellchat/lib/python3.11/site-packages/sklearn/manifold/_t_sne.py:1164: FutureWarning: 'n_iter' was renamed to 'max_iter' in version 1.5 and will be removed in 1.7.\n",
      "  warnings.warn(\n"
     ]
    },
    {
     "name": "stdout",
     "output_type": "stream",
     "text": [
      "[CV] END learning_rate=200, n_components=2, n_iter=250, perplexity=5; total time=   5.0s\n",
      "[CV] END learning_rate=200, n_components=2, n_iter=250, perplexity=5; total time=   5.0s\n"
     ]
    },
    {
     "name": "stderr",
     "output_type": "stream",
     "text": [
      "/Users/harrisonma/opt/anaconda3/envs/ai_cellchat/lib/python3.11/site-packages/sklearn/manifold/_t_sne.py:1164: FutureWarning: 'n_iter' was renamed to 'max_iter' in version 1.5 and will be removed in 1.7.\n",
      "  warnings.warn(\n",
      "/Users/harrisonma/opt/anaconda3/envs/ai_cellchat/lib/python3.11/site-packages/sklearn/manifold/_t_sne.py:1164: FutureWarning: 'n_iter' was renamed to 'max_iter' in version 1.5 and will be removed in 1.7.\n",
      "  warnings.warn(\n"
     ]
    },
    {
     "name": "stdout",
     "output_type": "stream",
     "text": [
      "[CV] END learning_rate=200, n_components=2, n_iter=250, perplexity=30; total time=   5.1s\n",
      "[CV] END learning_rate=200, n_components=2, n_iter=250, perplexity=30; total time=   5.5s\n"
     ]
    },
    {
     "name": "stderr",
     "output_type": "stream",
     "text": [
      "/Users/harrisonma/opt/anaconda3/envs/ai_cellchat/lib/python3.11/site-packages/sklearn/manifold/_t_sne.py:1164: FutureWarning: 'n_iter' was renamed to 'max_iter' in version 1.5 and will be removed in 1.7.\n",
      "  warnings.warn(\n"
     ]
    },
    {
     "name": "stdout",
     "output_type": "stream",
     "text": [
      "[CV] END learning_rate=200, n_components=2, n_iter=250, perplexity=30; total time=   5.3s\n"
     ]
    },
    {
     "name": "stderr",
     "output_type": "stream",
     "text": [
      "/Users/harrisonma/opt/anaconda3/envs/ai_cellchat/lib/python3.11/site-packages/sklearn/manifold/_t_sne.py:1164: FutureWarning: 'n_iter' was renamed to 'max_iter' in version 1.5 and will be removed in 1.7.\n",
      "  warnings.warn(\n",
      "/Users/harrisonma/opt/anaconda3/envs/ai_cellchat/lib/python3.11/site-packages/sklearn/manifold/_t_sne.py:1164: FutureWarning: 'n_iter' was renamed to 'max_iter' in version 1.5 and will be removed in 1.7.\n",
      "  warnings.warn(\n",
      "/Users/harrisonma/opt/anaconda3/envs/ai_cellchat/lib/python3.11/site-packages/sklearn/manifold/_spectral_embedding.py:329: UserWarning: Graph is not fully connected, spectral embedding may not work as expected.\n",
      "  warnings.warn(\n",
      "/Users/harrisonma/opt/anaconda3/envs/ai_cellchat/lib/python3.11/site-packages/sklearn/base.py:1389: ConvergenceWarning: Number of distinct clusters (3) found smaller than n_clusters (8). Possibly due to duplicate points in X.\n",
      "  return fit_method(estimator, *args, **kwargs)\n",
      "/Users/harrisonma/opt/anaconda3/envs/ai_cellchat/lib/python3.11/site-packages/sklearn/manifold/_spectral_embedding.py:329: UserWarning: Graph is not fully connected, spectral embedding may not work as expected.\n",
      "  warnings.warn(\n",
      "/Users/harrisonma/opt/anaconda3/envs/ai_cellchat/lib/python3.11/site-packages/sklearn/base.py:1389: ConvergenceWarning: Number of distinct clusters (2) found smaller than n_clusters (8). Possibly due to duplicate points in X.\n",
      "  return fit_method(estimator, *args, **kwargs)\n",
      "/Users/harrisonma/opt/anaconda3/envs/ai_cellchat/lib/python3.11/site-packages/sklearn/base.py:1389: ConvergenceWarning: Number of distinct clusters (2) found smaller than n_clusters (8). Possibly due to duplicate points in X.\n",
      "  return fit_method(estimator, *args, **kwargs)\n",
      "/Users/harrisonma/opt/anaconda3/envs/ai_cellchat/lib/python3.11/site-packages/sklearn/base.py:1389: ConvergenceWarning: Number of distinct clusters (3) found smaller than n_clusters (8). Possibly due to duplicate points in X.\n",
      "  return fit_method(estimator, *args, **kwargs)\n",
      "/Users/harrisonma/opt/anaconda3/envs/ai_cellchat/lib/python3.11/site-packages/sklearn/base.py:1389: ConvergenceWarning: Number of distinct clusters (2) found smaller than n_clusters (8). Possibly due to duplicate points in X.\n",
      "  return fit_method(estimator, *args, **kwargs)\n"
     ]
    },
    {
     "name": "stdout",
     "output_type": "stream",
     "text": [
      "[CV] END learning_rate=200, n_components=2, n_iter=250, perplexity=30; total time=   4.7s\n",
      "[CV] END learning_rate=200, n_components=2, n_iter=250, perplexity=30; total time=   4.5s\n"
     ]
    },
    {
     "name": "stderr",
     "output_type": "stream",
     "text": [
      "/Users/harrisonma/opt/anaconda3/envs/ai_cellchat/lib/python3.11/site-packages/sklearn/manifold/_t_sne.py:1164: FutureWarning: 'n_iter' was renamed to 'max_iter' in version 1.5 and will be removed in 1.7.\n",
      "  warnings.warn(\n",
      "/Users/harrisonma/opt/anaconda3/envs/ai_cellchat/lib/python3.11/site-packages/sklearn/manifold/_t_sne.py:1164: FutureWarning: 'n_iter' was renamed to 'max_iter' in version 1.5 and will be removed in 1.7.\n",
      "  warnings.warn(\n"
     ]
    },
    {
     "name": "stdout",
     "output_type": "stream",
     "text": [
      "[CV] END learning_rate=200, n_components=2, n_iter=250, perplexity=50; total time=   4.8s\n"
     ]
    },
    {
     "name": "stderr",
     "output_type": "stream",
     "text": [
      "/Users/harrisonma/opt/anaconda3/envs/ai_cellchat/lib/python3.11/site-packages/sklearn/manifold/_t_sne.py:1164: FutureWarning: 'n_iter' was renamed to 'max_iter' in version 1.5 and will be removed in 1.7.\n",
      "  warnings.warn(\n"
     ]
    },
    {
     "name": "stdout",
     "output_type": "stream",
     "text": [
      "[CV] END learning_rate=200, n_components=2, n_iter=250, perplexity=50; total time=   4.8s\n"
     ]
    },
    {
     "name": "stderr",
     "output_type": "stream",
     "text": [
      "/Users/harrisonma/opt/anaconda3/envs/ai_cellchat/lib/python3.11/site-packages/sklearn/manifold/_t_sne.py:1164: FutureWarning: 'n_iter' was renamed to 'max_iter' in version 1.5 and will be removed in 1.7.\n",
      "  warnings.warn(\n"
     ]
    },
    {
     "name": "stdout",
     "output_type": "stream",
     "text": [
      "[CV] END learning_rate=200, n_components=2, n_iter=250, perplexity=50; total time=   5.2s\n",
      "[CV] END learning_rate=200, n_components=2, n_iter=250, perplexity=50; total time=   4.9s\n"
     ]
    },
    {
     "name": "stderr",
     "output_type": "stream",
     "text": [
      "/Users/harrisonma/opt/anaconda3/envs/ai_cellchat/lib/python3.11/site-packages/sklearn/manifold/_t_sne.py:1164: FutureWarning: 'n_iter' was renamed to 'max_iter' in version 1.5 and will be removed in 1.7.\n",
      "  warnings.warn(\n",
      "/Users/harrisonma/opt/anaconda3/envs/ai_cellchat/lib/python3.11/site-packages/sklearn/manifold/_t_sne.py:1164: FutureWarning: 'n_iter' was renamed to 'max_iter' in version 1.5 and will be removed in 1.7.\n",
      "  warnings.warn(\n"
     ]
    },
    {
     "name": "stdout",
     "output_type": "stream",
     "text": [
      "[CV] END learning_rate=200, n_components=2, n_iter=250, perplexity=50; total time=   5.1s\n"
     ]
    },
    {
     "name": "stderr",
     "output_type": "stream",
     "text": [
      "/Users/harrisonma/opt/anaconda3/envs/ai_cellchat/lib/python3.11/site-packages/sklearn/manifold/_t_sne.py:1164: FutureWarning: 'n_iter' was renamed to 'max_iter' in version 1.5 and will be removed in 1.7.\n",
      "  warnings.warn(\n"
     ]
    },
    {
     "name": "stdout",
     "output_type": "stream",
     "text": [
      "[CV] END learning_rate=200, n_components=2, n_iter=500, perplexity=30; total time=   5.8s\n"
     ]
    },
    {
     "name": "stderr",
     "output_type": "stream",
     "text": [
      "/Users/harrisonma/opt/anaconda3/envs/ai_cellchat/lib/python3.11/site-packages/sklearn/manifold/_t_sne.py:1164: FutureWarning: 'n_iter' was renamed to 'max_iter' in version 1.5 and will be removed in 1.7.\n",
      "  warnings.warn(\n"
     ]
    },
    {
     "name": "stdout",
     "output_type": "stream",
     "text": [
      "[CV] END learning_rate=200, n_components=2, n_iter=500, perplexity=30; total time=   6.2s\n"
     ]
    },
    {
     "name": "stderr",
     "output_type": "stream",
     "text": [
      "/Users/harrisonma/opt/anaconda3/envs/ai_cellchat/lib/python3.11/site-packages/sklearn/manifold/_t_sne.py:1164: FutureWarning: 'n_iter' was renamed to 'max_iter' in version 1.5 and will be removed in 1.7.\n",
      "  warnings.warn(\n"
     ]
    },
    {
     "name": "stdout",
     "output_type": "stream",
     "text": [
      "[CV] END learning_rate=200, n_components=2, n_iter=500, perplexity=30; total time=   6.2s\n"
     ]
    },
    {
     "name": "stderr",
     "output_type": "stream",
     "text": [
      "/Users/harrisonma/opt/anaconda3/envs/ai_cellchat/lib/python3.11/site-packages/sklearn/manifold/_t_sne.py:1164: FutureWarning: 'n_iter' was renamed to 'max_iter' in version 1.5 and will be removed in 1.7.\n",
      "  warnings.warn(\n"
     ]
    },
    {
     "name": "stdout",
     "output_type": "stream",
     "text": [
      "[CV] END learning_rate=200, n_components=2, n_iter=500, perplexity=30; total time=   5.5s\n"
     ]
    },
    {
     "name": "stderr",
     "output_type": "stream",
     "text": [
      "/Users/harrisonma/opt/anaconda3/envs/ai_cellchat/lib/python3.11/site-packages/sklearn/manifold/_t_sne.py:1164: FutureWarning: 'n_iter' was renamed to 'max_iter' in version 1.5 and will be removed in 1.7.\n",
      "  warnings.warn(\n"
     ]
    },
    {
     "name": "stdout",
     "output_type": "stream",
     "text": [
      "[CV] END learning_rate=200, n_components=2, n_iter=500, perplexity=30; total time=   6.0s\n"
     ]
    },
    {
     "name": "stderr",
     "output_type": "stream",
     "text": [
      "/Users/harrisonma/opt/anaconda3/envs/ai_cellchat/lib/python3.11/site-packages/sklearn/manifold/_t_sne.py:1164: FutureWarning: 'n_iter' was renamed to 'max_iter' in version 1.5 and will be removed in 1.7.\n",
      "  warnings.warn(\n"
     ]
    },
    {
     "name": "stdout",
     "output_type": "stream",
     "text": [
      "[CV] END learning_rate=200, n_components=2, n_iter=500, perplexity=50; total time=   6.0s\n"
     ]
    },
    {
     "name": "stderr",
     "output_type": "stream",
     "text": [
      "/Users/harrisonma/opt/anaconda3/envs/ai_cellchat/lib/python3.11/site-packages/sklearn/manifold/_t_sne.py:1164: FutureWarning: 'n_iter' was renamed to 'max_iter' in version 1.5 and will be removed in 1.7.\n",
      "  warnings.warn(\n",
      "/Users/harrisonma/opt/anaconda3/envs/ai_cellchat/lib/python3.11/site-packages/sklearn/manifold/_spectral_embedding.py:455: UserWarning: Exited at iteration 2000 with accuracies \n",
      "[1.35116366e-14 1.50010901e-06 1.69455800e-06 1.18398692e-06\n",
      " 2.10505953e-06 3.09672392e-06 2.10022935e-06 3.61433040e-06\n",
      " 1.07098790e-05]\n",
      "not reaching the requested tolerance 5.9604644775390625e-06.\n",
      "Use iteration 1930 instead with accuracy \n",
      "2.5331340493848004e-06.\n",
      "\n",
      "  _, diffusion_map = lobpcg(\n",
      "/Users/harrisonma/opt/anaconda3/envs/ai_cellchat/lib/python3.11/site-packages/sklearn/manifold/_spectral_embedding.py:455: UserWarning: Exited postprocessing with accuracies \n",
      "[1.14404775e-14 1.55397994e-06 1.70768983e-06 1.07658775e-06\n",
      " 2.25424545e-06 2.83087585e-06 2.06227220e-06 3.90930308e-06\n",
      " 7.40299152e-06]\n",
      "not reaching the requested tolerance 5.9604644775390625e-06.\n",
      "  _, diffusion_map = lobpcg(\n"
     ]
    },
    {
     "name": "stdout",
     "output_type": "stream",
     "text": [
      "[CV] END learning_rate=200, n_components=2, n_iter=500, perplexity=5; total time=  22.0s\n"
     ]
    },
    {
     "name": "stderr",
     "output_type": "stream",
     "text": [
      "/Users/harrisonma/opt/anaconda3/envs/ai_cellchat/lib/python3.11/site-packages/sklearn/manifold/_t_sne.py:1164: FutureWarning: 'n_iter' was renamed to 'max_iter' in version 1.5 and will be removed in 1.7.\n",
      "  warnings.warn(\n"
     ]
    },
    {
     "name": "stdout",
     "output_type": "stream",
     "text": [
      "[CV] END learning_rate=200, n_components=2, n_iter=500, perplexity=50; total time=   6.0s\n"
     ]
    },
    {
     "name": "stderr",
     "output_type": "stream",
     "text": [
      "/Users/harrisonma/opt/anaconda3/envs/ai_cellchat/lib/python3.11/site-packages/sklearn/manifold/_t_sne.py:1164: FutureWarning: 'n_iter' was renamed to 'max_iter' in version 1.5 and will be removed in 1.7.\n",
      "  warnings.warn(\n"
     ]
    },
    {
     "name": "stdout",
     "output_type": "stream",
     "text": [
      "[CV] END learning_rate=200, n_components=2, n_iter=500, perplexity=50; total time=   6.2s\n"
     ]
    },
    {
     "name": "stderr",
     "output_type": "stream",
     "text": [
      "/Users/harrisonma/opt/anaconda3/envs/ai_cellchat/lib/python3.11/site-packages/sklearn/manifold/_t_sne.py:1164: FutureWarning: 'n_iter' was renamed to 'max_iter' in version 1.5 and will be removed in 1.7.\n",
      "  warnings.warn(\n"
     ]
    },
    {
     "name": "stdout",
     "output_type": "stream",
     "text": [
      "[CV] END learning_rate=200, n_components=2, n_iter=500, perplexity=50; total time=   6.5s\n"
     ]
    },
    {
     "name": "stderr",
     "output_type": "stream",
     "text": [
      "/Users/harrisonma/opt/anaconda3/envs/ai_cellchat/lib/python3.11/site-packages/sklearn/manifold/_t_sne.py:1164: FutureWarning: 'n_iter' was renamed to 'max_iter' in version 1.5 and will be removed in 1.7.\n",
      "  warnings.warn(\n",
      "/Users/harrisonma/opt/anaconda3/envs/ai_cellchat/lib/python3.11/site-packages/sklearn/manifold/_spectral_embedding.py:455: UserWarning: Exited at iteration 2000 with accuracies \n",
      "[7.23571668e-15 6.75317655e-07 1.12318756e-06 2.10926586e-06\n",
      " 1.34115534e-06 1.19828100e-06 4.12208416e-06 2.93713476e-06\n",
      " 1.66536894e-05]\n",
      "not reaching the requested tolerance 5.97536563873291e-06.\n",
      "Use iteration 1854 instead with accuracy \n",
      "2.3477008932639526e-06.\n",
      "\n",
      "  _, diffusion_map = lobpcg(\n",
      "/Users/harrisonma/opt/anaconda3/envs/ai_cellchat/lib/python3.11/site-packages/sklearn/manifold/_spectral_embedding.py:455: UserWarning: Exited postprocessing with accuracies \n",
      "[5.15113719e-15 6.89134086e-07 1.10697987e-06 1.82151729e-06\n",
      " 1.19463403e-06 1.28412114e-06 2.83274214e-06 3.05673389e-06\n",
      " 9.14353781e-06]\n",
      "not reaching the requested tolerance 5.97536563873291e-06.\n",
      "  _, diffusion_map = lobpcg(\n",
      "/Users/harrisonma/opt/anaconda3/envs/ai_cellchat/lib/python3.11/site-packages/sklearn/manifold/_spectral_embedding.py:455: UserWarning: Exited at iteration 2000 with accuracies \n",
      "[9.24180253e-15 9.37456330e-07 5.71343092e-07 1.67237032e-06\n",
      " 4.22766434e-06 2.14142599e-06 2.56118914e-06 3.11198831e-06\n",
      " 1.61036239e-05]\n",
      "not reaching the requested tolerance 5.97536563873291e-06.\n",
      "Use iteration 1978 instead with accuracy \n",
      "3.213456815269296e-06.\n",
      "\n",
      "  _, diffusion_map = lobpcg(\n",
      "/Users/harrisonma/opt/anaconda3/envs/ai_cellchat/lib/python3.11/site-packages/sklearn/manifold/_spectral_embedding.py:455: UserWarning: Exited postprocessing with accuracies \n",
      "[5.15095818e-15 9.28123738e-07 5.72383847e-07 1.69581872e-06\n",
      " 4.21870823e-06 2.14033226e-06 2.56084258e-06 3.08054929e-06\n",
      " 1.37243551e-05]\n",
      "not reaching the requested tolerance 5.97536563873291e-06.\n",
      "  _, diffusion_map = lobpcg(\n"
     ]
    },
    {
     "name": "stdout",
     "output_type": "stream",
     "text": [
      "[CV] END learning_rate=200, n_components=2, n_iter=500, perplexity=5; total time=  22.4s\n"
     ]
    },
    {
     "name": "stderr",
     "output_type": "stream",
     "text": [
      "/Users/harrisonma/opt/anaconda3/envs/ai_cellchat/lib/python3.11/site-packages/sklearn/manifold/_t_sne.py:1164: FutureWarning: 'n_iter' was renamed to 'max_iter' in version 1.5 and will be removed in 1.7.\n",
      "  warnings.warn(\n"
     ]
    },
    {
     "name": "stdout",
     "output_type": "stream",
     "text": [
      "[CV] END learning_rate=200, n_components=2, n_iter=500, perplexity=5; total time=  23.2s\n"
     ]
    },
    {
     "name": "stderr",
     "output_type": "stream",
     "text": [
      "/Users/harrisonma/opt/anaconda3/envs/ai_cellchat/lib/python3.11/site-packages/sklearn/manifold/_t_sne.py:1164: FutureWarning: 'n_iter' was renamed to 'max_iter' in version 1.5 and will be removed in 1.7.\n",
      "  warnings.warn(\n"
     ]
    },
    {
     "name": "stdout",
     "output_type": "stream",
     "text": [
      "[CV] END learning_rate=200, n_components=2, n_iter=500, perplexity=5; total time=  23.7s\n"
     ]
    },
    {
     "name": "stderr",
     "output_type": "stream",
     "text": [
      "/Users/harrisonma/opt/anaconda3/envs/ai_cellchat/lib/python3.11/site-packages/sklearn/manifold/_t_sne.py:1164: FutureWarning: 'n_iter' was renamed to 'max_iter' in version 1.5 and will be removed in 1.7.\n",
      "  warnings.warn(\n"
     ]
    },
    {
     "name": "stdout",
     "output_type": "stream",
     "text": [
      "[CV] END learning_rate=200, n_components=2, n_iter=500, perplexity=50; total time=   5.3s\n"
     ]
    },
    {
     "name": "stderr",
     "output_type": "stream",
     "text": [
      "/Users/harrisonma/opt/anaconda3/envs/ai_cellchat/lib/python3.11/site-packages/sklearn/manifold/_t_sne.py:1164: FutureWarning: 'n_iter' was renamed to 'max_iter' in version 1.5 and will be removed in 1.7.\n",
      "  warnings.warn(\n",
      "/Users/harrisonma/opt/anaconda3/envs/ai_cellchat/lib/python3.11/site-packages/sklearn/manifold/_t_sne.py:1164: FutureWarning: 'n_iter' was renamed to 'max_iter' in version 1.5 and will be removed in 1.7.\n",
      "  warnings.warn(\n"
     ]
    },
    {
     "name": "stdout",
     "output_type": "stream",
     "text": [
      "[CV] END learning_rate=200, n_components=2, n_iter=500, perplexity=5; total time=  23.8s\n",
      "[CV] END learning_rate=200, n_components=2, n_iter=1000, perplexity=30; total time=   6.0s\n"
     ]
    },
    {
     "name": "stderr",
     "output_type": "stream",
     "text": [
      "/Users/harrisonma/opt/anaconda3/envs/ai_cellchat/lib/python3.11/site-packages/sklearn/manifold/_t_sne.py:1164: FutureWarning: 'n_iter' was renamed to 'max_iter' in version 1.5 and will be removed in 1.7.\n",
      "  warnings.warn(\n"
     ]
    },
    {
     "name": "stdout",
     "output_type": "stream",
     "text": [
      "[CV] END learning_rate=200, n_components=2, n_iter=1000, perplexity=30; total time=   6.3s\n"
     ]
    },
    {
     "name": "stderr",
     "output_type": "stream",
     "text": [
      "/Users/harrisonma/opt/anaconda3/envs/ai_cellchat/lib/python3.11/site-packages/sklearn/manifold/_t_sne.py:1164: FutureWarning: 'n_iter' was renamed to 'max_iter' in version 1.5 and will be removed in 1.7.\n",
      "  warnings.warn(\n"
     ]
    },
    {
     "name": "stdout",
     "output_type": "stream",
     "text": [
      "[CV] END learning_rate=200, n_components=2, n_iter=1000, perplexity=30; total time=   6.9s\n"
     ]
    },
    {
     "name": "stderr",
     "output_type": "stream",
     "text": [
      "/Users/harrisonma/opt/anaconda3/envs/ai_cellchat/lib/python3.11/site-packages/sklearn/manifold/_t_sne.py:1164: FutureWarning: 'n_iter' was renamed to 'max_iter' in version 1.5 and will be removed in 1.7.\n",
      "  warnings.warn(\n"
     ]
    },
    {
     "name": "stdout",
     "output_type": "stream",
     "text": [
      "[CV] END learning_rate=200, n_components=2, n_iter=1000, perplexity=30; total time=   6.1s\n"
     ]
    },
    {
     "name": "stderr",
     "output_type": "stream",
     "text": [
      "/Users/harrisonma/opt/anaconda3/envs/ai_cellchat/lib/python3.11/site-packages/sklearn/manifold/_t_sne.py:1164: FutureWarning: 'n_iter' was renamed to 'max_iter' in version 1.5 and will be removed in 1.7.\n",
      "  warnings.warn(\n"
     ]
    },
    {
     "name": "stdout",
     "output_type": "stream",
     "text": [
      "[CV] END learning_rate=200, n_components=2, n_iter=1000, perplexity=30; total time=   6.4s\n"
     ]
    },
    {
     "name": "stderr",
     "output_type": "stream",
     "text": [
      "/Users/harrisonma/opt/anaconda3/envs/ai_cellchat/lib/python3.11/site-packages/sklearn/manifold/_t_sne.py:1164: FutureWarning: 'n_iter' was renamed to 'max_iter' in version 1.5 and will be removed in 1.7.\n",
      "  warnings.warn(\n"
     ]
    },
    {
     "name": "stdout",
     "output_type": "stream",
     "text": [
      "[CV] END learning_rate=200, n_components=2, n_iter=1000, perplexity=50; total time=   6.3s\n"
     ]
    },
    {
     "name": "stderr",
     "output_type": "stream",
     "text": [
      "/Users/harrisonma/opt/anaconda3/envs/ai_cellchat/lib/python3.11/site-packages/sklearn/manifold/_t_sne.py:1164: FutureWarning: 'n_iter' was renamed to 'max_iter' in version 1.5 and will be removed in 1.7.\n",
      "  warnings.warn(\n",
      "/Users/harrisonma/opt/anaconda3/envs/ai_cellchat/lib/python3.11/site-packages/sklearn/manifold/_spectral_embedding.py:455: UserWarning: Exited at iteration 2000 with accuracies \n",
      "[6.88517506e-15 1.60869715e-06 1.11787413e-06 1.31962878e-06\n",
      " 3.08078734e-06 1.42119346e-06 1.87252936e-06 3.65574982e-06\n",
      " 2.11231320e-05]\n",
      "not reaching the requested tolerance 5.9604644775390625e-06.\n",
      "Use iteration 1837 instead with accuracy \n",
      "2.527104423837219e-06.\n",
      "\n",
      "  _, diffusion_map = lobpcg(\n",
      "/Users/harrisonma/opt/anaconda3/envs/ai_cellchat/lib/python3.11/site-packages/sklearn/manifold/_spectral_embedding.py:455: UserWarning: Exited postprocessing with accuracies \n",
      "[5.46954713e-15 1.62590254e-06 1.18549612e-06 1.30197681e-06\n",
      " 1.60253141e-06 1.45448793e-06 1.64113487e-06 3.80182617e-06\n",
      " 1.01303512e-05]\n",
      "not reaching the requested tolerance 5.9604644775390625e-06.\n",
      "  _, diffusion_map = lobpcg(\n"
     ]
    },
    {
     "name": "stdout",
     "output_type": "stream",
     "text": [
      "[CV] END learning_rate=200, n_components=2, n_iter=1000, perplexity=5; total time=  22.3s\n"
     ]
    },
    {
     "name": "stderr",
     "output_type": "stream",
     "text": [
      "/Users/harrisonma/opt/anaconda3/envs/ai_cellchat/lib/python3.11/site-packages/sklearn/manifold/_t_sne.py:1164: FutureWarning: 'n_iter' was renamed to 'max_iter' in version 1.5 and will be removed in 1.7.\n",
      "  warnings.warn(\n",
      "/Users/harrisonma/opt/anaconda3/envs/ai_cellchat/lib/python3.11/site-packages/sklearn/manifold/_spectral_embedding.py:455: UserWarning: Exited at iteration 2000 with accuracies \n",
      "[5.11244158e-14 1.03990488e-06 1.26005774e-06 1.26240438e-06\n",
      " 6.31041919e-06 8.10115029e-07 3.21178963e-06 6.60866459e-06\n",
      " 2.45839395e-05]\n",
      "not reaching the requested tolerance 5.97536563873291e-06.\n",
      "Use iteration 1897 instead with accuracy \n",
      "2.5304130379160332e-06.\n",
      "\n",
      "  _, diffusion_map = lobpcg(\n",
      "/Users/harrisonma/opt/anaconda3/envs/ai_cellchat/lib/python3.11/site-packages/sklearn/manifold/_spectral_embedding.py:455: UserWarning: Exited postprocessing with accuracies \n",
      "[1.22735188e-14 8.45719899e-07 1.17618683e-06 1.30407178e-06\n",
      " 2.61744408e-06 9.05179340e-07 2.09730280e-06 2.94971788e-06\n",
      " 1.08780449e-05]\n",
      "not reaching the requested tolerance 5.97536563873291e-06.\n",
      "  _, diffusion_map = lobpcg(\n"
     ]
    },
    {
     "name": "stdout",
     "output_type": "stream",
     "text": [
      "[CV] END learning_rate=200, n_components=2, n_iter=1000, perplexity=5; total time=  23.3s\n"
     ]
    },
    {
     "name": "stderr",
     "output_type": "stream",
     "text": [
      "/Users/harrisonma/opt/anaconda3/envs/ai_cellchat/lib/python3.11/site-packages/sklearn/manifold/_t_sne.py:1164: FutureWarning: 'n_iter' was renamed to 'max_iter' in version 1.5 and will be removed in 1.7.\n",
      "  warnings.warn(\n"
     ]
    },
    {
     "name": "stdout",
     "output_type": "stream",
     "text": [
      "[CV] END learning_rate=200, n_components=5, n_iter=250, perplexity=5; total time=   0.1s\n",
      "[CV] END learning_rate=200, n_components=5, n_iter=250, perplexity=5; total time=   0.0s\n"
     ]
    },
    {
     "name": "stderr",
     "output_type": "stream",
     "text": [
      "/Users/harrisonma/opt/anaconda3/envs/ai_cellchat/lib/python3.11/site-packages/sklearn/manifold/_t_sne.py:1164: FutureWarning: 'n_iter' was renamed to 'max_iter' in version 1.5 and will be removed in 1.7.\n",
      "  warnings.warn(\n",
      "/Users/harrisonma/opt/anaconda3/envs/ai_cellchat/lib/python3.11/site-packages/sklearn/manifold/_spectral_embedding.py:455: UserWarning: Exited at iteration 2000 with accuracies \n",
      "[1.08216353e-14 8.52783320e-07 1.31454782e-06 1.09304554e-06\n",
      " 3.40232322e-06 1.49782719e-06 3.01996749e-06 1.98603365e-06\n",
      " 7.13887172e-06]\n",
      "not reaching the requested tolerance 5.97536563873291e-06.\n",
      "Use iteration 1965 instead with accuracy \n",
      "2.1551289178885326e-06.\n",
      "\n",
      "  _, diffusion_map = lobpcg(\n",
      "/Users/harrisonma/opt/anaconda3/envs/ai_cellchat/lib/python3.11/site-packages/sklearn/manifold/_spectral_embedding.py:455: UserWarning: Exited postprocessing with accuracies \n",
      "[1.05528292e-14 8.65775842e-07 1.26123667e-06 1.07930997e-06\n",
      " 3.40876364e-06 1.50571289e-06 2.99667570e-06 1.98689333e-06\n",
      " 6.29177253e-06]\n",
      "not reaching the requested tolerance 5.97536563873291e-06.\n",
      "  _, diffusion_map = lobpcg(\n",
      "/Users/harrisonma/opt/anaconda3/envs/ai_cellchat/lib/python3.11/site-packages/sklearn/manifold/_t_sne.py:1164: FutureWarning: 'n_iter' was renamed to 'max_iter' in version 1.5 and will be removed in 1.7.\n",
      "  warnings.warn(\n",
      "/Users/harrisonma/opt/anaconda3/envs/ai_cellchat/lib/python3.11/site-packages/sklearn/manifold/_t_sne.py:1164: FutureWarning: 'n_iter' was renamed to 'max_iter' in version 1.5 and will be removed in 1.7.\n",
      "  warnings.warn(\n"
     ]
    },
    {
     "name": "stdout",
     "output_type": "stream",
     "text": [
      "[CV] END learning_rate=200, n_components=5, n_iter=250, perplexity=5; total time=   0.1s\n",
      "[CV] END learning_rate=200, n_components=5, n_iter=250, perplexity=5; total time=   0.0s\n"
     ]
    },
    {
     "name": "stderr",
     "output_type": "stream",
     "text": [
      "/Users/harrisonma/opt/anaconda3/envs/ai_cellchat/lib/python3.11/site-packages/sklearn/manifold/_t_sne.py:1164: FutureWarning: 'n_iter' was renamed to 'max_iter' in version 1.5 and will be removed in 1.7.\n",
      "  warnings.warn(\n"
     ]
    },
    {
     "name": "stdout",
     "output_type": "stream",
     "text": [
      "[CV] END learning_rate=200, n_components=2, n_iter=1000, perplexity=50; total time=   8.2s\n",
      "[CV] END learning_rate=200, n_components=5, n_iter=250, perplexity=5; total time=   0.0s\n"
     ]
    },
    {
     "name": "stderr",
     "output_type": "stream",
     "text": [
      "/Users/harrisonma/opt/anaconda3/envs/ai_cellchat/lib/python3.11/site-packages/sklearn/manifold/_t_sne.py:1164: FutureWarning: 'n_iter' was renamed to 'max_iter' in version 1.5 and will be removed in 1.7.\n",
      "  warnings.warn(\n",
      "/Users/harrisonma/opt/anaconda3/envs/ai_cellchat/lib/python3.11/site-packages/sklearn/manifold/_t_sne.py:1164: FutureWarning: 'n_iter' was renamed to 'max_iter' in version 1.5 and will be removed in 1.7.\n",
      "  warnings.warn(\n",
      "/Users/harrisonma/opt/anaconda3/envs/ai_cellchat/lib/python3.11/site-packages/sklearn/manifold/_t_sne.py:1164: FutureWarning: 'n_iter' was renamed to 'max_iter' in version 1.5 and will be removed in 1.7.\n",
      "  warnings.warn(\n",
      "/Users/harrisonma/opt/anaconda3/envs/ai_cellchat/lib/python3.11/site-packages/sklearn/manifold/_t_sne.py:1164: FutureWarning: 'n_iter' was renamed to 'max_iter' in version 1.5 and will be removed in 1.7.\n",
      "  warnings.warn(\n"
     ]
    },
    {
     "name": "stdout",
     "output_type": "stream",
     "text": [
      "[CV] END learning_rate=200, n_components=5, n_iter=250, perplexity=30; total time=   0.1s\n",
      "[CV] END learning_rate=200, n_components=5, n_iter=250, perplexity=30; total time=   0.1s\n",
      "[CV] END learning_rate=200, n_components=5, n_iter=250, perplexity=30; total time=   0.1s\n",
      "[CV] END learning_rate=200, n_components=5, n_iter=250, perplexity=30; total time=   0.1s\n",
      "[CV] END learning_rate=200, n_components=2, n_iter=1000, perplexity=5; total time=  24.3s\n"
     ]
    },
    {
     "name": "stderr",
     "output_type": "stream",
     "text": [
      "/Users/harrisonma/opt/anaconda3/envs/ai_cellchat/lib/python3.11/site-packages/sklearn/manifold/_t_sne.py:1164: FutureWarning: 'n_iter' was renamed to 'max_iter' in version 1.5 and will be removed in 1.7.\n",
      "  warnings.warn(\n",
      "/Users/harrisonma/opt/anaconda3/envs/ai_cellchat/lib/python3.11/site-packages/sklearn/manifold/_t_sne.py:1164: FutureWarning: 'n_iter' was renamed to 'max_iter' in version 1.5 and will be removed in 1.7.\n",
      "  warnings.warn(\n",
      "/Users/harrisonma/opt/anaconda3/envs/ai_cellchat/lib/python3.11/site-packages/sklearn/manifold/_t_sne.py:1164: FutureWarning: 'n_iter' was renamed to 'max_iter' in version 1.5 and will be removed in 1.7.\n",
      "  warnings.warn(\n"
     ]
    },
    {
     "name": "stdout",
     "output_type": "stream",
     "text": [
      "[CV] END learning_rate=200, n_components=5, n_iter=250, perplexity=30; total time=   0.0s\n",
      "[CV] END learning_rate=200, n_components=5, n_iter=250, perplexity=50; total time=   0.0s\n",
      "[CV] END learning_rate=200, n_components=5, n_iter=250, perplexity=50; total time=   0.0s\n",
      "[CV] END learning_rate=200, n_components=5, n_iter=250, perplexity=50; total time=   0.0s\n",
      "[CV] END learning_rate=200, n_components=5, n_iter=250, perplexity=50; total time=   0.1s\n"
     ]
    },
    {
     "name": "stderr",
     "output_type": "stream",
     "text": [
      "/Users/harrisonma/opt/anaconda3/envs/ai_cellchat/lib/python3.11/site-packages/sklearn/manifold/_t_sne.py:1164: FutureWarning: 'n_iter' was renamed to 'max_iter' in version 1.5 and will be removed in 1.7.\n",
      "  warnings.warn(\n",
      "/Users/harrisonma/opt/anaconda3/envs/ai_cellchat/lib/python3.11/site-packages/sklearn/manifold/_t_sne.py:1164: FutureWarning: 'n_iter' was renamed to 'max_iter' in version 1.5 and will be removed in 1.7.\n",
      "  warnings.warn(\n",
      "/Users/harrisonma/opt/anaconda3/envs/ai_cellchat/lib/python3.11/site-packages/sklearn/manifold/_t_sne.py:1164: FutureWarning: 'n_iter' was renamed to 'max_iter' in version 1.5 and will be removed in 1.7.\n",
      "  warnings.warn(\n"
     ]
    },
    {
     "name": "stdout",
     "output_type": "stream",
     "text": [
      "[CV] END learning_rate=200, n_components=5, n_iter=250, perplexity=50; total time=   0.0s\n",
      "[CV] END learning_rate=200, n_components=5, n_iter=500, perplexity=5; total time=   0.0s\n",
      "[CV] END learning_rate=200, n_components=2, n_iter=1000, perplexity=50; total time=   8.7s\n"
     ]
    },
    {
     "name": "stderr",
     "output_type": "stream",
     "text": [
      "/Users/harrisonma/opt/anaconda3/envs/ai_cellchat/lib/python3.11/site-packages/sklearn/manifold/_t_sne.py:1164: FutureWarning: 'n_iter' was renamed to 'max_iter' in version 1.5 and will be removed in 1.7.\n",
      "  warnings.warn(\n",
      "/Users/harrisonma/opt/anaconda3/envs/ai_cellchat/lib/python3.11/site-packages/sklearn/manifold/_t_sne.py:1164: FutureWarning: 'n_iter' was renamed to 'max_iter' in version 1.5 and will be removed in 1.7.\n",
      "  warnings.warn(\n"
     ]
    },
    {
     "name": "stdout",
     "output_type": "stream",
     "text": [
      "[CV] END learning_rate=200, n_components=5, n_iter=500, perplexity=5; total time=   0.0s\n"
     ]
    },
    {
     "name": "stderr",
     "output_type": "stream",
     "text": [
      "/Users/harrisonma/opt/anaconda3/envs/ai_cellchat/lib/python3.11/site-packages/sklearn/manifold/_t_sne.py:1164: FutureWarning: 'n_iter' was renamed to 'max_iter' in version 1.5 and will be removed in 1.7.\n",
      "  warnings.warn(\n",
      "/Users/harrisonma/opt/anaconda3/envs/ai_cellchat/lib/python3.11/site-packages/sklearn/manifold/_t_sne.py:1164: FutureWarning: 'n_iter' was renamed to 'max_iter' in version 1.5 and will be removed in 1.7.\n",
      "  warnings.warn(\n"
     ]
    },
    {
     "name": "stdout",
     "output_type": "stream",
     "text": [
      "[CV] END learning_rate=200, n_components=5, n_iter=500, perplexity=5; total time=   0.0s\n",
      "[CV] END learning_rate=200, n_components=5, n_iter=500, perplexity=5; total time=   0.0s\n",
      "[CV] END learning_rate=200, n_components=2, n_iter=1000, perplexity=5; total time=  23.6s\n"
     ]
    },
    {
     "name": "stderr",
     "output_type": "stream",
     "text": [
      "/Users/harrisonma/opt/anaconda3/envs/ai_cellchat/lib/python3.11/site-packages/sklearn/manifold/_t_sne.py:1164: FutureWarning: 'n_iter' was renamed to 'max_iter' in version 1.5 and will be removed in 1.7.\n",
      "  warnings.warn(\n",
      "/Users/harrisonma/opt/anaconda3/envs/ai_cellchat/lib/python3.11/site-packages/sklearn/manifold/_t_sne.py:1164: FutureWarning: 'n_iter' was renamed to 'max_iter' in version 1.5 and will be removed in 1.7.\n",
      "  warnings.warn(\n"
     ]
    },
    {
     "name": "stdout",
     "output_type": "stream",
     "text": [
      "[CV] END learning_rate=200, n_components=5, n_iter=500, perplexity=5; total time=   0.1s\n",
      "[CV] END learning_rate=200, n_components=5, n_iter=500, perplexity=30; total time=   0.1s\n"
     ]
    },
    {
     "name": "stderr",
     "output_type": "stream",
     "text": [
      "/Users/harrisonma/opt/anaconda3/envs/ai_cellchat/lib/python3.11/site-packages/sklearn/manifold/_t_sne.py:1164: FutureWarning: 'n_iter' was renamed to 'max_iter' in version 1.5 and will be removed in 1.7.\n",
      "  warnings.warn(\n",
      "/Users/harrisonma/opt/anaconda3/envs/ai_cellchat/lib/python3.11/site-packages/sklearn/manifold/_t_sne.py:1164: FutureWarning: 'n_iter' was renamed to 'max_iter' in version 1.5 and will be removed in 1.7.\n",
      "  warnings.warn(\n"
     ]
    },
    {
     "name": "stdout",
     "output_type": "stream",
     "text": [
      "[CV] END learning_rate=200, n_components=5, n_iter=500, perplexity=30; total time=   0.1s\n",
      "[CV] END learning_rate=200, n_components=5, n_iter=500, perplexity=30; total time=   0.0s\n",
      "[CV] END learning_rate=200, n_components=2, n_iter=1000, perplexity=5; total time=  24.1s\n"
     ]
    },
    {
     "name": "stderr",
     "output_type": "stream",
     "text": [
      "/Users/harrisonma/opt/anaconda3/envs/ai_cellchat/lib/python3.11/site-packages/sklearn/manifold/_t_sne.py:1164: FutureWarning: 'n_iter' was renamed to 'max_iter' in version 1.5 and will be removed in 1.7.\n",
      "  warnings.warn(\n",
      "/Users/harrisonma/opt/anaconda3/envs/ai_cellchat/lib/python3.11/site-packages/sklearn/manifold/_t_sne.py:1164: FutureWarning: 'n_iter' was renamed to 'max_iter' in version 1.5 and will be removed in 1.7.\n",
      "  warnings.warn(\n"
     ]
    },
    {
     "name": "stdout",
     "output_type": "stream",
     "text": [
      "[CV] END learning_rate=200, n_components=5, n_iter=500, perplexity=30; total time=   0.0s\n",
      "[CV] END learning_rate=200, n_components=2, n_iter=1000, perplexity=50; total time=   9.4s\n",
      "[CV] END learning_rate=200, n_components=5, n_iter=500, perplexity=30; total time=   0.0s\n",
      "[CV] END learning_rate=200, n_components=5, n_iter=500, perplexity=50; total time=   0.0s\n"
     ]
    },
    {
     "name": "stderr",
     "output_type": "stream",
     "text": [
      "/Users/harrisonma/opt/anaconda3/envs/ai_cellchat/lib/python3.11/site-packages/sklearn/manifold/_t_sne.py:1164: FutureWarning: 'n_iter' was renamed to 'max_iter' in version 1.5 and will be removed in 1.7.\n",
      "  warnings.warn(\n",
      "/Users/harrisonma/opt/anaconda3/envs/ai_cellchat/lib/python3.11/site-packages/sklearn/manifold/_t_sne.py:1164: FutureWarning: 'n_iter' was renamed to 'max_iter' in version 1.5 and will be removed in 1.7.\n",
      "  warnings.warn(\n"
     ]
    },
    {
     "name": "stdout",
     "output_type": "stream",
     "text": [
      "[CV] END learning_rate=200, n_components=5, n_iter=500, perplexity=50; total time=   0.0s\n",
      "[CV] END learning_rate=200, n_components=5, n_iter=500, perplexity=50; total time=   0.0s\n",
      "[CV] END learning_rate=200, n_components=5, n_iter=500, perplexity=50; total time=   0.0s\n"
     ]
    },
    {
     "name": "stderr",
     "output_type": "stream",
     "text": [
      "/Users/harrisonma/opt/anaconda3/envs/ai_cellchat/lib/python3.11/site-packages/sklearn/manifold/_t_sne.py:1164: FutureWarning: 'n_iter' was renamed to 'max_iter' in version 1.5 and will be removed in 1.7.\n",
      "  warnings.warn(\n",
      "/Users/harrisonma/opt/anaconda3/envs/ai_cellchat/lib/python3.11/site-packages/sklearn/manifold/_t_sne.py:1164: FutureWarning: 'n_iter' was renamed to 'max_iter' in version 1.5 and will be removed in 1.7.\n",
      "  warnings.warn(\n",
      "/Users/harrisonma/opt/anaconda3/envs/ai_cellchat/lib/python3.11/site-packages/sklearn/manifold/_t_sne.py:1164: FutureWarning: 'n_iter' was renamed to 'max_iter' in version 1.5 and will be removed in 1.7.\n",
      "  warnings.warn(\n"
     ]
    },
    {
     "name": "stdout",
     "output_type": "stream",
     "text": [
      "[CV] END learning_rate=200, n_components=5, n_iter=500, perplexity=50; total time=   0.0s\n",
      "[CV] END learning_rate=200, n_components=5, n_iter=1000, perplexity=5; total time=   0.1s\n",
      "[CV] END learning_rate=200, n_components=5, n_iter=1000, perplexity=5; total time=   0.0s\n"
     ]
    },
    {
     "name": "stderr",
     "output_type": "stream",
     "text": [
      "/Users/harrisonma/opt/anaconda3/envs/ai_cellchat/lib/python3.11/site-packages/sklearn/manifold/_t_sne.py:1164: FutureWarning: 'n_iter' was renamed to 'max_iter' in version 1.5 and will be removed in 1.7.\n",
      "  warnings.warn(\n",
      "/Users/harrisonma/opt/anaconda3/envs/ai_cellchat/lib/python3.11/site-packages/sklearn/manifold/_t_sne.py:1164: FutureWarning: 'n_iter' was renamed to 'max_iter' in version 1.5 and will be removed in 1.7.\n",
      "  warnings.warn(\n",
      "/Users/harrisonma/opt/anaconda3/envs/ai_cellchat/lib/python3.11/site-packages/sklearn/manifold/_t_sne.py:1164: FutureWarning: 'n_iter' was renamed to 'max_iter' in version 1.5 and will be removed in 1.7.\n",
      "  warnings.warn(\n",
      "/Users/harrisonma/opt/anaconda3/envs/ai_cellchat/lib/python3.11/site-packages/sklearn/manifold/_t_sne.py:1164: FutureWarning: 'n_iter' was renamed to 'max_iter' in version 1.5 and will be removed in 1.7.\n",
      "  warnings.warn(\n",
      "/Users/harrisonma/opt/anaconda3/envs/ai_cellchat/lib/python3.11/site-packages/sklearn/manifold/_t_sne.py:1164: FutureWarning: 'n_iter' was renamed to 'max_iter' in version 1.5 and will be removed in 1.7.\n",
      "  warnings.warn(\n"
     ]
    },
    {
     "name": "stdout",
     "output_type": "stream",
     "text": [
      "[CV] END learning_rate=200, n_components=5, n_iter=1000, perplexity=5; total time=   0.0s\n",
      "[CV] END learning_rate=200, n_components=5, n_iter=1000, perplexity=5; total time=   0.0s\n",
      "[CV] END learning_rate=200, n_components=5, n_iter=1000, perplexity=5; total time=   0.0s\n",
      "[CV] END learning_rate=200, n_components=5, n_iter=1000, perplexity=30; total time=   0.0s\n"
     ]
    },
    {
     "name": "stderr",
     "output_type": "stream",
     "text": [
      "/Users/harrisonma/opt/anaconda3/envs/ai_cellchat/lib/python3.11/site-packages/sklearn/manifold/_t_sne.py:1164: FutureWarning: 'n_iter' was renamed to 'max_iter' in version 1.5 and will be removed in 1.7.\n",
      "  warnings.warn(\n",
      "/Users/harrisonma/opt/anaconda3/envs/ai_cellchat/lib/python3.11/site-packages/sklearn/manifold/_t_sne.py:1164: FutureWarning: 'n_iter' was renamed to 'max_iter' in version 1.5 and will be removed in 1.7.\n",
      "  warnings.warn(\n",
      "/Users/harrisonma/opt/anaconda3/envs/ai_cellchat/lib/python3.11/site-packages/sklearn/manifold/_t_sne.py:1164: FutureWarning: 'n_iter' was renamed to 'max_iter' in version 1.5 and will be removed in 1.7.\n",
      "  warnings.warn(\n"
     ]
    },
    {
     "name": "stdout",
     "output_type": "stream",
     "text": [
      "[CV] END learning_rate=200, n_components=5, n_iter=1000, perplexity=30; total time=   0.0s\n",
      "[CV] END learning_rate=200, n_components=5, n_iter=1000, perplexity=30; total time=   0.0s\n"
     ]
    },
    {
     "name": "stderr",
     "output_type": "stream",
     "text": [
      "/Users/harrisonma/opt/anaconda3/envs/ai_cellchat/lib/python3.11/site-packages/sklearn/manifold/_t_sne.py:1164: FutureWarning: 'n_iter' was renamed to 'max_iter' in version 1.5 and will be removed in 1.7.\n",
      "  warnings.warn(\n",
      "/Users/harrisonma/opt/anaconda3/envs/ai_cellchat/lib/python3.11/site-packages/sklearn/manifold/_t_sne.py:1164: FutureWarning: 'n_iter' was renamed to 'max_iter' in version 1.5 and will be removed in 1.7.\n",
      "  warnings.warn(\n",
      "/Users/harrisonma/opt/anaconda3/envs/ai_cellchat/lib/python3.11/site-packages/sklearn/manifold/_t_sne.py:1164: FutureWarning: 'n_iter' was renamed to 'max_iter' in version 1.5 and will be removed in 1.7.\n",
      "  warnings.warn(\n",
      "/Users/harrisonma/opt/anaconda3/envs/ai_cellchat/lib/python3.11/site-packages/sklearn/manifold/_t_sne.py:1164: FutureWarning: 'n_iter' was renamed to 'max_iter' in version 1.5 and will be removed in 1.7.\n",
      "  warnings.warn(\n"
     ]
    },
    {
     "name": "stdout",
     "output_type": "stream",
     "text": [
      "[CV] END learning_rate=200, n_components=5, n_iter=1000, perplexity=30; total time=   0.0s\n",
      "[CV] END learning_rate=200, n_components=5, n_iter=1000, perplexity=30; total time=   0.0s\n",
      "[CV] END learning_rate=200, n_components=5, n_iter=1000, perplexity=50; total time=   0.0s\n",
      "[CV] END learning_rate=200, n_components=5, n_iter=1000, perplexity=50; total time=   0.0s\n",
      "[CV] END learning_rate=200, n_components=5, n_iter=1000, perplexity=50; total time=   0.0s\n",
      "[CV] END learning_rate=200, n_components=5, n_iter=1000, perplexity=50; total time=   0.0s\n",
      "[CV] END learning_rate=200, n_components=5, n_iter=1000, perplexity=50; total time=   0.0s\n"
     ]
    },
    {
     "name": "stderr",
     "output_type": "stream",
     "text": [
      "/Users/harrisonma/opt/anaconda3/envs/ai_cellchat/lib/python3.11/site-packages/sklearn/manifold/_t_sne.py:1164: FutureWarning: 'n_iter' was renamed to 'max_iter' in version 1.5 and will be removed in 1.7.\n",
      "  warnings.warn(\n",
      "/Users/harrisonma/opt/anaconda3/envs/ai_cellchat/lib/python3.11/site-packages/sklearn/manifold/_t_sne.py:1164: FutureWarning: 'n_iter' was renamed to 'max_iter' in version 1.5 and will be removed in 1.7.\n",
      "  warnings.warn(\n",
      "/Users/harrisonma/opt/anaconda3/envs/ai_cellchat/lib/python3.11/site-packages/sklearn/manifold/_t_sne.py:1164: FutureWarning: 'n_iter' was renamed to 'max_iter' in version 1.5 and will be removed in 1.7.\n",
      "  warnings.warn(\n",
      "/Users/harrisonma/opt/anaconda3/envs/ai_cellchat/lib/python3.11/site-packages/sklearn/manifold/_t_sne.py:1164: FutureWarning: 'n_iter' was renamed to 'max_iter' in version 1.5 and will be removed in 1.7.\n",
      "  warnings.warn(\n",
      "/Users/harrisonma/opt/anaconda3/envs/ai_cellchat/lib/python3.11/site-packages/sklearn/manifold/_t_sne.py:1164: FutureWarning: 'n_iter' was renamed to 'max_iter' in version 1.5 and will be removed in 1.7.\n",
      "  warnings.warn(\n",
      "/Users/harrisonma/opt/anaconda3/envs/ai_cellchat/lib/python3.11/site-packages/sklearn/manifold/_t_sne.py:1164: FutureWarning: 'n_iter' was renamed to 'max_iter' in version 1.5 and will be removed in 1.7.\n",
      "  warnings.warn(\n",
      "/Users/harrisonma/opt/anaconda3/envs/ai_cellchat/lib/python3.11/site-packages/sklearn/manifold/_t_sne.py:1164: FutureWarning: 'n_iter' was renamed to 'max_iter' in version 1.5 and will be removed in 1.7.\n",
      "  warnings.warn(\n",
      "/Users/harrisonma/opt/anaconda3/envs/ai_cellchat/lib/python3.11/site-packages/sklearn/manifold/_t_sne.py:1164: FutureWarning: 'n_iter' was renamed to 'max_iter' in version 1.5 and will be removed in 1.7.\n",
      "  warnings.warn(\n"
     ]
    },
    {
     "name": "stdout",
     "output_type": "stream",
     "text": [
      "[CV] END learning_rate=200, n_components=10, n_iter=250, perplexity=5; total time=   0.0s\n",
      "[CV] END learning_rate=200, n_components=10, n_iter=250, perplexity=5; total time=   0.0s\n",
      "[CV] END learning_rate=200, n_components=10, n_iter=250, perplexity=5; total time=   0.0s\n",
      "[CV] END learning_rate=200, n_components=2, n_iter=1000, perplexity=50; total time=   8.1s\n",
      "[CV] END learning_rate=200, n_components=10, n_iter=250, perplexity=5; total time=   0.0s\n",
      "[CV] END learning_rate=200, n_components=10, n_iter=250, perplexity=5; total time=   0.0s\n"
     ]
    },
    {
     "name": "stderr",
     "output_type": "stream",
     "text": [
      "/Users/harrisonma/opt/anaconda3/envs/ai_cellchat/lib/python3.11/site-packages/sklearn/manifold/_t_sne.py:1164: FutureWarning: 'n_iter' was renamed to 'max_iter' in version 1.5 and will be removed in 1.7.\n",
      "  warnings.warn(\n",
      "/Users/harrisonma/opt/anaconda3/envs/ai_cellchat/lib/python3.11/site-packages/sklearn/manifold/_t_sne.py:1164: FutureWarning: 'n_iter' was renamed to 'max_iter' in version 1.5 and will be removed in 1.7.\n",
      "  warnings.warn(\n",
      "/Users/harrisonma/opt/anaconda3/envs/ai_cellchat/lib/python3.11/site-packages/sklearn/manifold/_t_sne.py:1164: FutureWarning: 'n_iter' was renamed to 'max_iter' in version 1.5 and will be removed in 1.7.\n",
      "  warnings.warn(\n",
      "/Users/harrisonma/opt/anaconda3/envs/ai_cellchat/lib/python3.11/site-packages/sklearn/manifold/_t_sne.py:1164: FutureWarning: 'n_iter' was renamed to 'max_iter' in version 1.5 and will be removed in 1.7.\n",
      "  warnings.warn(\n"
     ]
    },
    {
     "name": "stdout",
     "output_type": "stream",
     "text": [
      "[CV] END learning_rate=200, n_components=10, n_iter=250, perplexity=30; total time=   0.0s\n",
      "[CV] END learning_rate=200, n_components=10, n_iter=250, perplexity=30; total time=   0.0s\n",
      "[CV] END learning_rate=200, n_components=10, n_iter=250, perplexity=30; total time=   0.0s\n",
      "[CV] END learning_rate=200, n_components=10, n_iter=250, perplexity=30; total time=   0.0s\n"
     ]
    },
    {
     "name": "stderr",
     "output_type": "stream",
     "text": [
      "/Users/harrisonma/opt/anaconda3/envs/ai_cellchat/lib/python3.11/site-packages/sklearn/manifold/_t_sne.py:1164: FutureWarning: 'n_iter' was renamed to 'max_iter' in version 1.5 and will be removed in 1.7.\n",
      "  warnings.warn(\n",
      "/Users/harrisonma/opt/anaconda3/envs/ai_cellchat/lib/python3.11/site-packages/sklearn/manifold/_t_sne.py:1164: FutureWarning: 'n_iter' was renamed to 'max_iter' in version 1.5 and will be removed in 1.7.\n",
      "  warnings.warn(\n",
      "/Users/harrisonma/opt/anaconda3/envs/ai_cellchat/lib/python3.11/site-packages/sklearn/manifold/_t_sne.py:1164: FutureWarning: 'n_iter' was renamed to 'max_iter' in version 1.5 and will be removed in 1.7.\n",
      "  warnings.warn(\n"
     ]
    },
    {
     "name": "stdout",
     "output_type": "stream",
     "text": [
      "[CV] END learning_rate=200, n_components=10, n_iter=250, perplexity=30; total time=   0.0s\n",
      "[CV] END learning_rate=200, n_components=10, n_iter=250, perplexity=50; total time=   0.0s\n",
      "[CV] END learning_rate=200, n_components=10, n_iter=250, perplexity=50; total time=   0.0s\n"
     ]
    },
    {
     "name": "stderr",
     "output_type": "stream",
     "text": [
      "/Users/harrisonma/opt/anaconda3/envs/ai_cellchat/lib/python3.11/site-packages/sklearn/manifold/_t_sne.py:1164: FutureWarning: 'n_iter' was renamed to 'max_iter' in version 1.5 and will be removed in 1.7.\n",
      "  warnings.warn(\n",
      "/Users/harrisonma/opt/anaconda3/envs/ai_cellchat/lib/python3.11/site-packages/sklearn/manifold/_t_sne.py:1164: FutureWarning: 'n_iter' was renamed to 'max_iter' in version 1.5 and will be removed in 1.7.\n",
      "  warnings.warn(\n",
      "/Users/harrisonma/opt/anaconda3/envs/ai_cellchat/lib/python3.11/site-packages/sklearn/manifold/_t_sne.py:1164: FutureWarning: 'n_iter' was renamed to 'max_iter' in version 1.5 and will be removed in 1.7.\n",
      "  warnings.warn(\n",
      "/Users/harrisonma/opt/anaconda3/envs/ai_cellchat/lib/python3.11/site-packages/sklearn/manifold/_t_sne.py:1164: FutureWarning: 'n_iter' was renamed to 'max_iter' in version 1.5 and will be removed in 1.7.\n",
      "  warnings.warn(\n"
     ]
    },
    {
     "name": "stdout",
     "output_type": "stream",
     "text": [
      "[CV] END learning_rate=200, n_components=10, n_iter=250, perplexity=50; total time=   0.0s\n",
      "[CV] END learning_rate=200, n_components=10, n_iter=250, perplexity=50; total time=   0.0s\n",
      "[CV] END learning_rate=200, n_components=10, n_iter=250, perplexity=50; total time=   0.0s\n",
      "[CV] END learning_rate=200, n_components=10, n_iter=500, perplexity=5; total time=   0.0s\n"
     ]
    },
    {
     "name": "stderr",
     "output_type": "stream",
     "text": [
      "/Users/harrisonma/opt/anaconda3/envs/ai_cellchat/lib/python3.11/site-packages/sklearn/manifold/_t_sne.py:1164: FutureWarning: 'n_iter' was renamed to 'max_iter' in version 1.5 and will be removed in 1.7.\n",
      "  warnings.warn(\n",
      "/Users/harrisonma/opt/anaconda3/envs/ai_cellchat/lib/python3.11/site-packages/sklearn/manifold/_t_sne.py:1164: FutureWarning: 'n_iter' was renamed to 'max_iter' in version 1.5 and will be removed in 1.7.\n",
      "  warnings.warn(\n",
      "/Users/harrisonma/opt/anaconda3/envs/ai_cellchat/lib/python3.11/site-packages/sklearn/manifold/_t_sne.py:1164: FutureWarning: 'n_iter' was renamed to 'max_iter' in version 1.5 and will be removed in 1.7.\n",
      "  warnings.warn(\n"
     ]
    },
    {
     "name": "stdout",
     "output_type": "stream",
     "text": [
      "[CV] END learning_rate=200, n_components=10, n_iter=500, perplexity=5; total time=   0.0s\n",
      "[CV] END learning_rate=200, n_components=10, n_iter=500, perplexity=5; total time=   0.0s\n",
      "[CV] END learning_rate=200, n_components=10, n_iter=500, perplexity=5; total time=   0.0s\n",
      "[CV] END learning_rate=200, n_components=10, n_iter=500, perplexity=5; total time=   0.0s\n"
     ]
    },
    {
     "name": "stderr",
     "output_type": "stream",
     "text": [
      "/Users/harrisonma/opt/anaconda3/envs/ai_cellchat/lib/python3.11/site-packages/sklearn/manifold/_t_sne.py:1164: FutureWarning: 'n_iter' was renamed to 'max_iter' in version 1.5 and will be removed in 1.7.\n",
      "  warnings.warn(\n",
      "/Users/harrisonma/opt/anaconda3/envs/ai_cellchat/lib/python3.11/site-packages/sklearn/manifold/_t_sne.py:1164: FutureWarning: 'n_iter' was renamed to 'max_iter' in version 1.5 and will be removed in 1.7.\n",
      "  warnings.warn(\n",
      "/Users/harrisonma/opt/anaconda3/envs/ai_cellchat/lib/python3.11/site-packages/sklearn/manifold/_t_sne.py:1164: FutureWarning: 'n_iter' was renamed to 'max_iter' in version 1.5 and will be removed in 1.7.\n",
      "  warnings.warn(\n",
      "/Users/harrisonma/opt/anaconda3/envs/ai_cellchat/lib/python3.11/site-packages/sklearn/manifold/_t_sne.py:1164: FutureWarning: 'n_iter' was renamed to 'max_iter' in version 1.5 and will be removed in 1.7.\n",
      "  warnings.warn(\n",
      "/Users/harrisonma/opt/anaconda3/envs/ai_cellchat/lib/python3.11/site-packages/sklearn/manifold/_t_sne.py:1164: FutureWarning: 'n_iter' was renamed to 'max_iter' in version 1.5 and will be removed in 1.7.\n",
      "  warnings.warn(\n"
     ]
    },
    {
     "name": "stdout",
     "output_type": "stream",
     "text": [
      "[CV] END learning_rate=200, n_components=10, n_iter=500, perplexity=30; total time=   0.0s\n",
      "[CV] END learning_rate=200, n_components=10, n_iter=500, perplexity=30; total time=   0.0s\n",
      "[CV] END learning_rate=200, n_components=10, n_iter=500, perplexity=30; total time=   0.0s\n",
      "[CV] END learning_rate=200, n_components=10, n_iter=500, perplexity=30; total time=   0.0s\n"
     ]
    },
    {
     "name": "stderr",
     "output_type": "stream",
     "text": [
      "/Users/harrisonma/opt/anaconda3/envs/ai_cellchat/lib/python3.11/site-packages/sklearn/manifold/_t_sne.py:1164: FutureWarning: 'n_iter' was renamed to 'max_iter' in version 1.5 and will be removed in 1.7.\n",
      "  warnings.warn(\n",
      "/Users/harrisonma/opt/anaconda3/envs/ai_cellchat/lib/python3.11/site-packages/sklearn/manifold/_t_sne.py:1164: FutureWarning: 'n_iter' was renamed to 'max_iter' in version 1.5 and will be removed in 1.7.\n",
      "  warnings.warn(\n",
      "/Users/harrisonma/opt/anaconda3/envs/ai_cellchat/lib/python3.11/site-packages/sklearn/manifold/_t_sne.py:1164: FutureWarning: 'n_iter' was renamed to 'max_iter' in version 1.5 and will be removed in 1.7.\n",
      "  warnings.warn(\n"
     ]
    },
    {
     "name": "stdout",
     "output_type": "stream",
     "text": [
      "[CV] END learning_rate=200, n_components=10, n_iter=500, perplexity=30; total time=   0.0s\n",
      "[CV] END learning_rate=200, n_components=10, n_iter=500, perplexity=50; total time=   0.0s\n",
      "[CV] END learning_rate=200, n_components=10, n_iter=500, perplexity=50; total time=   0.0s\n",
      "[CV] END learning_rate=200, n_components=10, n_iter=500, perplexity=50; total time=   0.0s\n"
     ]
    },
    {
     "name": "stderr",
     "output_type": "stream",
     "text": [
      "/Users/harrisonma/opt/anaconda3/envs/ai_cellchat/lib/python3.11/site-packages/sklearn/manifold/_t_sne.py:1164: FutureWarning: 'n_iter' was renamed to 'max_iter' in version 1.5 and will be removed in 1.7.\n",
      "  warnings.warn(\n",
      "/Users/harrisonma/opt/anaconda3/envs/ai_cellchat/lib/python3.11/site-packages/sklearn/manifold/_t_sne.py:1164: FutureWarning: 'n_iter' was renamed to 'max_iter' in version 1.5 and will be removed in 1.7.\n",
      "  warnings.warn(\n",
      "/Users/harrisonma/opt/anaconda3/envs/ai_cellchat/lib/python3.11/site-packages/sklearn/manifold/_t_sne.py:1164: FutureWarning: 'n_iter' was renamed to 'max_iter' in version 1.5 and will be removed in 1.7.\n",
      "  warnings.warn(\n"
     ]
    },
    {
     "name": "stdout",
     "output_type": "stream",
     "text": [
      "[CV] END learning_rate=200, n_components=10, n_iter=500, perplexity=50; total time=   0.0s\n",
      "[CV] END learning_rate=200, n_components=10, n_iter=500, perplexity=50; total time=   0.0s\n",
      "[CV] END learning_rate=200, n_components=10, n_iter=1000, perplexity=5; total time=   0.0s\n",
      "[CV] END learning_rate=200, n_components=10, n_iter=1000, perplexity=5; total time=   0.0s\n",
      "[CV] END learning_rate=200, n_components=10, n_iter=1000, perplexity=5; total time=   0.0s\n"
     ]
    },
    {
     "name": "stderr",
     "output_type": "stream",
     "text": [
      "/Users/harrisonma/opt/anaconda3/envs/ai_cellchat/lib/python3.11/site-packages/sklearn/manifold/_t_sne.py:1164: FutureWarning: 'n_iter' was renamed to 'max_iter' in version 1.5 and will be removed in 1.7.\n",
      "  warnings.warn(\n",
      "/Users/harrisonma/opt/anaconda3/envs/ai_cellchat/lib/python3.11/site-packages/sklearn/manifold/_t_sne.py:1164: FutureWarning: 'n_iter' was renamed to 'max_iter' in version 1.5 and will be removed in 1.7.\n",
      "  warnings.warn(\n",
      "/Users/harrisonma/opt/anaconda3/envs/ai_cellchat/lib/python3.11/site-packages/sklearn/manifold/_t_sne.py:1164: FutureWarning: 'n_iter' was renamed to 'max_iter' in version 1.5 and will be removed in 1.7.\n",
      "  warnings.warn(\n",
      "/Users/harrisonma/opt/anaconda3/envs/ai_cellchat/lib/python3.11/site-packages/sklearn/manifold/_t_sne.py:1164: FutureWarning: 'n_iter' was renamed to 'max_iter' in version 1.5 and will be removed in 1.7.\n",
      "  warnings.warn(\n"
     ]
    },
    {
     "name": "stdout",
     "output_type": "stream",
     "text": [
      "[CV] END learning_rate=200, n_components=10, n_iter=1000, perplexity=5; total time=   0.0s\n",
      "[CV] END learning_rate=200, n_components=10, n_iter=1000, perplexity=5; total time=   0.0s\n",
      "[CV] END learning_rate=200, n_components=10, n_iter=1000, perplexity=30; total time=   0.0s\n",
      "[CV] END learning_rate=200, n_components=10, n_iter=1000, perplexity=30; total time=   0.0s\n"
     ]
    },
    {
     "name": "stderr",
     "output_type": "stream",
     "text": [
      "/Users/harrisonma/opt/anaconda3/envs/ai_cellchat/lib/python3.11/site-packages/sklearn/manifold/_t_sne.py:1164: FutureWarning: 'n_iter' was renamed to 'max_iter' in version 1.5 and will be removed in 1.7.\n",
      "  warnings.warn(\n",
      "/Users/harrisonma/opt/anaconda3/envs/ai_cellchat/lib/python3.11/site-packages/sklearn/manifold/_t_sne.py:1164: FutureWarning: 'n_iter' was renamed to 'max_iter' in version 1.5 and will be removed in 1.7.\n",
      "  warnings.warn(\n",
      "/Users/harrisonma/opt/anaconda3/envs/ai_cellchat/lib/python3.11/site-packages/sklearn/manifold/_t_sne.py:1164: FutureWarning: 'n_iter' was renamed to 'max_iter' in version 1.5 and will be removed in 1.7.\n",
      "  warnings.warn(\n",
      "/Users/harrisonma/opt/anaconda3/envs/ai_cellchat/lib/python3.11/site-packages/sklearn/manifold/_t_sne.py:1164: FutureWarning: 'n_iter' was renamed to 'max_iter' in version 1.5 and will be removed in 1.7.\n",
      "  warnings.warn(\n"
     ]
    },
    {
     "name": "stdout",
     "output_type": "stream",
     "text": [
      "[CV] END learning_rate=200, n_components=10, n_iter=1000, perplexity=30; total time=   0.0s\n",
      "[CV] END learning_rate=200, n_components=10, n_iter=1000, perplexity=30; total time=   0.0s\n",
      "[CV] END learning_rate=200, n_components=10, n_iter=1000, perplexity=30; total time=   0.0s\n",
      "[CV] END learning_rate=200, n_components=10, n_iter=1000, perplexity=50; total time=   0.0s\n"
     ]
    },
    {
     "name": "stderr",
     "output_type": "stream",
     "text": [
      "/Users/harrisonma/opt/anaconda3/envs/ai_cellchat/lib/python3.11/site-packages/sklearn/manifold/_t_sne.py:1164: FutureWarning: 'n_iter' was renamed to 'max_iter' in version 1.5 and will be removed in 1.7.\n",
      "  warnings.warn(\n",
      "/Users/harrisonma/opt/anaconda3/envs/ai_cellchat/lib/python3.11/site-packages/sklearn/manifold/_t_sne.py:1164: FutureWarning: 'n_iter' was renamed to 'max_iter' in version 1.5 and will be removed in 1.7.\n",
      "  warnings.warn(\n",
      "/Users/harrisonma/opt/anaconda3/envs/ai_cellchat/lib/python3.11/site-packages/sklearn/manifold/_t_sne.py:1164: FutureWarning: 'n_iter' was renamed to 'max_iter' in version 1.5 and will be removed in 1.7.\n",
      "  warnings.warn(\n",
      "/Users/harrisonma/opt/anaconda3/envs/ai_cellchat/lib/python3.11/site-packages/sklearn/manifold/_t_sne.py:1164: FutureWarning: 'n_iter' was renamed to 'max_iter' in version 1.5 and will be removed in 1.7.\n",
      "  warnings.warn(\n"
     ]
    },
    {
     "name": "stdout",
     "output_type": "stream",
     "text": [
      "[CV] END learning_rate=200, n_components=10, n_iter=1000, perplexity=50; total time=   0.0s\n",
      "[CV] END learning_rate=200, n_components=10, n_iter=1000, perplexity=50; total time=   0.0s\n",
      "[CV] END learning_rate=200, n_components=10, n_iter=1000, perplexity=50; total time=   0.0s\n",
      "[CV] END learning_rate=200, n_components=10, n_iter=1000, perplexity=50; total time=   0.0s\n"
     ]
    },
    {
     "name": "stderr",
     "output_type": "stream",
     "text": [
      "/Users/harrisonma/opt/anaconda3/envs/ai_cellchat/lib/python3.11/site-packages/sklearn/manifold/_t_sne.py:1164: FutureWarning: 'n_iter' was renamed to 'max_iter' in version 1.5 and will be removed in 1.7.\n",
      "  warnings.warn(\n",
      "/Users/harrisonma/opt/anaconda3/envs/ai_cellchat/lib/python3.11/site-packages/sklearn/manifold/_t_sne.py:1164: FutureWarning: 'n_iter' was renamed to 'max_iter' in version 1.5 and will be removed in 1.7.\n",
      "  warnings.warn(\n",
      "/Users/harrisonma/opt/anaconda3/envs/ai_cellchat/lib/python3.11/site-packages/sklearn/manifold/_t_sne.py:1164: FutureWarning: 'n_iter' was renamed to 'max_iter' in version 1.5 and will be removed in 1.7.\n",
      "  warnings.warn(\n",
      "/Users/harrisonma/opt/anaconda3/envs/ai_cellchat/lib/python3.11/site-packages/sklearn/model_selection/_validation.py:528: FitFailedWarning: \n",
      "270 fits failed out of a total of 405.\n",
      "The score on these train-test partitions for these parameters will be set to nan.\n",
      "If these failures are not expected, you can try to debug them by setting error_score='raise'.\n",
      "\n",
      "Below are more details about the failures:\n",
      "--------------------------------------------------------------------------------\n",
      "270 fits failed with the following error:\n",
      "Traceback (most recent call last):\n",
      "  File \"/Users/harrisonma/opt/anaconda3/envs/ai_cellchat/lib/python3.11/site-packages/sklearn/model_selection/_validation.py\", line 864, in _fit_and_score\n",
      "    estimator.fit(X_train, **fit_params)\n",
      "  File \"/var/folders/dr/_r18syxx1yd9jgt5prvtlwcr0000gn/T/ipykernel_36683/564412395.py\", line 44, in fit\n",
      "  File \"/Users/harrisonma/opt/anaconda3/envs/ai_cellchat/lib/python3.11/site-packages/sklearn/utils/_set_output.py\", line 319, in wrapped\n",
      "    data_to_wrap = f(self, X, *args, **kwargs)\n",
      "                   ^^^^^^^^^^^^^^^^^^^^^^^^^^^\n",
      "  File \"/Users/harrisonma/opt/anaconda3/envs/ai_cellchat/lib/python3.11/site-packages/sklearn/base.py\", line 1389, in wrapper\n",
      "    return fit_method(estimator, *args, **kwargs)\n",
      "           ^^^^^^^^^^^^^^^^^^^^^^^^^^^^^^^^^^^^^^\n",
      "  File \"/Users/harrisonma/opt/anaconda3/envs/ai_cellchat/lib/python3.11/site-packages/sklearn/manifold/_t_sne.py\", line 1178, in fit_transform\n",
      "    embedding = self._fit(X)\n",
      "                ^^^^^^^^^^^^\n",
      "  File \"/Users/harrisonma/opt/anaconda3/envs/ai_cellchat/lib/python3.11/site-packages/sklearn/manifold/_t_sne.py\", line 920, in _fit\n",
      "    raise ValueError(\n",
      "ValueError: 'n_components' should be inferior to 4 for the barnes_hut algorithm as it relies on quad-tree or oct-tree.\n",
      "\n",
      "  warnings.warn(some_fits_failed_message, FitFailedWarning)\n",
      "/Users/harrisonma/opt/anaconda3/envs/ai_cellchat/lib/python3.11/site-packages/sklearn/manifold/_t_sne.py:1164: FutureWarning: 'n_iter' was renamed to 'max_iter' in version 1.5 and will be removed in 1.7.\n",
      "  warnings.warn(\n"
     ]
    },
    {
     "name": "stdout",
     "output_type": "stream",
     "text": [
      "Best params: {'learning_rate': 100, 'n_components': 2, 'n_iter': 250, 'perplexity': 30}\n",
      "Best silhouette: 0.6320655107498169\n"
     ]
    }
   ],
   "source": [
    "param_grid = {\n",
    "    'perplexity':      [5, 30, 50],\n",
    "    'learning_rate':   [50, 100, 200],\n",
    "    'n_iter':          [250, 500, 1000],\n",
    "    'n_components':    [2, 5, 10],\n",
    "    # you could also include:\n",
    "    # 'angle':         [0.1, 0.5, 1.0],\n",
    "    # 'init':          ['pca', 'random'],\n",
    "}\n",
    "\n",
    "from sklearn.model_selection import GridSearchCV\n",
    "\n",
    "grid = GridSearchCV(\n",
    "    estimator=TSNEClusteringEvaluator(),\n",
    "    param_grid=param_grid,\n",
    "    cv=5,\n",
    "    n_jobs=-1,\n",
    "    verbose=2\n",
    ")\n",
    "grid.fit(X)\n",
    "print(\"Best params:\", grid.best_params_)\n",
    "print(\"Best silhouette:\", grid.best_score_)\n"
   ]
  },
  {
   "cell_type": "code",
   "execution_count": 55,
   "id": "a1e83cd9",
   "metadata": {},
   "outputs": [
    {
     "name": "stdout",
     "output_type": "stream",
     "text": [
      "Fitting 5 folds for each of 243 candidates, totalling 1215 fits\n",
      "Best parameters: {'alpha': 0.5, 'beta': 1.0, 'delta': 0.5, 'epsilon': 0.001, 'n_neighbors': 5}\n",
      "Best silhouette score: 0.389358870846531\n"
     ]
    }
   ],
   "source": [
    "import numpy as np\n",
    "from sklearn.base import BaseEstimator\n",
    "from sklearn.cluster import KMeans, AgglomerativeClustering, SpectralClustering, DBSCAN\n",
    "from sklearn.mixture import GaussianMixture\n",
    "from sklearn.metrics import silhouette_score\n",
    "from sklearn.model_selection import GridSearchCV\n",
    "import pandas as pd\n",
    "import numpy as np\n",
    "from dtne import *\n",
    "import leidenalg\n",
    "import math\n",
    "import igraph as ig\n",
    "import matplotlib.pyplot as plt\n",
    "from sklearn.metrics.pairwise import euclidean_distances\n",
    "\n",
    "\n",
    "# 1) Define the sklearn‐compatible wrapper.\n",
    "class DTNEClusteringEvaluator(BaseEstimator):\n",
    "    def __init__(\n",
    "        self,\n",
    "        n_neighbors=15,\n",
    "        include_self=True,\n",
    "        delta=1.0,\n",
    "        alpha=1.0,\n",
    "        epsilon=1e-2,\n",
    "        beta=0.1,\n",
    "        kernel='box',\n",
    "        solver='mds',\n",
    "        random_state=0\n",
    "    ):\n",
    "        self.n_neighbors   = n_neighbors\n",
    "        self.include_self  = include_self\n",
    "        self.delta         = delta\n",
    "        self.alpha         = alpha\n",
    "        self.epsilon       = epsilon\n",
    "        self.beta          = beta\n",
    "        self.kernel        = kernel\n",
    "        self.solver        = solver\n",
    "        self.random_state  = random_state\n",
    "        self.embedding_    = None\n",
    "\n",
    "    def fit(self, X, y=None):\n",
    "        # instantiate your DTNE operator with current hyperparameters\n",
    "        dtne = DTNE(\n",
    "            n_neighbors=self.n_neighbors,\n",
    "            include_self=self.include_self,\n",
    "            delta=self.delta,\n",
    "            alpha=self.alpha,\n",
    "            epsilon=self.epsilon,\n",
    "            beta=self.beta,\n",
    "            kernel=self.kernel,\n",
    "            solver=self.solver,\n",
    "            random_state=self.random_state\n",
    "        )\n",
    "        # compute embedding once\n",
    "        self.embedding_ = dtne.fit_transform(X)\n",
    "        return self\n",
    "\n",
    "    def transform(self, X):\n",
    "        # scikit‐learn requires a transform method, but DTNE is non‐incremental,\n",
    "        # so we just return the embedding computed in fit()\n",
    "        return self.embedding_\n",
    "\n",
    "    def score(self, X, y=None):\n",
    "        X_emb = self.embedding_\n",
    "        scores = []\n",
    "        clustering_methods = [\n",
    "            KMeans(random_state=self.random_state),\n",
    "            AgglomerativeClustering(),\n",
    "            SpectralClustering(random_state=self.random_state),\n",
    "            DBSCAN(),\n",
    "            GaussianMixture(random_state=self.random_state),\n",
    "            leidenalg.find_partition(ig.Graph(), leidenalg.ModularityVertexPartition),\n",
    "        ]\n",
    "        for algo in clustering_methods:\n",
    "            try:\n",
    "                if hasattr(algo, 'fit_predict'):\n",
    "                    labels = algo.fit_predict(X_emb)\n",
    "                else:\n",
    "                    algo.fit(X_emb)\n",
    "                    labels = algo.predict(X_emb)\n",
    "\n",
    "                # handle DBSCAN noise\n",
    "                if isinstance(algo, DBSCAN):\n",
    "                    mask = labels != -1\n",
    "                    if len(np.unique(labels[mask])) < 2:\n",
    "                        continue\n",
    "                    sc = silhouette_score(X_emb[mask], labels[mask])\n",
    "                else:\n",
    "                    if len(np.unique(labels)) < 2:\n",
    "                        continue\n",
    "                    sc = silhouette_score(X_emb, labels)\n",
    "                scores.append(sc)\n",
    "            except Exception:\n",
    "                continue\n",
    "\n",
    "        return np.mean(scores) if scores else -1.0\n",
    "\n",
    "# 2) Choose a param_grid.\n",
    "param_grid = {\n",
    "    'n_neighbors':   [5, 10, 15],\n",
    "    #'include_self':  [True, False],\n",
    "    'delta':         [0.5, 1.0, 2.0],\n",
    "    'alpha':         [0.5, 1.0, 2.0],\n",
    "    'epsilon':       [1e-3, 1e-2, 1e-1],\n",
    "    'beta':          [0.01, 0.1, 1.0],\n",
    "    # 'kernel':        ['box', 'gaussian'],\n",
    "    #'solver':        ['mds', 'sgd', 'umap'],\n",
    "    # leave random_state fixed for reproducibility\n",
    "}\n",
    "\n",
    "# 3) Run GridSearchCV.\n",
    "grid = GridSearchCV(\n",
    "    estimator=DTNEClusteringEvaluator(),\n",
    "    param_grid=param_grid,\n",
    "    cv=5,           # 5‐fold cross‐validation\n",
    "    n_jobs=-1,      # use all cores\n",
    "    verbose=1\n",
    ")\n",
    "\n",
    "# assuming `np_log` is your data matrix:\n",
    "grid.fit(np_log)\n",
    "\n",
    "print(\"Best parameters:\", grid.best_params_)\n",
    "print(\"Best silhouette score:\", grid.best_score_)\n"
   ]
  },
  {
   "cell_type": "markdown",
   "id": "907e69fe",
   "metadata": {},
   "source": [
    "UMAP: {'min_dist': 0.1, 'n_components': 2, 'n_neighbors': 10}  \n",
    "DTNE: {'alpha': 0.5, 'beta': 1.0, 'delta': 0.5, 'epsilon': 0.001, 'kernel': 'box', 'n_neighbors': 5}  \n",
    "T-SNE: learning_rate': 100, 'n_components': 2, 'n_iter': 250, 'perplexity': 30"
   ]
  },
  {
   "cell_type": "markdown",
   "id": "f3aac836",
   "metadata": {},
   "source": [
    "# Run UMAP, DTNE, and T-SNE based on the above parameters"
   ]
  },
  {
   "cell_type": "code",
   "execution_count": 70,
   "id": "f1efe3da",
   "metadata": {},
   "outputs": [
    {
     "name": "stderr",
     "output_type": "stream",
     "text": [
      "/Users/harrisonma/opt/anaconda3/envs/ai_cellchat/lib/python3.11/site-packages/sklearn/utils/deprecation.py:151: FutureWarning: 'force_all_finite' was renamed to 'ensure_all_finite' in 1.6 and will be removed in 1.8.\n",
      "  warnings.warn(\n"
     ]
    }
   ],
   "source": [
    "X = np_log\n",
    "\n",
    "dim_red_umap = UMAP(n_neighbors=10, min_dist=0.1, n_components=2,).fit_transform(X)\n",
    "dim_red_dtne = DTNE(n_neighbors=5, delta=0.5, alpha=0.5, epsilon=0.001, beta=1.0).fit_transform(X)\n",
    "dim_red_umap = pd.DataFrame(dim_red_umap)\n",
    "dim_red_dtne = pd.DataFrame(dim_red_dtne)\n",
    "dim_red_umap.index = df_log['sample_id']\n",
    "dim_red_dtne.index = df_log['sample_id']\n",
    "dim_red_umap.to_csv('/Users/harrisonma/Documents/PhD Classes/2025 Spring/BNFO 285/BNFO285_Projects/project_1/Harrison/dim_red_umap.txt', sep = '\\t')\n",
    "dim_red_dtne.to_csv('/Users/harrisonma/Documents/PhD Classes/2025 Spring/BNFO 285/BNFO285_Projects/project_1/Harrison/dim_red_dtne.txt', sep = '\\t')\n"
   ]
  },
  {
   "cell_type": "code",
   "execution_count": 76,
   "id": "0c7fd2ae",
   "metadata": {},
   "outputs": [],
   "source": [
    "df_dim_umap = pd.DataFrame(dim_red_umap, columns=['UMAP1', 'UMAP2'])\n",
    "df_dim_dtne = pd.DataFrame(dim_red_dtne, columns=['DTNE1', 'DTNE2'])\n"
   ]
  },
  {
   "cell_type": "code",
   "execution_count": 78,
   "id": "bac8b387",
   "metadata": {},
   "outputs": [],
   "source": [
    "clustering_methods = [\n",
    "            KMeans(),\n",
    "            AgglomerativeClustering(),\n",
    "            SpectralClustering(),\n",
    "            DBSCAN(),\n",
    "            GaussianMixture(),\n",
    "            leidenalg.find_partition(ig.Graph(), leidenalg.ModularityVertexPartition),\n",
    "        ]\n",
    "# run each of the clustering methods, write the results to a column in df_log\n",
    "for method in clustering_methods:\n",
    "    if hasattr(method, 'fit_predict'):\n",
    "        labels = method.fit_predict(dim_red_umap)\n",
    "    elif hasattr(method, 'fit'):\n",
    "        method.fit(dim_red_umap)\n",
    "        labels = method.predict(dim_red_umap)\n",
    "    else:\n",
    "        g, partition = leiden_cluster(dim_red_umap)\n",
    "        labels = np.array(partition.membership)\n",
    "\n",
    "    # Add the labels to the DataFrame\n",
    "    df_log[f'umap {method}'] = labels\n"
   ]
  },
  {
   "cell_type": "code",
   "execution_count": 80,
   "id": "bc576b4b",
   "metadata": {},
   "outputs": [],
   "source": [
    "clustering_methods = [\n",
    "            KMeans(),\n",
    "            AgglomerativeClustering(),\n",
    "            SpectralClustering(),\n",
    "            DBSCAN(),\n",
    "            GaussianMixture(),\n",
    "            leidenalg.find_partition(ig.Graph(), leidenalg.ModularityVertexPartition),\n",
    "        ]\n",
    "# run each of the clustering methods, write the results to a column in df_log\n",
    "for method in clustering_methods:\n",
    "    if hasattr(method, 'fit_predict'):\n",
    "        labels = method.fit_predict(dim_red_dtne)\n",
    "    elif hasattr(method, 'fit'):\n",
    "        method.fit(dim_red_dtne)\n",
    "        labels = method.predict(dim_red_dtne)\n",
    "    else:\n",
    "        g, partition = leiden_cluster(dim_red_dtne)\n",
    "        labels = np.array(partition.membership)\n",
    "\n",
    "    # Add the labels to the DataFrame\n",
    "    df_log[f'umap {method}'] = labels\n"
   ]
  },
  {
   "cell_type": "code",
   "execution_count": 65,
   "id": "aaa68b20",
   "metadata": {},
   "outputs": [],
   "source": [
    "df_log_old = pd.read_csv('/Users/harrisonma/Documents/PhD Classes/2025 Spring/BNFO 285/BNFO285_Projects/Data/processed/TCGA.HNSC.expression_log_tumor_top2000.txt', sep = '\\t')\n",
    "df_log['sample_id'] = df_log_old['sample_id']\n",
    "df_log['patient_id'] = df_log_old['patient_id']\n"
   ]
  },
  {
   "cell_type": "code",
   "execution_count": 66,
   "id": "a63b8be5",
   "metadata": {},
   "outputs": [],
   "source": [
    "df_log.to_csv('/Users/harrisonma/Documents/PhD Classes/2025 Spring/BNFO 285/BNFO285_Projects/project_1/Harrison/Harrison_Local_Data/TCGA.HNSC.expression_log_tumor_top2000_clustering_results.txt', sep = '\\t', index = False)\n"
   ]
  },
  {
   "cell_type": "code",
   "execution_count": 71,
   "id": "834571f0",
   "metadata": {},
   "outputs": [],
   "source": [
    "# do DEG analysis using leiden clusters, one versus all. The genes are the column names to df_log\n",
    "from scipy.stats import ttest_ind\n",
    "from statsmodels.stats.multitest import multipletests\n",
    "import numpy as np\n",
    "\n",
    "\n",
    "def run_DEG_analysis(df, cluster_col, alpha=0.05):\n",
    "    \"\"\"\n",
    "    Run differential expression analysis for each cluster against all other clusters.\n",
    "    \n",
    "    Parameters:\n",
    "    -----------\n",
    "    df : DataFrame\n",
    "        The input DataFrame containing gene expression data and cluster labels.\n",
    "    cluster_col : str\n",
    "        The name of the column containing cluster labels.\n",
    "    alpha : float, default=0.05\n",
    "        Significance level for multiple testing correction.\n",
    "        \n",
    "    Returns:\n",
    "    --------\n",
    "    results : DataFrame\n",
    "        A DataFrame containing the results of the differential expression analysis.\n",
    "    \"\"\"\n",
    "    \n",
    "    # Get unique clusters\n",
    "    clusters = df[cluster_col].unique()\n",
    "    \n",
    "    # Initialize a list to store results\n",
    "    results = []\n",
    "    \n",
    "    # Loop through each cluster\n",
    "    for cluster in clusters:\n",
    "        # Get the genes in the current cluster\n",
    "        genes_in_cluster = df[df[cluster_col] == cluster].drop(columns=[cluster_col])\n",
    "        \n",
    "        # Get the genes in all other clusters\n",
    "        genes_in_others = df[df[cluster_col] != cluster].drop(columns=[cluster_col])\n",
    "        \n",
    "        # Perform t-test for each gene\n",
    "        for gene in genes_in_cluster.columns:\n",
    "            # Calculate means for log2fold change\n",
    "            mean_cluster = np.mean(genes_in_cluster[gene])\n",
    "            mean_others = np.mean(genes_in_others[gene])\n",
    "            log2fc = mean_cluster - mean_others  # Data is already log-transformed\n",
    "            \n",
    "            # Perform t-test\n",
    "            t_stat, p_val = ttest_ind(genes_in_cluster[gene], genes_in_others[gene], equal_var=False)\n",
    "            \n",
    "            results.append({\n",
    "                'gene': gene, \n",
    "                'cluster': cluster, \n",
    "                't_stat': t_stat, \n",
    "                'p_val': p_val,\n",
    "                'log2fc': log2fc,\n",
    "                'mean_cluster': mean_cluster,\n",
    "                'mean_others': mean_others\n",
    "            })\n",
    "    \n",
    "    # Convert results to DataFrame\n",
    "    results_df = pd.DataFrame(results)\n",
    "    \n",
    "    # Adjust p-values for multiple testing using Benjamini-Hochberg method\n",
    "    _, corrected_p_vals, _, _ = multipletests(results_df['p_val'], alpha=alpha, method='fdr_bh')\n",
    "    \n",
    "    # Add corrected p-values to results DataFrame\n",
    "    results_df['corrected_p_val'] = corrected_p_vals\n",
    "    \n",
    "    return results_df\n"
   ]
  },
  {
   "cell_type": "code",
   "execution_count": null,
   "id": "c0a27b58",
   "metadata": {},
   "outputs": [],
   "source": [
    "df_labels_dtne = pd.read_csv('/Users/harrisonma/Documents/PhD Classes/2025 Spring/BNFO 285/BNFO285_Projects/project_1/Harrison/dim_red/DTNE_clustering_labels_df.tsv', sep = '\\t')\n",
    "df_labels_umap = pd.read_csv('/Users/harrisonma/Documents/PhD Classes/2025 Spring/BNFO 285/BNFO285_Projects/project_1/Harrison/dim_red/UMAP_clustering_labels_df.tsv', sep = '\\t')\n",
    "df_labels_pca = pd.read_csv('/Users/harrisonma/Documents/PhD Classes/2025 Spring/BNFO 285/BNFO285_Projects/project_1/Harrison/DEGs/2k_PCA_clustering_labels_df.tsv', sep = '\\t')\n"
   ]
  },
  {
   "cell_type": "code",
   "execution_count": null,
   "id": "5570e8bd",
   "metadata": {},
   "outputs": [],
   "source": [
    "# take all columns starting with 'umap' and 'dtne' and store them in a list\n",
    "umap_cols = [col for col in df_log.columns if col.startswith('umap')]\n",
    "dtne_cols = [col for col in df_log.columns if col.startswith('dtne')]\n",
    "df_cluster = df_log[umap_cols + dtne_cols]\n",
    "df_log.drop(columns=umap_cols, inplace=True)\n",
    "df_log.drop(columns=dtne_cols, inplace=True)\n"
   ]
  },
  {
   "cell_type": "code",
   "execution_count": null,
   "id": "cfc09e0e",
   "metadata": {},
   "outputs": [
    {
     "data": {
      "text/html": [
       "<div>\n",
       "<style scoped>\n",
       "    .dataframe tbody tr th:only-of-type {\n",
       "        vertical-align: middle;\n",
       "    }\n",
       "\n",
       "    .dataframe tbody tr th {\n",
       "        vertical-align: top;\n",
       "    }\n",
       "\n",
       "    .dataframe thead th {\n",
       "        text-align: right;\n",
       "    }\n",
       "</style>\n",
       "<table border=\"1\" class=\"dataframe\">\n",
       "  <thead>\n",
       "    <tr style=\"text-align: right;\">\n",
       "      <th></th>\n",
       "      <th>sample_id</th>\n",
       "      <th>kmeans_cluster_label</th>\n",
       "      <th>agg_cluster_label</th>\n",
       "      <th>gmm_cluster_label</th>\n",
       "      <th>spectral_cluster_label</th>\n",
       "      <th>dbscan_cluster_label</th>\n",
       "      <th>leiden_cluster_label</th>\n",
       "    </tr>\n",
       "  </thead>\n",
       "  <tbody>\n",
       "    <tr>\n",
       "      <th>0</th>\n",
       "      <td>TCGA-4P-AA8J-01A-11R-A39I-07</td>\n",
       "      <td>1</td>\n",
       "      <td>2</td>\n",
       "      <td>1</td>\n",
       "      <td>0</td>\n",
       "      <td>-1</td>\n",
       "      <td>3</td>\n",
       "    </tr>\n",
       "    <tr>\n",
       "      <th>1</th>\n",
       "      <td>TCGA-BA-4074-01A-01R-1436-07</td>\n",
       "      <td>3</td>\n",
       "      <td>0</td>\n",
       "      <td>1</td>\n",
       "      <td>1</td>\n",
       "      <td>-1</td>\n",
       "      <td>2</td>\n",
       "    </tr>\n",
       "    <tr>\n",
       "      <th>2</th>\n",
       "      <td>TCGA-BA-4075-01A-01R-1436-07</td>\n",
       "      <td>3</td>\n",
       "      <td>0</td>\n",
       "      <td>1</td>\n",
       "      <td>1</td>\n",
       "      <td>-1</td>\n",
       "      <td>2</td>\n",
       "    </tr>\n",
       "    <tr>\n",
       "      <th>3</th>\n",
       "      <td>TCGA-BA-4076-01A-01R-1436-07</td>\n",
       "      <td>0</td>\n",
       "      <td>1</td>\n",
       "      <td>1</td>\n",
       "      <td>0</td>\n",
       "      <td>0</td>\n",
       "      <td>1</td>\n",
       "    </tr>\n",
       "    <tr>\n",
       "      <th>4</th>\n",
       "      <td>TCGA-BA-4077-01B-01R-1436-07</td>\n",
       "      <td>0</td>\n",
       "      <td>0</td>\n",
       "      <td>1</td>\n",
       "      <td>1</td>\n",
       "      <td>0</td>\n",
       "      <td>4</td>\n",
       "    </tr>\n",
       "    <tr>\n",
       "      <th>...</th>\n",
       "      <td>...</td>\n",
       "      <td>...</td>\n",
       "      <td>...</td>\n",
       "      <td>...</td>\n",
       "      <td>...</td>\n",
       "      <td>...</td>\n",
       "      <td>...</td>\n",
       "    </tr>\n",
       "    <tr>\n",
       "      <th>496</th>\n",
       "      <td>TCGA-UF-A7JT-01A-11R-A34R-07</td>\n",
       "      <td>0</td>\n",
       "      <td>0</td>\n",
       "      <td>1</td>\n",
       "      <td>1</td>\n",
       "      <td>0</td>\n",
       "      <td>2</td>\n",
       "    </tr>\n",
       "    <tr>\n",
       "      <th>497</th>\n",
       "      <td>TCGA-UF-A7JV-01A-11R-A34R-07</td>\n",
       "      <td>3</td>\n",
       "      <td>0</td>\n",
       "      <td>1</td>\n",
       "      <td>1</td>\n",
       "      <td>0</td>\n",
       "      <td>2</td>\n",
       "    </tr>\n",
       "    <tr>\n",
       "      <th>498</th>\n",
       "      <td>TCGA-UP-A6WW-01A-12R-A34R-07</td>\n",
       "      <td>4</td>\n",
       "      <td>2</td>\n",
       "      <td>0</td>\n",
       "      <td>4</td>\n",
       "      <td>0</td>\n",
       "      <td>4</td>\n",
       "    </tr>\n",
       "    <tr>\n",
       "      <th>499</th>\n",
       "      <td>TCGA-WA-A7GZ-01A-11R-A34R-07</td>\n",
       "      <td>2</td>\n",
       "      <td>0</td>\n",
       "      <td>1</td>\n",
       "      <td>0</td>\n",
       "      <td>0</td>\n",
       "      <td>0</td>\n",
       "    </tr>\n",
       "    <tr>\n",
       "      <th>500</th>\n",
       "      <td>TCGA-WA-A7H4-01A-21R-A34R-07</td>\n",
       "      <td>1</td>\n",
       "      <td>0</td>\n",
       "      <td>1</td>\n",
       "      <td>2</td>\n",
       "      <td>0</td>\n",
       "      <td>0</td>\n",
       "    </tr>\n",
       "  </tbody>\n",
       "</table>\n",
       "<p>501 rows × 7 columns</p>\n",
       "</div>"
      ],
      "text/plain": [
       "                        sample_id  kmeans_cluster_label  agg_cluster_label  \\\n",
       "0    TCGA-4P-AA8J-01A-11R-A39I-07                     1                  2   \n",
       "1    TCGA-BA-4074-01A-01R-1436-07                     3                  0   \n",
       "2    TCGA-BA-4075-01A-01R-1436-07                     3                  0   \n",
       "3    TCGA-BA-4076-01A-01R-1436-07                     0                  1   \n",
       "4    TCGA-BA-4077-01B-01R-1436-07                     0                  0   \n",
       "..                            ...                   ...                ...   \n",
       "496  TCGA-UF-A7JT-01A-11R-A34R-07                     0                  0   \n",
       "497  TCGA-UF-A7JV-01A-11R-A34R-07                     3                  0   \n",
       "498  TCGA-UP-A6WW-01A-12R-A34R-07                     4                  2   \n",
       "499  TCGA-WA-A7GZ-01A-11R-A34R-07                     2                  0   \n",
       "500  TCGA-WA-A7H4-01A-21R-A34R-07                     1                  0   \n",
       "\n",
       "     gmm_cluster_label  spectral_cluster_label  dbscan_cluster_label  \\\n",
       "0                    1                       0                    -1   \n",
       "1                    1                       1                    -1   \n",
       "2                    1                       1                    -1   \n",
       "3                    1                       0                     0   \n",
       "4                    1                       1                     0   \n",
       "..                 ...                     ...                   ...   \n",
       "496                  1                       1                     0   \n",
       "497                  1                       1                     0   \n",
       "498                  0                       4                     0   \n",
       "499                  1                       0                     0   \n",
       "500                  1                       2                     0   \n",
       "\n",
       "     leiden_cluster_label  \n",
       "0                       3  \n",
       "1                       2  \n",
       "2                       2  \n",
       "3                       1  \n",
       "4                       4  \n",
       "..                    ...  \n",
       "496                     2  \n",
       "497                     2  \n",
       "498                     4  \n",
       "499                     0  \n",
       "500                     0  \n",
       "\n",
       "[501 rows x 7 columns]"
      ]
     },
     "execution_count": 106,
     "metadata": {},
     "output_type": "execute_result"
    }
   ],
   "source": [
    "df_labels_pca\n"
   ]
  },
  {
   "cell_type": "code",
   "execution_count": 107,
   "id": "ce26ef79",
   "metadata": {},
   "outputs": [],
   "source": [
    "df_log['cluster'] = df_labels_pca['kmeans_cluster_label']\n"
   ]
  },
  {
   "cell_type": "code",
   "execution_count": 108,
   "id": "b3ad3d04",
   "metadata": {},
   "outputs": [
    {
     "data": {
      "text/html": [
       "<div>\n",
       "<style scoped>\n",
       "    .dataframe tbody tr th:only-of-type {\n",
       "        vertical-align: middle;\n",
       "    }\n",
       "\n",
       "    .dataframe tbody tr th {\n",
       "        vertical-align: top;\n",
       "    }\n",
       "\n",
       "    .dataframe thead th {\n",
       "        text-align: right;\n",
       "    }\n",
       "</style>\n",
       "<table border=\"1\" class=\"dataframe\">\n",
       "  <thead>\n",
       "    <tr style=\"text-align: right;\">\n",
       "      <th></th>\n",
       "      <th>gene</th>\n",
       "      <th>cluster</th>\n",
       "      <th>t_stat</th>\n",
       "      <th>p_val</th>\n",
       "      <th>log2fc</th>\n",
       "      <th>mean_cluster</th>\n",
       "      <th>mean_others</th>\n",
       "      <th>corrected_p_val</th>\n",
       "    </tr>\n",
       "  </thead>\n",
       "  <tbody>\n",
       "    <tr>\n",
       "      <th>0</th>\n",
       "      <td>KRT14|3861</td>\n",
       "      <td>1</td>\n",
       "      <td>3.294180</td>\n",
       "      <td>0.001142</td>\n",
       "      <td>0.733997</td>\n",
       "      <td>18.125472</td>\n",
       "      <td>17.391474</td>\n",
       "      <td>0.002299</td>\n",
       "    </tr>\n",
       "    <tr>\n",
       "      <th>1</th>\n",
       "      <td>KRT13|3860</td>\n",
       "      <td>1</td>\n",
       "      <td>-1.031520</td>\n",
       "      <td>0.303986</td>\n",
       "      <td>-0.454128</td>\n",
       "      <td>12.221956</td>\n",
       "      <td>12.676084</td>\n",
       "      <td>0.367355</td>\n",
       "    </tr>\n",
       "    <tr>\n",
       "      <th>2</th>\n",
       "      <td>KRT6A|3853</td>\n",
       "      <td>1</td>\n",
       "      <td>2.639719</td>\n",
       "      <td>0.008855</td>\n",
       "      <td>0.397693</td>\n",
       "      <td>18.089158</td>\n",
       "      <td>17.691465</td>\n",
       "      <td>0.015222</td>\n",
       "    </tr>\n",
       "    <tr>\n",
       "      <th>3</th>\n",
       "      <td>KRT16|3868</td>\n",
       "      <td>1</td>\n",
       "      <td>3.191031</td>\n",
       "      <td>0.001634</td>\n",
       "      <td>0.716902</td>\n",
       "      <td>16.773139</td>\n",
       "      <td>16.056237</td>\n",
       "      <td>0.003198</td>\n",
       "    </tr>\n",
       "    <tr>\n",
       "      <th>4</th>\n",
       "      <td>SMR3B|10879</td>\n",
       "      <td>1</td>\n",
       "      <td>0.012820</td>\n",
       "      <td>0.989787</td>\n",
       "      <td>0.001840</td>\n",
       "      <td>0.407145</td>\n",
       "      <td>0.405305</td>\n",
       "      <td>0.991473</td>\n",
       "    </tr>\n",
       "  </tbody>\n",
       "</table>\n",
       "</div>"
      ],
      "text/plain": [
       "          gene  cluster    t_stat     p_val    log2fc  mean_cluster  \\\n",
       "0   KRT14|3861        1  3.294180  0.001142  0.733997     18.125472   \n",
       "1   KRT13|3860        1 -1.031520  0.303986 -0.454128     12.221956   \n",
       "2   KRT6A|3853        1  2.639719  0.008855  0.397693     18.089158   \n",
       "3   KRT16|3868        1  3.191031  0.001634  0.716902     16.773139   \n",
       "4  SMR3B|10879        1  0.012820  0.989787  0.001840      0.407145   \n",
       "\n",
       "   mean_others  corrected_p_val  \n",
       "0    17.391474         0.002299  \n",
       "1    12.676084         0.367355  \n",
       "2    17.691465         0.015222  \n",
       "3    16.056237         0.003198  \n",
       "4     0.405305         0.991473  "
      ]
     },
     "execution_count": 108,
     "metadata": {},
     "output_type": "execute_result"
    }
   ],
   "source": [
    "res = run_DEG_analysis(df_log, 'cluster', alpha=0.05) \n",
    "res.head() \n"
   ]
  },
  {
   "cell_type": "code",
   "execution_count": 109,
   "id": "b840e02b",
   "metadata": {},
   "outputs": [
    {
     "data": {
      "text/html": [
       "<div>\n",
       "<style scoped>\n",
       "    .dataframe tbody tr th:only-of-type {\n",
       "        vertical-align: middle;\n",
       "    }\n",
       "\n",
       "    .dataframe tbody tr th {\n",
       "        vertical-align: top;\n",
       "    }\n",
       "\n",
       "    .dataframe thead th {\n",
       "        text-align: right;\n",
       "    }\n",
       "</style>\n",
       "<table border=\"1\" class=\"dataframe\">\n",
       "  <thead>\n",
       "    <tr style=\"text-align: right;\">\n",
       "      <th></th>\n",
       "      <th>gene</th>\n",
       "      <th>cluster</th>\n",
       "      <th>t_stat</th>\n",
       "      <th>p_val</th>\n",
       "      <th>log2fc</th>\n",
       "      <th>mean_cluster</th>\n",
       "      <th>mean_others</th>\n",
       "      <th>corrected_p_val</th>\n",
       "    </tr>\n",
       "  </thead>\n",
       "  <tbody>\n",
       "    <tr>\n",
       "      <th>8</th>\n",
       "      <td>1277</td>\n",
       "      <td>1</td>\n",
       "      <td>10.785488</td>\n",
       "      <td>4.907863e-21</td>\n",
       "      <td>1.844462</td>\n",
       "      <td>17.267604</td>\n",
       "      <td>15.423141</td>\n",
       "      <td>1.085810e-19</td>\n",
       "    </tr>\n",
       "    <tr>\n",
       "      <th>16</th>\n",
       "      <td>1281</td>\n",
       "      <td>1</td>\n",
       "      <td>11.640505</td>\n",
       "      <td>1.559151e-23</td>\n",
       "      <td>1.999929</td>\n",
       "      <td>16.662623</td>\n",
       "      <td>14.662693</td>\n",
       "      <td>4.585738e-22</td>\n",
       "    </tr>\n",
       "    <tr>\n",
       "      <th>18</th>\n",
       "      <td>2335</td>\n",
       "      <td>1</td>\n",
       "      <td>10.947164</td>\n",
       "      <td>7.673115e-22</td>\n",
       "      <td>2.004439</td>\n",
       "      <td>15.904636</td>\n",
       "      <td>13.900196</td>\n",
       "      <td>1.894596e-20</td>\n",
       "    </tr>\n",
       "    <tr>\n",
       "      <th>19</th>\n",
       "      <td>1278</td>\n",
       "      <td>1</td>\n",
       "      <td>11.406428</td>\n",
       "      <td>6.633849e-23</td>\n",
       "      <td>1.887532</td>\n",
       "      <td>16.449347</td>\n",
       "      <td>14.561815</td>\n",
       "      <td>1.858221e-21</td>\n",
       "    </tr>\n",
       "    <tr>\n",
       "      <th>27</th>\n",
       "      <td>4620</td>\n",
       "      <td>1</td>\n",
       "      <td>20.663137</td>\n",
       "      <td>1.173114e-46</td>\n",
       "      <td>8.388799</td>\n",
       "      <td>11.760768</td>\n",
       "      <td>3.371969</td>\n",
       "      <td>1.988330e-44</td>\n",
       "    </tr>\n",
       "    <tr>\n",
       "      <th>...</th>\n",
       "      <td>...</td>\n",
       "      <td>...</td>\n",
       "      <td>...</td>\n",
       "      <td>...</td>\n",
       "      <td>...</td>\n",
       "      <td>...</td>\n",
       "      <td>...</td>\n",
       "      <td>...</td>\n",
       "    </tr>\n",
       "    <tr>\n",
       "      <th>9847</th>\n",
       "      <td>131177</td>\n",
       "      <td>4</td>\n",
       "      <td>3.353185</td>\n",
       "      <td>1.149335e-03</td>\n",
       "      <td>1.122560</td>\n",
       "      <td>6.677189</td>\n",
       "      <td>5.554629</td>\n",
       "      <td>2.311150e-03</td>\n",
       "    </tr>\n",
       "    <tr>\n",
       "      <th>9862</th>\n",
       "      <td>83699</td>\n",
       "      <td>4</td>\n",
       "      <td>6.053656</td>\n",
       "      <td>2.883652e-08</td>\n",
       "      <td>1.221188</td>\n",
       "      <td>8.447160</td>\n",
       "      <td>7.225971</td>\n",
       "      <td>1.228131e-07</td>\n",
       "    </tr>\n",
       "    <tr>\n",
       "      <th>9895</th>\n",
       "      <td>21</td>\n",
       "      <td>4</td>\n",
       "      <td>10.222007</td>\n",
       "      <td>6.776102e-16</td>\n",
       "      <td>3.199642</td>\n",
       "      <td>9.638605</td>\n",
       "      <td>6.438963</td>\n",
       "      <td>8.095701e-15</td>\n",
       "    </tr>\n",
       "    <tr>\n",
       "      <th>9961</th>\n",
       "      <td>3965</td>\n",
       "      <td>4</td>\n",
       "      <td>11.208469</td>\n",
       "      <td>1.193069e-18</td>\n",
       "      <td>1.711203</td>\n",
       "      <td>11.136147</td>\n",
       "      <td>9.424944</td>\n",
       "      <td>1.975279e-17</td>\n",
       "    </tr>\n",
       "    <tr>\n",
       "      <th>9991</th>\n",
       "      <td>489</td>\n",
       "      <td>4</td>\n",
       "      <td>9.058220</td>\n",
       "      <td>1.536555e-14</td>\n",
       "      <td>1.224248</td>\n",
       "      <td>10.128849</td>\n",
       "      <td>8.904601</td>\n",
       "      <td>1.552076e-13</td>\n",
       "    </tr>\n",
       "  </tbody>\n",
       "</table>\n",
       "<p>662 rows × 8 columns</p>\n",
       "</div>"
      ],
      "text/plain": [
       "        gene  cluster     t_stat         p_val    log2fc  mean_cluster  \\\n",
       "8       1277        1  10.785488  4.907863e-21  1.844462     17.267604   \n",
       "16      1281        1  11.640505  1.559151e-23  1.999929     16.662623   \n",
       "18      2335        1  10.947164  7.673115e-22  2.004439     15.904636   \n",
       "19      1278        1  11.406428  6.633849e-23  1.887532     16.449347   \n",
       "27      4620        1  20.663137  1.173114e-46  8.388799     11.760768   \n",
       "...      ...      ...        ...           ...       ...           ...   \n",
       "9847  131177        4   3.353185  1.149335e-03  1.122560      6.677189   \n",
       "9862   83699        4   6.053656  2.883652e-08  1.221188      8.447160   \n",
       "9895      21        4  10.222007  6.776102e-16  3.199642      9.638605   \n",
       "9961    3965        4  11.208469  1.193069e-18  1.711203     11.136147   \n",
       "9991     489        4   9.058220  1.536555e-14  1.224248     10.128849   \n",
       "\n",
       "      mean_others  corrected_p_val  \n",
       "8       15.423141     1.085810e-19  \n",
       "16      14.662693     4.585738e-22  \n",
       "18      13.900196     1.894596e-20  \n",
       "19      14.561815     1.858221e-21  \n",
       "27       3.371969     1.988330e-44  \n",
       "...           ...              ...  \n",
       "9847     5.554629     2.311150e-03  \n",
       "9862     7.225971     1.228131e-07  \n",
       "9895     6.438963     8.095701e-15  \n",
       "9961     9.424944     1.975279e-17  \n",
       "9991     8.904601     1.552076e-13  \n",
       "\n",
       "[662 rows x 8 columns]"
      ]
     },
     "execution_count": 109,
     "metadata": {},
     "output_type": "execute_result"
    }
   ],
   "source": [
    "# filter corrected_p_val < 0.05 \n",
    "\n",
    "res_pca = res[res['corrected_p_val'] < 0.05]\n",
    "res_pca = res_pca[res_pca['log2fc'] > 1]\n",
    "# split gene by | and the first part\n",
    "res_pca['gene'] = res_pca['gene'].str.split('|').str[1]\n",
    "res_pca\n"
   ]
  },
  {
   "cell_type": "code",
   "execution_count": 103,
   "id": "96af00d1",
   "metadata": {},
   "outputs": [
    {
     "data": {
      "text/html": [
       "<div>\n",
       "<style scoped>\n",
       "    .dataframe tbody tr th:only-of-type {\n",
       "        vertical-align: middle;\n",
       "    }\n",
       "\n",
       "    .dataframe tbody tr th {\n",
       "        vertical-align: top;\n",
       "    }\n",
       "\n",
       "    .dataframe thead th {\n",
       "        text-align: right;\n",
       "    }\n",
       "</style>\n",
       "<table border=\"1\" class=\"dataframe\">\n",
       "  <thead>\n",
       "    <tr style=\"text-align: right;\">\n",
       "      <th></th>\n",
       "      <th>gene</th>\n",
       "      <th>cluster</th>\n",
       "      <th>t_stat</th>\n",
       "      <th>p_val</th>\n",
       "      <th>log2fc</th>\n",
       "      <th>mean_cluster</th>\n",
       "      <th>mean_others</th>\n",
       "      <th>corrected_p_val</th>\n",
       "    </tr>\n",
       "  </thead>\n",
       "  <tbody>\n",
       "    <tr>\n",
       "      <th>8</th>\n",
       "      <td>1277</td>\n",
       "      <td>1</td>\n",
       "      <td>10.252107</td>\n",
       "      <td>1.228109e-21</td>\n",
       "      <td>1.616075</td>\n",
       "      <td>16.874221</td>\n",
       "      <td>15.258145</td>\n",
       "      <td>1.779868e-20</td>\n",
       "    </tr>\n",
       "    <tr>\n",
       "      <th>16</th>\n",
       "      <td>1281</td>\n",
       "      <td>1</td>\n",
       "      <td>10.307481</td>\n",
       "      <td>7.450059e-22</td>\n",
       "      <td>1.658850</td>\n",
       "      <td>16.173042</td>\n",
       "      <td>14.514191</td>\n",
       "      <td>1.106444e-20</td>\n",
       "    </tr>\n",
       "    <tr>\n",
       "      <th>18</th>\n",
       "      <td>2335</td>\n",
       "      <td>1</td>\n",
       "      <td>11.812637</td>\n",
       "      <td>2.836673e-27</td>\n",
       "      <td>2.009791</td>\n",
       "      <td>15.648189</td>\n",
       "      <td>13.638398</td>\n",
       "      <td>7.464930e-26</td>\n",
       "    </tr>\n",
       "    <tr>\n",
       "      <th>19</th>\n",
       "      <td>1278</td>\n",
       "      <td>1</td>\n",
       "      <td>10.263805</td>\n",
       "      <td>1.087704e-21</td>\n",
       "      <td>1.596135</td>\n",
       "      <td>16.007867</td>\n",
       "      <td>14.411732</td>\n",
       "      <td>1.591762e-20</td>\n",
       "    </tr>\n",
       "    <tr>\n",
       "      <th>27</th>\n",
       "      <td>4620</td>\n",
       "      <td>1</td>\n",
       "      <td>28.534627</td>\n",
       "      <td>1.030365e-82</td>\n",
       "      <td>8.702338</td>\n",
       "      <td>10.883930</td>\n",
       "      <td>2.181592</td>\n",
       "      <td>2.060731e-80</td>\n",
       "    </tr>\n",
       "    <tr>\n",
       "      <th>...</th>\n",
       "      <td>...</td>\n",
       "      <td>...</td>\n",
       "      <td>...</td>\n",
       "      <td>...</td>\n",
       "      <td>...</td>\n",
       "      <td>...</td>\n",
       "      <td>...</td>\n",
       "      <td>...</td>\n",
       "    </tr>\n",
       "    <tr>\n",
       "      <th>5842</th>\n",
       "      <td>10723</td>\n",
       "      <td>2</td>\n",
       "      <td>9.429153</td>\n",
       "      <td>2.865549e-17</td>\n",
       "      <td>1.262506</td>\n",
       "      <td>10.685586</td>\n",
       "      <td>9.423080</td>\n",
       "      <td>2.746532e-16</td>\n",
       "    </tr>\n",
       "    <tr>\n",
       "      <th>5847</th>\n",
       "      <td>131177</td>\n",
       "      <td>2</td>\n",
       "      <td>4.389549</td>\n",
       "      <td>1.877163e-05</td>\n",
       "      <td>1.274084</td>\n",
       "      <td>6.683535</td>\n",
       "      <td>5.409452</td>\n",
       "      <td>4.963852e-05</td>\n",
       "    </tr>\n",
       "    <tr>\n",
       "      <th>5862</th>\n",
       "      <td>83699</td>\n",
       "      <td>2</td>\n",
       "      <td>7.514051</td>\n",
       "      <td>2.027418e-12</td>\n",
       "      <td>1.269658</td>\n",
       "      <td>8.364872</td>\n",
       "      <td>7.095215</td>\n",
       "      <td>1.236231e-11</td>\n",
       "    </tr>\n",
       "    <tr>\n",
       "      <th>5895</th>\n",
       "      <td>21</td>\n",
       "      <td>2</td>\n",
       "      <td>10.150840</td>\n",
       "      <td>1.090729e-18</td>\n",
       "      <td>2.375279</td>\n",
       "      <td>8.693819</td>\n",
       "      <td>6.318540</td>\n",
       "      <td>1.185575e-17</td>\n",
       "    </tr>\n",
       "    <tr>\n",
       "      <th>5961</th>\n",
       "      <td>3965</td>\n",
       "      <td>2</td>\n",
       "      <td>9.570630</td>\n",
       "      <td>7.167072e-18</td>\n",
       "      <td>1.227202</td>\n",
       "      <td>10.597813</td>\n",
       "      <td>9.370611</td>\n",
       "      <td>7.179037e-17</td>\n",
       "    </tr>\n",
       "  </tbody>\n",
       "</table>\n",
       "<p>417 rows × 8 columns</p>\n",
       "</div>"
      ],
      "text/plain": [
       "        gene  cluster     t_stat         p_val    log2fc  mean_cluster  \\\n",
       "8       1277        1  10.252107  1.228109e-21  1.616075     16.874221   \n",
       "16      1281        1  10.307481  7.450059e-22  1.658850     16.173042   \n",
       "18      2335        1  11.812637  2.836673e-27  2.009791     15.648189   \n",
       "19      1278        1  10.263805  1.087704e-21  1.596135     16.007867   \n",
       "27      4620        1  28.534627  1.030365e-82  8.702338     10.883930   \n",
       "...      ...      ...        ...           ...       ...           ...   \n",
       "5842   10723        2   9.429153  2.865549e-17  1.262506     10.685586   \n",
       "5847  131177        2   4.389549  1.877163e-05  1.274084      6.683535   \n",
       "5862   83699        2   7.514051  2.027418e-12  1.269658      8.364872   \n",
       "5895      21        2  10.150840  1.090729e-18  2.375279      8.693819   \n",
       "5961    3965        2   9.570630  7.167072e-18  1.227202     10.597813   \n",
       "\n",
       "      mean_others  corrected_p_val  \n",
       "8       15.258145     1.779868e-20  \n",
       "16      14.514191     1.106444e-20  \n",
       "18      13.638398     7.464930e-26  \n",
       "19      14.411732     1.591762e-20  \n",
       "27       2.181592     2.060731e-80  \n",
       "...           ...              ...  \n",
       "5842     9.423080     2.746532e-16  \n",
       "5847     5.409452     4.963852e-05  \n",
       "5862     7.095215     1.236231e-11  \n",
       "5895     6.318540     1.185575e-17  \n",
       "5961     9.370611     7.179037e-17  \n",
       "\n",
       "[417 rows x 8 columns]"
      ]
     },
     "execution_count": 103,
     "metadata": {},
     "output_type": "execute_result"
    }
   ],
   "source": [
    "# filter corrected_p_val < 0.05 \n",
    "\n",
    "res_dtne = res[res['corrected_p_val'] < 0.05]\n",
    "res_dtne = res_dtne[res_dtne['log2fc'] > 1]\n",
    "# split gene by | and the first part\n",
    "res_dtne['gene'] = res_dtne['gene'].str.split('|').str[1]\n",
    "res_dtne\n"
   ]
  },
  {
   "cell_type": "code",
   "execution_count": 100,
   "id": "0129f726",
   "metadata": {},
   "outputs": [
    {
     "data": {
      "text/html": [
       "<div>\n",
       "<style scoped>\n",
       "    .dataframe tbody tr th:only-of-type {\n",
       "        vertical-align: middle;\n",
       "    }\n",
       "\n",
       "    .dataframe tbody tr th {\n",
       "        vertical-align: top;\n",
       "    }\n",
       "\n",
       "    .dataframe thead th {\n",
       "        text-align: right;\n",
       "    }\n",
       "</style>\n",
       "<table border=\"1\" class=\"dataframe\">\n",
       "  <thead>\n",
       "    <tr style=\"text-align: right;\">\n",
       "      <th></th>\n",
       "      <th>gene</th>\n",
       "      <th>cluster</th>\n",
       "      <th>t_stat</th>\n",
       "      <th>p_val</th>\n",
       "      <th>log2fc</th>\n",
       "      <th>mean_cluster</th>\n",
       "      <th>mean_others</th>\n",
       "      <th>corrected_p_val</th>\n",
       "    </tr>\n",
       "  </thead>\n",
       "  <tbody>\n",
       "    <tr>\n",
       "      <th>8</th>\n",
       "      <td>1277</td>\n",
       "      <td>3</td>\n",
       "      <td>7.156271</td>\n",
       "      <td>1.519563e-11</td>\n",
       "      <td>1.289257</td>\n",
       "      <td>16.774681</td>\n",
       "      <td>15.485424</td>\n",
       "      <td>1.200050e-10</td>\n",
       "    </tr>\n",
       "    <tr>\n",
       "      <th>16</th>\n",
       "      <td>1281</td>\n",
       "      <td>3</td>\n",
       "      <td>7.037570</td>\n",
       "      <td>3.187015e-11</td>\n",
       "      <td>1.318586</td>\n",
       "      <td>16.067182</td>\n",
       "      <td>14.748596</td>\n",
       "      <td>2.414405e-10</td>\n",
       "    </tr>\n",
       "    <tr>\n",
       "      <th>18</th>\n",
       "      <td>2335</td>\n",
       "      <td>3</td>\n",
       "      <td>10.734287</td>\n",
       "      <td>9.594042e-22</td>\n",
       "      <td>2.001857</td>\n",
       "      <td>15.830636</td>\n",
       "      <td>13.828779</td>\n",
       "      <td>2.091344e-20</td>\n",
       "    </tr>\n",
       "    <tr>\n",
       "      <th>19</th>\n",
       "      <td>1278</td>\n",
       "      <td>3</td>\n",
       "      <td>6.844242</td>\n",
       "      <td>9.395784e-11</td>\n",
       "      <td>1.233221</td>\n",
       "      <td>15.878718</td>\n",
       "      <td>14.645497</td>\n",
       "      <td>6.675512e-10</td>\n",
       "    </tr>\n",
       "    <tr>\n",
       "      <th>27</th>\n",
       "      <td>4620</td>\n",
       "      <td>3</td>\n",
       "      <td>16.568431</td>\n",
       "      <td>1.707420e-39</td>\n",
       "      <td>6.928350</td>\n",
       "      <td>10.337073</td>\n",
       "      <td>3.408723</td>\n",
       "      <td>1.501029e-37</td>\n",
       "    </tr>\n",
       "    <tr>\n",
       "      <th>...</th>\n",
       "      <td>...</td>\n",
       "      <td>...</td>\n",
       "      <td>...</td>\n",
       "      <td>...</td>\n",
       "      <td>...</td>\n",
       "      <td>...</td>\n",
       "      <td>...</td>\n",
       "      <td>...</td>\n",
       "    </tr>\n",
       "    <tr>\n",
       "      <th>7842</th>\n",
       "      <td>10723</td>\n",
       "      <td>2</td>\n",
       "      <td>8.707909</td>\n",
       "      <td>1.540911e-14</td>\n",
       "      <td>1.310767</td>\n",
       "      <td>10.782751</td>\n",
       "      <td>9.471984</td>\n",
       "      <td>1.674904e-13</td>\n",
       "    </tr>\n",
       "    <tr>\n",
       "      <th>7847</th>\n",
       "      <td>131177</td>\n",
       "      <td>2</td>\n",
       "      <td>3.785668</td>\n",
       "      <td>2.239052e-04</td>\n",
       "      <td>1.154236</td>\n",
       "      <td>6.644665</td>\n",
       "      <td>5.490429</td>\n",
       "      <td>6.424826e-04</td>\n",
       "    </tr>\n",
       "    <tr>\n",
       "      <th>7862</th>\n",
       "      <td>83699</td>\n",
       "      <td>2</td>\n",
       "      <td>8.397111</td>\n",
       "      <td>2.229371e-14</td>\n",
       "      <td>1.383602</td>\n",
       "      <td>8.515725</td>\n",
       "      <td>7.132123</td>\n",
       "      <td>2.377996e-13</td>\n",
       "    </tr>\n",
       "    <tr>\n",
       "      <th>7895</th>\n",
       "      <td>21</td>\n",
       "      <td>2</td>\n",
       "      <td>10.946957</td>\n",
       "      <td>1.734777e-19</td>\n",
       "      <td>2.752359</td>\n",
       "      <td>9.109194</td>\n",
       "      <td>6.356835</td>\n",
       "      <td>3.097816e-18</td>\n",
       "    </tr>\n",
       "    <tr>\n",
       "      <th>7961</th>\n",
       "      <td>3965</td>\n",
       "      <td>2</td>\n",
       "      <td>9.906340</td>\n",
       "      <td>9.348357e-18</td>\n",
       "      <td>1.360598</td>\n",
       "      <td>10.762519</td>\n",
       "      <td>9.401921</td>\n",
       "      <td>1.421803e-16</td>\n",
       "    </tr>\n",
       "  </tbody>\n",
       "</table>\n",
       "<p>460 rows × 8 columns</p>\n",
       "</div>"
      ],
      "text/plain": [
       "        gene  cluster     t_stat         p_val    log2fc  mean_cluster  \\\n",
       "8       1277        3   7.156271  1.519563e-11  1.289257     16.774681   \n",
       "16      1281        3   7.037570  3.187015e-11  1.318586     16.067182   \n",
       "18      2335        3  10.734287  9.594042e-22  2.001857     15.830636   \n",
       "19      1278        3   6.844242  9.395784e-11  1.233221     15.878718   \n",
       "27      4620        3  16.568431  1.707420e-39  6.928350     10.337073   \n",
       "...      ...      ...        ...           ...       ...           ...   \n",
       "7842   10723        2   8.707909  1.540911e-14  1.310767     10.782751   \n",
       "7847  131177        2   3.785668  2.239052e-04  1.154236      6.644665   \n",
       "7862   83699        2   8.397111  2.229371e-14  1.383602      8.515725   \n",
       "7895      21        2  10.946957  1.734777e-19  2.752359      9.109194   \n",
       "7961    3965        2   9.906340  9.348357e-18  1.360598     10.762519   \n",
       "\n",
       "      mean_others  corrected_p_val  \n",
       "8       15.485424     1.200050e-10  \n",
       "16      14.748596     2.414405e-10  \n",
       "18      13.828779     2.091344e-20  \n",
       "19      14.645497     6.675512e-10  \n",
       "27       3.408723     1.501029e-37  \n",
       "...           ...              ...  \n",
       "7842     9.471984     1.674904e-13  \n",
       "7847     5.490429     6.424826e-04  \n",
       "7862     7.132123     2.377996e-13  \n",
       "7895     6.356835     3.097816e-18  \n",
       "7961     9.401921     1.421803e-16  \n",
       "\n",
       "[460 rows x 8 columns]"
      ]
     },
     "execution_count": 100,
     "metadata": {},
     "output_type": "execute_result"
    }
   ],
   "source": [
    "# filter corrected_p_val < 0.05 \n",
    "\n",
    "res_umap = res[res['corrected_p_val'] < 0.05]\n",
    "res_umap = res_umap[res_umap['log2fc'] > 1]\n",
    "# split gene by | and the first part\n",
    "res_umap['gene'] = res_umap['gene'].str.split('|').str[1]\n",
    "res_umap\n"
   ]
  },
  {
   "cell_type": "code",
   "execution_count": null,
   "id": "cd357df2",
   "metadata": {},
   "outputs": [],
   "source": [
    "res_umap.to_csv('/Users/harrisonma/Documents/PhD Classes/2025 Spring/BNFO 285/BNFO285_Projects/project_1/Harrison/DEGs/res_umap_DEGs.csv')\n",
    "res_dtne.to_csv('/Users/harrisonma/Documents/PhD Classes/2025 Spring/BNFO 285/BNFO285_Projects/project_1/Harrison/DEGs/res_dtne_DEGs.csv')\n",
    "res_pca.to_csv('/Users/harrisonma/Documents/PhD Classes/2025 Spring/BNFO 285/BNFO285_Projects/project_1/Harrison/DEGs/res_pca_DEGs.csv')\n"
   ]
  },
  {
   "cell_type": "code",
   "execution_count": null,
   "id": "1345d8c6",
   "metadata": {},
   "outputs": [],
   "source": []
  }
 ],
 "metadata": {
  "kernelspec": {
   "display_name": "ai_cellchat",
   "language": "python",
   "name": "python3"
  },
  "language_info": {
   "codemirror_mode": {
    "name": "ipython",
    "version": 3
   },
   "file_extension": ".py",
   "mimetype": "text/x-python",
   "name": "python",
   "nbconvert_exporter": "python",
   "pygments_lexer": "ipython3",
   "version": "undefined.undefined.undefined"
  }
 },
 "nbformat": 4,
 "nbformat_minor": 5
}
