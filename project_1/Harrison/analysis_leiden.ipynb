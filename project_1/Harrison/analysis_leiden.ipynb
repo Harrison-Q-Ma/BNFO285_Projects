{
 "cells": [
  {
   "cell_type": "code",
   "execution_count": null,
   "id": "e1961808",
   "metadata": {},
   "outputs": [],
   "source": [
    "from sklearn.neighbors import NearestNeighbors\n",
    "import pandas as pd\n",
    "import numpy as np\n",
    "import leidenalg\n",
    "import math\n",
    "import igraph as ig\n",
    "import matplotlib.pyplot as plt\n"
   ]
  },
  {
   "cell_type": "code",
   "execution_count": null,
   "id": "3558af3d",
   "metadata": {},
   "outputs": [],
   "source": [
    "def create_graph_and_partition(X, k=25):\n",
    "    \"\"\"\n",
    "    Create a graph from nearest neighbors and find clusters using Leiden algorithm\n",
    "    \n",
    "    Parameters:\n",
    "    -----------\n",
    "    X : array-like\n",
    "        The dimensionality reduced data\n",
    "    k : int, default=25\n",
    "        Number of nearest neighbors\n",
    "        \n",
    "    Returns:\n",
    "    --------\n",
    "    g : igraph.Graph\n",
    "        The created graph\n",
    "    partition : leidenalg.VertexPartition\n",
    "        The partition result from Leiden algorithm\n",
    "    \"\"\"\n",
    "    # Find nearest neighbors\n",
    "    neighbors = NearestNeighbors(n_neighbors=k).fit(X)\n",
    "    distances, indices = neighbors.kneighbors(X)\n",
    "\n",
    "    # Build edge list with weighted edges\n",
    "    edges = []\n",
    "    weights = []\n",
    "    num_points = X.shape[0]\n",
    "\n",
    "    for i in range(num_points):\n",
    "        for idx, j in enumerate(indices[i]):\n",
    "            if i == j: \n",
    "                continue\n",
    "            if (j, i) in edges:\n",
    "                continue\n",
    "            d = distances[i, idx]\n",
    "            weight = math.exp(-d)\n",
    "            edges.append((i, j))\n",
    "            weights.append(weight)\n",
    "\n",
    "    # Create an igraph Graph, add vertices and edges\n",
    "    g = ig.Graph()\n",
    "    g.add_vertices(num_points)\n",
    "    g.add_edges(edges)\n",
    "\n",
    "    # Set the edge attribute 'weight' for our weighted graph\n",
    "    g.es['weight'] = weights\n",
    "\n",
    "    # Find partition using Leiden algorithm\n",
    "    partition = leidenalg.find_partition(g, leidenalg.ModularityVertexPartition)\n",
    "    print(\"Clusters:\", partition)\n",
    "    \n",
    "    return g, partition\n"
   ]
  },
  {
   "cell_type": "code",
   "execution_count": null,
   "id": "da59e933",
   "metadata": {},
   "outputs": [],
   "source": [
    "partition = leidenalg.find_partition(g, leidenalg.ModularityVertexPartition)\n",
    "print(\"Clusters:\", partition)\n"
   ]
  },
  {
   "cell_type": "code",
   "execution_count": null,
   "id": "b571275a",
   "metadata": {},
   "outputs": [],
   "source": [
    "df_z['leiden'] = partition.membership\n"
   ]
  },
  {
   "cell_type": "code",
   "execution_count": null,
   "id": "a79949fc",
   "metadata": {},
   "outputs": [],
   "source": [
    "df_z['gender'] = df_meta.loc[df_z[' patient_id'].values.tolist(), 'gender'].values\n",
    "df_z['ajcc_pathologic_tumor_stage'] = df_meta.loc[df_z[' patient_id'].values.tolist(), 'ajcc_pathologic_tumor_stage'].values\n",
    "df_z.head()\n"
   ]
  },
  {
   "cell_type": "code",
   "execution_count": null,
   "id": "a0df19cd",
   "metadata": {},
   "outputs": [],
   "source": [
    "data_clusters = df_z['leiden'].astype(str) \n",
    "data_clusters_set = set(data_clusters.values) \n",
    "zip_types = zip(sorted(data_clusters_set),range(len(data_clusters_set))) \n",
    "dict_types = dict(zip_types) \n",
    "cell_clusters  =  [dict_types[i] for i in data_clusters.values] \n"
   ]
  },
  {
   "cell_type": "code",
   "execution_count": null,
   "id": "85ffc722",
   "metadata": {},
   "outputs": [],
   "source": [
    "# check df_z for nas \n",
    "df_z.fillna(0, inplace=True)\n",
    "np_z = df_z.to_numpy()\n",
    "np_z = np.delete(np_z, [0, 1], axis=1)\n",
    "np_z = np.delete(np_z, [-2, -1], axis=1)\n"
   ]
  },
  {
   "cell_type": "code",
   "execution_count": null,
   "id": "66505c67",
   "metadata": {},
   "outputs": [],
   "source": [
    "data_clusters = df_log['leiden'].astype(str)\n",
    "data_clusters_set = set(data_clusters.values)\n",
    "zip_types = zip(sorted(data_clusters_set),range(len(data_clusters_set)))\n",
    "dict_types = dict(zip_types)\n",
    "cell_clusters  =  [dict_types[i] for i in data_clusters.values] \n"
   ]
  },
  {
   "cell_type": "code",
   "execution_count": null,
   "id": "1622b119",
   "metadata": {},
   "outputs": [],
   "source": [
    "\n",
    "scatter = plt.scatter(X[:,0], X[:,1], c=cell_clusters, cmap='Set1')\n",
    "legend1 = plt.legend(handles=scatter.legend_elements()[0], labels=dict_types.keys(), title=\"AJCC Pathologic Tumor Stage\", loc=\"upper right\", fontsize='small', title_fontsize='small')\n",
    "plt.gca().add_artist(legend1)\n"
   ]
  }
 ],
 "metadata": {
  "language_info": {
   "name": "python"
  }
 },
 "nbformat": 4,
 "nbformat_minor": 5
}
