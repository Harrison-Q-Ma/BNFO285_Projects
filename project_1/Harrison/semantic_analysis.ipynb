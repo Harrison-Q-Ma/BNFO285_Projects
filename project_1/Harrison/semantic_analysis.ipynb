{
 "cells": [
  {
   "cell_type": "code",
   "execution_count": null,
   "id": "e99a9152",
   "metadata": {
    "vscode": {
     "languageId": "r"
    }
   },
   "outputs": [
    {
     "name": "stderr",
     "output_type": "stream",
     "text": [
      "Loading required package: AnnotationDbi\n",
      "\n",
      "Warning message:\n",
      "\"package 'AnnotationDbi' was built under R version 4.3.1\"\n",
      "Loading required package: stats4\n",
      "\n",
      "Loading required package: BiocGenerics\n",
      "\n",
      "Warning message:\n",
      "\"package 'BiocGenerics' was built under R version 4.3.1\"\n",
      "\n",
      "Attaching package: 'BiocGenerics'\n",
      "\n",
      "\n",
      "The following objects are masked from 'package:stats':\n",
      "\n",
      "    IQR, mad, sd, var, xtabs\n",
      "\n",
      "\n",
      "The following objects are masked from 'package:base':\n",
      "\n",
      "    Filter, Find, Map, Position, Reduce, anyDuplicated, aperm, append,\n",
      "    as.data.frame, basename, cbind, colnames, dirname, do.call,\n",
      "    duplicated, eval, evalq, get, grep, grepl, intersect, is.unsorted,\n",
      "    lapply, mapply, match, mget, order, paste, pmax, pmax.int, pmin,\n",
      "    pmin.int, rank, rbind, rownames, sapply, setdiff, sort, table,\n",
      "    tapply, union, unique, unsplit, which.max, which.min\n",
      "\n",
      "\n",
      "Loading required package: Biobase\n",
      "\n",
      "Warning message:\n",
      "\"package 'Biobase' was built under R version 4.3.1\"\n",
      "Welcome to Bioconductor\n",
      "\n",
      "    Vignettes contain introductory material; view with\n",
      "    'browseVignettes()'. To cite Bioconductor, see\n",
      "    'citation(\"Biobase\")', and for packages 'citation(\"pkgname\")'.\n",
      "\n",
      "\n",
      "Loading required package: IRanges\n",
      "\n",
      "Warning message:\n",
      "\"package 'IRanges' was built under R version 4.3.1\"\n",
      "Loading required package: S4Vectors\n",
      "\n",
      "Warning message:\n",
      "\"package 'S4Vectors' was built under R version 4.3.2\"\n",
      "\n",
      "Attaching package: 'S4Vectors'\n",
      "\n",
      "\n",
      "The following object is masked from 'package:clusterProfiler':\n",
      "\n",
      "    rename\n",
      "\n",
      "\n",
      "The following object is masked from 'package:utils':\n",
      "\n",
      "    findMatches\n",
      "\n",
      "\n",
      "The following objects are masked from 'package:base':\n",
      "\n",
      "    I, expand.grid, unname\n",
      "\n",
      "\n",
      "\n",
      "Attaching package: 'IRanges'\n",
      "\n",
      "\n",
      "The following object is masked from 'package:clusterProfiler':\n",
      "\n",
      "    slice\n",
      "\n",
      "\n",
      "\n",
      "Attaching package: 'AnnotationDbi'\n",
      "\n",
      "\n",
      "The following object is masked from 'package:clusterProfiler':\n",
      "\n",
      "    select\n",
      "\n",
      "\n"
     ]
    }
   ],
   "source": [
    "library(GOSemSim)\n",
    "library(clusterProfiler)\n",
    "library(org.Hs.eg.db)\n"
   ]
  },
  {
   "cell_type": "markdown",
   "id": "b744520e",
   "metadata": {},
   "source": [
    "# Gene Ontology Analysis"
   ]
  },
  {
   "cell_type": "code",
   "execution_count": null,
   "id": "e9d89ad3",
   "metadata": {
    "vscode": {
     "languageId": "r"
    }
   },
   "outputs": [],
   "source": [
    "gene = c('GATA4','GATA5','GATA6','GATA3','GATA1')\n"
   ]
  },
  {
   "cell_type": "code",
   "execution_count": null,
   "id": "8a63fda5",
   "metadata": {
    "vscode": {
     "languageId": "r"
    }
   },
   "outputs": [
    {
     "name": "stderr",
     "output_type": "stream",
     "text": [
      "'select()' returned 1:1 mapping between keys and columns\n",
      "\n"
     ]
    },
    {
     "data": {
      "text/html": [
       "<table class=\"dataframe\">\n",
       "<caption>A data.frame: 1 x 2</caption>\n",
       "<thead>\n",
       "\t<tr><th scope=col>SYMBOL</th><th scope=col>ENTREZID</th></tr>\n",
       "\t<tr><th scope=col>&lt;chr&gt;</th><th scope=col>&lt;chr&gt;</th></tr>\n",
       "</thead>\n",
       "<tbody>\n",
       "\t<tr><td>GATA4</td><td>2626</td></tr>\n",
       "</tbody>\n",
       "</table>\n"
      ],
      "text/latex": [
       "A data.frame: 1 x 2\n",
       "\\begin{tabular}{ll}\n",
       " SYMBOL & ENTREZID\\\\\n",
       " <chr> & <chr>\\\\\n",
       "\\hline\n",
       "\t GATA4 & 2626\\\\\n",
       "\\end{tabular}\n"
      ],
      "text/markdown": [
       "\n",
       "A data.frame: 1 x 2\n",
       "\n",
       "| SYMBOL &lt;chr&gt; | ENTREZID &lt;chr&gt; |\n",
       "|---|---|\n",
       "| GATA4 | 2626 |\n",
       "\n"
      ],
      "text/plain": [
       "  SYMBOL ENTREZID\n",
       "1 GATA4  2626    "
      ]
     },
     "metadata": {},
     "output_type": "display_data"
    },
    {
     "name": "stderr",
     "output_type": "stream",
     "text": [
      "'select()' returned 1:1 mapping between keys and columns\n",
      "\n"
     ]
    },
    {
     "data": {
      "text/html": [
       "<style>\n",
       ".list-inline {list-style: none; margin:0; padding: 0}\n",
       ".list-inline>li {display: inline-block}\n",
       ".list-inline>li:not(:last-child)::after {content: \"\\00b7\"; padding: 0 .5ex}\n",
       "</style>\n",
       "<ol class=list-inline><li>'2626'</li><li>'140628'</li><li>'2627'</li><li>'2625'</li><li>'2623'</li></ol>\n"
      ],
      "text/latex": [
       "\\begin{enumerate*}\n",
       "\\item '2626'\n",
       "\\item '140628'\n",
       "\\item '2627'\n",
       "\\item '2625'\n",
       "\\item '2623'\n",
       "\\end{enumerate*}\n"
      ],
      "text/markdown": [
       "1. '2626'\n",
       "2. '140628'\n",
       "3. '2627'\n",
       "4. '2625'\n",
       "5. '2623'\n",
       "\n",
       "\n"
      ],
      "text/plain": [
       "[1] \"2626\"   \"140628\" \"2627\"   \"2625\"   \"2623\"  "
      ]
     },
     "metadata": {},
     "output_type": "display_data"
    }
   ],
   "source": [
    "\n",
    "hs <- org.Hs.eg.db\n",
    "my.symbols <- gene\n",
    "select(hs, \n",
    "       keys = my.symbols,\n",
    "       columns = c(\"ENTREZID\", \"SYMBOL\"),\n",
    "       keytype = \"SYMBOL\")\n",
    "gene_list_entrizid <- gene_list_entrizid[!duplicated(gene_list_entrizid$SYMBOL),]\n",
    "gene_list_entrizid <- gene_list_entrizid[!duplicated(gene_list_entrizid$ENTREZID),]\n",
    "gene_list_entrizid = gene_list_entrizid$ENTREZID\n"
   ]
  },
  {
   "cell_type": "code",
   "execution_count": 17,
   "id": "0d1a34a3",
   "metadata": {
    "vscode": {
     "languageId": "r"
    }
   },
   "outputs": [
    {
     "data": {
      "text/html": [
       "<table class=\"dataframe\">\n",
       "<caption>A data.frame: 6 x 9</caption>\n",
       "<thead>\n",
       "\t<tr><th></th><th scope=col>ID</th><th scope=col>Description</th><th scope=col>GeneRatio</th><th scope=col>BgRatio</th><th scope=col>pvalue</th><th scope=col>p.adjust</th><th scope=col>qvalue</th><th scope=col>geneID</th><th scope=col>Count</th></tr>\n",
       "\t<tr><th></th><th scope=col>&lt;chr&gt;</th><th scope=col>&lt;chr&gt;</th><th scope=col>&lt;chr&gt;</th><th scope=col>&lt;chr&gt;</th><th scope=col>&lt;dbl&gt;</th><th scope=col>&lt;dbl&gt;</th><th scope=col>&lt;dbl&gt;</th><th scope=col>&lt;chr&gt;</th><th scope=col>&lt;int&gt;</th></tr>\n",
       "</thead>\n",
       "<tbody>\n",
       "\t<tr><th scope=row>GO:0045165</th><td>GO:0045165</td><td>cell fate commitment                              </td><td>5/5</td><td>286/18870</td><td>7.725657e-10</td><td>5.137562e-07</td><td>1.171047e-07</td><td>GATA4/GATA5/GATA6/GATA3/GATA1</td><td>5</td></tr>\n",
       "\t<tr><th scope=row>GO:0008584</th><td>GO:0008584</td><td>male gonad development                            </td><td>4/5</td><td>150/18870</td><td>1.906251e-08</td><td>3.692056e-06</td><td>8.415608e-07</td><td>GATA4/GATA6/GATA3/GATA1      </td><td>4</td></tr>\n",
       "\t<tr><th scope=row>GO:0046546</th><td>GO:0046546</td><td>development of primary male sexual characteristics</td><td>4/5</td><td>151/18870</td><td>1.958038e-08</td><td>3.692056e-06</td><td>8.415608e-07</td><td>GATA4/GATA6/GATA3/GATA1      </td><td>4</td></tr>\n",
       "\t<tr><th scope=row>GO:0060575</th><td>GO:0060575</td><td>intestinal epithelial cell differentiation        </td><td>3/5</td><td>28/18870 </td><td>2.920014e-08</td><td>3.692056e-06</td><td>8.415608e-07</td><td>GATA4/GATA5/GATA6            </td><td>3</td></tr>\n",
       "\t<tr><th scope=row>GO:0046661</th><td>GO:0046661</td><td>male sex differentiation                          </td><td>4/5</td><td>174/18870</td><td>3.467355e-08</td><td>3.692056e-06</td><td>8.415608e-07</td><td>GATA4/GATA6/GATA3/GATA1      </td><td>4</td></tr>\n",
       "\t<tr><th scope=row>GO:0071772</th><td>GO:0071772</td><td>response to BMP                                   </td><td>4/5</td><td>179/18870</td><td>3.886375e-08</td><td>3.692056e-06</td><td>8.415608e-07</td><td>GATA4/GATA5/GATA6/GATA3      </td><td>4</td></tr>\n",
       "</tbody>\n",
       "</table>\n"
      ],
      "text/latex": [
       "A data.frame: 6 x 9\n",
       "\\begin{tabular}{r|lllllllll}\n",
       "  & ID & Description & GeneRatio & BgRatio & pvalue & p.adjust & qvalue & geneID & Count\\\\\n",
       "  & <chr> & <chr> & <chr> & <chr> & <dbl> & <dbl> & <dbl> & <chr> & <int>\\\\\n",
       "\\hline\n",
       "\tGO:0045165 & GO:0045165 & cell fate commitment                               & 5/5 & 286/18870 & 7.725657e-10 & 5.137562e-07 & 1.171047e-07 & GATA4/GATA5/GATA6/GATA3/GATA1 & 5\\\\\n",
       "\tGO:0008584 & GO:0008584 & male gonad development                             & 4/5 & 150/18870 & 1.906251e-08 & 3.692056e-06 & 8.415608e-07 & GATA4/GATA6/GATA3/GATA1       & 4\\\\\n",
       "\tGO:0046546 & GO:0046546 & development of primary male sexual characteristics & 4/5 & 151/18870 & 1.958038e-08 & 3.692056e-06 & 8.415608e-07 & GATA4/GATA6/GATA3/GATA1       & 4\\\\\n",
       "\tGO:0060575 & GO:0060575 & intestinal epithelial cell differentiation         & 3/5 & 28/18870  & 2.920014e-08 & 3.692056e-06 & 8.415608e-07 & GATA4/GATA5/GATA6             & 3\\\\\n",
       "\tGO:0046661 & GO:0046661 & male sex differentiation                           & 4/5 & 174/18870 & 3.467355e-08 & 3.692056e-06 & 8.415608e-07 & GATA4/GATA6/GATA3/GATA1       & 4\\\\\n",
       "\tGO:0071772 & GO:0071772 & response to BMP                                    & 4/5 & 179/18870 & 3.886375e-08 & 3.692056e-06 & 8.415608e-07 & GATA4/GATA5/GATA6/GATA3       & 4\\\\\n",
       "\\end{tabular}\n"
      ],
      "text/markdown": [
       "\n",
       "A data.frame: 6 x 9\n",
       "\n",
       "| <!--/--> | ID &lt;chr&gt; | Description &lt;chr&gt; | GeneRatio &lt;chr&gt; | BgRatio &lt;chr&gt; | pvalue &lt;dbl&gt; | p.adjust &lt;dbl&gt; | qvalue &lt;dbl&gt; | geneID &lt;chr&gt; | Count &lt;int&gt; |\n",
       "|---|---|---|---|---|---|---|---|---|---|\n",
       "| GO:0045165 | GO:0045165 | cell fate commitment                               | 5/5 | 286/18870 | 7.725657e-10 | 5.137562e-07 | 1.171047e-07 | GATA4/GATA5/GATA6/GATA3/GATA1 | 5 |\n",
       "| GO:0008584 | GO:0008584 | male gonad development                             | 4/5 | 150/18870 | 1.906251e-08 | 3.692056e-06 | 8.415608e-07 | GATA4/GATA6/GATA3/GATA1       | 4 |\n",
       "| GO:0046546 | GO:0046546 | development of primary male sexual characteristics | 4/5 | 151/18870 | 1.958038e-08 | 3.692056e-06 | 8.415608e-07 | GATA4/GATA6/GATA3/GATA1       | 4 |\n",
       "| GO:0060575 | GO:0060575 | intestinal epithelial cell differentiation         | 3/5 | 28/18870  | 2.920014e-08 | 3.692056e-06 | 8.415608e-07 | GATA4/GATA5/GATA6             | 3 |\n",
       "| GO:0046661 | GO:0046661 | male sex differentiation                           | 4/5 | 174/18870 | 3.467355e-08 | 3.692056e-06 | 8.415608e-07 | GATA4/GATA6/GATA3/GATA1       | 4 |\n",
       "| GO:0071772 | GO:0071772 | response to BMP                                    | 4/5 | 179/18870 | 3.886375e-08 | 3.692056e-06 | 8.415608e-07 | GATA4/GATA5/GATA6/GATA3       | 4 |\n",
       "\n"
      ],
      "text/plain": [
       "           ID         Description                                       \n",
       "GO:0045165 GO:0045165 cell fate commitment                              \n",
       "GO:0008584 GO:0008584 male gonad development                            \n",
       "GO:0046546 GO:0046546 development of primary male sexual characteristics\n",
       "GO:0060575 GO:0060575 intestinal epithelial cell differentiation        \n",
       "GO:0046661 GO:0046661 male sex differentiation                          \n",
       "GO:0071772 GO:0071772 response to BMP                                   \n",
       "           GeneRatio BgRatio   pvalue       p.adjust     qvalue      \n",
       "GO:0045165 5/5       286/18870 7.725657e-10 5.137562e-07 1.171047e-07\n",
       "GO:0008584 4/5       150/18870 1.906251e-08 3.692056e-06 8.415608e-07\n",
       "GO:0046546 4/5       151/18870 1.958038e-08 3.692056e-06 8.415608e-07\n",
       "GO:0060575 3/5       28/18870  2.920014e-08 3.692056e-06 8.415608e-07\n",
       "GO:0046661 4/5       174/18870 3.467355e-08 3.692056e-06 8.415608e-07\n",
       "GO:0071772 4/5       179/18870 3.886375e-08 3.692056e-06 8.415608e-07\n",
       "           geneID                        Count\n",
       "GO:0045165 GATA4/GATA5/GATA6/GATA3/GATA1 5    \n",
       "GO:0008584 GATA4/GATA6/GATA3/GATA1       4    \n",
       "GO:0046546 GATA4/GATA6/GATA3/GATA1       4    \n",
       "GO:0060575 GATA4/GATA5/GATA6             3    \n",
       "GO:0046661 GATA4/GATA6/GATA3/GATA1       4    \n",
       "GO:0071772 GATA4/GATA5/GATA6/GATA3       4    "
      ]
     },
     "metadata": {},
     "output_type": "display_data"
    }
   ],
   "source": [
    "ggo <- enrichGO(gene     = gene_list_entrizid$ENTREZID,\n",
    "               OrgDb    = org.Hs.eg.db,\n",
    "               ont      = \"BP\",\n",
    "               #level    = 3,\n",
    "               readable = TRUE)\n",
    "\n",
    "head(ggo)\n"
   ]
  },
  {
   "cell_type": "markdown",
   "id": "1a5b79e9",
   "metadata": {},
   "source": [
    "# Semantic Analysis for Gene Sets"
   ]
  },
  {
   "cell_type": "code",
   "execution_count": 2,
   "id": "034de184",
   "metadata": {
    "vscode": {
     "languageId": "r"
    }
   },
   "outputs": [
    {
     "name": "stderr",
     "output_type": "stream",
     "text": [
      "\n",
      "\n",
      "preparing gene to GO mapping data...\n",
      "\n",
      "preparing IC data...\n",
      "\n"
     ]
    }
   ],
   "source": [
    "hsGO <- godata('org.Hs.eg.db', ont=\"MF\")\n"
   ]
  },
  {
   "cell_type": "code",
   "execution_count": null,
   "id": "4d919071",
   "metadata": {
    "vscode": {
     "languageId": "r"
    }
   },
   "outputs": [
    {
     "data": {
      "text/html": [
       "0.945"
      ],
      "text/latex": [
       "0.945"
      ],
      "text/markdown": [
       "0.945"
      ],
      "text/plain": [
       "[1] 0.945"
      ]
     },
     "metadata": {},
     "output_type": "display_data"
    }
   ],
   "source": [
    "gs1 <- c('2626','140628','2627') \n",
    "gs2 <- c('2625','2623') \n",
    "clusterSim(gs1, gs2, semData=hsGO, measure=\"Wang\", combine=\"BMA\") \n"
   ]
  },
  {
   "cell_type": "code",
   "execution_count": null,
   "id": "7a64f6b5",
   "metadata": {
    "vscode": {
     "languageId": "r"
    }
   },
   "outputs": [],
   "source": []
  }
 ],
 "metadata": {
  "kernelspec": {
   "display_name": "R",
   "language": "R",
   "name": "ir"
  },
  "language_info": {
   "codemirror_mode": "r",
   "file_extension": ".r",
   "mimetype": "text/x-r-source",
   "name": "R",
   "pygments_lexer": "r",
   "version": "4.3.0"
  }
 },
 "nbformat": 4,
 "nbformat_minor": 5
}
