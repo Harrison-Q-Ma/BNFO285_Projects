{
 "cells": [
  {
   "cell_type": "code",
   "execution_count": 1,
   "id": "e99a9152",
   "metadata": {
    "vscode": {
     "languageId": "r"
    }
   },
   "outputs": [
    {
     "name": "stderr",
     "output_type": "stream",
     "text": [
      "Warning message:\n",
      "\"package 'GOSemSim' was built under R version 4.3.2\"\n",
      "\n",
      "\n",
      "GOSemSim v2.28.1  For help: https://yulab-smu.top/biomedical-knowledge-mining-book/\n",
      "\n",
      "If you use GOSemSim in published research, please cite:\n",
      "\u001b[36m-\u001b[39m Guangchuang Yu. Gene Ontology Semantic Similarity Analysis Using GOSemSim. In: Kidder B. (eds) Stem Cell Transcriptional Networks. Methods in Molecular Biology, 2020, 2117:207-215. Humana, New York, NY. doi:10.1007/978-1-0716-0301-7_11\n",
      "\u001b[36m-\u001b[39m Guangchuang Yu, Fei Li, Yide Qin, Xiaochen Bo, Yibo Wu, Shengqi Wang. GOSemSim: an R package for measuring semantic similarity among GO terms and gene products Bioinformatics 2010, 26(7):976-978. doi:10.1093/bioinformatics/btq064\n",
      "\n",
      "\n",
      "\n",
      "Warning message:\n",
      "\"package 'clusterProfiler' was built under R version 4.3.3\"\n",
      "clusterProfiler v4.10.1  For help: https://yulab-smu.top/biomedical-knowledge-mining-book/\n",
      "\n",
      "If you use clusterProfiler in published research, please cite:\n",
      "T Wu, E Hu, S Xu, M Chen, P Guo, Z Dai, T Feng, L Zhou, W Tang, L Zhan, X Fu, S Liu, X Bo, and G Yu. clusterProfiler 4.0: A universal enrichment tool for interpreting omics data. The Innovation. 2021, 2(3):100141\n",
      "\n",
      "\n",
      "Attaching package: 'clusterProfiler'\n",
      "\n",
      "\n",
      "The following object is masked from 'package:stats':\n",
      "\n",
      "    filter\n",
      "\n",
      "\n",
      "Loading required package: AnnotationDbi\n",
      "\n",
      "Warning message:\n",
      "\"package 'AnnotationDbi' was built under R version 4.3.1\"\n",
      "Loading required package: stats4\n",
      "\n",
      "Loading required package: BiocGenerics\n",
      "\n",
      "Warning message:\n",
      "\"package 'BiocGenerics' was built under R version 4.3.1\"\n",
      "\n",
      "Attaching package: 'BiocGenerics'\n",
      "\n",
      "\n",
      "The following objects are masked from 'package:stats':\n",
      "\n",
      "    IQR, mad, sd, var, xtabs\n",
      "\n",
      "\n",
      "The following objects are masked from 'package:base':\n",
      "\n",
      "    Filter, Find, Map, Position, Reduce, anyDuplicated, aperm, append,\n",
      "    as.data.frame, basename, cbind, colnames, dirname, do.call,\n",
      "    duplicated, eval, evalq, get, grep, grepl, intersect, is.unsorted,\n",
      "    lapply, mapply, match, mget, order, paste, pmax, pmax.int, pmin,\n",
      "    pmin.int, rank, rbind, rownames, sapply, setdiff, sort, table,\n",
      "    tapply, union, unique, unsplit, which.max, which.min\n",
      "\n",
      "\n",
      "Loading required package: Biobase\n",
      "\n",
      "Warning message:\n",
      "\"package 'Biobase' was built under R version 4.3.1\"\n",
      "Welcome to Bioconductor\n",
      "\n",
      "    Vignettes contain introductory material; view with\n",
      "    'browseVignettes()'. To cite Bioconductor, see\n",
      "    'citation(\"Biobase\")', and for packages 'citation(\"pkgname\")'.\n",
      "\n",
      "\n",
      "Loading required package: IRanges\n",
      "\n",
      "Warning message:\n",
      "\"package 'IRanges' was built under R version 4.3.1\"\n",
      "Loading required package: S4Vectors\n",
      "\n",
      "Warning message:\n",
      "\"package 'S4Vectors' was built under R version 4.3.2\"\n",
      "\n",
      "Attaching package: 'S4Vectors'\n",
      "\n",
      "\n",
      "The following object is masked from 'package:clusterProfiler':\n",
      "\n",
      "    rename\n",
      "\n",
      "\n",
      "The following object is masked from 'package:utils':\n",
      "\n",
      "    findMatches\n",
      "\n",
      "\n",
      "The following objects are masked from 'package:base':\n",
      "\n",
      "    I, expand.grid, unname\n",
      "\n",
      "\n",
      "\n",
      "Attaching package: 'IRanges'\n",
      "\n",
      "\n",
      "The following object is masked from 'package:clusterProfiler':\n",
      "\n",
      "    slice\n",
      "\n",
      "\n",
      "\n",
      "Attaching package: 'AnnotationDbi'\n",
      "\n",
      "\n",
      "The following object is masked from 'package:clusterProfiler':\n",
      "\n",
      "    select\n",
      "\n",
      "\n",
      "\n",
      "\n"
     ]
    }
   ],
   "source": [
    "library(GOSemSim)\n",
    "library(clusterProfiler)\n",
    "library(org.Hs.eg.db) \n"
   ]
  },
  {
   "cell_type": "markdown",
   "id": "b744520e",
   "metadata": {},
   "source": [
    "# Gene Ontology Analysis"
   ]
  },
  {
   "cell_type": "code",
   "execution_count": 32,
   "id": "8f046f37",
   "metadata": {
    "vscode": {
     "languageId": "r"
    }
   },
   "outputs": [
    {
     "data": {
      "text/html": [
       "<table class=\"dataframe\">\n",
       "<caption>A data.frame: 6 x 9</caption>\n",
       "<thead>\n",
       "\t<tr><th></th><th scope=col>X</th><th scope=col>gene</th><th scope=col>cluster</th><th scope=col>t_stat</th><th scope=col>p_val</th><th scope=col>log2fc</th><th scope=col>mean_cluster</th><th scope=col>mean_others</th><th scope=col>corrected_p_val</th></tr>\n",
       "\t<tr><th></th><th scope=col>&lt;int&gt;</th><th scope=col>&lt;int&gt;</th><th scope=col>&lt;int&gt;</th><th scope=col>&lt;dbl&gt;</th><th scope=col>&lt;dbl&gt;</th><th scope=col>&lt;dbl&gt;</th><th scope=col>&lt;dbl&gt;</th><th scope=col>&lt;dbl&gt;</th><th scope=col>&lt;dbl&gt;</th></tr>\n",
       "</thead>\n",
       "<tbody>\n",
       "\t<tr><th scope=row>1</th><td> 8</td><td>1277</td><td>3</td><td> 7.156271</td><td>1.519563e-11</td><td>1.289257</td><td>16.77468</td><td>15.485424</td><td>1.200050e-10</td></tr>\n",
       "\t<tr><th scope=row>2</th><td>16</td><td>1281</td><td>3</td><td> 7.037570</td><td>3.187015e-11</td><td>1.318586</td><td>16.06718</td><td>14.748596</td><td>2.414405e-10</td></tr>\n",
       "\t<tr><th scope=row>3</th><td>18</td><td>2335</td><td>3</td><td>10.734287</td><td>9.594042e-22</td><td>2.001857</td><td>15.83064</td><td>13.828779</td><td>2.091344e-20</td></tr>\n",
       "\t<tr><th scope=row>4</th><td>19</td><td>1278</td><td>3</td><td> 6.844242</td><td>9.395784e-11</td><td>1.233221</td><td>15.87872</td><td>14.645497</td><td>6.675512e-10</td></tr>\n",
       "\t<tr><th scope=row>5</th><td>27</td><td>4620</td><td>3</td><td>16.568431</td><td>1.707420e-39</td><td>6.928350</td><td>10.33707</td><td> 3.408723</td><td>1.501029e-37</td></tr>\n",
       "\t<tr><th scope=row>6</th><td>37</td><td>  58</td><td>3</td><td>20.124620</td><td>1.316016e-52</td><td>6.598162</td><td>11.40153</td><td> 4.803367</td><td>5.541122e-50</td></tr>\n",
       "</tbody>\n",
       "</table>\n"
      ],
      "text/latex": [
       "A data.frame: 6 x 9\n",
       "\\begin{tabular}{r|lllllllll}\n",
       "  & X & gene & cluster & t\\_stat & p\\_val & log2fc & mean\\_cluster & mean\\_others & corrected\\_p\\_val\\\\\n",
       "  & <int> & <int> & <int> & <dbl> & <dbl> & <dbl> & <dbl> & <dbl> & <dbl>\\\\\n",
       "\\hline\n",
       "\t1 &  8 & 1277 & 3 &  7.156271 & 1.519563e-11 & 1.289257 & 16.77468 & 15.485424 & 1.200050e-10\\\\\n",
       "\t2 & 16 & 1281 & 3 &  7.037570 & 3.187015e-11 & 1.318586 & 16.06718 & 14.748596 & 2.414405e-10\\\\\n",
       "\t3 & 18 & 2335 & 3 & 10.734287 & 9.594042e-22 & 2.001857 & 15.83064 & 13.828779 & 2.091344e-20\\\\\n",
       "\t4 & 19 & 1278 & 3 &  6.844242 & 9.395784e-11 & 1.233221 & 15.87872 & 14.645497 & 6.675512e-10\\\\\n",
       "\t5 & 27 & 4620 & 3 & 16.568431 & 1.707420e-39 & 6.928350 & 10.33707 &  3.408723 & 1.501029e-37\\\\\n",
       "\t6 & 37 &   58 & 3 & 20.124620 & 1.316016e-52 & 6.598162 & 11.40153 &  4.803367 & 5.541122e-50\\\\\n",
       "\\end{tabular}\n"
      ],
      "text/markdown": [
       "\n",
       "A data.frame: 6 x 9\n",
       "\n",
       "| <!--/--> | X &lt;int&gt; | gene &lt;int&gt; | cluster &lt;int&gt; | t_stat &lt;dbl&gt; | p_val &lt;dbl&gt; | log2fc &lt;dbl&gt; | mean_cluster &lt;dbl&gt; | mean_others &lt;dbl&gt; | corrected_p_val &lt;dbl&gt; |\n",
       "|---|---|---|---|---|---|---|---|---|---|\n",
       "| 1 |  8 | 1277 | 3 |  7.156271 | 1.519563e-11 | 1.289257 | 16.77468 | 15.485424 | 1.200050e-10 |\n",
       "| 2 | 16 | 1281 | 3 |  7.037570 | 3.187015e-11 | 1.318586 | 16.06718 | 14.748596 | 2.414405e-10 |\n",
       "| 3 | 18 | 2335 | 3 | 10.734287 | 9.594042e-22 | 2.001857 | 15.83064 | 13.828779 | 2.091344e-20 |\n",
       "| 4 | 19 | 1278 | 3 |  6.844242 | 9.395784e-11 | 1.233221 | 15.87872 | 14.645497 | 6.675512e-10 |\n",
       "| 5 | 27 | 4620 | 3 | 16.568431 | 1.707420e-39 | 6.928350 | 10.33707 |  3.408723 | 1.501029e-37 |\n",
       "| 6 | 37 |   58 | 3 | 20.124620 | 1.316016e-52 | 6.598162 | 11.40153 |  4.803367 | 5.541122e-50 |\n",
       "\n"
      ],
      "text/plain": [
       "  X  gene cluster t_stat    p_val        log2fc   mean_cluster mean_others\n",
       "1  8 1277 3        7.156271 1.519563e-11 1.289257 16.77468     15.485424  \n",
       "2 16 1281 3        7.037570 3.187015e-11 1.318586 16.06718     14.748596  \n",
       "3 18 2335 3       10.734287 9.594042e-22 2.001857 15.83064     13.828779  \n",
       "4 19 1278 3        6.844242 9.395784e-11 1.233221 15.87872     14.645497  \n",
       "5 27 4620 3       16.568431 1.707420e-39 6.928350 10.33707      3.408723  \n",
       "6 37   58 3       20.124620 1.316016e-52 6.598162 11.40153      4.803367  \n",
       "  corrected_p_val\n",
       "1 1.200050e-10   \n",
       "2 2.414405e-10   \n",
       "3 2.091344e-20   \n",
       "4 6.675512e-10   \n",
       "5 1.501029e-37   \n",
       "6 5.541122e-50   "
      ]
     },
     "metadata": {},
     "output_type": "display_data"
    }
   ],
   "source": [
    "genes = read.csv('/Users/harrisonma/Documents/PhD Classes/2025 Spring/BNFO 285/BNFO285_Projects/project_1/Harrison/DEGs/res_umap_DEGs.csv')\n",
    "head(genes)\n"
   ]
  },
  {
   "cell_type": "code",
   "execution_count": 33,
   "id": "9ddab39b",
   "metadata": {
    "vscode": {
     "languageId": "r"
    }
   },
   "outputs": [
    {
     "data": {
      "text/plain": [
       "\n",
       "  0   1   2   3 \n",
       " 36 219  78 127 "
      ]
     },
     "metadata": {},
     "output_type": "display_data"
    }
   ],
   "source": [
    "table(genes$cluster)\n"
   ]
  },
  {
   "cell_type": "code",
   "execution_count": null,
   "id": "e9d89ad3",
   "metadata": {
    "vscode": {
     "languageId": "r"
    }
   },
   "outputs": [],
   "source": [
    "cluster_1 = genes[genes$cluster == 0,]\n",
    "cluster_2 = genes[genes$cluster == 1,]\n",
    "cluster_3 = genes[genes$cluster == 2,]\n",
    "cluster_4 = genes[genes$cluster == 3,]\n"
   ]
  },
  {
   "cell_type": "code",
   "execution_count": 35,
   "id": "ded666a1",
   "metadata": {
    "vscode": {
     "languageId": "r"
    }
   },
   "outputs": [
    {
     "name": "stderr",
     "output_type": "stream",
     "text": [
      "preparing gene to GO mapping data...\n",
      "\n",
      "preparing IC data...\n",
      "\n"
     ]
    }
   ],
   "source": [
    "hsGO <- godata('org.Hs.eg.db', ont=\"MF\") \n",
    "\n",
    "cluster_1_sims = c() \n",
    "gene = cluster_1$gene\n",
    "for (i in 1:10) {\n",
    "    set1 = sample(gene, size = length(gene)/2) \n",
    "    set2 = setdiff(gene, set1) \n",
    "    cluster_1_sims = c(cluster_1_sims, clusterSim(set1, set2, semData=hsGO, measure=\"Wang\", combine=\"BMA\")) \n",
    "} \n",
    "\n",
    "# Process cluster 2\n",
    "cluster_2_sims = c() \n",
    "gene = cluster_2$gene\n",
    "for (i in 1:10) {\n",
    "    set1 = sample(gene, size = length(gene)/2) \n",
    "    set2 = setdiff(gene, set1) \n",
    "    cluster_2_sims = c(cluster_2_sims, clusterSim(set1, set2, semData=hsGO, measure=\"Wang\", combine=\"BMA\")) \n",
    "} \n",
    "\n",
    "# Process cluster 3\n",
    "cluster_3_sims = c() \n",
    "gene = cluster_3$gene\n",
    "for (i in 1:10) {\n",
    "    set1 = sample(gene, size = length(gene)/2) \n",
    "    set2 = setdiff(gene, set1) \n",
    "    cluster_3_sims = c(cluster_3_sims, clusterSim(set1, set2, semData=hsGO, measure=\"Wang\", combine=\"BMA\")) \n",
    "} \n",
    "\n",
    "cluster_4_sims = c() \n",
    "gene = cluster_3$gene\n",
    "for (i in 1:10) {\n",
    "    set1 = sample(gene, size = length(gene)/2) \n",
    "    set2 = setdiff(gene, set1) \n",
    "    cluster_4_sims = c(cluster_4_sims, clusterSim(set1, set2, semData=hsGO, measure=\"Wang\", combine=\"BMA\")) \n",
    "} \n"
   ]
  },
  {
   "cell_type": "code",
   "execution_count": 36,
   "id": "e80e33db",
   "metadata": {
    "vscode": {
     "languageId": "r"
    }
   },
   "outputs": [
    {
     "data": {
      "text/html": [
       "<style>\n",
       ".list-inline {list-style: none; margin:0; padding: 0}\n",
       ".list-inline>li {display: inline-block}\n",
       ".list-inline>li:not(:last-child)::after {content: \"\\00b7\"; padding: 0 .5ex}\n",
       "</style>\n",
       "<ol class=list-inline><li>0.72</li><li>0.68</li><li>0.688</li><li>0.752</li><li>0.726</li><li>0.745</li><li>0.779</li><li>0.731</li><li>0.769</li><li>0.752</li></ol>\n"
      ],
      "text/latex": [
       "\\begin{enumerate*}\n",
       "\\item 0.72\n",
       "\\item 0.68\n",
       "\\item 0.688\n",
       "\\item 0.752\n",
       "\\item 0.726\n",
       "\\item 0.745\n",
       "\\item 0.779\n",
       "\\item 0.731\n",
       "\\item 0.769\n",
       "\\item 0.752\n",
       "\\end{enumerate*}\n"
      ],
      "text/markdown": [
       "1. 0.72\n",
       "2. 0.68\n",
       "3. 0.688\n",
       "4. 0.752\n",
       "5. 0.726\n",
       "6. 0.745\n",
       "7. 0.779\n",
       "8. 0.731\n",
       "9. 0.769\n",
       "10. 0.752\n",
       "\n",
       "\n"
      ],
      "text/plain": [
       " [1] 0.720 0.680 0.688 0.752 0.726 0.745 0.779 0.731 0.769 0.752"
      ]
     },
     "metadata": {},
     "output_type": "display_data"
    }
   ],
   "source": [
    "cluster_1_sims\n"
   ]
  },
  {
   "cell_type": "code",
   "execution_count": 37,
   "id": "680f39cb",
   "metadata": {
    "vscode": {
     "languageId": "r"
    }
   },
   "outputs": [
    {
     "data": {
      "text/html": [
       "<style>\n",
       ".list-inline {list-style: none; margin:0; padding: 0}\n",
       ".list-inline>li {display: inline-block}\n",
       ".list-inline>li:not(:last-child)::after {content: \"\\00b7\"; padding: 0 .5ex}\n",
       "</style>\n",
       "<ol class=list-inline><li>0.88</li><li>0.883</li><li>0.881</li><li>0.883</li><li>0.884</li><li>0.881</li><li>0.883</li><li>0.862</li><li>0.897</li><li>0.873</li></ol>\n"
      ],
      "text/latex": [
       "\\begin{enumerate*}\n",
       "\\item 0.88\n",
       "\\item 0.883\n",
       "\\item 0.881\n",
       "\\item 0.883\n",
       "\\item 0.884\n",
       "\\item 0.881\n",
       "\\item 0.883\n",
       "\\item 0.862\n",
       "\\item 0.897\n",
       "\\item 0.873\n",
       "\\end{enumerate*}\n"
      ],
      "text/markdown": [
       "1. 0.88\n",
       "2. 0.883\n",
       "3. 0.881\n",
       "4. 0.883\n",
       "5. 0.884\n",
       "6. 0.881\n",
       "7. 0.883\n",
       "8. 0.862\n",
       "9. 0.897\n",
       "10. 0.873\n",
       "\n",
       "\n"
      ],
      "text/plain": [
       " [1] 0.880 0.883 0.881 0.883 0.884 0.881 0.883 0.862 0.897 0.873"
      ]
     },
     "metadata": {},
     "output_type": "display_data"
    }
   ],
   "source": [
    "cluster_2_sims\n"
   ]
  },
  {
   "cell_type": "code",
   "execution_count": 38,
   "id": "33ce8353",
   "metadata": {
    "vscode": {
     "languageId": "r"
    }
   },
   "outputs": [
    {
     "data": {
      "text/html": [
       "<style>\n",
       ".list-inline {list-style: none; margin:0; padding: 0}\n",
       ".list-inline>li {display: inline-block}\n",
       ".list-inline>li:not(:last-child)::after {content: \"\\00b7\"; padding: 0 .5ex}\n",
       "</style>\n",
       "<ol class=list-inline><li>0.745</li><li>0.739</li><li>0.717</li><li>0.727</li><li>0.737</li><li>0.727</li><li>0.748</li><li>0.744</li><li>0.738</li><li>0.744</li></ol>\n"
      ],
      "text/latex": [
       "\\begin{enumerate*}\n",
       "\\item 0.745\n",
       "\\item 0.739\n",
       "\\item 0.717\n",
       "\\item 0.727\n",
       "\\item 0.737\n",
       "\\item 0.727\n",
       "\\item 0.748\n",
       "\\item 0.744\n",
       "\\item 0.738\n",
       "\\item 0.744\n",
       "\\end{enumerate*}\n"
      ],
      "text/markdown": [
       "1. 0.745\n",
       "2. 0.739\n",
       "3. 0.717\n",
       "4. 0.727\n",
       "5. 0.737\n",
       "6. 0.727\n",
       "7. 0.748\n",
       "8. 0.744\n",
       "9. 0.738\n",
       "10. 0.744\n",
       "\n",
       "\n"
      ],
      "text/plain": [
       " [1] 0.745 0.739 0.717 0.727 0.737 0.727 0.748 0.744 0.738 0.744"
      ]
     },
     "metadata": {},
     "output_type": "display_data"
    }
   ],
   "source": [
    "cluster_3_sims\n"
   ]
  },
  {
   "cell_type": "code",
   "execution_count": 39,
   "id": "17542ca2",
   "metadata": {
    "vscode": {
     "languageId": "r"
    }
   },
   "outputs": [
    {
     "data": {
      "text/html": [
       "<style>\n",
       ".list-inline {list-style: none; margin:0; padding: 0}\n",
       ".list-inline>li {display: inline-block}\n",
       ".list-inline>li:not(:last-child)::after {content: \"\\00b7\"; padding: 0 .5ex}\n",
       "</style>\n",
       "<ol class=list-inline><li>0.745</li><li>0.762</li><li>0.736</li><li>0.746</li><li>0.743</li><li>0.729</li><li>0.755</li><li>0.73</li><li>0.742</li><li>0.744</li></ol>\n"
      ],
      "text/latex": [
       "\\begin{enumerate*}\n",
       "\\item 0.745\n",
       "\\item 0.762\n",
       "\\item 0.736\n",
       "\\item 0.746\n",
       "\\item 0.743\n",
       "\\item 0.729\n",
       "\\item 0.755\n",
       "\\item 0.73\n",
       "\\item 0.742\n",
       "\\item 0.744\n",
       "\\end{enumerate*}\n"
      ],
      "text/markdown": [
       "1. 0.745\n",
       "2. 0.762\n",
       "3. 0.736\n",
       "4. 0.746\n",
       "5. 0.743\n",
       "6. 0.729\n",
       "7. 0.755\n",
       "8. 0.73\n",
       "9. 0.742\n",
       "10. 0.744\n",
       "\n",
       "\n"
      ],
      "text/plain": [
       " [1] 0.745 0.762 0.736 0.746 0.743 0.729 0.755 0.730 0.742 0.744"
      ]
     },
     "metadata": {},
     "output_type": "display_data"
    }
   ],
   "source": [
    "cluster_4_sims\n"
   ]
  },
  {
   "cell_type": "code",
   "execution_count": 40,
   "id": "f2762db8",
   "metadata": {
    "vscode": {
     "languageId": "r"
    }
   },
   "outputs": [
    {
     "data": {
      "text/html": [
       "<table class=\"dataframe\">\n",
       "<caption>A data.frame: 6 x 9</caption>\n",
       "<thead>\n",
       "\t<tr><th></th><th scope=col>X</th><th scope=col>gene</th><th scope=col>cluster</th><th scope=col>t_stat</th><th scope=col>p_val</th><th scope=col>log2fc</th><th scope=col>mean_cluster</th><th scope=col>mean_others</th><th scope=col>corrected_p_val</th></tr>\n",
       "\t<tr><th></th><th scope=col>&lt;int&gt;</th><th scope=col>&lt;int&gt;</th><th scope=col>&lt;int&gt;</th><th scope=col>&lt;dbl&gt;</th><th scope=col>&lt;dbl&gt;</th><th scope=col>&lt;dbl&gt;</th><th scope=col>&lt;dbl&gt;</th><th scope=col>&lt;dbl&gt;</th><th scope=col>&lt;dbl&gt;</th></tr>\n",
       "</thead>\n",
       "<tbody>\n",
       "\t<tr><th scope=row>1</th><td> 8</td><td>1277</td><td>1</td><td>10.252107</td><td>1.228109e-21</td><td>1.616075</td><td>16.87422</td><td>15.258145</td><td>1.779868e-20</td></tr>\n",
       "\t<tr><th scope=row>2</th><td>16</td><td>1281</td><td>1</td><td>10.307481</td><td>7.450059e-22</td><td>1.658850</td><td>16.17304</td><td>14.514191</td><td>1.106444e-20</td></tr>\n",
       "\t<tr><th scope=row>3</th><td>18</td><td>2335</td><td>1</td><td>11.812637</td><td>2.836673e-27</td><td>2.009791</td><td>15.64819</td><td>13.638398</td><td>7.464930e-26</td></tr>\n",
       "\t<tr><th scope=row>4</th><td>19</td><td>1278</td><td>1</td><td>10.263805</td><td>1.087704e-21</td><td>1.596135</td><td>16.00787</td><td>14.411732</td><td>1.591762e-20</td></tr>\n",
       "\t<tr><th scope=row>5</th><td>27</td><td>4620</td><td>1</td><td>28.534627</td><td>1.030365e-82</td><td>8.702338</td><td>10.88393</td><td> 2.181592</td><td>2.060731e-80</td></tr>\n",
       "\t<tr><th scope=row>6</th><td>34</td><td>3848</td><td>1</td><td> 2.598428</td><td>9.785949e-03</td><td>1.064303</td><td>10.74530</td><td> 9.680994</td><td>1.617067e-02</td></tr>\n",
       "</tbody>\n",
       "</table>\n"
      ],
      "text/latex": [
       "A data.frame: 6 x 9\n",
       "\\begin{tabular}{r|lllllllll}\n",
       "  & X & gene & cluster & t\\_stat & p\\_val & log2fc & mean\\_cluster & mean\\_others & corrected\\_p\\_val\\\\\n",
       "  & <int> & <int> & <int> & <dbl> & <dbl> & <dbl> & <dbl> & <dbl> & <dbl>\\\\\n",
       "\\hline\n",
       "\t1 &  8 & 1277 & 1 & 10.252107 & 1.228109e-21 & 1.616075 & 16.87422 & 15.258145 & 1.779868e-20\\\\\n",
       "\t2 & 16 & 1281 & 1 & 10.307481 & 7.450059e-22 & 1.658850 & 16.17304 & 14.514191 & 1.106444e-20\\\\\n",
       "\t3 & 18 & 2335 & 1 & 11.812637 & 2.836673e-27 & 2.009791 & 15.64819 & 13.638398 & 7.464930e-26\\\\\n",
       "\t4 & 19 & 1278 & 1 & 10.263805 & 1.087704e-21 & 1.596135 & 16.00787 & 14.411732 & 1.591762e-20\\\\\n",
       "\t5 & 27 & 4620 & 1 & 28.534627 & 1.030365e-82 & 8.702338 & 10.88393 &  2.181592 & 2.060731e-80\\\\\n",
       "\t6 & 34 & 3848 & 1 &  2.598428 & 9.785949e-03 & 1.064303 & 10.74530 &  9.680994 & 1.617067e-02\\\\\n",
       "\\end{tabular}\n"
      ],
      "text/markdown": [
       "\n",
       "A data.frame: 6 x 9\n",
       "\n",
       "| <!--/--> | X &lt;int&gt; | gene &lt;int&gt; | cluster &lt;int&gt; | t_stat &lt;dbl&gt; | p_val &lt;dbl&gt; | log2fc &lt;dbl&gt; | mean_cluster &lt;dbl&gt; | mean_others &lt;dbl&gt; | corrected_p_val &lt;dbl&gt; |\n",
       "|---|---|---|---|---|---|---|---|---|---|\n",
       "| 1 |  8 | 1277 | 1 | 10.252107 | 1.228109e-21 | 1.616075 | 16.87422 | 15.258145 | 1.779868e-20 |\n",
       "| 2 | 16 | 1281 | 1 | 10.307481 | 7.450059e-22 | 1.658850 | 16.17304 | 14.514191 | 1.106444e-20 |\n",
       "| 3 | 18 | 2335 | 1 | 11.812637 | 2.836673e-27 | 2.009791 | 15.64819 | 13.638398 | 7.464930e-26 |\n",
       "| 4 | 19 | 1278 | 1 | 10.263805 | 1.087704e-21 | 1.596135 | 16.00787 | 14.411732 | 1.591762e-20 |\n",
       "| 5 | 27 | 4620 | 1 | 28.534627 | 1.030365e-82 | 8.702338 | 10.88393 |  2.181592 | 2.060731e-80 |\n",
       "| 6 | 34 | 3848 | 1 |  2.598428 | 9.785949e-03 | 1.064303 | 10.74530 |  9.680994 | 1.617067e-02 |\n",
       "\n"
      ],
      "text/plain": [
       "  X  gene cluster t_stat    p_val        log2fc   mean_cluster mean_others\n",
       "1  8 1277 1       10.252107 1.228109e-21 1.616075 16.87422     15.258145  \n",
       "2 16 1281 1       10.307481 7.450059e-22 1.658850 16.17304     14.514191  \n",
       "3 18 2335 1       11.812637 2.836673e-27 2.009791 15.64819     13.638398  \n",
       "4 19 1278 1       10.263805 1.087704e-21 1.596135 16.00787     14.411732  \n",
       "5 27 4620 1       28.534627 1.030365e-82 8.702338 10.88393      2.181592  \n",
       "6 34 3848 1        2.598428 9.785949e-03 1.064303 10.74530      9.680994  \n",
       "  corrected_p_val\n",
       "1 1.779868e-20   \n",
       "2 1.106444e-20   \n",
       "3 7.464930e-26   \n",
       "4 1.591762e-20   \n",
       "5 2.060731e-80   \n",
       "6 1.617067e-02   "
      ]
     },
     "metadata": {},
     "output_type": "display_data"
    }
   ],
   "source": [
    "genes = read.csv('/Users/harrisonma/Documents/PhD Classes/2025 Spring/BNFO 285/BNFO285_Projects/project_1/Harrison/DEGs/res_dtne_DEGs.csv')\n",
    "head(genes)\n"
   ]
  },
  {
   "cell_type": "code",
   "execution_count": 41,
   "id": "c0029644",
   "metadata": {
    "vscode": {
     "languageId": "r"
    }
   },
   "outputs": [
    {
     "data": {
      "text/plain": [
       "\n",
       "  0   1   2 \n",
       "149 183  85 "
      ]
     },
     "metadata": {},
     "output_type": "display_data"
    }
   ],
   "source": [
    "table(genes$cluster)\n"
   ]
  },
  {
   "cell_type": "code",
   "execution_count": 42,
   "id": "934383ee",
   "metadata": {
    "vscode": {
     "languageId": "r"
    }
   },
   "outputs": [],
   "source": [
    "cluster_1 = genes[genes$cluster == 0,]\n",
    "cluster_2 = genes[genes$cluster == 1,]\n",
    "cluster_3 = genes[genes$cluster == 2,]\n"
   ]
  },
  {
   "cell_type": "code",
   "execution_count": 43,
   "id": "fe920f9d",
   "metadata": {
    "vscode": {
     "languageId": "r"
    }
   },
   "outputs": [
    {
     "name": "stderr",
     "output_type": "stream",
     "text": [
      "preparing gene to GO mapping data...\n",
      "\n",
      "preparing IC data...\n",
      "\n"
     ]
    }
   ],
   "source": [
    "hsGO <- godata('org.Hs.eg.db', ont=\"MF\") \n",
    "\n",
    "cluster_1_sims = c() \n",
    "gene = cluster_1$gene\n",
    "for (i in 1:10) {\n",
    "    set1 = sample(gene, size = length(gene)/2) \n",
    "    set2 = setdiff(gene, set1) \n",
    "    cluster_1_sims = c(cluster_1_sims, clusterSim(set1, set2, semData=hsGO, measure=\"Wang\", combine=\"BMA\")) \n",
    "} \n",
    "\n",
    "# Process cluster 2\n",
    "cluster_2_sims = c() \n",
    "gene = cluster_2$gene\n",
    "for (i in 1:10) {\n",
    "    set1 = sample(gene, size = length(gene)/2) \n",
    "    set2 = setdiff(gene, set1) \n",
    "    cluster_2_sims = c(cluster_2_sims, clusterSim(set1, set2, semData=hsGO, measure=\"Wang\", combine=\"BMA\")) \n",
    "} \n",
    "\n",
    "# Process cluster 3\n",
    "cluster_3_sims = c() \n",
    "gene = cluster_3$gene\n",
    "for (i in 1:10) {\n",
    "    set1 = sample(gene, size = length(gene)/2) \n",
    "    set2 = setdiff(gene, set1) \n",
    "    cluster_3_sims = c(cluster_3_sims, clusterSim(set1, set2, semData=hsGO, measure=\"Wang\", combine=\"BMA\")) \n",
    "} \n"
   ]
  },
  {
   "cell_type": "code",
   "execution_count": 44,
   "id": "9716af0f",
   "metadata": {
    "vscode": {
     "languageId": "r"
    }
   },
   "outputs": [
    {
     "data": {
      "text/html": [
       "<style>\n",
       ".list-inline {list-style: none; margin:0; padding: 0}\n",
       ".list-inline>li {display: inline-block}\n",
       ".list-inline>li:not(:last-child)::after {content: \"\\00b7\"; padding: 0 .5ex}\n",
       "</style>\n",
       "<ol class=list-inline><li>0.865</li><li>0.858</li><li>0.854</li><li>0.857</li><li>0.84</li><li>0.857</li><li>0.868</li><li>0.846</li><li>0.85</li><li>0.85</li></ol>\n"
      ],
      "text/latex": [
       "\\begin{enumerate*}\n",
       "\\item 0.865\n",
       "\\item 0.858\n",
       "\\item 0.854\n",
       "\\item 0.857\n",
       "\\item 0.84\n",
       "\\item 0.857\n",
       "\\item 0.868\n",
       "\\item 0.846\n",
       "\\item 0.85\n",
       "\\item 0.85\n",
       "\\end{enumerate*}\n"
      ],
      "text/markdown": [
       "1. 0.865\n",
       "2. 0.858\n",
       "3. 0.854\n",
       "4. 0.857\n",
       "5. 0.84\n",
       "6. 0.857\n",
       "7. 0.868\n",
       "8. 0.846\n",
       "9. 0.85\n",
       "10. 0.85\n",
       "\n",
       "\n"
      ],
      "text/plain": [
       " [1] 0.865 0.858 0.854 0.857 0.840 0.857 0.868 0.846 0.850 0.850"
      ]
     },
     "metadata": {},
     "output_type": "display_data"
    }
   ],
   "source": [
    "cluster_1_sims\n"
   ]
  },
  {
   "cell_type": "code",
   "execution_count": 45,
   "id": "6979fe9e",
   "metadata": {
    "vscode": {
     "languageId": "r"
    }
   },
   "outputs": [
    {
     "data": {
      "text/html": [
       "<style>\n",
       ".list-inline {list-style: none; margin:0; padding: 0}\n",
       ".list-inline>li {display: inline-block}\n",
       ".list-inline>li:not(:last-child)::after {content: \"\\00b7\"; padding: 0 .5ex}\n",
       "</style>\n",
       "<ol class=list-inline><li>0.887</li><li>0.88</li><li>0.883</li><li>0.89</li><li>0.878</li><li>0.894</li><li>0.878</li><li>0.891</li><li>0.885</li><li>0.882</li></ol>\n"
      ],
      "text/latex": [
       "\\begin{enumerate*}\n",
       "\\item 0.887\n",
       "\\item 0.88\n",
       "\\item 0.883\n",
       "\\item 0.89\n",
       "\\item 0.878\n",
       "\\item 0.894\n",
       "\\item 0.878\n",
       "\\item 0.891\n",
       "\\item 0.885\n",
       "\\item 0.882\n",
       "\\end{enumerate*}\n"
      ],
      "text/markdown": [
       "1. 0.887\n",
       "2. 0.88\n",
       "3. 0.883\n",
       "4. 0.89\n",
       "5. 0.878\n",
       "6. 0.894\n",
       "7. 0.878\n",
       "8. 0.891\n",
       "9. 0.885\n",
       "10. 0.882\n",
       "\n",
       "\n"
      ],
      "text/plain": [
       " [1] 0.887 0.880 0.883 0.890 0.878 0.894 0.878 0.891 0.885 0.882"
      ]
     },
     "metadata": {},
     "output_type": "display_data"
    }
   ],
   "source": [
    "cluster_2_sims\n"
   ]
  },
  {
   "cell_type": "code",
   "execution_count": 46,
   "id": "c5d61da9",
   "metadata": {
    "vscode": {
     "languageId": "r"
    }
   },
   "outputs": [
    {
     "data": {
      "text/html": [
       "<style>\n",
       ".list-inline {list-style: none; margin:0; padding: 0}\n",
       ".list-inline>li {display: inline-block}\n",
       ".list-inline>li:not(:last-child)::after {content: \"\\00b7\"; padding: 0 .5ex}\n",
       "</style>\n",
       "<ol class=list-inline><li>0.735</li><li>0.76</li><li>0.718</li><li>0.743</li><li>0.736</li><li>0.715</li><li>0.77</li><li>0.742</li><li>0.761</li><li>0.733</li></ol>\n"
      ],
      "text/latex": [
       "\\begin{enumerate*}\n",
       "\\item 0.735\n",
       "\\item 0.76\n",
       "\\item 0.718\n",
       "\\item 0.743\n",
       "\\item 0.736\n",
       "\\item 0.715\n",
       "\\item 0.77\n",
       "\\item 0.742\n",
       "\\item 0.761\n",
       "\\item 0.733\n",
       "\\end{enumerate*}\n"
      ],
      "text/markdown": [
       "1. 0.735\n",
       "2. 0.76\n",
       "3. 0.718\n",
       "4. 0.743\n",
       "5. 0.736\n",
       "6. 0.715\n",
       "7. 0.77\n",
       "8. 0.742\n",
       "9. 0.761\n",
       "10. 0.733\n",
       "\n",
       "\n"
      ],
      "text/plain": [
       " [1] 0.735 0.760 0.718 0.743 0.736 0.715 0.770 0.742 0.761 0.733"
      ]
     },
     "metadata": {},
     "output_type": "display_data"
    }
   ],
   "source": [
    "cluster_3_sims\n"
   ]
  },
  {
   "cell_type": "code",
   "execution_count": 47,
   "id": "a5de5ea6",
   "metadata": {
    "vscode": {
     "languageId": "r"
    }
   },
   "outputs": [
    {
     "data": {
      "text/html": [
       "<table class=\"dataframe\">\n",
       "<caption>A data.frame: 6 x 9</caption>\n",
       "<thead>\n",
       "\t<tr><th></th><th scope=col>X</th><th scope=col>gene</th><th scope=col>cluster</th><th scope=col>t_stat</th><th scope=col>p_val</th><th scope=col>log2fc</th><th scope=col>mean_cluster</th><th scope=col>mean_others</th><th scope=col>corrected_p_val</th></tr>\n",
       "\t<tr><th></th><th scope=col>&lt;int&gt;</th><th scope=col>&lt;int&gt;</th><th scope=col>&lt;int&gt;</th><th scope=col>&lt;dbl&gt;</th><th scope=col>&lt;dbl&gt;</th><th scope=col>&lt;dbl&gt;</th><th scope=col>&lt;dbl&gt;</th><th scope=col>&lt;dbl&gt;</th><th scope=col>&lt;dbl&gt;</th></tr>\n",
       "</thead>\n",
       "<tbody>\n",
       "\t<tr><th scope=row>1</th><td> 8</td><td>1277</td><td>1</td><td>10.785488</td><td>4.907863e-21</td><td>1.844462</td><td>17.26760</td><td>15.423141</td><td>1.085810e-19</td></tr>\n",
       "\t<tr><th scope=row>2</th><td>16</td><td>1281</td><td>1</td><td>11.640505</td><td>1.559151e-23</td><td>1.999929</td><td>16.66262</td><td>14.662693</td><td>4.585738e-22</td></tr>\n",
       "\t<tr><th scope=row>3</th><td>18</td><td>2335</td><td>1</td><td>10.947164</td><td>7.673115e-22</td><td>2.004439</td><td>15.90464</td><td>13.900196</td><td>1.894596e-20</td></tr>\n",
       "\t<tr><th scope=row>4</th><td>19</td><td>1278</td><td>1</td><td>11.406428</td><td>6.633849e-23</td><td>1.887532</td><td>16.44935</td><td>14.561815</td><td>1.858221e-21</td></tr>\n",
       "\t<tr><th scope=row>5</th><td>27</td><td>4620</td><td>1</td><td>20.663137</td><td>1.173114e-46</td><td>8.388799</td><td>11.76077</td><td> 3.371969</td><td>1.988330e-44</td></tr>\n",
       "\t<tr><th scope=row>6</th><td>29</td><td>4069</td><td>1</td><td> 5.776918</td><td>4.223505e-08</td><td>1.191316</td><td>12.23383</td><td>11.042516</td><td>1.758329e-07</td></tr>\n",
       "</tbody>\n",
       "</table>\n"
      ],
      "text/latex": [
       "A data.frame: 6 x 9\n",
       "\\begin{tabular}{r|lllllllll}\n",
       "  & X & gene & cluster & t\\_stat & p\\_val & log2fc & mean\\_cluster & mean\\_others & corrected\\_p\\_val\\\\\n",
       "  & <int> & <int> & <int> & <dbl> & <dbl> & <dbl> & <dbl> & <dbl> & <dbl>\\\\\n",
       "\\hline\n",
       "\t1 &  8 & 1277 & 1 & 10.785488 & 4.907863e-21 & 1.844462 & 17.26760 & 15.423141 & 1.085810e-19\\\\\n",
       "\t2 & 16 & 1281 & 1 & 11.640505 & 1.559151e-23 & 1.999929 & 16.66262 & 14.662693 & 4.585738e-22\\\\\n",
       "\t3 & 18 & 2335 & 1 & 10.947164 & 7.673115e-22 & 2.004439 & 15.90464 & 13.900196 & 1.894596e-20\\\\\n",
       "\t4 & 19 & 1278 & 1 & 11.406428 & 6.633849e-23 & 1.887532 & 16.44935 & 14.561815 & 1.858221e-21\\\\\n",
       "\t5 & 27 & 4620 & 1 & 20.663137 & 1.173114e-46 & 8.388799 & 11.76077 &  3.371969 & 1.988330e-44\\\\\n",
       "\t6 & 29 & 4069 & 1 &  5.776918 & 4.223505e-08 & 1.191316 & 12.23383 & 11.042516 & 1.758329e-07\\\\\n",
       "\\end{tabular}\n"
      ],
      "text/markdown": [
       "\n",
       "A data.frame: 6 x 9\n",
       "\n",
       "| <!--/--> | X &lt;int&gt; | gene &lt;int&gt; | cluster &lt;int&gt; | t_stat &lt;dbl&gt; | p_val &lt;dbl&gt; | log2fc &lt;dbl&gt; | mean_cluster &lt;dbl&gt; | mean_others &lt;dbl&gt; | corrected_p_val &lt;dbl&gt; |\n",
       "|---|---|---|---|---|---|---|---|---|---|\n",
       "| 1 |  8 | 1277 | 1 | 10.785488 | 4.907863e-21 | 1.844462 | 17.26760 | 15.423141 | 1.085810e-19 |\n",
       "| 2 | 16 | 1281 | 1 | 11.640505 | 1.559151e-23 | 1.999929 | 16.66262 | 14.662693 | 4.585738e-22 |\n",
       "| 3 | 18 | 2335 | 1 | 10.947164 | 7.673115e-22 | 2.004439 | 15.90464 | 13.900196 | 1.894596e-20 |\n",
       "| 4 | 19 | 1278 | 1 | 11.406428 | 6.633849e-23 | 1.887532 | 16.44935 | 14.561815 | 1.858221e-21 |\n",
       "| 5 | 27 | 4620 | 1 | 20.663137 | 1.173114e-46 | 8.388799 | 11.76077 |  3.371969 | 1.988330e-44 |\n",
       "| 6 | 29 | 4069 | 1 |  5.776918 | 4.223505e-08 | 1.191316 | 12.23383 | 11.042516 | 1.758329e-07 |\n",
       "\n"
      ],
      "text/plain": [
       "  X  gene cluster t_stat    p_val        log2fc   mean_cluster mean_others\n",
       "1  8 1277 1       10.785488 4.907863e-21 1.844462 17.26760     15.423141  \n",
       "2 16 1281 1       11.640505 1.559151e-23 1.999929 16.66262     14.662693  \n",
       "3 18 2335 1       10.947164 7.673115e-22 2.004439 15.90464     13.900196  \n",
       "4 19 1278 1       11.406428 6.633849e-23 1.887532 16.44935     14.561815  \n",
       "5 27 4620 1       20.663137 1.173114e-46 8.388799 11.76077      3.371969  \n",
       "6 29 4069 1        5.776918 4.223505e-08 1.191316 12.23383     11.042516  \n",
       "  corrected_p_val\n",
       "1 1.085810e-19   \n",
       "2 4.585738e-22   \n",
       "3 1.894596e-20   \n",
       "4 1.858221e-21   \n",
       "5 1.988330e-44   \n",
       "6 1.758329e-07   "
      ]
     },
     "metadata": {},
     "output_type": "display_data"
    }
   ],
   "source": [
    "genes = read.csv('/Users/harrisonma/Documents/PhD Classes/2025 Spring/BNFO 285/BNFO285_Projects/project_1/Harrison/DEGs/res_pca_DEGs.csv')\n",
    "head(genes)\n"
   ]
  },
  {
   "cell_type": "code",
   "execution_count": 48,
   "id": "c0925335",
   "metadata": {
    "vscode": {
     "languageId": "r"
    }
   },
   "outputs": [
    {
     "data": {
      "text/plain": [
       "\n",
       "  0   1   2   3   4 \n",
       "204 220  91  54  93 "
      ]
     },
     "metadata": {},
     "output_type": "display_data"
    }
   ],
   "source": [
    "table(genes$cluster)\n"
   ]
  },
  {
   "cell_type": "code",
   "execution_count": null,
   "id": "99d30a27",
   "metadata": {
    "vscode": {
     "languageId": "r"
    }
   },
   "outputs": [],
   "source": [
    "cluster_1 = genes[genes$cluster == 0,]\n",
    "cluster_2 = genes[genes$cluster == 1,]\n",
    "cluster_3 = genes[genes$cluster == 2,]\n",
    "cluster_4 = genes[genes$cluster == 3,]\n",
    "cluster_5 = genes[genes$cluster == 4,]\n"
   ]
  },
  {
   "cell_type": "code",
   "execution_count": 50,
   "id": "8a1b0042",
   "metadata": {
    "vscode": {
     "languageId": "r"
    }
   },
   "outputs": [
    {
     "name": "stderr",
     "output_type": "stream",
     "text": [
      "preparing gene to GO mapping data...\n",
      "\n",
      "preparing IC data...\n",
      "\n"
     ]
    }
   ],
   "source": [
    "hsGO <- godata('org.Hs.eg.db', ont=\"MF\") \n",
    "\n",
    "cluster_1_sims = c() \n",
    "gene = cluster_1$gene\n",
    "for (i in 1:10) {\n",
    "    set1 = sample(gene, size = length(gene)/2) \n",
    "    set2 = setdiff(gene, set1) \n",
    "    cluster_1_sims = c(cluster_1_sims, clusterSim(set1, set2, semData=hsGO, measure=\"Wang\", combine=\"BMA\")) \n",
    "} \n",
    "\n",
    "# Process cluster 2\n",
    "cluster_2_sims = c() \n",
    "gene = cluster_2$gene\n",
    "for (i in 1:10) {\n",
    "    set1 = sample(gene, size = length(gene)/2) \n",
    "    set2 = setdiff(gene, set1) \n",
    "    cluster_2_sims = c(cluster_2_sims, clusterSim(set1, set2, semData=hsGO, measure=\"Wang\", combine=\"BMA\")) \n",
    "} \n",
    "\n",
    "# Process cluster 3\n",
    "cluster_3_sims = c() \n",
    "gene = cluster_3$gene\n",
    "for (i in 1:10) {\n",
    "    set1 = sample(gene, size = length(gene)/2) \n",
    "    set2 = setdiff(gene, set1) \n",
    "    cluster_3_sims = c(cluster_3_sims, clusterSim(set1, set2, semData=hsGO, measure=\"Wang\", combine=\"BMA\")) \n",
    "} \n",
    "\n",
    "cluster_4_sims = c() \n",
    "gene = cluster_2$gene\n",
    "for (i in 1:10) {\n",
    "    set1 = sample(gene, size = length(gene)/2) \n",
    "    set2 = setdiff(gene, set1) \n",
    "    cluster_4_sims = c(cluster_4_sims, clusterSim(set1, set2, semData=hsGO, measure=\"Wang\", combine=\"BMA\")) \n",
    "} \n",
    "\n",
    "# Process cluster 3\n",
    "cluster_5_sims = c() \n",
    "gene = cluster_3$gene\n",
    "for (i in 1:10) {\n",
    "    set1 = sample(gene, size = length(gene)/2) \n",
    "    set2 = setdiff(gene, set1) \n",
    "    cluster_5_sims = c(cluster_5_sims, clusterSim(set1, set2, semData=hsGO, measure=\"Wang\", combine=\"BMA\")) \n",
    "} \n"
   ]
  },
  {
   "cell_type": "code",
   "execution_count": 51,
   "id": "3795da9c",
   "metadata": {
    "vscode": {
     "languageId": "r"
    }
   },
   "outputs": [
    {
     "data": {
      "text/html": [
       "<style>\n",
       ".list-inline {list-style: none; margin:0; padding: 0}\n",
       ".list-inline>li {display: inline-block}\n",
       ".list-inline>li:not(:last-child)::after {content: \"\\00b7\"; padding: 0 .5ex}\n",
       "</style>\n",
       "<ol class=list-inline><li>0.878</li><li>0.879</li><li>0.866</li><li>0.876</li><li>0.875</li><li>0.884</li><li>0.865</li><li>0.856</li><li>0.884</li><li>0.873</li></ol>\n"
      ],
      "text/latex": [
       "\\begin{enumerate*}\n",
       "\\item 0.878\n",
       "\\item 0.879\n",
       "\\item 0.866\n",
       "\\item 0.876\n",
       "\\item 0.875\n",
       "\\item 0.884\n",
       "\\item 0.865\n",
       "\\item 0.856\n",
       "\\item 0.884\n",
       "\\item 0.873\n",
       "\\end{enumerate*}\n"
      ],
      "text/markdown": [
       "1. 0.878\n",
       "2. 0.879\n",
       "3. 0.866\n",
       "4. 0.876\n",
       "5. 0.875\n",
       "6. 0.884\n",
       "7. 0.865\n",
       "8. 0.856\n",
       "9. 0.884\n",
       "10. 0.873\n",
       "\n",
       "\n"
      ],
      "text/plain": [
       " [1] 0.878 0.879 0.866 0.876 0.875 0.884 0.865 0.856 0.884 0.873"
      ]
     },
     "metadata": {},
     "output_type": "display_data"
    }
   ],
   "source": [
    "cluster_1_sims\n"
   ]
  },
  {
   "cell_type": "code",
   "execution_count": 52,
   "id": "3e60c19b",
   "metadata": {
    "vscode": {
     "languageId": "r"
    }
   },
   "outputs": [
    {
     "data": {
      "text/html": [
       "<style>\n",
       ".list-inline {list-style: none; margin:0; padding: 0}\n",
       ".list-inline>li {display: inline-block}\n",
       ".list-inline>li:not(:last-child)::after {content: \"\\00b7\"; padding: 0 .5ex}\n",
       "</style>\n",
       "<ol class=list-inline><li>0.89</li><li>0.891</li><li>0.89</li><li>0.873</li><li>0.877</li><li>0.895</li><li>0.884</li><li>0.878</li><li>0.902</li><li>0.893</li></ol>\n"
      ],
      "text/latex": [
       "\\begin{enumerate*}\n",
       "\\item 0.89\n",
       "\\item 0.891\n",
       "\\item 0.89\n",
       "\\item 0.873\n",
       "\\item 0.877\n",
       "\\item 0.895\n",
       "\\item 0.884\n",
       "\\item 0.878\n",
       "\\item 0.902\n",
       "\\item 0.893\n",
       "\\end{enumerate*}\n"
      ],
      "text/markdown": [
       "1. 0.89\n",
       "2. 0.891\n",
       "3. 0.89\n",
       "4. 0.873\n",
       "5. 0.877\n",
       "6. 0.895\n",
       "7. 0.884\n",
       "8. 0.878\n",
       "9. 0.902\n",
       "10. 0.893\n",
       "\n",
       "\n"
      ],
      "text/plain": [
       " [1] 0.890 0.891 0.890 0.873 0.877 0.895 0.884 0.878 0.902 0.893"
      ]
     },
     "metadata": {},
     "output_type": "display_data"
    }
   ],
   "source": [
    "cluster_2_sims\n"
   ]
  },
  {
   "cell_type": "code",
   "execution_count": 53,
   "id": "fc6991d3",
   "metadata": {
    "vscode": {
     "languageId": "r"
    }
   },
   "outputs": [
    {
     "data": {
      "text/html": [
       "<style>\n",
       ".list-inline {list-style: none; margin:0; padding: 0}\n",
       ".list-inline>li {display: inline-block}\n",
       ".list-inline>li:not(:last-child)::after {content: \"\\00b7\"; padding: 0 .5ex}\n",
       "</style>\n",
       "<ol class=list-inline><li>0.757</li><li>0.782</li><li>0.774</li><li>0.788</li><li>0.811</li><li>0.77</li><li>0.793</li><li>0.746</li><li>0.749</li><li>0.788</li></ol>\n"
      ],
      "text/latex": [
       "\\begin{enumerate*}\n",
       "\\item 0.757\n",
       "\\item 0.782\n",
       "\\item 0.774\n",
       "\\item 0.788\n",
       "\\item 0.811\n",
       "\\item 0.77\n",
       "\\item 0.793\n",
       "\\item 0.746\n",
       "\\item 0.749\n",
       "\\item 0.788\n",
       "\\end{enumerate*}\n"
      ],
      "text/markdown": [
       "1. 0.757\n",
       "2. 0.782\n",
       "3. 0.774\n",
       "4. 0.788\n",
       "5. 0.811\n",
       "6. 0.77\n",
       "7. 0.793\n",
       "8. 0.746\n",
       "9. 0.749\n",
       "10. 0.788\n",
       "\n",
       "\n"
      ],
      "text/plain": [
       " [1] 0.757 0.782 0.774 0.788 0.811 0.770 0.793 0.746 0.749 0.788"
      ]
     },
     "metadata": {},
     "output_type": "display_data"
    }
   ],
   "source": [
    "cluster_3_sims\n"
   ]
  },
  {
   "cell_type": "code",
   "execution_count": 54,
   "id": "fdf779ac",
   "metadata": {
    "vscode": {
     "languageId": "r"
    }
   },
   "outputs": [
    {
     "data": {
      "text/html": [
       "<style>\n",
       ".list-inline {list-style: none; margin:0; padding: 0}\n",
       ".list-inline>li {display: inline-block}\n",
       ".list-inline>li:not(:last-child)::after {content: \"\\00b7\"; padding: 0 .5ex}\n",
       "</style>\n",
       "<ol class=list-inline><li>0.886</li><li>0.898</li><li>0.887</li><li>0.874</li><li>0.882</li><li>0.899</li><li>0.896</li><li>0.897</li><li>0.882</li><li>0.871</li></ol>\n"
      ],
      "text/latex": [
       "\\begin{enumerate*}\n",
       "\\item 0.886\n",
       "\\item 0.898\n",
       "\\item 0.887\n",
       "\\item 0.874\n",
       "\\item 0.882\n",
       "\\item 0.899\n",
       "\\item 0.896\n",
       "\\item 0.897\n",
       "\\item 0.882\n",
       "\\item 0.871\n",
       "\\end{enumerate*}\n"
      ],
      "text/markdown": [
       "1. 0.886\n",
       "2. 0.898\n",
       "3. 0.887\n",
       "4. 0.874\n",
       "5. 0.882\n",
       "6. 0.899\n",
       "7. 0.896\n",
       "8. 0.897\n",
       "9. 0.882\n",
       "10. 0.871\n",
       "\n",
       "\n"
      ],
      "text/plain": [
       " [1] 0.886 0.898 0.887 0.874 0.882 0.899 0.896 0.897 0.882 0.871"
      ]
     },
     "metadata": {},
     "output_type": "display_data"
    }
   ],
   "source": [
    "cluster_4_sims\n"
   ]
  },
  {
   "cell_type": "code",
   "execution_count": 55,
   "id": "eaed42d0",
   "metadata": {
    "vscode": {
     "languageId": "r"
    }
   },
   "outputs": [
    {
     "data": {
      "text/html": [
       "<style>\n",
       ".list-inline {list-style: none; margin:0; padding: 0}\n",
       ".list-inline>li {display: inline-block}\n",
       ".list-inline>li:not(:last-child)::after {content: \"\\00b7\"; padding: 0 .5ex}\n",
       "</style>\n",
       "<ol class=list-inline><li>0.733</li><li>0.775</li><li>0.779</li><li>0.74</li><li>0.759</li><li>0.809</li><li>0.767</li><li>0.791</li><li>0.755</li><li>0.764</li></ol>\n"
      ],
      "text/latex": [
       "\\begin{enumerate*}\n",
       "\\item 0.733\n",
       "\\item 0.775\n",
       "\\item 0.779\n",
       "\\item 0.74\n",
       "\\item 0.759\n",
       "\\item 0.809\n",
       "\\item 0.767\n",
       "\\item 0.791\n",
       "\\item 0.755\n",
       "\\item 0.764\n",
       "\\end{enumerate*}\n"
      ],
      "text/markdown": [
       "1. 0.733\n",
       "2. 0.775\n",
       "3. 0.779\n",
       "4. 0.74\n",
       "5. 0.759\n",
       "6. 0.809\n",
       "7. 0.767\n",
       "8. 0.791\n",
       "9. 0.755\n",
       "10. 0.764\n",
       "\n",
       "\n"
      ],
      "text/plain": [
       " [1] 0.733 0.775 0.779 0.740 0.759 0.809 0.767 0.791 0.755 0.764"
      ]
     },
     "metadata": {},
     "output_type": "display_data"
    }
   ],
   "source": [
    "cluster_5_sims\n"
   ]
  },
  {
   "cell_type": "code",
   "execution_count": null,
   "id": "dbe06b7f",
   "metadata": {
    "vscode": {
     "languageId": "r"
    }
   },
   "outputs": [],
   "source": []
  }
 ],
 "metadata": {
  "kernelspec": {
   "display_name": "R",
   "language": "R",
   "name": "ir"
  },
  "language_info": {
   "codemirror_mode": "r",
   "file_extension": ".r",
   "mimetype": "text/x-r-source",
   "name": "R",
   "pygments_lexer": "r",
   "version": "4.3.0"
  }
 },
 "nbformat": 4,
 "nbformat_minor": 5
}
