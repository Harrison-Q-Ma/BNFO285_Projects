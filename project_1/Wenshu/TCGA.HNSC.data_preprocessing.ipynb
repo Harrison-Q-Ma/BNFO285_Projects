{
 "cells": [
  {
   "cell_type": "code",
   "execution_count": 1,
   "metadata": {},
   "outputs": [],
   "source": [
    "import pandas as pd\n",
    "import numpy as np"
   ]
  },
  {
   "cell_type": "code",
   "execution_count": 2,
   "metadata": {},
   "outputs": [],
   "source": [
    "# Read in expression data\n",
    "RNA_dat = pd.read_csv(\"~/Desktop/TCGA.HNSC.expression.txt\", sep=\"\\t\")"
   ]
  },
  {
   "cell_type": "code",
   "execution_count": 6,
   "metadata": {},
   "outputs": [],
   "source": [
    "# Remove normal samples by extracting the fourth element from the sample_id split by '-'\n",
    "# Note: In R, columns are 1-indexed; here, we access index 3 (zero-indexed)\n",
    "sample_encode = RNA_dat['sample_id'].str.split('-').str[3]\n",
    "\n",
    "normal_samples = ~sample_encode.str.contains(\"01\")\n",
    "tumor_samples = ~sample_encode.str.contains(\"11\")\n",
    "\n",
    "RNA_normal = RNA_dat[normal_samples]\n",
    "RNA_tumor = RNA_dat[tumor_samples]"
   ]
  },
  {
   "cell_type": "code",
   "execution_count": 14,
   "metadata": {},
   "outputs": [],
   "source": [
    "# Log2(x+1) transformation to reduce skewness\n",
    "expr_columns = RNA_tumor.columns[2:]\n",
    "RNA_log_normal = RNA_normal.copy()\n",
    "RNA_log_tumor = RNA_tumor.copy()\n",
    "RNA_log_all = RNA_dat.copy()\n",
    "# Apply log transformation to the expression columns\n",
    "RNA_log_normal[expr_columns] = RNA_normal.iloc[:, 2:].applymap(lambda x: np.log2(x + 1))\n",
    "RNA_log_normal.to_csv(\"~/Desktop/TCGA.HNSC.expression_log_normal.txt\", sep=\"\\t\", index=False)\n",
    "\n",
    "RNA_log_tumor[expr_columns] = RNA_tumor.iloc[:, 2:].applymap(lambda x: np.log2(x + 1))\n",
    "RNA_log_tumor.to_csv(\"~/Desktop/TCGA.HNSC.expression_log_tumor.txt\", sep=\"\\t\", index=False)\n",
    "\n",
    "RNA_log_all[expr_columns] = RNA_dat.iloc[:, 2:].applymap(lambda x: np.log2(x + 1))\n",
    "RNA_log_all.to_csv(\"~/Desktop/TCGA.HNSC.expression_log_all.txt\", sep=\"\\t\", index=False)"
   ]
  },
  {
   "cell_type": "code",
   "execution_count": 12,
   "metadata": {},
   "outputs": [],
   "source": [
    "# Z-score normalization by gene (i.e., column-wise normalization)\n",
    "RNA_norm_normal = RNA_log_normal.copy()\n",
    "RNA_norm_tumor = RNA_log_tumor.copy()\n",
    "RNA_norm_all = RNA_log_all.copy()\n",
    "\n",
    "RNA_norm_normal[expr_columns] = RNA_log_normal[expr_columns].apply(lambda x: (x - x.mean()) / x.std(), axis=0)\n",
    "RNA_norm_tumor[expr_columns] = RNA_log_tumor[expr_columns].apply(lambda x: (x - x.mean()) / x.std(), axis=0)\n",
    "RNA_norm_all[expr_columns] = RNA_log_all[expr_columns].apply(lambda x: (x - x.mean()) / x.std(), axis=0)\n",
    "\n",
    "RNA_norm_normal.to_csv(\"~/Desktop/TCGA.HNSC.expression_log_zscore_normal.txt\", sep=\"\\t\", index=False)\n",
    "RNA_norm_tumor.to_csv(\"~/Desktop/TCGA.HNSC.expression_log_zscore_tumor.txt\", sep=\"\\t\", index=False)\n",
    "RNA_norm_all.to_csv(\"~/Desktop/TCGA.HNSC.expression_log_zscore_all.txt\", sep=\"\\t\", index=False)"
   ]
  }
 ],
 "metadata": {
  "kernelspec": {
   "display_name": "py_env",
   "language": "python",
   "name": "python3"
  },
  "language_info": {
   "codemirror_mode": {
    "name": "ipython",
    "version": 3
   },
   "file_extension": ".py",
   "mimetype": "text/x-python",
   "name": "python",
   "nbconvert_exporter": "python",
   "pygments_lexer": "ipython3",
   "version": "3.11.10"
  }
 },
 "nbformat": 4,
 "nbformat_minor": 2
}
