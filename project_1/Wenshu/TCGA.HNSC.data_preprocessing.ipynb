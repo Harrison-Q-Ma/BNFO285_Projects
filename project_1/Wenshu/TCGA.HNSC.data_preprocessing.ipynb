{
 "cells": [
  {
   "cell_type": "code",
   "execution_count": 2,
   "metadata": {},
   "outputs": [],
   "source": [
    "import pandas as pd\n",
    "import numpy as np"
   ]
  },
  {
   "cell_type": "code",
   "execution_count": 4,
   "metadata": {},
   "outputs": [],
   "source": [
    "# Read in expression data\n",
    "RNA_dat = pd.read_csv(\"~/Desktop/TCGA.HNSC.expression.txt\", sep=\"\\t\")"
   ]
  },
  {
   "cell_type": "code",
   "execution_count": 6,
   "metadata": {},
   "outputs": [],
   "source": [
    "# Remove normal samples by extracting the fourth element from the sample_id split by '-'\n",
    "# Note: In R, columns are 1-indexed; here, we access index 3 (zero-indexed)\n",
    "sample_encode = RNA_dat['sample_id'].str.split('-').str[3]\n",
    "\n",
    "normal_samples = ~sample_encode.str.contains(\"01\")\n",
    "tumor_samples = ~sample_encode.str.contains(\"11\")\n",
    "\n",
    "RNA_normal = RNA_dat[normal_samples]\n",
    "RNA_tumor = RNA_dat[tumor_samples]"
   ]
  },
  {
   "cell_type": "code",
   "execution_count": 7,
   "metadata": {},
   "outputs": [],
   "source": [
    "# Log2(x+1) transformation to reduce skewness\n",
    "RNA_log_normal = RNA_normal.iloc[:, 2:].applymap(lambda x: np.log2(x + 1))\n",
    "RNA_log_normal.to_csv(\"~/Desktop/TCGA.HNSC.expression_log_normal.txt\", sep=\"\\t\", index=False)\n",
    "\n",
    "RNA_log_tumor = RNA_tumor.iloc[:, 2:].applymap(lambda x: np.log2(x + 1))\n",
    "RNA_log_tumor.to_csv(\"~/Desktop/TCGA.HNSC.expression_log_tumor.txt\", sep=\"\\t\", index=False)\n",
    "\n",
    "RNA_log_all = RNA_dat.iloc[:, 2:].applymap(lambda x: np.log2(x + 1))\n",
    "RNA_log_all.to_csv(\"~/Desktop/TCGA.HNSC.expression_log_all.txt\", sep=\"\\t\", index=False)"
   ]
  },
  {
   "cell_type": "code",
   "execution_count": null,
   "metadata": {},
   "outputs": [
    {
     "name": "stderr",
     "output_type": "stream",
     "text": [
      "/var/folders/_k/b8vsv8097ss3sxnsdwkx1y_80000gn/T/ipykernel_82663/2325780402.py:6: SettingWithCopyWarning: \n",
      "A value is trying to be set on a copy of a slice from a DataFrame.\n",
      "Try using .loc[row_indexer,col_indexer] = value instead\n",
      "\n",
      "See the caveats in the documentation: https://pandas.pydata.org/pandas-docs/stable/user_guide/indexing.html#returning-a-view-versus-a-copy\n",
      "  RNA_normal.iloc[:, 2:] = RNA_norm_normal\n",
      "/var/folders/_k/b8vsv8097ss3sxnsdwkx1y_80000gn/T/ipykernel_82663/2325780402.py:7: SettingWithCopyWarning: \n",
      "A value is trying to be set on a copy of a slice from a DataFrame.\n",
      "Try using .loc[row_indexer,col_indexer] = value instead\n",
      "\n",
      "See the caveats in the documentation: https://pandas.pydata.org/pandas-docs/stable/user_guide/indexing.html#returning-a-view-versus-a-copy\n",
      "  RNA_tumor.iloc[:, 2:] = RNA_norm_tumor\n"
     ]
    }
   ],
   "source": [
    "# Z-score normalization by gene (i.e., column-wise normalization)\n",
    "RNA_norm_normal = RNA_log_normal.apply(lambda x: (x - x.mean()) / x.std(), axis=0)\n",
    "RNA_norm_tumor = RNA_log_tumor.apply(lambda x: (x - x.mean()) / x.std(), axis=0)\n",
    "RNA_norm_all = RNA_log_all.apply(lambda x: (x - x.mean()) / x.std(), axis=0)\n",
    "# Replace the original expression columns with the z-scored data\n",
    "RNA_normal.iloc[:, 2:] = RNA_norm_normal\n",
    "RNA_tumor.iloc[:, 2:] = RNA_norm_tumor\n",
    "RNA_dat.iloc[:, 2:] = RNA_norm_all\n",
    "\n",
    "RNA_normal.to_csv(\"~/Desktop/TCGA.HNSC.expression_log_zscore_normal.txt\", sep=\"\\t\", index=False)\n",
    "RNA_tumor.to_csv(\"~/Desktop/TCGA.HNSC.expression_log_zscore_tumor.txt\", sep=\"\\t\", index=False)\n",
    "RNA_dat.to_csv(\"~/Desktop/TCGA.HNSC.expression_log_zscore_all.txt\", sep=\"\\t\", index=False)"
   ]
  }
 ],
 "metadata": {
  "kernelspec": {
   "display_name": "py_env",
   "language": "python",
   "name": "python3"
  },
  "language_info": {
   "codemirror_mode": {
    "name": "ipython",
    "version": 3
   },
   "file_extension": ".py",
   "mimetype": "text/x-python",
   "name": "python",
   "nbconvert_exporter": "python",
   "pygments_lexer": "ipython3",
   "version": "3.11.10"
  }
 },
 "nbformat": 4,
 "nbformat_minor": 2
}
