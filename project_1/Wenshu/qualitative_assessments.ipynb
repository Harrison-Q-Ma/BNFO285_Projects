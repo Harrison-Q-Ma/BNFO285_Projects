{
 "cells": [
  {
   "cell_type": "code",
   "execution_count": null,
   "metadata": {},
   "outputs": [],
   "source": [
    "# Read data\n",
    "# Survival, tumor stage, tumor sites, subtypes, age\n"
   ]
  },
  {
   "cell_type": "code",
   "execution_count": null,
   "metadata": {},
   "outputs": [],
   "source": [
    "# ------------------------------\n",
    "# Kaplan-Meier Estimation and Visualization\n",
    "# ------------------------------\n",
    "kmf = KaplanMeierFitter()\n",
    "\n",
    "plt.figure(figsize=(8,6))\n",
    "for cluster_name, cluster_df in df.groupby('cluster'):\n",
    "    kmf.fit(cluster_df['time'], event_observed=cluster_df['event'], label=cluster_name)\n",
    "    kmf.plot_survival_function(ci_show=True)  # Plot survival function with confidence intervals\n",
    "\n",
    "plt.title(\"Kaplan-Meier Survival Curves by Cluster\")\n",
    "plt.xlabel(\"Time\")\n",
    "plt.ylabel(\"Survival Probability\")\n",
    "plt.legend(title=\"Cluster\")\n",
    "plt.show()\n",
    "\n",
    "# ------------------------------\n",
    "# Log-Rank Test for Comparing Survival Curves\n",
    "# ------------------------------\n",
    "# Here we assume two groups; for more than two, consider a multivariate comparison.\n",
    "cluster1 = df[df['cluster'] == 'Cluster1']\n",
    "cluster2 = df[df['cluster'] == 'Cluster2']\n",
    "\n",
    "logrank_results = logrank_test(\n",
    "    cluster1['time'], cluster2['time'],\n",
    "    event_observed_A=cluster1['event'],\n",
    "    event_observed_B=cluster2['event']\n",
    ")\n",
    "\n",
    "print(\"Log-Rank Test p-value:\", logrank_results.p_value)\n",
    "\n",
    "# ------------------------------\n",
    "# Cox Proportional Hazards Model for Hazard Ratios\n",
    "# ------------------------------\n",
    "# For the Cox model, we need to encode the categorical \"cluster\" variable.\n",
    "# Here we create dummy variables; note that drop_first=True sets one cluster as reference.\n",
    "df_encoded = pd.get_dummies(df[['cluster']], drop_first=True)\n",
    "# Combine with the survival data\n",
    "df_model = pd.concat([df[['time', 'event']], df_encoded], axis=1)\n",
    "\n",
    "cph = CoxPHFitter()\n",
    "cph.fit(df_model, duration_col='time', event_col='event')\n",
    "cph.print_summary()"
   ]
  },
  {
   "cell_type": "code",
   "execution_count": null,
   "metadata": {},
   "outputs": [],
   "source": [
    "# ============================================================\n",
    "# Creating Stacked Bar Plots for Each Categorical Variable\n",
    "# ============================================================\n",
    "# We will produce one stacked bar plot per variable.\n",
    "# In each plot the x-axis corresponds to the groups (here: clusters)\n",
    "# and the bars show the relative percentages of each category for the variable.\n",
    "\n",
    "variables = ['tumor_stage', 'tumor_site', 'subtype']\n",
    "\n",
    "# Create one subplot per variable\n",
    "fig, axes = plt.subplots(1, len(variables), figsize=(6 * len(variables), 6))\n",
    "\n",
    "# Iterate over the variables and plot each as a stacked bar chart\n",
    "for ax, var in zip(axes, variables):\n",
    "    # Create a contingency table of cluster vs the current variable.\n",
    "    # The option normalize='index' computes the proportions within each cluster,\n",
    "    # and multiplying by 100 converts those to percentages.\n",
    "    ct = pd.crosstab(df['cluster'], df[var], normalize='index') * 100\n",
    "    \n",
    "    # Plot the stacked bar chart.\n",
    "    ct.plot(kind='bar', stacked=True, ax=ax)\n",
    "    \n",
    "    # Set labels and title.\n",
    "    ax.set_ylabel('Percentage')\n",
    "    ax.set_title(f'{var.capitalize()} Distribution by Cluster')\n",
    "    \n",
    "    # Place the legend outside for better readability.\n",
    "    ax.legend(title=var, bbox_to_anchor=(1.05, 1), loc='upper left')\n",
    "\n",
    "# Improve layout so the subplots don’t overlap.\n",
    "plt.tight_layout()\n",
    "plt.show()"
   ]
  },
  {
   "cell_type": "code",
   "execution_count": null,
   "metadata": {},
   "outputs": [],
   "source": [
    "# ============================================================\n",
    "# Create Boxplot: Age distribution by Cluster\n",
    "# ============================================================\n",
    "plt.figure(figsize=(8, 6))\n",
    "sns.boxplot(x='cluster', y='age', data=df)\n",
    "plt.title('Age Distribution by Cluster')\n",
    "plt.xlabel('Cluster')\n",
    "plt.ylabel('Age')\n",
    "plt.show()"
   ]
  }
 ],
 "metadata": {
  "language_info": {
   "name": "python"
  }
 },
 "nbformat": 4,
 "nbformat_minor": 2
}
