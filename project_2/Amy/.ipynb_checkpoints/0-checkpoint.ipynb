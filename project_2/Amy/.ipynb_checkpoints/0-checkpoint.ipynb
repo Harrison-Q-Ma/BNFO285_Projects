{
 "cells": [
  {
   "cell_type": "code",
   "execution_count": 1,
   "id": "c561e8ef-cdf6-4e79-a62e-6a52ed30af67",
   "metadata": {},
   "outputs": [],
   "source": [
    "import numpy as np\n",
    "import pandas as pd\n",
    "from pathlib import Path"
   ]
  },
  {
   "cell_type": "code",
   "execution_count": 2,
   "id": "5b8bf741-4d71-40f1-945c-2cfe7625f6fd",
   "metadata": {},
   "outputs": [],
   "source": [
    "# Load File\n",
    "DATA_PATH = Path('../../Data/')\n",
    "data = pd.read_csv(Path(DATA_PATH, 'Original/TCGA.HNSC.expression.txt'), sep = '\\t').fillna(\"NaN\")\n",
    "metadata = pd.read_csv(Path(DATA_PATH, 'Original/TCGA.HNSC.metadata.txt'), sep = '\\t').fillna(\"NaN\")"
   ]
  },
  {
   "cell_type": "code",
   "execution_count": 3,
   "id": "76f1f65a-6c7f-4737-a55d-de7b3e2b426a",
   "metadata": {},
   "outputs": [],
   "source": [
    "mutations = pd.read_csv(Path(DATA_PATH, 'Original/TCGA.HNSC.mutations.txt'), sep = '\\t').fillna(\"NaN\")"
   ]
  },
  {
   "cell_type": "markdown",
   "id": "8260f693-6202-4e5d-8ec4-57bf0d5d8290",
   "metadata": {},
   "source": [
    "### gene_length"
   ]
  },
  {
   "cell_type": "code",
   "execution_count": 64,
   "id": "8a789e9d-8cdc-4a1e-9c5b-a6bed8bfe4ff",
   "metadata": {},
   "outputs": [
    {
     "name": "stderr",
     "output_type": "stream",
     "text": [
      "Input sequence provided is already in string format. No operation performed\n",
      "Input sequence provided is already in string format. No operation performed\n",
      "280 input query terms found dup hits:\t[('ZNF702P', 2), ('MALAT1', 2), ('ADAM21P1', 2), ('FAR2P1', 3), ('IGHV4-34', 2), ('IGHV3-48', 2), ('\n",
      "1373 input query terms found no hit:\t['WAPAL', 'SRPR', 'FAM27L', 'ZNF724P', 'PTCHD2', 'HIST3H2A', 'PAK7', 'SSFA2', 'C2orf53', 'BAI1', 'TM\n"
     ]
    }
   ],
   "source": [
    "import mygene\n",
    "\n",
    "mg = mygene.MyGeneInfo()\n",
    "genes = mutations['Hugo_Symbol'].unique().tolist()\n",
    "gene_data = mg.querymany(genes, scopes='symbol', fields='genomic_pos', species='human')\n",
    "gene_df = gene_df[gene_df['notfound'] != True]\n",
    "def sum_all_lengths(pos):\n",
    "    if isinstance(pos, dict):\n",
    "        return pos['end'] - pos['start']\n",
    "    elif isinstance(pos, list):\n",
    "        return sum([entry['end'] - entry['start'] for entry in pos if 'start' in entry and 'end' in entry])\n",
    "    return None\n",
    "gene_df['total_length'] = gene_df['genomic_pos'].apply(sum_all_lengths)\n",
    "\n",
    "gene_df.to_csv(Path(DATA_PATH, 'annotations/gene_length.csv'), index=False)"
   ]
  },
  {
   "cell_type": "code",
   "execution_count": 72,
   "id": "896bf921-ffa3-44d2-81b1-503394bf12fd",
   "metadata": {},
   "outputs": [],
   "source": [
    "gene_df.to_csv(Path(DATA_PATH, 'annotations/gene_length.csv'), index=False)"
   ]
  },
  {
   "cell_type": "code",
   "execution_count": 68,
   "id": "def3da9a-28d4-461b-bd0b-f90566e9491e",
   "metadata": {},
   "outputs": [],
   "source": [
    "mutations = pd.read_csv(Path('../project_2_data/TCGA_HNSC_mutations_cleaned.txt'), sep='\\t')"
   ]
  },
  {
   "cell_type": "code",
   "execution_count": 70,
   "id": "3feec80b-9acf-4605-8adf-cb6ff66b79f9",
   "metadata": {},
   "outputs": [],
   "source": [
    "genes = mutations['Hugo_Symbol'].unique().tolist()"
   ]
  },
  {
   "cell_type": "code",
   "execution_count": 71,
   "id": "d0aaecfc-8847-4fc0-ad9a-0dfd0fb7d6b3",
   "metadata": {},
   "outputs": [
    {
     "name": "stdout",
     "output_type": "stream",
     "text": [
      "1244 genes missing:\n",
      "['WAPAL', 'SRPR', 'FAM27L', 'ZNF724P', 'PTCHD2', 'HIST3H2A', 'SSFA2', 'C2orf53', 'BAI1', 'TMEM2', 'SEPT12', 'PPAP2B', 'LPHN2', 'PCDP1', 'GPR115', 'BAI3', 'ZNF259', 'MAATS1', 'C6orf48', 'C8orf59', 'ARMC4', 'ADRBK1', 'ARNTL2', 'AC116165.1', 'KIAA1024', 'CIRH1A', 'TBC1D27', 'NOTCH2NL', 'OR2W5', 'C1orf168', 'C1orf173', 'KIAA1211L', 'GPR128', 'C3orf84', 'C4orf3', 'KIAA1211', 'FYB', 'KIAA1244', 'GPR116', 'CCDC132', 'FAM122A', 'KIAA1279', 'CCDC64', 'PCNX', 'CRAMP1L', 'MYLPF', 'MARCH10', 'C18orf21', 'MARCH7', 'GPR113', 'CRIPAK', 'MLLT4', 'HIST1H1B', 'NAPRT1', 'KIAA1429', 'C9orf131', 'LINC01155', 'MGEA5', 'FAM196A', 'ADAL', 'C16orf70', 'AC011467.1', 'C1orf158', 'C1orf65', 'KIAA1522', 'LPPR5', 'C20orf26', 'AC008268.2', 'FAM194A', 'KIAA1109', 'SPATA5', 'GUCY1A3', 'C4orf45', 'AC005609.1', 'C5orf38', 'GPR98', 'HIST1H1T', 'GBAS', 'C7orf26', 'PALM2-AKAP2', 'TMEM8C', 'IARS', 'BHLHB9', 'GPR112', 'KIAA2022', 'FAM134C', 'CCBL2', 'PROL1', 'HIST1H2AA', 'C6ORF165', 'C10orf111', 'KDELC2', 'FAM101A', 'SSPO', 'CCDC147', 'KIAA1462', 'FBXO18', 'C12orf45', 'C12orf49', 'RP13-977J11.5', 'C12orf39', 'ATP5G2', 'METTL21B', 'KIAA0391', 'SPATA5L1', 'KIAA1199', 'FAM154B', 'RP11-20I23.1', 'CCDC135', 'RP11-252A24.2', 'LRRC48', 'TBC1D29', 'SEPT9', 'SUV420H2', 'HIST2H3D', 'HIST2H2AB', 'FAM129A', 'UFD1L', 'H1F0', 'TTC30B', 'C2orf62', 'C2orf44', 'C2orf71', 'C3orf58', 'C4orf21', 'C5orf51', 'GPR110', 'TCEB1', 'RNF165', 'C10orf128', 'GIF', 'UHRF1BP1L', 'HIST4H4', 'UHRF1BP1', 'GPR111', 'TRBV7-8', 'CXorf22', 'C11orf30', 'KIAA1524', 'FAM208A', 'PCDHB17', 'PCDHB18', 'SEPT6', 'C10orf118', 'CCDC67', 'FAM19A2', 'FUK', 'GAREM', 'CCDC151', 'CCDC114', 'NRD1', 'WHSC1', 'HIST1H2BK', 'ZBED6CL', 'MPP6', 'INTS4L1', 'CARS', 'GPR56', 'RP11-50E11.3', 'C11orf84', 'KIAA1033', 'KIAA0100', 'TIAF1', 'SPHAR', 'KIAA1432', 'GPR64', 'FAM86C1', 'LEPREL2', 'ADSSL1', 'IGHV3-9', 'RP11-989E6.3', 'C17orf82', 'AC027763.2', 'C17orf77', 'CCDC130', 'CCDC155', 'FAM73A', 'C20orf27', 'PAK7', 'REG1P', 'HIST1H3D', 'HIST1H4K', 'WDR60', 'CCDC129', 'FAM214B', 'DOPEY2', 'SKIV2L2', 'SMEK1', 'KIAA1683', 'FAM19A3', 'FCGR1B', 'AIM1L', 'C20orf194', 'ALPPL2', 'AC026703.1', 'RP11-324H6.5', 'FAM155A', 'RP11-909M7.3', 'CASC4', 'EMR3', 'C19orf40', 'NBPF24', 'C5orf54', 'HIST1H2BL', 'RP11-114H24.7', 'KIAA0754', 'WBSCR17', 'C16orf71', 'KIAA0922', 'FAM71B', 'TTC37', 'FAM178A', 'TLDC1', 'HIST3H3', 'SEPT3', 'QARS', 'AD000091.2', 'KIAA1407', 'SEPT8', 'ERBB2IP', 'C9orf84', 'FAM127C', 'TMEM5', 'C19orf57', 'FAM129C', 'YARS', 'ATP5J2-PTCD1', 'BZRAP1', 'DARS', 'LRRC16A', 'GPR124', 'RP11-383M4.6', 'KIAA1377', 'ATP5L', 'MICALCL', 'C14orf166B', 'C19orf66', 'HDGFRP2', 'KIAA0196', 'CASC10', 'FAM208B', 'CCDC41', 'C14orf37', 'RP11-566K19.6', 'TMEM159', 'RLTPR', 'KARS', 'RP11-1407O15.2', 'SEPT4', 'RP11-1055B8.7', 'ZNF271', 'ZNF788', 'CCDC105', 'RPSAP58', 'CTC-454I21.3', 'RP11-417J8.6', 'DARC', 'MLK4', 'ADSS', 'RTDR1', 'ATP5L2', 'CIR1', 'CCDC108', 'CXXC11', 'C2orf16', 'AHSA2', 'TEX37', 'C3orf30', 'C4orf29', 'HIST1H1C', 'MST4', 'HKR1', 'CCDC84', 'KIAA0556', 'CCDC101', 'KIAA0195', 'C11orf63', 'PLEKHM1P', 'PAPL', 'KIAA0947', 'PTRF', 'RP11-445N18.7', 'FAM35A', 'RP11-196G11.1', 'C1orf86', 'FAM65C', 'FAM134A', 'CTD-3074O7.2', 'C15orf38-AP3S2', 'C19orf26', 'ZCCHC11', 'SKIV2L', 'FAM115C', 'INTS4L2', 'RGAG1', 'FAM21C', 'GPR133', 'TARSL2', 'ERO1LB', 'FAM179A', 'RP11-379K17.4', 'C9orf96', 'PPAPDC1A', 'C17orf98', 'DKFZP761J1410', 'EPRS', 'RP5-1052I5.2', 'ATP5J', 'ALS2CR12', 'C5orf20', 'VARS', 'RNMTL1', 'NDUFA6-AS1', 'ATHL1', 'SQRDL', 'PCNXL2', 'C7orf55-LUC7L2', 'KIAA1161', 'KIAA1467', 'C12orf55', 'ITFG3', 'AC092071.1', 'FAM46C', 'FAM63A', 'SOGA1', 'TTC30A', 'AC024560.3', 'GPR126', 'HIST1H4C', 'ACRC', 'RP11-693N9.2', 'CTC-260E6.2', 'AES', 'SOGA3', 'C10orf35', 'MTERFD3', 'METTL20', 'GOLGA6L7P', 'DYX1C1', 'SLMO1', 'KIAA0907', 'KIAA1715', 'HIST1H2AH', 'MTRNR2L6', 'C7orf65', 'SGK223', 'LARGE', 'CCDC36', 'C5orf55', 'C17orf104', 'C17orf64', 'EMR1', 'ELTD1', 'WARS', 'KIAA0430', 'C1orf106', 'LEPREL1', 'LPHN3', 'GNB2L1', 'HRASLS2', 'MTERFD2', 'WDR52', 'C5orf42', 'VNN3', 'C6orf211', 'C6orf25', 'FAM166A', 'KIAA1551', 'HIST1H3A', 'HIST1H2AK', 'SLC22A18', 'C17orf102', 'IKBKAP', 'C12orf36', 'NUPL1', 'AC006435.1', 'ST5', 'MARCH4', 'HIST1H4J', 'DOPEY1', 'DFNB31', 'CXorf67', 'GCN1L1', 'DIRC2', 'C3orf56', 'CHDC2', 'C1orf110', 'HIST1H1E', 'C18orf8', 'HIST1H2BH', 'C11orf48', 'BTBD11', 'TMEM55B', 'ZNF720', 'LPHN1', 'GLTSCR1', 'AC098784.2', 'DGCR14', 'AQPEP', 'AIM1', 'PARK2', 'XXbac-BPG308J9.3', 'H2AFV', 'CXorf57', 'RP11-21L19.1', 'OR5R1', 'CCDC163P', 'C9orf47', 'FAM211A', 'TMEM206', 'SEPT2', 'ACPL2', 'MARCH6', 'WDR96', 'FOLR4', 'AC006486.9', 'PIFO', 'HIST1H3E', 'HRSP12', 'PPAPDC2', 'FAM134B', 'C9orf117', 'C9orf37', 'C10orf113', 'ATP5C1', 'TENC1', 'FAM179B', 'BCMO1', 'C17orf74', 'PCNXL3', 'SLC26A10', 'MKL2', 'AC002310.13', 'RP11-80F22.9', 'NARFL', 'SARS', 'C20orf166', 'N6AMT1', 'OR52A4', 'EFCAB4B', 'hsa-mir-6080', 'TMEM35', 'LINS', 'FAM198B', 'NDNL2', 'FAM189A2', 'TMEM257', 'C16orf62', 'HIST2H2BE', 'CCDC19', 'CECR5', 'HIST1H2BN', 'RP11-69H14.6', 'TMEM8A', 'HIST1H3C', 'HIST1H2AC', 'CXorf21', 'CECR1', 'TMEM110-MUSTN1', 'TCTE3', 'PRPF4B', 'OBFC1', 'hsa-mir-490', 'C9orf135', 'FAM213A', 'AL021546.6', 'C12orf66', 'BAI2', 'RP11-71H17.7', 'KIAA1257', 'FAM19A1', 'FAM153C', 'KIAA1919', 'TCP10', 'FAM65B', 'HIST1H4B', 'FAM115A', 'LRRC6', 'HIST1H3G', 'MTERFD1', 'FAM71C', 'AC004381.6', 'CEA', 'GLTPD1', 'HIST2H2BF', 'DUSP27', 'C22orf29', 'KIAA2018', 'CTGF', 'C7orf34', 'FAM150A', 'C9orf41', 'DDX26B', 'WDR66', 'FAM160B1', 'AE000662.92', 'GPR114', 'C1orf123', 'C2orf83', 'RP11-6F2.3', 'C5orf48', 'SEPT14', 'FAM46D', 'RARRES3', 'CENPJ', 'SLC9A3R1', 'FAM126B', 'HIST1H2AE', 'CASC1', 'FAM211B', 'SRCRB4D', 'C8orf31', 'RP11-707M1.1', 'FAM71D', 'PTPLAD1', 'RP4-777D9.2', 'CCRN4L', 'H2AFY', 'HIST1H2AG', 'TTC26', 'CTAGE5', 'PAPD5', 'SELO', 'PRR21', 'H2AFZ', 'DFNA5', 'RP11-85G18.6', 'C16orf72', 'C1orf177', 'C10orf82', 'SUV420H1', 'RP11-510H23.1', 'ZCCHC16', 'C17orf66', 'PPP2R4', 'TTC18', 'CASC5', 'RP11-1186N24.5', 'HMHA1', 'C1orf227', 'DSCR3', 'USP41', 'MKL1', 'CTC-432M15.3', 'HIST1H2AI', 'MTERF', 'C7orf43', 'MURC', 'KIAA2026', 'MRC1L1', 'ERCC6-PGBD3', 'C15orf27', 'TUSC5', 'FAM102B', 'ADCK4', 'FAM19A5', 'C5orf30', 'HIST1H2AM', 'LRRC29', 'C1orf186', 'LPPR1', 'AC016757.3', 'MFI2', 'COL4A3BP', 'C11orf53', 'FAM57B', 'C8orf37', 'CTD-2349P21.5', 'PNMAL2', 'RP11-834C11.12', 'ERO1L', 'NARS', 'THEG', 'SHFM1', 'NGFRAP1', 'C14orf79', 'KIAA0247', 'C20orf195', 'TAZ', 'TTC40', 'C10orf12', 'KIRREL', 'FAM19A4', 'LARS', 'MPP5', 'C20orf196', 'AC022007.5', 'C15orf60', 'C15orf59', 'FAM65A', 'ASNA1', 'MARCH1', 'WISP1', 'C9orf142', 'C3orf17', 'ZRSR1', 'MTL5', 'IFLTD1', 'N6AMT2', 'FAM86A', 'C16orf80', 'TCEB3B', 'PNMAL1', 'FAM84B', 'HIST1H2AD', 'HIST1H2AL', 'ADRBK2', 'RP11-3P17.5', 'C4orf26', 'PAPD7', 'HIST1H4D', 'KIAA1456', 'NACAP1', 'AZI1', 'C4orf22', 'TRBV6-9', 'FAM188B', 'KIAA1045', 'MARCH5', 'PPP1R32', 'KIAA0226', 'EFTUD1', 'CCDC113', 'C7orf61', 'CYR61', 'C20orf197', 'AC093642.5', 'AC069513.4', 'C4orf40', 'TWISTNB', 'AC005013.5', 'KIAA0895', 'KIAA1731', 'C12orf40', 'C14orf159', 'CDRT1', 'CCDC11', 'C19orf54', 'RP11-193H5.1', 'INADL', 'FRG1B', 'C21orf62', 'SDPR', 'VPRBP', 'HIST1H2BB', 'KIAA1324L', 'PYCRL', 'EFCAB1', 'CBWD5', 'RNF219', 'C17orf97', 'GRAMD3', 'HIST1H3H', 'MB21D1', 'FAM21B', 'AGAP7', 'DUSP13', 'FAM160A2', 'PDDC1', 'CTD-2206N4.2', 'HEXDC', 'SOGA2', 'C1orf61', 'C1orf112', 'GPR1', 'H1FOO', 'HRASLS', 'C10orf11', 'PIDD', 'AC138710.1', 'FDX1L', 'RTFDC1', 'C6orf10', 'SLC22A20', 'RP11-813I20.2', 'HIST1H3J', 'C14orf182', 'HIST1H1D', 'RP4-559A3.7', 'HDGFRP3', 'TCEB3', 'CTD-2139B15.2', 'CXorf23', 'C7orf62', 'RSG1', 'DAK', 'CTD-3099C6.9', 'RP11-474G23.1', 'ZUFSP', 'HIST1H3I', 'C6orf106', 'MESDC1', 'HN1L', 'CD3EAP', 'SGOL2', 'FAM153B', 'T', 'DIEXF', 'ACPP', 'MARCH11', 'C2orf40', 'CCDC173', 'WDR34', 'KIAA0895L', 'RRNAD1', 'UTP11L', 'C2orf57', 'RP11-29G8.3', 'SMEK2', 'TARS', 'RP11-96C23.10', 'TCEB2', 'RP11-812E19.9', 'HIST1H2BG', 'C9orf3', 'AC010203.1', 'FAM26D', 'FAM122C', 'FAM160B2', 'C10orf54', 'TMEM180', 'ANKRD32', 'ZNRD1', 'CSNK2B-LY6G5B-1181', 'C7orf49', 'CD97', 'KIAA0355', 'PVRL4', 'ADCK3', 'WDR78', 'RP4-576H24.4', 'TOMM70A', 'HIST1H4G', 'AC003002.6', 'H3F3B', 'ENTHD2', 'PRMT10', 'HIST1H2BD', 'EFCAB4A', 'ELMSAN1', 'C19orf45', 'TMEM57', 'C20orf24', 'HIST1H2BC', 'C8orf46', 'ANKRD20A4', 'KIAA0101', 'GPR123-AS1', 'PVRL2', 'PLK1S1', 'C6orf222', 'CXorf56', 'CXorf40A', 'TMEM56', 'C17orf47', 'CSRP2BP', 'C17orf70', 'ALG1L', 'C11orf82', 'FAM183B', 'FAM126A', 'GATS', 'C9orf129', 'H2AFX', 'RP11-113D6.10', 'WDYHV1', 'ZCCHC5', 'AC009499.1', 'HIST1H4E', 'MARCH8', 'C12orf4', 'AC090825.1', 'RP5-1039K5.18', 'BRE', 'TDGF1', 'C7orf31', 'FAM129B', 'RP11-723O4.9', 'ATP5A1', 'FAM71A', 'C11orf31', 'ODF3L1', 'KIAA1468', 'HIST2H2AC', 'FAM207A', 'NHP2L1', 'C8orf4', 'RP11-44F14.1', 'ALS2CR11', 'MARCH3', 'AC080008.1', 'C1orf172', 'ZADH2', 'HIST1H2BJ', 'C10orf76', 'KIAA1598', 'ATP5S', 'MINOS1-NBL1', 'C20orf112', 'CTC-360G5.8', 'FAM159A', 'RP3-449O17.1', 'MUT', 'RP11-535M15.2', 'ARSE', 'AC015849.16', 'QTRTD1', 'CCDC58', 'KIAA0141', 'PQLC1', 'LPPR4', 'MSL3P1', 'SLC35E2', 'MARS', 'RP11-14N7.2', 'TMEM55A', 'C8orf47', 'C1orf189', 'PET112', 'CTC-340A15.2', 'C9orf116', 'DDX58', 'FAM175A', 'HIST1H4F', 'H2BFWT', 'C14orf105', 'CBWD6', 'CXorf40B', 'CCDC94', 'DUPD1', 'C16orf93', 'G6PC', 'WDR63', 'BVES', 'C6orf203', 'NUPL2', 'LHFP', 'C16orf58', 'FAM69C', 'ATP5G3', 'TRGC1', 'AC068831.10', 'FAM69B', 'PRKRIR', 'FAM63B', 'C1orf85', 'WHSC1L1', 'C9orf91', 'RP11-596D21.1', 'HIST1H2BE', 'ZNF812', 'MARC2', 'AC093838.4', 'C1orf101', 'CTD-2215E18.1', 'HIST1H2AB', 'C12orf5', 'EMR2', 'KIAA1324', 'SEPP1', 'KDELC1', 'WDR16', 'PPP5D1', 'GBA', 'RP11-257K9.8', 'FTSJ2', 'FAM154A', 'CXorf27', 'C11orf1', 'PCNXL4', 'FAM102A', 'C3orf67', 'FAM71F1', 'GPR123', 'C15orf52', 'C17orf85', 'C4orf19', 'CTD-3105H18.16', 'AC004702.2', 'C18orf25', 'LPPR3', 'NOV', 'PROSC', 'LST3', 'CTD-2331H12.5', 'PTPLB', 'C3orf72', 'C7orf60', 'H2BFM', 'RP1-274L7.1', 'RP11-1007I13.4', 'HIST1H2BI', 'C11orf35', 'PRKCDBP', 'C16orf91', 'LRRC16B', 'C16orf11', 'GSG2', 'CTD-2168K21.2', 'IFRG15', 'C7orf50', 'C1orf51', 'TSTA3', 'C5orf56', 'SLC9A3R2', 'RP11-435O5.4', 'NARG2', 'LEPRE1', 'WBSCR16', 'PALM2', 'C2orf54', 'RP11-136K7.2', 'GARS', 'H2AFY2', 'CCDC176', 'TCL6', 'MINOS1', 'PVRL3', 'FAM73B', 'FAM192A', 'C19orf35', 'PRAMEF16', 'PQLC2', 'FAM172A', 'RP11-466F5.10', 'MYEOV2', 'CENPBD1', 'RGAG4', 'B3GALTL', 'PDZD3', 'AL445989.1', 'ODF3', 'GPR97', 'APOA1BP', 'KIAA1009', 'C7orf63', 'FAM175B', 'FAM214A', 'C1orf63', 'C5orf28', 'C6orf195', 'C9orf173', 'HIST1H3F', 'FAM188A', 'FAM60A', 'AL645922.1', 'SDCCAG3', 'HDHD1', 'RP11-303E16.5', 'WRB', 'PPAPDC3', 'CARD17', 'C2orf61', 'C2orf50', 'C9orf171', 'GOLGA8I', 'C17orf53', 'C1orf111', 'CBWD2', 'C5orf49', 'RN7SL345P', 'FAM92A1', 'WDR92', 'C11orf74', 'C12orf74', 'Z95704.2', 'YAE1D1', 'ZCCHC6', 'C1orf109', 'RP1-251M9.3', 'METTL7B', 'C16orf45', 'LINC00521', 'FAM189B', 'FAM155B', 'SPERT', 'MARCH2', 'C1orf64', 'RARS', 'C15orf57', 'AC069368.3', 'GRAMD2', 'C16orf98', 'C17orf62', 'OCLM', 'KIAA1644', 'SELT', 'C1orf127', 'C6orf201', 'RP11-47I22.4', 'TMEM99', 'FAM46B', 'KAL1', 'RP11-266K4.9', 'ARNTL', 'TTC25', 'FAIM3', 'TDGF1P3', 'ALMS1P', 'AC010336.1', 'RP11-430N14.4', 'HIST1H3B', 'GLTSCR1L', 'PRR25', 'AC073342.1', 'ZNF767', 'CCDC53', 'MTSS1L', 'C10orf2', 'C1orf131', 'C21orf2', 'MRPS36', 'RP13-60M5.2', 'HIST1H2BF', 'AC005863.1', 'TPRX2P', 'DEC1', 'C9orf89', 'LECT1', 'CTD-3105H18.14', 'AC010731.4', 'ISPD', 'CBWD1', 'LINC00202-2', 'H3F3C', 'C14orf142', 'GOLGA6L18', 'CTB-96E2.2', 'HIST1H4I', 'C21orf128', 'C22orf43', 'CTD-2583A14.10', 'MLTK', 'RP11-472M19.2', 'ACN9', 'PTPLAD2', 'FAM49A', 'C15orf54', 'C21orf33', 'MRE11A', 'TEPP', 'RP11-192H23.4', 'RP11-439A17.4', 'TCTEX1D1', 'KIAA1841', 'NAT6', 'HIST1H1A', 'FAM105A', 'TMEM133', 'KIAA0368', 'AP000350.10', 'C1orf27', 'GPR125', 'LACE1', 'C9orf156', 'TMEM194A', 'FAM104A', 'FAM173B', 'CTD-3214H19.16', 'C13orf45', 'RP11-551L14.1', 'LLfos-48D6.1', 'FAM49B', 'AP000295.9', 'RP11-144F15.1', 'TMEM189-UBE2V1', 'C14orf177', 'ADC', 'AL121753.1', 'TMEM110', 'DHFRL1', 'C1orf213', 'AP000275.65', 'C5orf66', 'FAM105B', 'RP11-343C2.12', 'HIST3H2BB', 'C8orf86', 'RP11-385D13.1', 'AL133247.2', 'GAGE2B', 'C10orf107', 'C12orf77', 'PRUNE', 'MARC1', 'WISP2', 'C10orf10', 'PVRL1', 'MUM1', 'C4orf6', 'ASUN', 'AARS', 'MRVI1', 'GRIK1-AS2', 'CCDC37', 'CCBL1', 'C9orf66', 'C2orf73', 'RP5-1182A14.5', 'AC019294.1', 'LOH12CR1', 'C11orf88', 'SSSCA1', 'TEX33', 'RP11-175P13.3', 'MESDC2', 'C19orf48', 'C21orf59', 'ATP5G1', 'ZNRD1-AS1', 'WBSCR27', 'C9orf24', 'FLJ27365', 'RP11-618P17.4', 'APITD1', 'AGPAT9', 'KIAA0226L', 'C16orf59', 'TROVE2', 'TMEM66', 'SEPT11', 'C12orf44', 'AC100757.1', 'CCDC96', 'RP11-383H13.1', 'AC004076.9', 'C6orf1', 'FAM71E1', 'RFWD2', 'HIAT1', 'C4orf27', 'C7orf66', 'MUM1L1', 'TMEM246', 'MIR381HG', 'TM4SF2', 'METTL12', 'GUCY1B3', 'RP11-514O12.4', 'C10orf91', 'HIST1H4H', 'AL161651.1', 'C11orf73', 'PPAP2C', 'FAM45A', 'CTD-2140B24.4', 'ZFYVE20', 'RP5-1121E10.2', 'AC022596.6', 'C2orf43', 'C19orf80', 'C8orf22', 'GYLTL1B', 'SEPT1', 'B3GNT1', 'SPG20', 'AC005307.3', 'C9orf139', 'C10orf25', 'FAM166B', 'WBSCR28', 'RP1-241P17.4', 'SF3B14', 'RP11-248G5.8', 'RP4-806M20.3', 'LEPREL4', 'HIST1H2BM', 'AL391421.1', 'CECR6', 'HIST1H2BA', 'RP11-862L9.3', 'RP11-565P22.6', 'C3orf55', 'CYHR1', 'ZNF645', 'ATP5SL', 'C3orf27', 'CCL4L1', 'CTD-2324F15.2', 'C12orf68', 'RP11-468E2.6', 'CTD-2090I13.1', 'PPAP2A', 'SEP15', 'ODF3B', 'TMEM155', 'LRMP', 'ODF3L2', 'FAM21A', 'GRASP', 'TMEM27', 'C1orf204', 'TMEM211', 'C4orf32', 'LDOC1L', 'AC018462.2', 'C2orf47', 'RP11-423H2.1', 'C11orf49', 'C9orf64', 'SLMO2', 'MARCH9', 'IGJ', 'FAM46A', 'C9orf172', 'ATP5B', 'AKR1CL1', 'CTC-457E21.3', 'TXNRD3NB', 'HIST1H4A', 'KIAA1147', 'C11orf72', 'ICT1', 'RP11-25K21.6', 'SEPN1', 'AC104534.3', 'TMEM199', 'GLTSCR2', 'RP4-651E10.4', 'FAM169B', 'RP11-139J15.7', 'HIST1H2AJ', 'STK19', 'RP11-587D21.4', 'C17orf80', 'METTL10', 'DFNB59', 'RP11-434D2.7', 'TCTEX1D2', 'C14orf28', 'RP11-368J21.3', 'C10ORF68', 'FOPNL', 'RAD51L3-RFFL', 'RP11-96C23.14', 'MFSD4', 'HHLA3', 'C9orf106', 'snoU13', 'FAM212A', 'AC073869.2', 'FAM92B', 'RP11-344E13.3', 'IMPAD1']\n"
     ]
    }
   ],
   "source": [
    "# Get genes with valid length info\n",
    "valid_genes = gene_df[gene_df['length'].notna()]['query']\n",
    "\n",
    "# Check which input genes are missing\n",
    "missing_genes = [g for g in genes if g not in valid_genes.values]\n",
    "\n",
    "print(f\"{len(missing_genes)} genes missing:\")\n",
    "print(missing_genes)"
   ]
  },
  {
   "cell_type": "code",
   "execution_count": null,
   "id": "7354ad02-e853-45da-a814-0368f3f16557",
   "metadata": {},
   "outputs": [],
   "source": []
  }
 ],
 "metadata": {
  "kernelspec": {
   "display_name": "Python 3 (ipykernel)",
   "language": "python",
   "name": "python3"
  },
  "language_info": {
   "codemirror_mode": {
    "name": "ipython",
    "version": 3
   },
   "file_extension": ".py",
   "mimetype": "text/x-python",
   "name": "python",
   "nbconvert_exporter": "python",
   "pygments_lexer": "ipython3",
   "version": "3.10.16"
  }
 },
 "nbformat": 4,
 "nbformat_minor": 5
}
